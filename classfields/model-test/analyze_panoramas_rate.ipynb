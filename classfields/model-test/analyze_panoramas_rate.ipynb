{
 "cells": [
  {
   "cell_type": "code",
   "execution_count": 4,
   "metadata": {},
   "outputs": [],
   "source": [
    "import pandas as pd\n",
    "pd.set_option('display.max_columns', 500)\n",
    "pd.set_option('display.width', 1000)\n",
    "pd.set_option('display.max_colwidth', 1000)\n",
    "pd.set_option('display.max_rows', 500)\n",
    "import datetime"
   ]
  },
  {
   "cell_type": "code",
   "execution_count": 5,
   "metadata": {},
   "outputs": [],
   "source": [
    "df = pd.read_csv('panoramas.tsv', sep = '\\t')"
   ]
  },
  {
   "cell_type": "code",
   "execution_count": 69,
   "metadata": {},
   "outputs": [],
   "source": [
    "# df"
   ]
  },
  {
   "cell_type": "code",
   "execution_count": 7,
   "metadata": {},
   "outputs": [],
   "source": [
    "df_result = df[df.origin.str.contains('autoru-panorama')]"
   ]
  },
  {
   "cell_type": "code",
   "execution_count": 8,
   "metadata": {},
   "outputs": [
    {
     "data": {
      "text/plain": [
       "889"
      ]
     },
     "execution_count": 8,
     "metadata": {},
     "output_type": "execute_result"
    }
   ],
   "source": [
    "len(df_result)"
   ]
  },
  {
   "cell_type": "code",
   "execution_count": 9,
   "metadata": {},
   "outputs": [],
   "source": [
    "t = df_result.create_time.value_counts().head(1).index[0]"
   ]
  },
  {
   "cell_type": "code",
   "execution_count": 10,
   "metadata": {},
   "outputs": [
    {
     "data": {
      "text/plain": [
       "'2020-02-28'"
      ]
     },
     "execution_count": 10,
     "metadata": {},
     "output_type": "execute_result"
    }
   ],
   "source": [
    "datetime.datetime.strptime(t, \"%Y-%m-%d %H:%M:%S\").strftime(\"%Y-%m-%d\")"
   ]
  },
  {
   "cell_type": "code",
   "execution_count": 11,
   "metadata": {},
   "outputs": [],
   "source": [
    "def get_date(t):\n",
    "    return datetime.datetime.strptime(t, \"%Y-%m-%d %H:%M:%S\").strftime(\"%Y-%m-%d\")\n",
    "    "
   ]
  },
  {
   "cell_type": "code",
   "execution_count": 12,
   "metadata": {},
   "outputs": [
    {
     "name": "stderr",
     "output_type": "stream",
     "text": [
      "/usr/local/lib/python3.6/site-packages/ipykernel_launcher.py:1: SettingWithCopyWarning: \n",
      "A value is trying to be set on a copy of a slice from a DataFrame.\n",
      "Try using .loc[row_indexer,col_indexer] = value instead\n",
      "\n",
      "See the caveats in the documentation: https://pandas.pydata.org/pandas-docs/stable/user_guide/indexing.html#returning-a-view-versus-a-copy\n",
      "  \"\"\"Entry point for launching an IPython kernel.\n"
     ]
    }
   ],
   "source": [
    "df_result['create_date'] = df_result['create_time'].apply(get_date)"
   ]
  },
  {
   "cell_type": "code",
   "execution_count": 70,
   "metadata": {},
   "outputs": [],
   "source": [
    "# df_result"
   ]
  },
  {
   "cell_type": "code",
   "execution_count": 14,
   "metadata": {},
   "outputs": [],
   "source": [
    "df_result = df_result[df_result.create_date >= '2020-03-06']"
   ]
  },
  {
   "cell_type": "code",
   "execution_count": 71,
   "metadata": {},
   "outputs": [],
   "source": [
    "# df_result"
   ]
  },
  {
   "cell_type": "code",
   "execution_count": 16,
   "metadata": {},
   "outputs": [],
   "source": [
    "df_result = df_result[df_result.status != 'processing']"
   ]
  },
  {
   "cell_type": "code",
   "execution_count": 17,
   "metadata": {},
   "outputs": [
    {
     "data": {
      "text/plain": [
       "completed    245\n",
       "failed       105\n",
       "Name: status, dtype: int64"
      ]
     },
     "execution_count": 17,
     "metadata": {},
     "output_type": "execute_result"
    }
   ],
   "source": [
    "df_result.status.value_counts()"
   ]
  },
  {
   "cell_type": "code",
   "execution_count": 18,
   "metadata": {},
   "outputs": [
    {
     "data": {
      "text/plain": [
       "completed    0.7\n",
       "failed       0.3\n",
       "Name: status, dtype: float64"
      ]
     },
     "execution_count": 18,
     "metadata": {},
     "output_type": "execute_result"
    }
   ],
   "source": [
    "df_result.status.value_counts(normalize = True)"
   ]
  },
  {
   "cell_type": "code",
   "execution_count": 19,
   "metadata": {},
   "outputs": [
    {
     "data": {
      "text/html": [
       "<div>\n",
       "<style scoped>\n",
       "    .dataframe tbody tr th:only-of-type {\n",
       "        vertical-align: middle;\n",
       "    }\n",
       "\n",
       "    .dataframe tbody tr th {\n",
       "        vertical-align: top;\n",
       "    }\n",
       "\n",
       "    .dataframe thead th {\n",
       "        text-align: right;\n",
       "    }\n",
       "</style>\n",
       "<table border=\"1\" class=\"dataframe\">\n",
       "  <thead>\n",
       "    <tr style=\"text-align: right;\">\n",
       "      <th></th>\n",
       "      <th>id</th>\n",
       "      <th>panorama_id</th>\n",
       "      <th>status</th>\n",
       "      <th>error</th>\n",
       "      <th>create_time</th>\n",
       "      <th>update_time</th>\n",
       "      <th>origin</th>\n",
       "      <th>url</th>\n",
       "      <th>data</th>\n",
       "      <th>create_date</th>\n",
       "    </tr>\n",
       "  </thead>\n",
       "  <tbody>\n",
       "    <tr>\n",
       "      <th>751</th>\n",
       "      <td>1147</td>\n",
       "      <td>917053610-1584032038795-aDzMS</td>\n",
       "      <td>failed</td>\n",
       "      <td>CHECK_NORMALIZATION</td>\n",
       "      <td>2020-03-12 19:53:58</td>\n",
       "      <td>2020-03-12 19:58:24</td>\n",
       "      <td>https://autoru-panorama-internal.s3.mds.yandex.net/upload/3d5/714/3d5714fc-6ef6-4479-8d83-4140312eeaf2</td>\n",
       "      <td>http://autoru-panorama-internal.s3.mds.yandex.net/artifacts/917/053/917053610-1584032038795-aDzMS/origin/3d5714fc-6ef6-4479-8d83-4140312eeaf2</td>\n",
       "      <td>{\"normalized\":{\"status\":\"failed\",\"version\":2,\"hitman_job_id\":161558090,\"workflow_id\":\"797029f8-649c-4e8f-8b5c-a1b1a200be6b/bee67d24-d219-4cdf-9fd9-416ca8acdb01\",\"attempt\":3}}</td>\n",
       "      <td>2020-03-12</td>\n",
       "    </tr>\n",
       "    <tr>\n",
       "      <th>717</th>\n",
       "      <td>1091</td>\n",
       "      <td>1175593238-1583924791312-Eb8Z1</td>\n",
       "      <td>failed</td>\n",
       "      <td>NaN</td>\n",
       "      <td>2020-03-11 14:06:31</td>\n",
       "      <td>2020-03-11 14:06:41</td>\n",
       "      <td>https://autoru-panorama-internal.s3.mds.yandex.net/upload/f86/13d/f8613d2e-c535-4c7b-b746-fa8a43c87846</td>\n",
       "      <td>http://autoru-panorama-internal.s3.mds.yandex.net/artifacts/117/559/1175593238-1583924791312-Eb8Z1/origin/f8613d2e-c535-4c7b-b746-fa8a43c87846</td>\n",
       "      <td>{}</td>\n",
       "      <td>2020-03-11</td>\n",
       "    </tr>\n",
       "    <tr>\n",
       "      <th>810</th>\n",
       "      <td>1239</td>\n",
       "      <td>1804673561-1584268845691-mmHdL</td>\n",
       "      <td>failed</td>\n",
       "      <td>UNK_ERROR</td>\n",
       "      <td>2020-03-15 13:40:45</td>\n",
       "      <td>2020-03-15 13:54:08</td>\n",
       "      <td>https://autoru-panorama-internal.s3.mds.yandex.net/upload/9fc/caa/9fccaad4-d893-4e51-ab31-0b13af9c6256</td>\n",
       "      <td>http://autoru-panorama-internal.s3.mds.yandex.net/artifacts/180/467/1804673561-1584268845691-mmHdL/origin/9fccaad4-d893-4e51-ab31-0b13af9c6256</td>\n",
       "      <td>{\"normalized\":{\"status\":\"failed\",\"version\":2,\"hitman_job_id\":162921841,\"workflow_id\":\"797029f8-649c-4e8f-8b5c-a1b1a200be6b/9ab81379-3f12-46db-8cff-94c80a69ff05\",\"attempt\":0}}</td>\n",
       "      <td>2020-03-15</td>\n",
       "    </tr>\n",
       "    <tr>\n",
       "      <th>808</th>\n",
       "      <td>1237</td>\n",
       "      <td>1415258457-1584265699975-nfQGy</td>\n",
       "      <td>failed</td>\n",
       "      <td>UNK_ERROR</td>\n",
       "      <td>2020-03-15 12:48:19</td>\n",
       "      <td>2020-03-15 13:05:46</td>\n",
       "      <td>https://autoru-panorama-internal.s3.mds.yandex.net/upload/3e1/fae/3e1fae49-8a52-4ff3-a610-161139eb24c9</td>\n",
       "      <td>http://autoru-panorama-internal.s3.mds.yandex.net/artifacts/141/525/1415258457-1584265699975-nfQGy/origin/3e1fae49-8a52-4ff3-a610-161139eb24c9</td>\n",
       "      <td>{\"normalized\":{\"status\":\"failed\",\"version\":2,\"hitman_job_id\":162903259,\"workflow_id\":\"797029f8-649c-4e8f-8b5c-a1b1a200be6b/acddb6c8-44b6-468d-b0dc-c26e234b3876\",\"attempt\":0}}</td>\n",
       "      <td>2020-03-15</td>\n",
       "    </tr>\n",
       "    <tr>\n",
       "      <th>718</th>\n",
       "      <td>1092</td>\n",
       "      <td>952508495-1583928579386-cnjQl</td>\n",
       "      <td>failed</td>\n",
       "      <td>NaN</td>\n",
       "      <td>2020-03-11 15:09:39</td>\n",
       "      <td>2020-03-11 15:38:15</td>\n",
       "      <td>https://autoru-panorama-internal.s3.mds.yandex.net/upload/40f/6d5/40f6d544-80e6-4dd4-b812-37184815f458</td>\n",
       "      <td>http://autoru-panorama-internal.s3.mds.yandex.net/artifacts/952/508/952508495-1583928579386-cnjQl/origin/40f6d544-80e6-4dd4-b812-37184815f458</td>\n",
       "      <td>{\"normalized\":{\"status\":\"failed\",\"version\":2,\"workflow_instance_id\":\"336cc7b6-b06c-4e38-9bf0-9b42c4393253\",\"attempt\":0}}</td>\n",
       "      <td>2020-03-11</td>\n",
       "    </tr>\n",
       "  </tbody>\n",
       "</table>\n",
       "</div>"
      ],
      "text/plain": [
       "       id                     panorama_id  status                error          create_time          update_time                                                                                                  origin                                                                                                                                             url                                                                                                                                                                            data create_date\n",
       "751  1147   917053610-1584032038795-aDzMS  failed  CHECK_NORMALIZATION  2020-03-12 19:53:58  2020-03-12 19:58:24  https://autoru-panorama-internal.s3.mds.yandex.net/upload/3d5/714/3d5714fc-6ef6-4479-8d83-4140312eeaf2   http://autoru-panorama-internal.s3.mds.yandex.net/artifacts/917/053/917053610-1584032038795-aDzMS/origin/3d5714fc-6ef6-4479-8d83-4140312eeaf2  {\"normalized\":{\"status\":\"failed\",\"version\":2,\"hitman_job_id\":161558090,\"workflow_id\":\"797029f8-649c-4e8f-8b5c-a1b1a200be6b/bee67d24-d219-4cdf-9fd9-416ca8acdb01\",\"attempt\":3}}  2020-03-12\n",
       "717  1091  1175593238-1583924791312-Eb8Z1  failed                  NaN  2020-03-11 14:06:31  2020-03-11 14:06:41  https://autoru-panorama-internal.s3.mds.yandex.net/upload/f86/13d/f8613d2e-c535-4c7b-b746-fa8a43c87846  http://autoru-panorama-internal.s3.mds.yandex.net/artifacts/117/559/1175593238-1583924791312-Eb8Z1/origin/f8613d2e-c535-4c7b-b746-fa8a43c87846                                                                                                                                                                              {}  2020-03-11\n",
       "810  1239  1804673561-1584268845691-mmHdL  failed            UNK_ERROR  2020-03-15 13:40:45  2020-03-15 13:54:08  https://autoru-panorama-internal.s3.mds.yandex.net/upload/9fc/caa/9fccaad4-d893-4e51-ab31-0b13af9c6256  http://autoru-panorama-internal.s3.mds.yandex.net/artifacts/180/467/1804673561-1584268845691-mmHdL/origin/9fccaad4-d893-4e51-ab31-0b13af9c6256  {\"normalized\":{\"status\":\"failed\",\"version\":2,\"hitman_job_id\":162921841,\"workflow_id\":\"797029f8-649c-4e8f-8b5c-a1b1a200be6b/9ab81379-3f12-46db-8cff-94c80a69ff05\",\"attempt\":0}}  2020-03-15\n",
       "808  1237  1415258457-1584265699975-nfQGy  failed            UNK_ERROR  2020-03-15 12:48:19  2020-03-15 13:05:46  https://autoru-panorama-internal.s3.mds.yandex.net/upload/3e1/fae/3e1fae49-8a52-4ff3-a610-161139eb24c9  http://autoru-panorama-internal.s3.mds.yandex.net/artifacts/141/525/1415258457-1584265699975-nfQGy/origin/3e1fae49-8a52-4ff3-a610-161139eb24c9  {\"normalized\":{\"status\":\"failed\",\"version\":2,\"hitman_job_id\":162903259,\"workflow_id\":\"797029f8-649c-4e8f-8b5c-a1b1a200be6b/acddb6c8-44b6-468d-b0dc-c26e234b3876\",\"attempt\":0}}  2020-03-15\n",
       "718  1092   952508495-1583928579386-cnjQl  failed                  NaN  2020-03-11 15:09:39  2020-03-11 15:38:15  https://autoru-panorama-internal.s3.mds.yandex.net/upload/40f/6d5/40f6d544-80e6-4dd4-b812-37184815f458   http://autoru-panorama-internal.s3.mds.yandex.net/artifacts/952/508/952508495-1583928579386-cnjQl/origin/40f6d544-80e6-4dd4-b812-37184815f458                                                        {\"normalized\":{\"status\":\"failed\",\"version\":2,\"workflow_instance_id\":\"336cc7b6-b06c-4e38-9bf0-9b42c4393253\",\"attempt\":0}}  2020-03-11"
      ]
     },
     "execution_count": 19,
     "metadata": {},
     "output_type": "execute_result"
    }
   ],
   "source": [
    "df_result[df_result.status == 'failed'].sample(5)"
   ]
  },
  {
   "cell_type": "markdown",
   "metadata": {},
   "source": [
    "### Learn to play video in IPython notebook\n",
    "#### doesn't work on my machine"
   ]
  },
  {
   "cell_type": "code",
   "execution_count": 20,
   "metadata": {},
   "outputs": [],
   "source": [
    "from IPython.display import Video"
   ]
  },
  {
   "cell_type": "code",
   "execution_count": 22,
   "metadata": {},
   "outputs": [],
   "source": [
    "# Video('80d56c25-c2b7-4988-9e44-de459206ec4a')"
   ]
  },
  {
   "cell_type": "code",
   "execution_count": 27,
   "metadata": {},
   "outputs": [],
   "source": [
    "# in markdown it works\n",
    "# <video controls src=\"80d56c25-c2b7-4988-9e44-de459206ec4a\" />"
   ]
  },
  {
   "cell_type": "code",
   "execution_count": 19,
   "metadata": {},
   "outputs": [],
   "source": [
    "# !ffmpeg -i 80d56c25-c2b7-4988-9e44-de459206ec4a"
   ]
  },
  {
   "cell_type": "code",
   "execution_count": 37,
   "metadata": {
    "collapsed": true
   },
   "outputs": [],
   "source": [
    "# https://habr.com/post/171213/"
   ]
  },
  {
   "cell_type": "code",
   "execution_count": 23,
   "metadata": {},
   "outputs": [],
   "source": [
    "# !ffmpeg -i 80d56c25-c2b7-4988-9e44-de459206ec4a 1.mp4"
   ]
  },
  {
   "cell_type": "code",
   "execution_count": 24,
   "metadata": {},
   "outputs": [],
   "source": [
    "# Video('1.mp4')"
   ]
  },
  {
   "cell_type": "code",
   "execution_count": 26,
   "metadata": {},
   "outputs": [],
   "source": [
    "# !ffmpeg -i 1.mp4"
   ]
  },
  {
   "cell_type": "code",
   "execution_count": 28,
   "metadata": {},
   "outputs": [],
   "source": [
    "# in markdown it works\n",
    "# <video controls src=\"1.mp4\" />"
   ]
  },
  {
   "cell_type": "code",
   "execution_count": 29,
   "metadata": {},
   "outputs": [],
   "source": [
    "# !ffmpeg -i 80d56c25-c2b7-4988-9e44-de459206ec4a -q:v 0 2.mp4"
   ]
  },
  {
   "cell_type": "code",
   "execution_count": 30,
   "metadata": {},
   "outputs": [],
   "source": [
    "# Video('2.mp4')"
   ]
  },
  {
   "cell_type": "code",
   "execution_count": 21,
   "metadata": {},
   "outputs": [],
   "source": [
    "# Play it as an HTML5 video :]\n",
    "\n",
    "from IPython.display import HTML\n",
    "\n",
    "# HTML('''\n",
    "# <video width=\"320\" height=\"240\" controls>\n",
    "#   <source src=\"2.mp4\" type=\"video/mp4\">\n",
    "# </video>\n",
    "# ''')\n",
    "# UPDATE\n",
    "\n",
    "# Additionally, use a magic cell:\n",
    "\n",
    "# %%HTML\n",
    "# <video width=\"320\" height=\"240\" controls>\n",
    "#   <source src=\"path/to/your.mp4\" type=\"video/mp4\">\n",
    "# </video>"
   ]
  },
  {
   "cell_type": "code",
   "execution_count": 32,
   "metadata": {},
   "outputs": [],
   "source": [
    "# !ffmpeg -i 2.mp4"
   ]
  },
  {
   "cell_type": "code",
   "execution_count": 33,
   "metadata": {},
   "outputs": [],
   "source": [
    "# %%HTML\n",
    "# <video controls=\"true\">\n",
    "#      <source src=\"2.mp4\" type=\"video/mp4\"></source>\n",
    "# </video>"
   ]
  },
  {
   "cell_type": "code",
   "execution_count": 34,
   "metadata": {},
   "outputs": [],
   "source": [
    "# !ffmpeg -i 80d56c25-c2b7-4988-9e44-de459206ec4a -b:a 1500k -vcodec libx264 -vpre slow -vpre baseline -g 30 3.mp4"
   ]
  },
  {
   "cell_type": "markdown",
   "metadata": {
    "collapsed": true
   },
   "source": [
    "### Analyze failures"
   ]
  },
  {
   "cell_type": "code",
   "execution_count": 25,
   "metadata": {},
   "outputs": [],
   "source": [
    "df_failed = df_result[df_result.status == 'failed']"
   ]
  },
  {
   "cell_type": "code",
   "execution_count": 39,
   "metadata": {},
   "outputs": [],
   "source": [
    "s = df_result[df_result.status == 'failed'].sample(10)"
   ]
  },
  {
   "cell_type": "code",
   "execution_count": 40,
   "metadata": {},
   "outputs": [
    {
     "data": {
      "text/html": [
       "<div>\n",
       "<style scoped>\n",
       "    .dataframe tbody tr th:only-of-type {\n",
       "        vertical-align: middle;\n",
       "    }\n",
       "\n",
       "    .dataframe tbody tr th {\n",
       "        vertical-align: top;\n",
       "    }\n",
       "\n",
       "    .dataframe thead th {\n",
       "        text-align: right;\n",
       "    }\n",
       "</style>\n",
       "<table border=\"1\" class=\"dataframe\">\n",
       "  <thead>\n",
       "    <tr style=\"text-align: right;\">\n",
       "      <th></th>\n",
       "      <th>id</th>\n",
       "      <th>panorama_id</th>\n",
       "      <th>status</th>\n",
       "      <th>error</th>\n",
       "      <th>create_time</th>\n",
       "      <th>update_time</th>\n",
       "      <th>origin</th>\n",
       "      <th>url</th>\n",
       "      <th>data</th>\n",
       "      <th>create_date</th>\n",
       "    </tr>\n",
       "  </thead>\n",
       "  <tbody>\n",
       "    <tr>\n",
       "      <th>751</th>\n",
       "      <td>1147</td>\n",
       "      <td>917053610-1584032038795-aDzMS</td>\n",
       "      <td>failed</td>\n",
       "      <td>CHECK_NORMALIZATION</td>\n",
       "      <td>2020-03-12 19:53:58</td>\n",
       "      <td>2020-03-12 19:58:24</td>\n",
       "      <td>https://autoru-panorama-internal.s3.mds.yandex.net/upload/3d5/714/3d5714fc-6ef6-4479-8d83-4140312eeaf2</td>\n",
       "      <td>http://autoru-panorama-internal.s3.mds.yandex.net/artifacts/917/053/917053610-1584032038795-aDzMS/origin/3d5714fc-6ef6-4479-8d83-4140312eeaf2</td>\n",
       "      <td>{\"normalized\":{\"status\":\"failed\",\"version\":2,\"hitman_job_id\":161558090,\"workflow_id\":\"797029f8-649c-4e8f-8b5c-a1b1a200be6b/bee67d24-d219-4cdf-9fd9-416ca8acdb01\",\"attempt\":3}}</td>\n",
       "      <td>2020-03-12</td>\n",
       "    </tr>\n",
       "    <tr>\n",
       "      <th>803</th>\n",
       "      <td>1229</td>\n",
       "      <td>934420753-1584246489528-SsawY</td>\n",
       "      <td>failed</td>\n",
       "      <td>UNK_ERROR</td>\n",
       "      <td>2020-03-15 07:28:09</td>\n",
       "      <td>2020-03-15 07:52:42</td>\n",
       "      <td>https://autoru-panorama-internal.s3.mds.yandex.net/upload/612/b58/612b589e-f752-441e-b8ef-b3c628f734cd</td>\n",
       "      <td>http://autoru-panorama-internal.s3.mds.yandex.net/artifacts/934/420/934420753-1584246489528-SsawY/origin/612b589e-f752-441e-b8ef-b3c628f734cd</td>\n",
       "      <td>{\"normalized\":{\"status\":\"failed\",\"version\":2,\"hitman_job_id\":162791673,\"workflow_id\":\"797029f8-649c-4e8f-8b5c-a1b1a200be6b/45b6455a-b8e5-4cc5-bc7b-0f0803b38eb0\",\"attempt\":0}}</td>\n",
       "      <td>2020-03-15</td>\n",
       "    </tr>\n",
       "    <tr>\n",
       "      <th>712</th>\n",
       "      <td>1086</td>\n",
       "      <td>872882254-1583915773069-pNkvl</td>\n",
       "      <td>failed</td>\n",
       "      <td>NaN</td>\n",
       "      <td>2020-03-11 11:36:13</td>\n",
       "      <td>2020-03-11 11:55:38</td>\n",
       "      <td>https://autoru-panorama-internal.s3.mds.yandex.net/upload/436/d36/436d36aa-393d-4881-9fe9-e80016d38232</td>\n",
       "      <td>http://autoru-panorama-internal.s3.mds.yandex.net/artifacts/872/882/872882254-1583915773069-pNkvl/origin/436d36aa-393d-4881-9fe9-e80016d38232</td>\n",
       "      <td>{\"normalized\":{\"status\":\"failed\",\"version\":2,\"workflow_instance_id\":\"660e9aeb-94dd-4a27-92cb-28c092d2083e\",\"attempt\":0}}</td>\n",
       "      <td>2020-03-11</td>\n",
       "    </tr>\n",
       "    <tr>\n",
       "      <th>769</th>\n",
       "      <td>1174</td>\n",
       "      <td>720511053-1584109201370-vccXL</td>\n",
       "      <td>failed</td>\n",
       "      <td>BIG_STEP_IN_RECONSTRUCTION</td>\n",
       "      <td>2020-03-13 17:20:01</td>\n",
       "      <td>2020-03-13 17:30:24</td>\n",
       "      <td>https://autoru-panorama-internal.s3.mds.yandex.net/upload/986/879/986879c4-584d-44d6-89e5-1aa0f37a5983</td>\n",
       "      <td>http://autoru-panorama-internal.s3.mds.yandex.net/artifacts/720/511/720511053-1584109201370-vccXL/origin/986879c4-584d-44d6-89e5-1aa0f37a5983</td>\n",
       "      <td>{\"normalized\":{\"status\":\"failed\",\"version\":2,\"hitman_job_id\":162004626,\"workflow_id\":\"797029f8-649c-4e8f-8b5c-a1b1a200be6b/ea4a3ef0-0e8b-4fb8-a9fc-f152457a79b2\",\"attempt\":0}}</td>\n",
       "      <td>2020-03-13</td>\n",
       "    </tr>\n",
       "    <tr>\n",
       "      <th>631</th>\n",
       "      <td>939</td>\n",
       "      <td>772939830-1583573042558-pAJbO</td>\n",
       "      <td>failed</td>\n",
       "      <td>NaN</td>\n",
       "      <td>2020-03-07 12:24:02</td>\n",
       "      <td>2020-03-07 12:45:30</td>\n",
       "      <td>https://autoru-panorama-internal.s3.mds.yandex.net/upload/6e9/354/6e935483-52d0-4c1f-9079-8876fe77b503</td>\n",
       "      <td>http://autoru-panorama-internal.s3.mds.yandex.net/artifacts/772/939/772939830-1583573042558-pAJbO/origin/6e935483-52d0-4c1f-9079-8876fe77b503</td>\n",
       "      <td>{\"normalized\":{\"status\":\"processing\",\"version\":2,\"workflow_instance_id\":\"6a5fae8f-3b21-440d-8407-8bae8f67640b\",\"attempt\":0}}</td>\n",
       "      <td>2020-03-07</td>\n",
       "    </tr>\n",
       "    <tr>\n",
       "      <th>872</th>\n",
       "      <td>1343</td>\n",
       "      <td>1931092602-1584446530917-C8iOw</td>\n",
       "      <td>failed</td>\n",
       "      <td>UNK_ERROR</td>\n",
       "      <td>2020-03-17 15:02:10</td>\n",
       "      <td>2020-03-17 15:19:40</td>\n",
       "      <td>https://autoru-panorama-internal.s3.mds.yandex.net/upload/be6/cce/be6ccecb-b0c8-4e63-b02b-43e5317e4fc9</td>\n",
       "      <td>http://autoru-panorama-internal.s3.mds.yandex.net/artifacts/193/109/1931092602-1584446530917-C8iOw/origin/be6ccecb-b0c8-4e63-b02b-43e5317e4fc9</td>\n",
       "      <td>{\"normalized\":{\"status\":\"failed\",\"version\":3,\"hitman_job_id\":163961510,\"workflow_id\":\"797029f8-649c-4e8f-8b5c-a1b1a200be6b/89ba5cbe-f530-4ac7-b586-ce56a3a99238\",\"attempt\":0}}</td>\n",
       "      <td>2020-03-17</td>\n",
       "    </tr>\n",
       "    <tr>\n",
       "      <th>746</th>\n",
       "      <td>1133</td>\n",
       "      <td>1508254200-1584020922368-YG3xR</td>\n",
       "      <td>failed</td>\n",
       "      <td>NaN</td>\n",
       "      <td>2020-03-12 16:48:42</td>\n",
       "      <td>2020-03-12 17:00:01</td>\n",
       "      <td>https://autoru-panorama-internal.s3.mds.yandex.net/upload/ef4/c47/ef4c4767-a1ce-4b3d-9c0e-30ab4f88d61e</td>\n",
       "      <td>http://autoru-panorama-internal.s3.mds.yandex.net/artifacts/150/825/1508254200-1584020922368-YG3xR/origin/ef4c4767-a1ce-4b3d-9c0e-30ab4f88d61e</td>\n",
       "      <td>{\"normalized\":{\"status\":\"failed\",\"version\":2,\"workflow_instance_id\":\"67f814fb-af10-4d32-adda-4440cdef9300\",\"attempt\":0}}</td>\n",
       "      <td>2020-03-12</td>\n",
       "    </tr>\n",
       "    <tr>\n",
       "      <th>905</th>\n",
       "      <td>1397</td>\n",
       "      <td>1389634027-1584523016804-ph9dn</td>\n",
       "      <td>failed</td>\n",
       "      <td>UNK_ERROR</td>\n",
       "      <td>2020-03-18 12:16:56</td>\n",
       "      <td>2020-03-18 12:27:18</td>\n",
       "      <td>https://autoru-panorama-internal.s3.mds.yandex.net/upload/d98/a9f/d98a9f97-7491-4bed-8b32-acb49de28be8</td>\n",
       "      <td>http://autoru-panorama-internal.s3.mds.yandex.net/artifacts/138/963/1389634027-1584523016804-ph9dn/origin/d98a9f97-7491-4bed-8b32-acb49de28be8</td>\n",
       "      <td>{\"normalized\":{\"status\":\"failed\",\"version\":3,\"hitman_job_id\":164408587,\"workflow_id\":\"797029f8-649c-4e8f-8b5c-a1b1a200be6b/4051e904-ed19-485c-b70a-79e871db131e\",\"attempt\":0}}</td>\n",
       "      <td>2020-03-18</td>\n",
       "    </tr>\n",
       "    <tr>\n",
       "      <th>596</th>\n",
       "      <td>891</td>\n",
       "      <td>700063905-1583504042974-j4eYv</td>\n",
       "      <td>failed</td>\n",
       "      <td>NaN</td>\n",
       "      <td>2020-03-06 17:14:02</td>\n",
       "      <td>2020-03-06 17:30:28</td>\n",
       "      <td>https://autoru-panorama-internal.s3.mds.yandex.net/upload/831/493/83149371-205e-4b53-aadf-debf44d16518</td>\n",
       "      <td>http://autoru-panorama-internal.s3.mds.yandex.net/artifacts/700/063/700063905-1583504042974-j4eYv/origin/83149371-205e-4b53-aadf-debf44d16518</td>\n",
       "      <td>{\"normalized\":{\"status\":\"processing\",\"version\":2,\"workflow_instance_id\":\"d0bc0eec-9761-490a-afd4-8dd89c7afc96\",\"attempt\":0}}</td>\n",
       "      <td>2020-03-06</td>\n",
       "    </tr>\n",
       "    <tr>\n",
       "      <th>817</th>\n",
       "      <td>1249</td>\n",
       "      <td>1305092319-1584277840333-CZ2XO</td>\n",
       "      <td>failed</td>\n",
       "      <td>UNK_ERROR</td>\n",
       "      <td>2020-03-15 16:10:40</td>\n",
       "      <td>2020-03-15 16:22:04</td>\n",
       "      <td>https://autoru-panorama-internal.s3.mds.yandex.net/upload/55d/8ba/55d8bae0-5fd8-4c32-84a8-4c7973021892</td>\n",
       "      <td>http://autoru-panorama-internal.s3.mds.yandex.net/artifacts/130/509/1305092319-1584277840333-CZ2XO/origin/55d8bae0-5fd8-4c32-84a8-4c7973021892</td>\n",
       "      <td>{\"normalized\":{\"status\":\"failed\",\"version\":2,\"hitman_job_id\":162974571,\"workflow_id\":\"797029f8-649c-4e8f-8b5c-a1b1a200be6b/22a9d841-5902-412b-ad9d-5aa96a30a3ee\",\"attempt\":0}}</td>\n",
       "      <td>2020-03-15</td>\n",
       "    </tr>\n",
       "  </tbody>\n",
       "</table>\n",
       "</div>"
      ],
      "text/plain": [
       "       id                     panorama_id  status                       error          create_time          update_time                                                                                                  origin                                                                                                                                             url                                                                                                                                                                            data create_date\n",
       "751  1147   917053610-1584032038795-aDzMS  failed         CHECK_NORMALIZATION  2020-03-12 19:53:58  2020-03-12 19:58:24  https://autoru-panorama-internal.s3.mds.yandex.net/upload/3d5/714/3d5714fc-6ef6-4479-8d83-4140312eeaf2   http://autoru-panorama-internal.s3.mds.yandex.net/artifacts/917/053/917053610-1584032038795-aDzMS/origin/3d5714fc-6ef6-4479-8d83-4140312eeaf2  {\"normalized\":{\"status\":\"failed\",\"version\":2,\"hitman_job_id\":161558090,\"workflow_id\":\"797029f8-649c-4e8f-8b5c-a1b1a200be6b/bee67d24-d219-4cdf-9fd9-416ca8acdb01\",\"attempt\":3}}  2020-03-12\n",
       "803  1229   934420753-1584246489528-SsawY  failed                   UNK_ERROR  2020-03-15 07:28:09  2020-03-15 07:52:42  https://autoru-panorama-internal.s3.mds.yandex.net/upload/612/b58/612b589e-f752-441e-b8ef-b3c628f734cd   http://autoru-panorama-internal.s3.mds.yandex.net/artifacts/934/420/934420753-1584246489528-SsawY/origin/612b589e-f752-441e-b8ef-b3c628f734cd  {\"normalized\":{\"status\":\"failed\",\"version\":2,\"hitman_job_id\":162791673,\"workflow_id\":\"797029f8-649c-4e8f-8b5c-a1b1a200be6b/45b6455a-b8e5-4cc5-bc7b-0f0803b38eb0\",\"attempt\":0}}  2020-03-15\n",
       "712  1086   872882254-1583915773069-pNkvl  failed                         NaN  2020-03-11 11:36:13  2020-03-11 11:55:38  https://autoru-panorama-internal.s3.mds.yandex.net/upload/436/d36/436d36aa-393d-4881-9fe9-e80016d38232   http://autoru-panorama-internal.s3.mds.yandex.net/artifacts/872/882/872882254-1583915773069-pNkvl/origin/436d36aa-393d-4881-9fe9-e80016d38232                                                        {\"normalized\":{\"status\":\"failed\",\"version\":2,\"workflow_instance_id\":\"660e9aeb-94dd-4a27-92cb-28c092d2083e\",\"attempt\":0}}  2020-03-11\n",
       "769  1174   720511053-1584109201370-vccXL  failed  BIG_STEP_IN_RECONSTRUCTION  2020-03-13 17:20:01  2020-03-13 17:30:24  https://autoru-panorama-internal.s3.mds.yandex.net/upload/986/879/986879c4-584d-44d6-89e5-1aa0f37a5983   http://autoru-panorama-internal.s3.mds.yandex.net/artifacts/720/511/720511053-1584109201370-vccXL/origin/986879c4-584d-44d6-89e5-1aa0f37a5983  {\"normalized\":{\"status\":\"failed\",\"version\":2,\"hitman_job_id\":162004626,\"workflow_id\":\"797029f8-649c-4e8f-8b5c-a1b1a200be6b/ea4a3ef0-0e8b-4fb8-a9fc-f152457a79b2\",\"attempt\":0}}  2020-03-13\n",
       "631   939   772939830-1583573042558-pAJbO  failed                         NaN  2020-03-07 12:24:02  2020-03-07 12:45:30  https://autoru-panorama-internal.s3.mds.yandex.net/upload/6e9/354/6e935483-52d0-4c1f-9079-8876fe77b503   http://autoru-panorama-internal.s3.mds.yandex.net/artifacts/772/939/772939830-1583573042558-pAJbO/origin/6e935483-52d0-4c1f-9079-8876fe77b503                                                    {\"normalized\":{\"status\":\"processing\",\"version\":2,\"workflow_instance_id\":\"6a5fae8f-3b21-440d-8407-8bae8f67640b\",\"attempt\":0}}  2020-03-07\n",
       "872  1343  1931092602-1584446530917-C8iOw  failed                   UNK_ERROR  2020-03-17 15:02:10  2020-03-17 15:19:40  https://autoru-panorama-internal.s3.mds.yandex.net/upload/be6/cce/be6ccecb-b0c8-4e63-b02b-43e5317e4fc9  http://autoru-panorama-internal.s3.mds.yandex.net/artifacts/193/109/1931092602-1584446530917-C8iOw/origin/be6ccecb-b0c8-4e63-b02b-43e5317e4fc9  {\"normalized\":{\"status\":\"failed\",\"version\":3,\"hitman_job_id\":163961510,\"workflow_id\":\"797029f8-649c-4e8f-8b5c-a1b1a200be6b/89ba5cbe-f530-4ac7-b586-ce56a3a99238\",\"attempt\":0}}  2020-03-17\n",
       "746  1133  1508254200-1584020922368-YG3xR  failed                         NaN  2020-03-12 16:48:42  2020-03-12 17:00:01  https://autoru-panorama-internal.s3.mds.yandex.net/upload/ef4/c47/ef4c4767-a1ce-4b3d-9c0e-30ab4f88d61e  http://autoru-panorama-internal.s3.mds.yandex.net/artifacts/150/825/1508254200-1584020922368-YG3xR/origin/ef4c4767-a1ce-4b3d-9c0e-30ab4f88d61e                                                        {\"normalized\":{\"status\":\"failed\",\"version\":2,\"workflow_instance_id\":\"67f814fb-af10-4d32-adda-4440cdef9300\",\"attempt\":0}}  2020-03-12\n",
       "905  1397  1389634027-1584523016804-ph9dn  failed                   UNK_ERROR  2020-03-18 12:16:56  2020-03-18 12:27:18  https://autoru-panorama-internal.s3.mds.yandex.net/upload/d98/a9f/d98a9f97-7491-4bed-8b32-acb49de28be8  http://autoru-panorama-internal.s3.mds.yandex.net/artifacts/138/963/1389634027-1584523016804-ph9dn/origin/d98a9f97-7491-4bed-8b32-acb49de28be8  {\"normalized\":{\"status\":\"failed\",\"version\":3,\"hitman_job_id\":164408587,\"workflow_id\":\"797029f8-649c-4e8f-8b5c-a1b1a200be6b/4051e904-ed19-485c-b70a-79e871db131e\",\"attempt\":0}}  2020-03-18\n",
       "596   891   700063905-1583504042974-j4eYv  failed                         NaN  2020-03-06 17:14:02  2020-03-06 17:30:28  https://autoru-panorama-internal.s3.mds.yandex.net/upload/831/493/83149371-205e-4b53-aadf-debf44d16518   http://autoru-panorama-internal.s3.mds.yandex.net/artifacts/700/063/700063905-1583504042974-j4eYv/origin/83149371-205e-4b53-aadf-debf44d16518                                                    {\"normalized\":{\"status\":\"processing\",\"version\":2,\"workflow_instance_id\":\"d0bc0eec-9761-490a-afd4-8dd89c7afc96\",\"attempt\":0}}  2020-03-06\n",
       "817  1249  1305092319-1584277840333-CZ2XO  failed                   UNK_ERROR  2020-03-15 16:10:40  2020-03-15 16:22:04  https://autoru-panorama-internal.s3.mds.yandex.net/upload/55d/8ba/55d8bae0-5fd8-4c32-84a8-4c7973021892  http://autoru-panorama-internal.s3.mds.yandex.net/artifacts/130/509/1305092319-1584277840333-CZ2XO/origin/55d8bae0-5fd8-4c32-84a8-4c7973021892  {\"normalized\":{\"status\":\"failed\",\"version\":2,\"hitman_job_id\":162974571,\"workflow_id\":\"797029f8-649c-4e8f-8b5c-a1b1a200be6b/22a9d841-5902-412b-ad9d-5aa96a30a3ee\",\"attempt\":0}}  2020-03-15"
      ]
     },
     "execution_count": 40,
     "metadata": {},
     "output_type": "execute_result"
    }
   ],
   "source": [
    "s"
   ]
  },
  {
   "cell_type": "code",
   "execution_count": 77,
   "metadata": {},
   "outputs": [],
   "source": [
    "# s.to_excel('sample10_failed.xlsx')\n",
    "s.to_csv('sample10_failed.tsv', sep = '\\t')"
   ]
  },
  {
   "cell_type": "code",
   "execution_count": 27,
   "metadata": {},
   "outputs": [
    {
     "data": {
      "text/plain": [
       "NaN                                0.628571\n",
       "UNK_ERROR                          0.257143\n",
       "BIG_STEP_IN_RECONSTRUCTION         0.066667\n",
       "FEW_FRAMES_AFTER_RECONSTRUCTION    0.028571\n",
       "CHECK_NORMALIZATION                0.009524\n",
       "FEW_FRAMES_AFTER_CLASSIFICATION    0.009524\n",
       "Name: error, dtype: float64"
      ]
     },
     "execution_count": 27,
     "metadata": {},
     "output_type": "execute_result"
    }
   ],
   "source": [
    "df_result[df_result.status == 'failed'].error.value_counts(normalize = True, dropna = False)"
   ]
  },
  {
   "cell_type": "code",
   "execution_count": 72,
   "metadata": {},
   "outputs": [],
   "source": [
    "# !mkdir videos_failed"
   ]
  },
  {
   "cell_type": "code",
   "execution_count": 73,
   "metadata": {},
   "outputs": [],
   "source": [
    "# !ls"
   ]
  },
  {
   "cell_type": "code",
   "execution_count": 74,
   "metadata": {},
   "outputs": [],
   "source": [
    "# !mkdir videos_ok"
   ]
  },
  {
   "cell_type": "code",
   "execution_count": 28,
   "metadata": {},
   "outputs": [],
   "source": [
    "def get_filepath_from_url(url, prefix = 'videos_failed/'):\n",
    "    name = url.replace('https://autoru-panorama-internal.s3.mds.yandex.net/upload/', '').replace('/', '_')\n",
    "    filepath = prefix + name\n",
    "    return filepath"
   ]
  },
  {
   "cell_type": "code",
   "execution_count": 29,
   "metadata": {},
   "outputs": [],
   "source": [
    "\n",
    "import urllib\n",
    "def get_images_and_download_them_2_folder(row, prefix = 'videos_failed/'):\n",
    "    url = row['origin']\n",
    "    filepath = get_filepath_from_url(url, prefix = prefix)\n",
    "    print(filepath)\n",
    "    urllib.request.urlretrieve(url, filepath)\n",
    "        "
   ]
  },
  {
   "cell_type": "code",
   "execution_count": 47,
   "metadata": {},
   "outputs": [
    {
     "name": "stdout",
     "output_type": "stream",
     "text": [
      "videos_failed/d39_79b_d3979b39-6b0f-4790-bc9f-b21f0caab6f0\n",
      "videos_failed/cd5_dc5_cd5dc50c-18bb-44dc-b903-37be9e7a3ee3\n",
      "videos_failed/2df_540_2df540d9-564b-48b2-8ad8-a5294c2fde91\n",
      "videos_failed/f42_ad3_f42ad321-74d3-498f-8b8b-e7b0b2042570\n",
      "videos_failed/0f9_d90_0f9d90b1-a157-4fcc-bfc7-8b49ae6826fd\n",
      "videos_failed/0a0_30d_0a030d32-cdc9-4949-9a74-9c34f8ac51e1\n",
      "videos_failed/888_8f8_8888f8fc-2819-43c5-a3d5-e9a14d3f2506\n",
      "videos_failed/665_30c_66530cad-5a2b-4823-8592-df28c5cb306c\n",
      "videos_failed/411_e39_411e3996-7150-45cf-abb8-ce1f740cabf6\n",
      "videos_failed/b53_c69_b53c69b5-33d6-4748-95e1-f842982f727c\n",
      "videos_failed/458_fd1_458fd1b7-6881-420a-bdee-a82650bc0f04\n",
      "videos_failed/42e_faf_42efafcb-0a5e-4a68-9d91-4f909f1e9002\n",
      "videos_failed/c45_cfd_c45cfdc9-efa5-44fb-88ac-528e608b22d6\n",
      "videos_failed/d09_b98_d09b9863-4a2d-498e-a999-a74aec917a8c\n",
      "videos_failed/831_493_83149371-205e-4b53-aadf-debf44d16518\n",
      "videos_failed/efc_858_efc85844-7bb4-443a-b6ef-d9bd63b61c69\n",
      "videos_failed/93b_944_93b944b0-99b5-42ed-ac7f-059ad329fe26\n",
      "videos_failed/1f1_e8a_1f1e8a8a-2d43-4f77-9733-b398db61e0b8\n",
      "videos_failed/f7f_3cc_f7f3cc8a-01bd-4902-aaac-0d949a0718b9\n",
      "videos_failed/161_ceb_161cebdf-7008-484c-8ae3-b72a58f88c10\n",
      "videos_failed/34b_0b0_34b0b00d-2a8c-4bc3-a72f-ea272c2383d2\n",
      "videos_failed/da3_777_da37771d-93a8-4496-88bb-f5318ab34347\n",
      "videos_failed/a98_37f_a9837f24-bc3b-43cd-a0f1-326be81e4a75\n",
      "videos_failed/03a_227_03a22708-215f-43e7-ab6d-79bf6c7bd64a\n",
      "videos_failed/1e1_f39_1e1f39a6-f822-42f0-8fdb-461974edcd0e\n",
      "videos_failed/120_5bc_1205bc7a-17c7-47a1-9f5f-159068136043\n",
      "videos_failed/159_49f_15949f2b-cfa8-4b9b-bd72-d405d136edc0\n",
      "videos_failed/6e9_354_6e935483-52d0-4c1f-9079-8876fe77b503\n",
      "videos_failed/2a6_648_2a6648eb-87bf-41be-a8b7-42c4a4ca5ec6\n",
      "videos_failed/69f_a8b_69fa8b48-5b30-43fa-8be6-20affcce6827\n",
      "videos_failed/79f_75f_79f75fec-9c3a-43db-b392-9ddad58bf3b0\n",
      "videos_failed/3fb_0af_3fb0af88-2095-4c51-b308-d3be1547ba79\n",
      "videos_failed/64c_61a_64c61abc-29b0-4665-b308-9b60063c5ab2\n",
      "videos_failed/bcb_aac_bcbaacb3-c5bc-4098-9644-b7966515291d\n",
      "videos_failed/042_e67_042e678a-f9da-4150-9d16-f49f654805a0\n",
      "videos_failed/786_168_786168b6-6d12-4f1d-a299-b53bdab2faa8\n",
      "videos_failed/03f_4a8_03f4a857-3291-48b3-8bcd-7b3103f08a7e\n",
      "videos_failed/b5c_7f9_b5c7f9a6-0d70-4d57-af95-4a84ce05bacc\n",
      "videos_failed/978_81c_97881ccf-b9c4-4569-a7c9-3ffb0627c50f\n",
      "videos_failed/430_9fd_4309fd5f-d7f2-4ee5-b256-5ddb6c262648\n",
      "videos_failed/2c4_234_2c42345d-c827-432d-80c1-aa7a3b254133\n",
      "videos_failed/5ab_07f_5ab07ffe-ea8f-4ebd-9d72-fd6a72fb9730\n",
      "videos_failed/293_467_2934676c-30e6-45bb-a850-26ed8e9ce0da\n",
      "videos_failed/7f3_b33_7f3b33f1-ffa5-49a3-9dbc-04edb3a16a1f\n",
      "videos_failed/436_d36_436d36aa-393d-4881-9fe9-e80016d38232\n",
      "videos_failed/dbc_f83_dbcf83b8-bddb-4917-9dbd-787324f1e45f\n",
      "videos_failed/d33_9e1_d339e108-884a-44b0-8fdc-d47708527a3f\n",
      "videos_failed/af9_ee7_af9ee745-2571-414e-ae9f-5cde82e9dfda\n",
      "videos_failed/f86_13d_f8613d2e-c535-4c7b-b746-fa8a43c87846\n",
      "videos_failed/40f_6d5_40f6d544-80e6-4dd4-b812-37184815f458\n",
      "videos_failed/85f_1b2_85f1b2c3-e93d-464c-8020-9ed04fa17abd\n",
      "videos_failed/d92_c18_d92c1824-3f92-4014-93f1-4a3caa5831d4\n",
      "videos_failed/07d_373_07d37364-2f84-486a-a3ea-0dc96873edad\n",
      "videos_failed/d8c_c58_d8cc5869-bc5c-4a57-8b46-283364863437\n",
      "videos_failed/4f0_3ed_4f03edd2-5ab8-487a-8cce-eb98eb92cb37\n",
      "videos_failed/0c4_dea_0c4deac6-8622-4434-9919-ba84b6858925\n",
      "videos_failed/00e_725_00e725e3-afad-4b46-be56-46664c51d8c4\n",
      "videos_failed/e34_767_e3476725-c30f-4ace-afdd-aa9da6abbd2a\n",
      "videos_failed/857_ec2_857ec274-5670-4e46-96d8-7e18d51b7a59\n",
      "videos_failed/14d_1cd_14d1cded-1861-44c3-831c-5edcc753c20b\n",
      "videos_failed/9b2_c87_9b2c87ff-ab19-400b-ba3b-4fef1d9b7e4c\n",
      "videos_failed/76e_dc9_76edc944-4c2b-4b0b-8847-63d72cfee674\n",
      "videos_failed/ab3_f36_ab3f3671-212b-432e-a24b-a0c20ac2ea12\n",
      "videos_failed/e12_8a5_e128a5ad-9ecf-4056-9103-ea6e5cbf27b8\n",
      "videos_failed/c96_89e_c9689eec-9017-4036-9e84-ae430318a5b0\n",
      "videos_failed/ef4_c47_ef4c4767-a1ce-4b3d-9c0e-30ab4f88d61e\n",
      "videos_failed/e63_4de_e634deb8-b54a-43b6-b36a-05ae8211808a\n",
      "videos_failed/596_adb_596adbd6-3fba-407c-a2aa-da1cd9649d09\n",
      "videos_failed/3f2_881_3f288121-1336-416a-ac39-367a6d4707f0\n",
      "videos_failed/3d5_714_3d5714fc-6ef6-4479-8d83-4140312eeaf2\n",
      "videos_failed/055_c35_055c3585-7f55-40a6-8829-10bdf77f1713\n",
      "videos_failed/250_88e_25088e17-e8fd-4f12-9206-00a3853e03f6\n",
      "videos_failed/986_879_986879c4-584d-44d6-89e5-1aa0f37a5983\n",
      "videos_failed/886_f72_886f7275-e49e-4d10-be19-f72180788dea\n",
      "videos_failed/8b2_5cf_8b25cf8c-c03c-4c3b-86bf-b47863f75b32\n",
      "videos_failed/ff9_fd6_ff9fd619-927c-4cab-ae02-a0bcc4665ab4\n",
      "videos_failed/d0b_0b4_d0b0b4eb-ed26-460d-a360-d00263f94b1d\n",
      "videos_failed/35a_138_35a13881-9bc1-4596-bc45-7d6d76b09daa\n",
      "videos_failed/cba_ac0_cbaac0d9-68f3-490c-ace9-673e0ec38f01\n",
      "videos_failed/612_b58_612b589e-f752-441e-b8ef-b3c628f734cd\n",
      "videos_failed/3e1_fae_3e1fae49-8a52-4ff3-a610-161139eb24c9\n",
      "videos_failed/9fc_caa_9fccaad4-d893-4e51-ab31-0b13af9c6256\n",
      "videos_failed/56c_597_56c59756-50a3-4927-887e-a4a3ead569d1\n",
      "videos_failed/55d_8ba_55d8bae0-5fd8-4c32-84a8-4c7973021892\n",
      "videos_failed/7a8_a2d_7a8a2dd8-b5ab-4169-8b9e-69b1bc889671\n",
      "videos_failed/95b_771_95b771d1-9b13-44c8-a654-da8593185f3a\n",
      "videos_failed/16d_53e_16d53e71-705c-4c41-a40a-e888d6f6bf03\n",
      "videos_failed/eac_c31_eacc314e-cde2-40aa-9b6c-99dfcf01fd50\n",
      "videos_failed/019_f53_019f5330-c9f5-493f-8a29-5f33054e523a\n",
      "videos_failed/826_f70_826f70cb-f5ec-4a5b-bcc1-d7d436f27ea9\n",
      "videos_failed/ebb_b2f_ebbb2f60-3561-4fb8-a279-cb22550d743d\n",
      "videos_failed/fe7_ea8_fe7ea821-7c24-4b33-83d1-3aff85d6412f\n",
      "videos_failed/be6_cce_be6ccecb-b0c8-4e63-b02b-43e5317e4fc9\n",
      "videos_failed/9ae_107_9ae10706-9c41-435d-83a6-8ff135191a1c\n",
      "videos_failed/366_9e2_3669e234-3ad7-4551-87cb-e5e3f0237550\n",
      "videos_failed/67b_527_67b52773-d7dd-4e5f-a584-f1f263beda89\n",
      "videos_failed/fcb_c69_fcbc6954-0d90-4d9e-9672-12055d16cfdb\n",
      "videos_failed/19d_f49_19df49a0-50c1-4cb4-b9da-e138c8a3cc56\n",
      "videos_failed/d86_97c_d8697cde-479a-4984-91f5-ff022f773fdc\n",
      "videos_failed/c2a_b3c_c2ab3cf5-2b82-4115-9297-75f68f3f8c9e\n",
      "videos_failed/a74_a4d_a74a4d0d-45cc-4fce-866d-b8d8c4da1c61\n",
      "videos_failed/b09_b67_b09b679f-471c-42f2-b1a3-c4242703893b\n",
      "videos_failed/80d_56c_80d56c25-c2b7-4988-9e44-de459206ec4a\n",
      "videos_failed/d98_a9f_d98a9f97-7491-4bed-8b32-acb49de28be8\n",
      "videos_failed/663_071_6630712a-8bc3-4bc8-8176-6fb282c3a3cc\n"
     ]
    },
    {
     "data": {
      "text/plain": [
       "561    None\n",
       "564    None\n",
       "569    None\n",
       "570    None\n",
       "571    None\n",
       "572    None\n",
       "573    None\n",
       "575    None\n",
       "577    None\n",
       "579    None\n",
       "581    None\n",
       "582    None\n",
       "584    None\n",
       "587    None\n",
       "596    None\n",
       "603    None\n",
       "605    None\n",
       "608    None\n",
       "609    None\n",
       "612    None\n",
       "613    None\n",
       "617    None\n",
       "618    None\n",
       "621    None\n",
       "622    None\n",
       "623    None\n",
       "624    None\n",
       "631    None\n",
       "633    None\n",
       "646    None\n",
       "649    None\n",
       "654    None\n",
       "663    None\n",
       "665    None\n",
       "672    None\n",
       "676    None\n",
       "679    None\n",
       "691    None\n",
       "693    None\n",
       "694    None\n",
       "701    None\n",
       "708    None\n",
       "710    None\n",
       "711    None\n",
       "712    None\n",
       "713    None\n",
       "715    None\n",
       "716    None\n",
       "717    None\n",
       "718    None\n",
       "720    None\n",
       "722    None\n",
       "724    None\n",
       "729    None\n",
       "730    None\n",
       "731    None\n",
       "733    None\n",
       "735    None\n",
       "739    None\n",
       "740    None\n",
       "741    None\n",
       "742    None\n",
       "743    None\n",
       "744    None\n",
       "745    None\n",
       "746    None\n",
       "747    None\n",
       "748    None\n",
       "750    None\n",
       "751    None\n",
       "752    None\n",
       "760    None\n",
       "769    None\n",
       "770    None\n",
       "771    None\n",
       "775    None\n",
       "792    None\n",
       "801    None\n",
       "802    None\n",
       "803    None\n",
       "808    None\n",
       "810    None\n",
       "815    None\n",
       "817    None\n",
       "821    None\n",
       "823    None\n",
       "824    None\n",
       "825    None\n",
       "826    None\n",
       "843    None\n",
       "845    None\n",
       "847    None\n",
       "872    None\n",
       "874    None\n",
       "877    None\n",
       "882    None\n",
       "885    None\n",
       "888    None\n",
       "889    None\n",
       "893    None\n",
       "896    None\n",
       "899    None\n",
       "901    None\n",
       "905    None\n",
       "907    None\n",
       "dtype: object"
      ]
     },
     "execution_count": 47,
     "metadata": {},
     "output_type": "execute_result"
    }
   ],
   "source": [
    "df_failed.apply(get_images_and_download_them_2_folder, axis = 1)"
   ]
  },
  {
   "cell_type": "markdown",
   "metadata": {},
   "source": [
    "### analyze ok files"
   ]
  },
  {
   "cell_type": "code",
   "execution_count": 30,
   "metadata": {},
   "outputs": [],
   "source": [
    "df_ok = df_result[df_result.status == 'completed']"
   ]
  },
  {
   "cell_type": "code",
   "execution_count": 31,
   "metadata": {},
   "outputs": [
    {
     "name": "stdout",
     "output_type": "stream",
     "text": [
      "videos_ok/6ed_2eb_6ed2eb6a-fe9a-4c5f-a3d0-627f76c03c68\n",
      "videos_ok/e1d_dad_e1ddadef-db91-4aa3-a4b5-f78e1e58b7a8\n",
      "videos_ok/fba_3e6_fba3e642-6663-4036-89f7-3ea1deb2a17f\n",
      "videos_ok/021_298_0212981c-8447-493b-9291-53828f16f65f\n",
      "videos_ok/082_ced_082ced9f-1d22-466d-8e2d-72c6e6da637c\n",
      "videos_ok/d2c_f23_d2cf2333-6b19-435a-8671-1a8f524030a0\n",
      "videos_ok/f80_579_f8057937-7838-4d5c-b6c1-1034c62aef00\n",
      "videos_ok/b65_b9d_b65b9da7-077a-4478-b2fa-d4e9cb557518\n",
      "videos_ok/301_964_301964ac-35e8-44b3-a15d-ceb7d22cb878\n",
      "videos_ok/00d_123_00d123be-ecfa-43bf-b489-2f54e4ec0bd0\n",
      "videos_ok/51d_5a0_51d5a006-98c4-4d96-964a-88c2634a3bf4\n",
      "videos_ok/2d9_915_2d991587-78d9-4dea-96f9-4090d9b9a447\n",
      "videos_ok/81c_f24_81cf24f5-e50b-4c76-9237-0eb008b57d29\n",
      "videos_ok/49f_89d_49f89dc4-9910-4e32-a04e-8535e7027fc4\n",
      "videos_ok/7de_37f_7de37f9d-eb32-4c14-bef8-aa39eca3b5bb\n",
      "videos_ok/d05_343_d0534327-64e6-4df4-9213-225c784bd31a\n",
      "videos_ok/f6b_44a_f6b44ace-dd2a-41eb-83ff-0f7d13f57240\n",
      "videos_ok/53d_ccf_53dccf14-b86a-47dc-81f9-efc2c22df01b\n",
      "videos_ok/099_116_099116b0-dc19-4014-a979-d66c3048f7b5\n",
      "videos_ok/211_0bb_2110bb80-da68-46f3-b77a-a4eeb4ac8724\n",
      "videos_ok/106_9eb_1069ebf0-dabf-434e-8eb4-76349f69a75c\n",
      "videos_ok/f7a_eb7_f7aeb758-b228-4893-87e2-b1258efe10e4\n",
      "videos_ok/cf0_2bb_cf02bbe5-1459-44be-9871-9a781d0803cc\n",
      "videos_ok/422_c86_422c8630-f341-44dc-8422-7244bd1e87ee\n",
      "videos_ok/421_95b_42195b4a-5363-4131-915d-2618d6fa6784\n",
      "videos_ok/698_044_698044e9-5411-4bec-bffb-973aaa62f038\n",
      "videos_ok/03c_73d_03c73d60-43c5-4142-b4f4-c040eeeb862f\n",
      "videos_ok/19d_18c_19d18c76-dc49-44a3-bcaa-c847389b1de7\n",
      "videos_ok/9d8_15e_9d815eca-73e3-4164-849e-ef0251d2fb16\n",
      "videos_ok/06b_5ea_06b5ea2a-103c-4b9a-8f93-1ffa89937ecb\n",
      "videos_ok/e06_b15_e06b15ca-4ce6-4329-94e4-403d724e3f3e\n",
      "videos_ok/fed_51c_fed51cd6-3a1c-4c10-a185-8f90c7e835a4\n",
      "videos_ok/31e_57f_31e57f3e-a6fb-475f-a204-0fd9b8250be4\n",
      "videos_ok/261_aac_261aac12-3868-432b-b675-58857027976b\n",
      "videos_ok/573_e70_573e7031-0e44-4280-a26c-1567f487ca58\n",
      "videos_ok/7d7_99f_7d799ff4-cc2d-443b-bcfa-89c9801d638d\n",
      "videos_ok/6b1_300_6b130009-2529-453b-a44c-6c7ff840e41c\n",
      "videos_ok/b46_d4b_b46d4bfe-702f-457f-8724-96bbdaa1bff1\n",
      "videos_ok/cab_eb8_cabeb8de-4945-4329-b7c0-d5f5b5dc689c\n",
      "videos_ok/cac_5c0_cac5c051-0a16-4528-96ed-a1cd2ca851d6\n",
      "videos_ok/a73_aae_a73aae2b-27fd-49f8-85f4-ac957b792fef\n",
      "videos_ok/0d7_c7b_0d7c7b3f-1154-47f7-8e43-d9f0e5e5c963\n",
      "videos_ok/4ef_b90_4efb908e-87f9-4125-ad98-8f826b91ea84\n",
      "videos_ok/91f_77d_91f77dc4-6b2c-4b47-bb44-632527c19f94\n",
      "videos_ok/1ac_b41_1acb4114-726b-4c3b-81b0-19395412b9f6\n",
      "videos_ok/807_630_80763058-c807-4ff3-a9de-e4ffc92dd3d2\n",
      "videos_ok/312_ae2_312ae2c5-8ce7-47db-83c1-344fbdcc45b6\n",
      "videos_ok/1c7_7a6_1c77a6b0-2fbd-4c86-9578-578bde7dcf4d\n",
      "videos_ok/4c7_4ef_4c74ef4b-6385-4fe1-b8e5-3fa6b94e5039\n",
      "videos_ok/adc_55c_adc55c9b-3d2b-4a20-8394-5c49f289ba39\n",
      "videos_ok/98e_51a_98e51a65-32e2-492c-a32c-f03431f3596e\n",
      "videos_ok/095_46d_09546d73-97ce-4913-8fcb-fdc3a082a995\n",
      "videos_ok/2fd_77e_2fd77ef9-74e2-473b-a4d5-a201cebfb680\n",
      "videos_ok/65d_9cd_65d9cd5c-b886-478f-b8d4-fe4076133cbb\n",
      "videos_ok/89b_d79_89bd793d-2069-421d-beff-7a93c8874a95\n",
      "videos_ok/565_961_565961f5-6dcf-4669-ba23-a35f00ffc643\n",
      "videos_ok/e39_a49_e39a49a2-d7f6-42e5-82a7-aa03011ba450\n",
      "videos_ok/75e_5dc_75e5dc4c-4983-4001-a394-b5332570c702\n",
      "videos_ok/eb1_d80_eb1d8084-18be-4d9c-a217-51c32e351478\n",
      "videos_ok/1e8_f3b_1e8f3bb6-f19d-4b82-a868-af4d3466c3ec\n",
      "videos_ok/c67_71a_c6771a48-e17a-49eb-aa24-d7f05fc41612\n",
      "videos_ok/ed7_34f_ed734fea-125c-4d51-8698-6881e5e0f5ac\n",
      "videos_ok/228_82e_22882ea0-87fb-42a4-994b-07c8d7ed1e1a\n",
      "videos_ok/5a9_93f_5a993f00-4158-473b-bdbd-c7adeb41e694\n",
      "videos_ok/1bc_d7b_1bcd7b62-5e8e-46d2-af17-2a667681a6c9\n",
      "videos_ok/c42_759_c42759ac-4250-4a1f-9816-5f4876eec408\n",
      "videos_ok/945_c16_945c16e5-fe42-4446-87ce-c6ee2356fee5\n",
      "videos_ok/4d9_bd4_4d9bd4bf-6a7a-4bb5-b605-6e1d5199e7a9\n",
      "videos_ok/9b9_ad6_9b9ad6e7-d1cc-4409-ac2a-09ec0a7987b3\n",
      "videos_ok/a63_45e_a6345e9e-2567-4d30-a9cb-b2e993638a33\n",
      "videos_ok/485_00e_48500e30-3e82-4a54-876e-e133a787fc59\n",
      "videos_ok/1b6_57b_1b657b44-f05f-4f09-8923-17ba3f4e6dc8\n",
      "videos_ok/257_7d1_2577d153-ee05-43d3-8deb-023021659215\n",
      "videos_ok/049_594_04959416-470b-45ed-bde5-dc36d650f0e6\n",
      "videos_ok/6d9_a1a_6d9a1ac6-ca96-4501-b448-655acd65e294\n",
      "videos_ok/59e_aa7_59eaa7fc-c014-40de-a81d-fbb2d83570dc\n",
      "videos_ok/ce1_5ee_ce15ee41-ce75-4b41-99ce-128e9e1d71dd\n",
      "videos_ok/733_a1d_733a1d17-729f-44ad-9fe5-3a1e299f862c\n",
      "videos_ok/15f_4eb_15f4eb71-447b-4356-b817-de444c2ee98a\n",
      "videos_ok/5c0_8d9_5c08d930-2325-493b-8279-cbd6f8a3db40\n",
      "videos_ok/3ee_ff8_3eeff881-2dc6-4415-b19c-a19897fef739\n",
      "videos_ok/699_9a3_6999a3c8-4013-4125-ad0c-876b8cb9a4ad\n",
      "videos_ok/9a5_447_9a544719-3d6a-4c49-9777-c6ff71f51f4c\n",
      "videos_ok/1e9_054_1e905428-6e81-41c6-8061-3ae5be6b6af5\n",
      "videos_ok/9d2_bb9_9d2bb909-dbc0-492a-bc26-b2c5c9145c66\n",
      "videos_ok/af9_8c4_af98c496-b3d2-4734-bc04-4ac925621b82\n",
      "videos_ok/896_b4f_896b4fdf-1d2d-4905-9247-19ea0404e7f6\n",
      "videos_ok/6a0_352_6a0352f4-5dd7-4296-8574-2e72594b166e\n",
      "videos_ok/952_6bf_9526bfd4-8222-42a2-9ff3-6552a7156f94\n",
      "videos_ok/98a_74e_98a74e58-7bb4-4d67-a04a-45efae95ac19\n",
      "videos_ok/023_833_0238339e-b221-4932-a133-6ad933e050b9\n",
      "videos_ok/b50_4d6_b504d67a-0fc9-428d-b0ea-e3ef771cedc8\n",
      "videos_ok/e09_46c_e0946c7a-597a-4dea-bb4e-5d3744e79170\n",
      "videos_ok/a5e_70f_a5e70fa7-031c-4a76-b8b0-61c0f6ccaedf\n",
      "videos_ok/481_f9c_481f9c9f-9f26-4464-a9b5-8adb15dcfa37\n",
      "videos_ok/ec9_69c_ec969c78-1dd8-4680-aa81-013c2377c303\n",
      "videos_ok/da4_dcd_da4dcd26-08af-4ac9-b233-775f34c89bce\n",
      "videos_ok/287_b38_287b380e-e940-44d1-bf0d-e4e1401dd015\n",
      "videos_ok/4c2_709_4c270970-d38d-4727-a683-22a0eb5356c8\n",
      "videos_ok/08c_9cf_08c9cf37-68eb-474d-a5ac-3c9104a1b7a9\n",
      "videos_ok/263_829_2638299c-b445-4899-b458-53fe681eff4d\n",
      "videos_ok/502_e27_502e2739-576a-4653-afed-a2bf9bd0f449\n",
      "videos_ok/f1a_1f2_f1a1f26f-7cf2-4275-af56-616fbac718af\n",
      "videos_ok/461_7b3_4617b3f5-1de7-4cb4-a96e-51c038c51977\n",
      "videos_ok/e13_766_e1376683-cec9-440b-b5ef-ce831686f60d\n",
      "videos_ok/079_fef_079fef4b-76f4-44fe-8917-4aee1e5c8e2f\n",
      "videos_ok/5c8_a96_5c8a9690-0456-4b54-8c18-a26e706f5566\n",
      "videos_ok/01e_67f_01e67f36-58c4-47c8-a085-755a9b2f338d\n",
      "videos_ok/f23_45b_f2345b1c-6bba-4c54-9f59-e21114ab9df4\n",
      "videos_ok/33c_9a7_33c9a73e-77c3-48d1-99b6-ab15197c31b7\n",
      "videos_ok/79d_8d9_79d8d9e7-3740-44c5-a3cf-a5fc5aa5e015\n",
      "videos_ok/0b2_c34_0b2c34ac-35b9-4cc3-8917-8ea38c62eeeb\n",
      "videos_ok/561_615_561615c5-4564-4af6-a6b4-4cb0bc26900f\n",
      "videos_ok/d09_925_d0992549-dec9-40ad-89ba-124902540409\n",
      "videos_ok/62d_768_62d768ce-077c-471d-bf25-22cb5cf6767d\n",
      "videos_ok/c92_274_c92274ba-0528-4ece-b520-6f9abd3c1a7d\n",
      "videos_ok/67b_f43_67bf4320-eb00-4c00-9729-e65d1036edd2\n",
      "videos_ok/7a6_3e4_7a63e421-742f-43b0-ab9a-6e6909bb4764\n",
      "videos_ok/51e_440_51e440bf-7179-44f8-9539-e8b43f194da0\n",
      "videos_ok/7a6_727_7a6727a0-5f64-4a4f-9b7f-012d25f11314\n",
      "videos_ok/591_830_59183004-1a31-4b29-9122-74b201574e76\n",
      "videos_ok/87a_f2d_87af2d62-f206-4ab2-8550-23f82f27b8e1\n",
      "videos_ok/001_da6_001da6d4-2727-4543-bbe3-dd1e1334e59b\n",
      "videos_ok/221_052_221052db-f985-432e-b07e-6d077a33b191\n",
      "videos_ok/47f_713_47f71340-3f3c-48e1-9f8e-461d9270614c\n",
      "videos_ok/2d6_87d_2d687dc9-a131-4f7d-add6-6b740836170d\n",
      "videos_ok/ec8_e46_ec8e462d-c1d0-4ffd-aae3-2b1f1d9beac2\n",
      "videos_ok/947_762_9477620f-8dc2-451f-9b90-98fab8a7f182\n",
      "videos_ok/70d_65d_70d65d4d-992c-4c03-b05b-31f47431dfd5\n",
      "videos_ok/0de_c42_0dec4262-9a52-422d-a9e0-6c15855a3660\n",
      "videos_ok/191_7bb_1917bb60-cf18-45c6-95b7-e21ff4475504\n",
      "videos_ok/60f_4c4_60f4c410-d1aa-493b-a599-c6ad5acc0185\n",
      "videos_ok/730_c25_730c2526-9756-41fa-91b9-e1f6c357e21a\n",
      "videos_ok/afe_88c_afe88ce2-ed96-4415-b0d8-297096ba957b\n",
      "videos_ok/8f6_b24_8f6b24c0-9c1c-43b1-a576-31d820b1dfe1\n",
      "videos_ok/043_3a0_0433a0f0-544c-4d25-8448-0fab3b0b72bf\n",
      "videos_ok/d48_130_d48130d1-db2b-41e7-92bb-d7b333030b1a\n",
      "videos_ok/159_017_159017bd-fdc9-4b3c-a4af-510f1a802f9a\n",
      "videos_ok/598_223_5982233c-b414-4968-93ab-226aff952573\n",
      "videos_ok/a19_e58_a19e58ca-a960-4d3e-a28e-e77ef59f56e0\n",
      "videos_ok/117_07f_11707fe0-ffa6-46bc-8d45-99a957edd890\n",
      "videos_ok/741_06b_74106bb5-450d-4c75-9ae2-35acd0ebee61\n",
      "videos_ok/5d1_3cb_5d13cb4f-387d-4784-8f30-a81dbcd8287b\n",
      "videos_ok/3d7_c48_3d7c48a8-51c3-4e4a-8fa6-ee597a63542e\n",
      "videos_ok/efc_cd1_efccd157-adde-4cb2-aa33-5f855ff3723e\n",
      "videos_ok/d64_bbb_d64bbbd6-5d16-44be-a443-48148825ae8b\n",
      "videos_ok/a4f_99d_a4f99db1-7605-449f-9b9f-c1ef9d0f2f7f\n",
      "videos_ok/ba7_bcb_ba7bcb79-e4c1-46a9-adcf-8e0e832e96c1\n",
      "videos_ok/f47_614_f4761458-9478-44c9-8ebd-d97bef6e516e\n"
     ]
    },
    {
     "name": "stdout",
     "output_type": "stream",
     "text": [
      "videos_ok/468_f88_468f8820-6b61-4fd6-a342-b0650dbb5db2\n",
      "videos_ok/220_a58_220a5898-13f8-4945-9498-0d2ca666510a\n",
      "videos_ok/8f4_207_8f4207d1-6593-47fc-aad6-d15860f49bb5\n",
      "videos_ok/549_606_549606c7-5946-4804-92a1-f9c5324f83e2\n",
      "videos_ok/544_4c9_5444c982-f91d-48e1-b1bb-3af273351bbd\n",
      "videos_ok/b86_3de_b863dece-2a75-4444-9e54-160e417f8c5b\n",
      "videos_ok/44f_63d_44f63db7-4bf0-4bf2-8c54-4c17f8389c2c\n",
      "videos_ok/20b_eda_20beda0a-d143-4d48-a9e5-4c75f3755ffb\n",
      "videos_ok/306_038_306038da-0823-4783-af7c-6b72cb69699a\n",
      "videos_ok/ba7_126_ba712616-8bf0-495c-a326-088b79070f87\n",
      "videos_ok/baf_086_baf086bb-ac8b-4d10-a081-a0b0b750da30\n",
      "videos_ok/c6e_199_c6e199e7-061d-4641-ad32-2b3b9889fb7c\n",
      "videos_ok/a48_59c_a4859c48-00e9-41f6-b0d1-20ab03648fa4\n",
      "videos_ok/802_e56_802e5639-e993-4dbd-a13d-2a8de482acbb\n",
      "videos_ok/46a_061_46a061a5-b242-49b1-a41e-65f13b003784\n",
      "videos_ok/a39_2f7_a392f734-0827-4db1-a583-733db9f92ed9\n",
      "videos_ok/fab_258_fab258d8-faa8-4fd7-a6bd-1e87f8b5b37b\n",
      "videos_ok/e86_89d_e8689d6f-1bf9-4b83-a592-82ecf4956e83\n",
      "videos_ok/5e1_e7c_5e1e7c43-5e22-43e6-a6e6-9d17308735dd\n",
      "videos_ok/1b8_e6c_1b8e6ca5-72dc-43fb-acc8-3684e1cffe4b\n",
      "videos_ok/049_575_04957525-3463-48df-a3ab-34b3e81ce362\n",
      "videos_ok/56b_888_56b8885f-30d4-4975-9bf0-4505ef2e2576\n",
      "videos_ok/5bf_9e0_5bf9e06d-0df8-459d-95d9-82b0c94a1114\n",
      "videos_ok/dd3_cc1_dd3cc1ef-af5b-4e89-98c4-50dc454e9c72\n",
      "videos_ok/bce_11c_bce11ce3-6bea-414e-b50c-30c20e7ee8e1\n",
      "videos_ok/8de_69c_8de69c13-a9b7-467b-a449-c1ee452ccd90\n",
      "videos_ok/e13_b95_e13b9518-875e-41c6-8568-c61d31009956\n",
      "videos_ok/ee1_ef4_ee1ef438-b983-4a9b-95f0-3a421ebda309\n",
      "videos_ok/6ca_bec_6cabec45-7c5f-4efa-bc3d-3bb022bbedc0\n",
      "videos_ok/bde_871_bde871f0-d64a-4cbd-b348-9f9b02f2cba0\n",
      "videos_ok/67b_d4a_67bd4aaf-27e6-4155-b269-78317098e7d5\n",
      "videos_ok/e4a_ba3_e4aba3a6-46a8-46c3-be30-12fc9a5297e0\n",
      "videos_ok/8f7_73e_8f773e27-71b4-4392-badd-c7fdc2bbf091\n",
      "videos_ok/b38_d1a_b38d1a9d-c4c6-4faa-9a4a-cfe22cc41574\n",
      "videos_ok/528_6e0_5286e0a3-ee9d-4793-a346-8b236d6d2f5d\n",
      "videos_ok/991_b84_991b84f5-8f05-4078-94a5-9e35b09276bc\n",
      "videos_ok/d5d_35a_d5d35a4f-66fb-4da7-b2c8-423b338d6d8d\n",
      "videos_ok/e07_0c5_e070c5ff-09b3-4715-b6b5-fdbc60970ba3\n",
      "videos_ok/2b7_3c3_2b73c3f2-452d-4190-a624-0c97710f7b2f\n",
      "videos_ok/1c0_7ec_1c07ec0d-3b9d-4c31-9b46-abb7bffb51d7\n",
      "videos_ok/9fe_ecd_9feecd93-08e8-4973-870d-d12d02b79558\n",
      "videos_ok/5de_75e_5de75e86-a95a-47da-9ff5-2cd1d544829d\n",
      "videos_ok/117_333_11733369-d1a5-4615-9305-cc90d30b852f\n",
      "videos_ok/b43_d7b_b43d7b89-90a9-477f-a351-a0f2411591ba\n",
      "videos_ok/4a9_9a0_4a99a0cf-099c-4575-ae55-d24d79d41742\n",
      "videos_ok/d95_bc4_d95bc454-2d75-4f85-822d-cd6167d45aca\n",
      "videos_ok/977_4f6_9774f66a-2256-433e-8a81-26badc613c53\n",
      "videos_ok/47b_fff_47bfff50-9ce7-4bc0-8d21-96a7019cbe4b\n",
      "videos_ok/5b9_784_5b97842c-4204-40c0-bec9-520cc27916bf\n",
      "videos_ok/ad8_21a_ad821a31-f3cf-45d2-9ae3-94722aea5cda\n",
      "videos_ok/072_7e0_0727e01c-dd18-42d2-a288-2e121d11c685\n",
      "videos_ok/e24_65e_e2465e96-2e59-49ca-b35c-cc4ad02a33e0\n",
      "videos_ok/245_cbb_245cbba1-8986-464e-aef6-6c1ff1ef8dc1\n",
      "videos_ok/0b7_3a1_0b73a177-63f6-4ac9-8904-ec8dca025a71\n",
      "videos_ok/dea_69f_dea69fc0-aa2d-4795-9e84-3460c9779e1c\n",
      "videos_ok/828_edc_828edc3a-e6f5-44ef-95e1-2dcdc008d89a\n",
      "videos_ok/d1f_b8a_d1fb8aee-c342-488c-8c6d-318c9017c047\n",
      "videos_ok/889_af7_889af702-ad32-43d8-a21a-7ca48d8dfef3\n",
      "videos_ok/de4_c5e_de4c5efd-4f04-4284-ab64-3267d1d60f8f\n",
      "videos_ok/491_ef0_491ef0e4-fee9-4ec3-9411-544120739f30\n",
      "videos_ok/03d_04a_03d04ae5-1954-426c-b6ed-2c997f3ddcca\n",
      "videos_ok/265_f80_265f80ff-a11a-4c15-b520-5b8aa870f489\n",
      "videos_ok/31a_46f_31a46f74-62a2-417a-bd3e-a30bb9c37d8a\n",
      "videos_ok/36f_9be_36f9bec6-6e95-4c83-a1ac-28cd6a97e1b9\n",
      "videos_ok/08e_183_08e183ad-dc6c-4bff-bb03-bc0f72ea1a3c\n",
      "videos_ok/b60_0a1_b600a1f3-5e1d-4b06-ab7d-eeb43e9e3596\n",
      "videos_ok/33d_1bc_33d1bcc1-4407-4d65-a5a9-0da472b56e75\n",
      "videos_ok/f1b_f0a_f1bf0a37-8193-44ed-9605-da1bd29fd043\n",
      "videos_ok/f4b_2b7_f4b2b707-92ad-43a2-9b78-d8f802bb97cd\n",
      "videos_ok/543_1cf_5431cfb5-f14f-474e-becd-c83b6308e132\n",
      "videos_ok/dad_56f_dad56ff5-34be-4a46-afb7-22962a9b37df\n",
      "videos_ok/71e_024_71e024f6-5b4d-48b6-9755-ba9c89aaf218\n",
      "videos_ok/bbb_a13_bbba139b-2f39-4810-b1e8-b01e3ae221d3\n",
      "videos_ok/171_3ef_1713efa5-6b77-4f39-bbb6-fb2c4ce5ed40\n",
      "videos_ok/441_ed7_441ed73f-7583-47fa-a5ec-76bafc613fcd\n",
      "videos_ok/618_0ac_6180ac75-f84e-4f97-a93a-cd5ab073ffc1\n",
      "videos_ok/7f8_75a_7f875a60-8493-4224-a56d-8120557006a3\n",
      "videos_ok/f2f_9c2_f2f9c2e7-8d74-4d70-a402-21d696b80a74\n",
      "videos_ok/3a5_933_3a59336f-81d7-4bb4-bf67-02ced476210c\n",
      "videos_ok/fde_d84_fded84f8-d1d4-4f2d-974b-b7637c86dfa7\n",
      "videos_ok/3dc_744_3dc74425-b03c-45d9-86e2-c33627c42e0c\n",
      "videos_ok/6cf_c1b_6cfc1be7-9a22-46ad-aa05-2d8911be7041\n",
      "videos_ok/f58_3e2_f583e23c-c3ec-4784-8272-d728a9322011\n",
      "videos_ok/cb0_067_cb006707-faa1-4c99-abb4-0721c730c13f\n",
      "videos_ok/53b_d70_53bd70c9-a263-459d-8fc6-f2279576b965\n",
      "videos_ok/e03_8dc_e038dc0a-2e34-4325-89cb-1b616f3e8b62\n",
      "videos_ok/53b_d6a_53bd6a46-5540-4428-a879-4d4060f15ad7\n",
      "videos_ok/9dd_746_9dd7463e-1829-4665-9d3f-41065f7c9fd4\n",
      "videos_ok/c10_4c5_c104c597-0d74-48f8-956f-dd3946b1c4d1\n",
      "videos_ok/abd_72d_abd72d77-6385-4375-b8a7-ead9561d3af7\n",
      "videos_ok/362_974_362974b0-5e49-4eea-b780-ce13afb6f05c\n",
      "videos_ok/443_b40_443b4025-4216-4078-bc29-72039b1ab2a8\n",
      "videos_ok/ebf_4d5_ebf4d559-d91f-4699-817a-353d4780fc9b\n",
      "videos_ok/77d_81e_77d81ee2-0b59-42df-a4ae-06fe582dfd0d\n",
      "videos_ok/35b_378_35b3784c-8a65-4b73-a15c-6058a78bb4c1\n",
      "videos_ok/fcb_5b0_fcb5b0c3-c6e8-4795-aa53-fe3a475778b2\n"
     ]
    },
    {
     "data": {
      "text/plain": [
       "562    None\n",
       "563    None\n",
       "565    None\n",
       "566    None\n",
       "567    None\n",
       "568    None\n",
       "574    None\n",
       "576    None\n",
       "578    None\n",
       "580    None\n",
       "583    None\n",
       "585    None\n",
       "586    None\n",
       "588    None\n",
       "589    None\n",
       "590    None\n",
       "591    None\n",
       "592    None\n",
       "593    None\n",
       "594    None\n",
       "595    None\n",
       "597    None\n",
       "598    None\n",
       "599    None\n",
       "600    None\n",
       "601    None\n",
       "602    None\n",
       "604    None\n",
       "606    None\n",
       "607    None\n",
       "610    None\n",
       "611    None\n",
       "614    None\n",
       "615    None\n",
       "616    None\n",
       "619    None\n",
       "620    None\n",
       "625    None\n",
       "626    None\n",
       "627    None\n",
       "628    None\n",
       "629    None\n",
       "630    None\n",
       "632    None\n",
       "634    None\n",
       "635    None\n",
       "636    None\n",
       "637    None\n",
       "638    None\n",
       "639    None\n",
       "640    None\n",
       "641    None\n",
       "642    None\n",
       "643    None\n",
       "644    None\n",
       "645    None\n",
       "647    None\n",
       "648    None\n",
       "650    None\n",
       "651    None\n",
       "652    None\n",
       "653    None\n",
       "655    None\n",
       "656    None\n",
       "657    None\n",
       "658    None\n",
       "659    None\n",
       "660    None\n",
       "661    None\n",
       "662    None\n",
       "664    None\n",
       "666    None\n",
       "667    None\n",
       "668    None\n",
       "669    None\n",
       "670    None\n",
       "671    None\n",
       "673    None\n",
       "674    None\n",
       "675    None\n",
       "677    None\n",
       "678    None\n",
       "680    None\n",
       "681    None\n",
       "682    None\n",
       "683    None\n",
       "684    None\n",
       "685    None\n",
       "686    None\n",
       "687    None\n",
       "688    None\n",
       "689    None\n",
       "690    None\n",
       "692    None\n",
       "695    None\n",
       "696    None\n",
       "697    None\n",
       "698    None\n",
       "699    None\n",
       "700    None\n",
       "702    None\n",
       "703    None\n",
       "704    None\n",
       "705    None\n",
       "706    None\n",
       "707    None\n",
       "709    None\n",
       "714    None\n",
       "719    None\n",
       "721    None\n",
       "723    None\n",
       "725    None\n",
       "726    None\n",
       "727    None\n",
       "728    None\n",
       "732    None\n",
       "734    None\n",
       "736    None\n",
       "737    None\n",
       "738    None\n",
       "749    None\n",
       "753    None\n",
       "754    None\n",
       "755    None\n",
       "756    None\n",
       "757    None\n",
       "758    None\n",
       "759    None\n",
       "761    None\n",
       "762    None\n",
       "763    None\n",
       "764    None\n",
       "765    None\n",
       "766    None\n",
       "767    None\n",
       "768    None\n",
       "772    None\n",
       "773    None\n",
       "774    None\n",
       "776    None\n",
       "777    None\n",
       "778    None\n",
       "779    None\n",
       "780    None\n",
       "781    None\n",
       "782    None\n",
       "783    None\n",
       "784    None\n",
       "785    None\n",
       "786    None\n",
       "787    None\n",
       "788    None\n",
       "789    None\n",
       "790    None\n",
       "791    None\n",
       "793    None\n",
       "794    None\n",
       "795    None\n",
       "796    None\n",
       "797    None\n",
       "798    None\n",
       "799    None\n",
       "800    None\n",
       "804    None\n",
       "805    None\n",
       "806    None\n",
       "807    None\n",
       "809    None\n",
       "811    None\n",
       "812    None\n",
       "813    None\n",
       "814    None\n",
       "816    None\n",
       "818    None\n",
       "819    None\n",
       "820    None\n",
       "822    None\n",
       "827    None\n",
       "828    None\n",
       "829    None\n",
       "830    None\n",
       "831    None\n",
       "832    None\n",
       "833    None\n",
       "834    None\n",
       "835    None\n",
       "836    None\n",
       "837    None\n",
       "838    None\n",
       "839    None\n",
       "840    None\n",
       "841    None\n",
       "842    None\n",
       "844    None\n",
       "846    None\n",
       "848    None\n",
       "849    None\n",
       "850    None\n",
       "851    None\n",
       "852    None\n",
       "853    None\n",
       "854    None\n",
       "855    None\n",
       "856    None\n",
       "857    None\n",
       "858    None\n",
       "859    None\n",
       "860    None\n",
       "861    None\n",
       "862    None\n",
       "863    None\n",
       "864    None\n",
       "865    None\n",
       "866    None\n",
       "867    None\n",
       "868    None\n",
       "869    None\n",
       "870    None\n",
       "871    None\n",
       "873    None\n",
       "875    None\n",
       "876    None\n",
       "878    None\n",
       "879    None\n",
       "880    None\n",
       "881    None\n",
       "883    None\n",
       "884    None\n",
       "886    None\n",
       "887    None\n",
       "890    None\n",
       "891    None\n",
       "892    None\n",
       "894    None\n",
       "895    None\n",
       "897    None\n",
       "898    None\n",
       "900    None\n",
       "902    None\n",
       "903    None\n",
       "904    None\n",
       "906    None\n",
       "908    None\n",
       "909    None\n",
       "910    None\n",
       "dtype: object"
      ]
     },
     "execution_count": 31,
     "metadata": {},
     "output_type": "execute_result"
    }
   ],
   "source": [
    "df_ok.apply(lambda x: get_images_and_download_them_2_folder(x, prefix = 'videos_ok/'), axis = 1)"
   ]
  },
  {
   "cell_type": "markdown",
   "metadata": {},
   "source": [
    "### generate ok frames"
   ]
  },
  {
   "cell_type": "code",
   "execution_count": 62,
   "metadata": {},
   "outputs": [],
   "source": [
    "def generate_video_frames(url, prefix = 'videos_ok/'):\n",
    "    filepath = get_filepath_from_url(url, prefix = prefix)\n",
    "    filepath_upload = filepath.replace('/', '_')\n",
    "    result = !mkdir images_from_video/$filepath_upload\n",
    "    if len(result) > 0 and 'File exists' in result[0]:\n",
    "        print(f\"video already processed: {filepath_upload}\")\n",
    "    else:\n",
    "        !ffmpeg -i $filepath images_from_video/$filepath_upload/%d.jpg"
   ]
  },
  {
   "cell_type": "code",
   "execution_count": 75,
   "metadata": {},
   "outputs": [],
   "source": [
    "# for url in list(df_ok.origin):\n",
    "#     generate_video_frames(url)\n",
    "# check_video(filepath, make_frames=True, debug_all = False, debug_filter_big_boxes = False)"
   ]
  },
  {
   "cell_type": "code",
   "execution_count": 57,
   "metadata": {},
   "outputs": [],
   "source": [
    "# result = !mkdir 'images_from_video/videos_failed_d39_79b_d3979b39-6b0f-4790-bc9f-b21f0caab6f0'\n",
    "result = !mkdir 'images_from_video/tmp'"
   ]
  },
  {
   "cell_type": "code",
   "execution_count": 59,
   "metadata": {},
   "outputs": [
    {
     "data": {
      "text/plain": [
       "[]"
      ]
     },
     "execution_count": 59,
     "metadata": {},
     "output_type": "execute_result"
    }
   ],
   "source": [
    "result"
   ]
  },
  {
   "cell_type": "code",
   "execution_count": 60,
   "metadata": {},
   "outputs": [],
   "source": [
    "#  ['mkdir: cannot create directory ‘images_from_video/videos_failed_d39_79b_d3979b39-6b0f-4790-bc9f-b21f0caab6f0’: File exists']\n",
    "if len(result) > 0 and 'File exists' in result[0]:\n",
    "    print(\"ok\")"
   ]
  },
  {
   "cell_type": "code",
   "execution_count": 65,
   "metadata": {},
   "outputs": [],
   "source": [
    "# $?"
   ]
  },
  {
   "cell_type": "code",
   "execution_count": 66,
   "metadata": {},
   "outputs": [],
   "source": [
    "# print(s)"
   ]
  },
  {
   "cell_type": "markdown",
   "metadata": {},
   "source": [
    "### generate bad frames"
   ]
  },
  {
   "cell_type": "code",
   "execution_count": 76,
   "metadata": {},
   "outputs": [],
   "source": [
    "# i = 0\n",
    "# for url in list(df_failed.origin):\n",
    "#     generate_video_frames(url, prefix='videos_failed/')\n",
    "#     i+=1\n",
    "#     if i > 3:\n",
    "#         break"
   ]
  },
  {
   "cell_type": "code",
   "execution_count": 77,
   "metadata": {},
   "outputs": [],
   "source": [
    "# !curl --data \"text=Finished generating frames for bad videos @VladimirGorovoy&parse_mode=Markdown\" https://api.telegram.org/bot345259261:AAGBS5bxlxTe8I9cp_3mCpP-tghLHAuAOkw/sendMessage?chat_id=-233546442"
   ]
  },
  {
   "cell_type": "code",
   "execution_count": 44,
   "metadata": {},
   "outputs": [],
   "source": [
    "import glob"
   ]
  },
  {
   "cell_type": "code",
   "execution_count": 45,
   "metadata": {},
   "outputs": [],
   "source": [
    "all_folders = glob.glob('images_from_video/videos_failed*')"
   ]
  },
  {
   "cell_type": "code",
   "execution_count": 78,
   "metadata": {},
   "outputs": [],
   "source": [
    "# all_folders"
   ]
  },
  {
   "cell_type": "markdown",
   "metadata": {},
   "source": [
    "### Old"
   ]
  },
  {
   "cell_type": "code",
   "execution_count": 41,
   "metadata": {},
   "outputs": [
    {
     "name": "stdout",
     "output_type": "stream",
     "text": [
      "https://autoru-panorama-internal.s3.mds.yandex.net/upload/3d5/714/3d5714fc-6ef6-4479-8d83-4140312eeaf2\n",
      "https://autoru-panorama-internal.s3.mds.yandex.net/upload/612/b58/612b589e-f752-441e-b8ef-b3c628f734cd\n",
      "https://autoru-panorama-internal.s3.mds.yandex.net/upload/436/d36/436d36aa-393d-4881-9fe9-e80016d38232\n",
      "https://autoru-panorama-internal.s3.mds.yandex.net/upload/986/879/986879c4-584d-44d6-89e5-1aa0f37a5983\n",
      "https://autoru-panorama-internal.s3.mds.yandex.net/upload/6e9/354/6e935483-52d0-4c1f-9079-8876fe77b503\n",
      "https://autoru-panorama-internal.s3.mds.yandex.net/upload/be6/cce/be6ccecb-b0c8-4e63-b02b-43e5317e4fc9\n",
      "https://autoru-panorama-internal.s3.mds.yandex.net/upload/ef4/c47/ef4c4767-a1ce-4b3d-9c0e-30ab4f88d61e\n",
      "https://autoru-panorama-internal.s3.mds.yandex.net/upload/d98/a9f/d98a9f97-7491-4bed-8b32-acb49de28be8\n",
      "https://autoru-panorama-internal.s3.mds.yandex.net/upload/831/493/83149371-205e-4b53-aadf-debf44d16518\n",
      "https://autoru-panorama-internal.s3.mds.yandex.net/upload/55d/8ba/55d8bae0-5fd8-4c32-84a8-4c7973021892\n"
     ]
    }
   ],
   "source": [
    "for video in list(s.origin):\n",
    "    print(video)"
   ]
  },
  {
   "cell_type": "code",
   "execution_count": 48,
   "metadata": {},
   "outputs": [],
   "source": [
    "failed_videos = list(s.origin)"
   ]
  },
  {
   "cell_type": "code",
   "execution_count": 80,
   "metadata": {},
   "outputs": [],
   "source": [
    "# i = 0\n",
    "# i = 1\n",
    "# i = 2\n",
    "# i = 3\n",
    "# i = 4\n",
    "# i = 5\n",
    "# i = 6\n",
    "# i = 7\n",
    "# i = 8\n",
    "# i = 9\n",
    "# url = failed_videos[i]\n",
    "# print(url)\n",
    "# Video(get_filepath_from_url(url))\n",
    "# 0 - https://autoru-panorama-internal.s3.mds.yandex.net/upload/3d5/714/3d5714fc-6ef6-4479-8d83-4140312eeaf2\n",
    "# posting from screen (CHECK_NORMALIZATION)\n",
    "# 1 - https://autoru-panorama-internal.s3.mds.yandex.net/upload/612/b58/612b589e-f752-441e-b8ef-b3c628f734cd\n",
    "# снимал близко слишком, часто машина обрезана (UNK_ERROR)\n",
    "# 2 - https://autoru-panorama-internal.s3.mds.yandex.net/upload/436/d36/436d36aa-393d-4881-9fe9-e80016d38232\n",
    "# в ноутбуке не работает \n",
    "# грузовик без кузова (может не дошел пару метров)\n",
    "# 3 - https://autoru-panorama-internal.s3.mds.yandex.net/upload/986/879/986879c4-584d-44d6-89e5-1aa0f37a5983\n",
    "# грузовик без кузова - нормальное видео, не понимаю почему не собралось (BIG_STEP_IN_RECONSTRUCTION)\n",
    "# 4 - https://autoru-panorama-internal.s3.mds.yandex.net/upload/6e9/354/6e935483-52d0-4c1f-9079-8876fe77b503\n",
    "# в ноутбуке не работает\n",
    "# легковушка нормально снятая\n",
    "# 5 - https://autoru-panorama-internal.s3.mds.yandex.net/upload/be6/cce/be6ccecb-b0c8-4e63-b02b-43e5317e4fc9\n",
    "# в ноутбуке работает, но тяжелое видео\n",
    "# нормально снято (из проблем только тень) (UNK_ERROR)\n",
    "# 6 - https://autoru-panorama-internal.s3.mds.yandex.net/upload/ef4/c47/ef4c4767-a1ce-4b3d-9c0e-30ab4f88d61e\n",
    "# обрезанная машина, снимает прямо у забора\n",
    "# 7 - https://autoru-panorama-internal.s3.mds.yandex.net/upload/d98/a9f/d98a9f97-7491-4bed-8b32-acb49de28be8\n",
    "# нормально снята лекговушка (UNK_ERROR)\n",
    "# 8 - https://autoru-panorama-internal.s3.mds.yandex.net/upload/831/493/83149371-205e-4b53-aadf-debf44d16518\n",
    "# легковушка, нормальна снята\n",
    "# 9 - https://autoru-panorama-internal.s3.mds.yandex.net/upload/55d/8ba/55d8bae0-5fd8-4c32-84a8-4c7973021892\n",
    "# обрезана в кадре (UNK_ERROR)"
   ]
  },
  {
   "cell_type": "code",
   "execution_count": null,
   "metadata": {},
   "outputs": [],
   "source": []
  }
 ],
 "metadata": {
  "kernelspec": {
   "display_name": "Python 3",
   "language": "python",
   "name": "python3"
  },
  "language_info": {
   "codemirror_mode": {
    "name": "ipython",
    "version": 3
   },
   "file_extension": ".py",
   "mimetype": "text/x-python",
   "name": "python",
   "nbconvert_exporter": "python",
   "pygments_lexer": "ipython3",
   "version": "3.6.10"
  }
 },
 "nbformat": 4,
 "nbformat_minor": 2
}
