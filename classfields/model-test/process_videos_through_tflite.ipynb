{
 "cells": [
  {
   "cell_type": "markdown",
   "metadata": {},
   "source": [
    "### Run tensoflow lite model through frames from panorama video"
   ]
  },
  {
   "cell_type": "code",
   "execution_count": null,
   "metadata": {},
   "outputs": [],
   "source": [
    "# see https://colab.research.google.com/github/tensorflow/hub/blob/master/examples/colab/object_detection.ipynb#scrollTo=6cPY9Ou4sWs_"
   ]
  },
  {
   "cell_type": "code",
   "execution_count": 2,
   "metadata": {},
   "outputs": [],
   "source": [
    "import tensorflow as tf\n",
    "\n",
    "# For downloading the image.\n",
    "import matplotlib.pyplot as plt\n",
    "import tempfile\n",
    "from six.moves.urllib.request import urlopen\n",
    "from six import BytesIO\n",
    "\n",
    "import numpy as np\n",
    "from PIL import Image\n",
    "from PIL import ImageColor\n",
    "from PIL import ImageDraw\n",
    "from PIL import ImageFont\n",
    "from PIL import ImageOps\n",
    "\n",
    "import time\n",
    "\n",
    "import pandas as pd\n",
    "pd.set_option('display.max_columns', 500)\n",
    "pd.set_option('display.width', 1000)\n",
    "pd.set_option('display.max_colwidth', 1000)\n",
    "pd.set_option('display.max_rows', 500)"
   ]
  },
  {
   "cell_type": "markdown",
   "metadata": {},
   "source": [
    "### Helper functions for downloading images and for visualization.\n",
    "\n",
    "Visualization code adapted from [TF object detection API](https://github.com/tensorflow/models/blob/master/research/object_detection/utils/visualization_utils.py) for the simplest required functionality."
   ]
  },
  {
   "cell_type": "code",
   "execution_count": 3,
   "metadata": {},
   "outputs": [],
   "source": [
    "def display_image(image):\n",
    "    fig = plt.figure(figsize=(20, 15))\n",
    "    plt.grid(False)\n",
    "    plt.imshow(image)\n",
    "\n",
    "\n",
    "def download_and_resize_image(url, new_width=256, new_height=256,\n",
    "                              display=False):\n",
    "    _, filename = tempfile.mkstemp(suffix=\".jpg\")\n",
    "    response = urlopen(url)\n",
    "    image_data = response.read()\n",
    "    image_data = BytesIO(image_data)\n",
    "    pil_image = Image.open(image_data)\n",
    "    pil_image = ImageOps.fit(pil_image, (new_width, new_height), Image.ANTIALIAS)\n",
    "    pil_image_rgb = pil_image.convert(\"RGB\")\n",
    "    pil_image_rgb.save(filename, format=\"JPEG\", quality=90)\n",
    "    print(\"Image downloaded to %s.\" % filename)\n",
    "    if display:\n",
    "        display_image(pil_image)\n",
    "    return filename\n",
    "\n",
    "\n",
    "def draw_bounding_box_on_image(image,\n",
    "                               ymin,\n",
    "                               xmin,\n",
    "                               ymax,\n",
    "                               xmax,\n",
    "                               color,\n",
    "                               font,\n",
    "                               thickness=4,\n",
    "                               display_str_list=()):\n",
    "    \"\"\"Adds a bounding box to an image.\"\"\"\n",
    "    draw = ImageDraw.Draw(image)\n",
    "    im_width, im_height = image.size\n",
    "    (left, right, top, bottom) = (xmin * im_width, xmax * im_width,\n",
    "                                ymin * im_height, ymax * im_height)\n",
    "    draw.line([(left, top), (left, bottom), (right, bottom), (right, top),\n",
    "             (left, top)],\n",
    "            width=thickness,\n",
    "            fill=color)\n",
    "\n",
    "    # If the total height of the display strings added to the top of the bounding\n",
    "    # box exceeds the top of the image, stack the strings below the bounding box\n",
    "    # instead of above.\n",
    "    display_str_heights = [font.getsize(ds)[1] for ds in display_str_list]\n",
    "    # Each display_str has a top and bottom margin of 0.05x.\n",
    "    total_display_str_height = (1 + 2 * 0.05) * sum(display_str_heights)\n",
    "\n",
    "    if top > total_display_str_height:\n",
    "        text_bottom = top\n",
    "    else:\n",
    "        text_bottom = bottom + total_display_str_height\n",
    "    # Reverse list and print from bottom to top.\n",
    "    for display_str in display_str_list[::-1]:\n",
    "        text_width, text_height = font.getsize(display_str)\n",
    "        margin = np.ceil(0.05 * text_height)\n",
    "        draw.rectangle([(left, text_bottom - text_height - 2 * margin),\n",
    "                        (left + text_width, text_bottom)],\n",
    "                       fill=color)\n",
    "        draw.text((left + margin, text_bottom - text_height - margin),\n",
    "                  display_str,\n",
    "                  fill=\"black\",\n",
    "                  font=font)\n",
    "    text_bottom -= text_height - 2 * margin\n",
    "\n",
    "def is_big_box(ymin, xmin, ymax, xmax):\n",
    "    if (xmax - xmin >= 0.25) and (ymax - ymin >= 0.25):\n",
    "        return True\n",
    "    else:\n",
    "        return False\n",
    "    \n",
    "font_path = '/usr/share/fonts/truetype/dejavu/DejaVuSansMono.ttf'\n",
    "# orig_font_path = '\"/usr/share/fonts/truetype/liberation/LiberationSansNarrow-Regular.ttf\"'\n",
    "def draw_boxes(image, boxes, class_names, scores, max_boxes=10, min_score=0.1, filter_big_boxes = False):\n",
    "    \"\"\"Overlay labeled boxes on an image with formatted scores and label names.\"\"\"\n",
    "    colors = list(ImageColor.colormap.values())\n",
    "    try:\n",
    "        font = ImageFont.truetype(font_path,\n",
    "                              35)\n",
    "    except IOError:\n",
    "        print(\"Font not found, using default font.\")\n",
    "        font = ImageFont.load_default()\n",
    "    num_iter = min(boxes.shape[0], max_boxes)\n",
    "    for i in range(num_iter):\n",
    "        if scores[i] >= min_score:\n",
    "            ymin, xmin, ymax, xmax = tuple(boxes[i])\n",
    "            if filter_big_boxes and not is_big_box(ymin, xmin, ymax, xmax):\n",
    "                continue\n",
    "            \n",
    "            class_id = int(class_names[i])\n",
    "            class_name = labels[class_id+1]\n",
    "            class_str = f'{class_name}({class_id})'\n",
    "\n",
    "            display_str = \"{}: {}%\".format(str(class_str),\n",
    "                                         int(100 * scores[i]))\n",
    "\n",
    "            # color = colors[hash(class_names[i]) % len(colors)]\n",
    "            # bad for trucks, fix\n",
    "            color = colors[5]\n",
    "            image_pil = Image.fromarray(np.uint8(image)).convert(\"RGB\")\n",
    "            draw_bounding_box_on_image(\n",
    "              image_pil,\n",
    "              ymin,\n",
    "              xmin,\n",
    "              ymax,\n",
    "              xmax,\n",
    "              color,\n",
    "              font,\n",
    "              display_str_list=[display_str])\n",
    "            np.copyto(image, np.array(image_pil))\n",
    "    return image"
   ]
  },
  {
   "cell_type": "markdown",
   "metadata": {},
   "source": [
    "### Apply tflite module"
   ]
  },
  {
   "cell_type": "code",
   "execution_count": 4,
   "metadata": {},
   "outputs": [],
   "source": [
    "def load_img(path):\n",
    "    img = tf.io.read_file(path)\n",
    "    img = tf.image.decode_jpeg(img, channels=3)\n",
    "    return img"
   ]
  },
  {
   "cell_type": "code",
   "execution_count": 5,
   "metadata": {},
   "outputs": [],
   "source": [
    "# model_path = 'ourmodels/coco_ssd_mobilenet_v1_1.0_quant_2018_06_29'\n",
    "model_path = 'ourmodels/coco_ssd_mobilenet_v1_1.0_quant_2018_06_29/detect.tflite'\n",
    "label_path = 'ourmodels/coco_ssd_mobilenet_v1_1.0_quant_2018_06_29/labelmap.txt'"
   ]
  },
  {
   "cell_type": "code",
   "execution_count": 6,
   "metadata": {},
   "outputs": [],
   "source": [
    "def load_labels(filename):\n",
    "    with open(filename, 'r') as f:\n",
    "        return [line.strip() for line in f.readlines()]\n",
    "labels = load_labels(label_path)"
   ]
  },
  {
   "cell_type": "code",
   "execution_count": 7,
   "metadata": {},
   "outputs": [],
   "source": [
    "# The TFLite_Detection_PostProcess custom op node has four outputs\n",
    "# detection_boxes: a tensor of shape [1, num_boxes, 4] with normalized coordinates\n",
    "# detection_classes: a tensor of shape [1, num_boxes] containing class prediction for each box\n",
    "# detection_scores: a tensor of shape [1, num_boxes]\n",
    "# num_boxes: a tensor of size 1 containing the number of detected boxes\n",
    "# see https://stackoverflow.com/questions/59143641/how-to-get-useful-data-from-tflite-object-detection-python\n",
    "# and https://github.com/tensorflow/tensorflow/issues/34761\n",
    "interpreter = tf.lite.Interpreter(model_path)\n",
    "interpreter.allocate_tensors()\n",
    "input_details = interpreter.get_input_details()\n",
    "output_details = interpreter.get_output_details()\n",
    "def get_tflite_results(img_path):\n",
    "    print(img_path)\n",
    "    height = input_details[0]['shape'][1]\n",
    "    width = input_details[0]['shape'][2]\n",
    "    # img_path = '/var/tmp/tmpjcmgv9u0.jpg'\n",
    "    img = Image.open(img_path).resize((width, height))\n",
    "    input_data = np.expand_dims(img, axis = 0)\n",
    "    interpreter.set_tensor(input_details[0]['index'], input_data)\n",
    "    interpreter.invoke()\n",
    "    detection_boxes = interpreter.get_tensor(output_details[0]['index'])\n",
    "    detection_classes = interpreter.get_tensor(output_details[1]['index'])\n",
    "    detection_scores = interpreter.get_tensor(output_details[2]['index'])\n",
    "    num_boxes = interpreter.get_tensor(output_details[3]['index'])\n",
    "    print(num_boxes)\n",
    "    for i in range(int(num_boxes[0])):\n",
    "        if detection_scores[0, i] > .5:\n",
    "            x = detection_boxes[0, i, [1, 3]] * width\n",
    "            y = detection_boxes[0, i, [0, 2]] * height\n",
    "            rectangle = [x[0], y[0], x[1], y[1]]\n",
    "            class_id = detection_classes[0, i]\n",
    "            print(class_id)\n",
    "            print(labels[int(class_id+1)])\n",
    "#             if class_id == 66.0:\n",
    "#                 print(rectangle)\n",
    "    return detection_boxes, detection_classes, detection_scores            "
   ]
  },
  {
   "cell_type": "code",
   "execution_count": 8,
   "metadata": {},
   "outputs": [],
   "source": [
    "def debug_bad_photo(img_path, detection_boxes, detection_classes, detection_scores, filter_big_boxes = True):\n",
    "    img = load_img(img_path)\n",
    "\n",
    "    image_with_boxes = draw_boxes(\n",
    "        img.numpy(),\n",
    "        detection_boxes[0],\n",
    "        detection_classes[0], detection_scores[0],\n",
    "        filter_big_boxes = filter_big_boxes\n",
    "    )\n",
    "\n",
    "    display_image(image_with_boxes)"
   ]
  },
  {
   "cell_type": "code",
   "execution_count": 68,
   "metadata": {},
   "outputs": [],
   "source": [
    "CAR_CLASS = 2\n",
    "TRUCK_CLASS = 7\n",
    "BUS_CLASS = 5 # sometimes returns for trucks\n",
    "ALLOWED_CLASSES = set([CAR_CLASS, TRUCK_CLASS, BUS_CLASS])\n",
    "interpreter = tf.lite.Interpreter(model_path)\n",
    "interpreter.allocate_tensors()\n",
    "input_details = interpreter.get_input_details()\n",
    "output_details = interpreter.get_output_details()\n",
    "\n",
    "def check_box_big_enough(class_id, share_of_width, share_of_height):\n",
    "#     min_share_of_screen_cars = 0.22 # for cars\n",
    "    # 'images_from_video/videos_ok_618_0ac_6180ac75-f84e-4f97-a93a-cd5ab073ffc1' - cars are lower\n",
    "    min_share_of_width_cars = 0.22 # for cars\n",
    "    min_share_of_height_cars = 0.18\n",
    "    \n",
    "    min_share_of_width_trucks = 0.15\n",
    "    min_share_of_height_trucks = 0.25\n",
    "    if class_id == CAR_CLASS:\n",
    "        return share_of_width >= min_share_of_width_cars and share_of_height >= min_share_of_height_cars\n",
    "    else:\n",
    "        return share_of_width >= min_share_of_width_trucks and share_of_height >= min_share_of_height_trucks\n",
    "    \n",
    "def check_big_car_tflite_results(img_path, debug_all = False, debug_filter_big_boxes = True,\n",
    "                                debug_bounding_box_margin = False,\n",
    "                                debug_share_of_screen = False,\n",
    "                                print_bad_photo = True,\n",
    "                                no_debug_message = False,\n",
    "                                images_debug = None):\n",
    "    height = input_details[0]['shape'][1]\n",
    "    width = input_details[0]['shape'][2]\n",
    "    safe_margin = width/60\n",
    "    img = Image.open(img_path).resize((width, height))\n",
    "    input_data = np.expand_dims(img, axis = 0)\n",
    "    interpreter.set_tensor(input_details[0]['index'], input_data)\n",
    "    interpreter.invoke()\n",
    "    detection_boxes = interpreter.get_tensor(output_details[0]['index'])\n",
    "    detection_classes = interpreter.get_tensor(output_details[1]['index'])\n",
    "    detection_scores = interpreter.get_tensor(output_details[2]['index'])\n",
    "    num_boxes = interpreter.get_tensor(output_details[3]['index'])\n",
    "    big_car_found = False\n",
    "    boxes_ok = False\n",
    "    big_box_not_in_the_center = False\n",
    "    box_outside_of_image = False\n",
    "    for i in range(int(num_boxes[0])):\n",
    "        class_id = detection_classes[0, i]\n",
    "\n",
    "        # for low probabilites it might me part of the car/truck in most cases\n",
    "        if detection_scores[0, i] >= .5 and class_id in ALLOWED_CLASSES:\n",
    "            x = detection_boxes[0, i, [1, 3]] * width\n",
    "            y = detection_boxes[0, i, [0, 2]] * height\n",
    "            rectangle = [x[0], y[0], x[1], y[1]]\n",
    "            \n",
    "            # check box has big size\n",
    "            # 4.22 for trucks: 'images_from_video/videos_failed_436_d36_436d36aa-393d-4881-9fe9-e80016d38232/145.jpg'\n",
    "            # see car with such share images_from_video/videos_ok_dad_56f_dad56ff5-34be-4a46-afb7-22962a9b37df/1273.jpg\n",
    "            min_share_of_screen = 0.22\n",
    "            \n",
    "            share_of_width = (x[1] - x[0])/width\n",
    "            share_of_height = (y[1] - y[0])/height\n",
    "            if check_box_big_enough(class_id, share_of_width, share_of_height):\n",
    "\n",
    "                # check box is central (1.mp4 has big bounding box not in the center)\n",
    "                if (x[0] < width/2) and (x[1] > width/2) and (y[0] < height/2) and (y[1] > height/2):\n",
    "                    big_car_found = True\n",
    "                    if (x[0] > safe_margin) and (y[0] > safe_margin) and (width - x[1] > safe_margin) and (height - y[1] > safe_margin):\n",
    "                        boxes_ok = True\n",
    "                    else:\n",
    "                        if (x[0] <= 0) or (y[0] <= 0) or (width - x[1] <= 0) or (height - y[1] <= 0):\n",
    "                            box_outside_of_image = True\n",
    "                            if debug_bounding_box_margin:\n",
    "                                if not no_debug_message:\n",
    "                                    print(f'bounding box outside of image: {rectangle}')\n",
    "                        else:\n",
    "                            if debug_bounding_box_margin:\n",
    "                                if not no_debug_message:\n",
    "                                    print(f'bounding box without margin: {rectangle}')\n",
    "                else:\n",
    "                    big_box_not_in_the_center = True\n",
    "            else:\n",
    "                # check box is central (1.mp4 has big bounding box not in the center)\n",
    "                if (x[0] < width/2) and (x[1] > width/2) and (y[0] < height/2) and (y[1] > height/2):\n",
    "                    if debug_share_of_screen:\n",
    "                        if not no_debug_message:\n",
    "                            print(f\"Share of screen to small for central box, share_of_width: {share_of_width}, share of height: {share_of_height}\")\n",
    "                \n",
    "            \n",
    "    if big_car_found and boxes_ok:\n",
    "        if debug_all:\n",
    "            print(f\"ok frame: printing {img_path}\")\n",
    "            debug_bad_photo(img_path, detection_boxes, detection_classes, detection_scores, debug_filter_big_boxes)\n",
    "\n",
    "    else: \n",
    "        if big_box_not_in_the_center:\n",
    "            if not no_debug_message:\n",
    "                print(f\"big box not in the center found: {img_path}\")\n",
    "        if not big_car_found:\n",
    "            if not no_debug_message:\n",
    "                print(f\"no car/truck/bus big enough found: {img_path}\")\n",
    "        if not boxes_ok:\n",
    "            if not no_debug_message:\n",
    "                print(f\"bounding box not ok: {img_path}\")\n",
    "        if print_bad_photo:\n",
    "            debug_bad_photo(img_path, detection_boxes, detection_classes, detection_scores, debug_filter_big_boxes)\n",
    "        if images_debug != None:\n",
    "            images_debug.append(img_path)\n",
    "    return big_car_found, boxes_ok, box_outside_of_image"
   ]
  },
  {
   "cell_type": "code",
   "execution_count": 10,
   "metadata": {},
   "outputs": [],
   "source": [
    "# path = 'images_from_video/1.mp4/121.jpg'\n",
    "# big_car_found, boxes_ok, box_outside_of_image = check_big_car_tflite_results(path, debug_all=True, debug_filter_big_boxes = False)\n",
    "# big_car_found, boxes_ok, box_outside_of_image"
   ]
  },
  {
   "cell_type": "markdown",
   "metadata": {},
   "source": [
    "### analyze real streams from auto.ru data"
   ]
  },
  {
   "cell_type": "code",
   "execution_count": 11,
   "metadata": {},
   "outputs": [],
   "source": [
    "# !mkdir images_from_video"
   ]
  },
  {
   "cell_type": "code",
   "execution_count": 12,
   "metadata": {},
   "outputs": [],
   "source": [
    "# !mkdir images_from_video/1.mp4\n",
    "# !ffmpeg -i 1.mp4 images_from_video/1.mp4/%d.jpg"
   ]
  },
  {
   "cell_type": "code",
   "execution_count": 13,
   "metadata": {},
   "outputs": [],
   "source": [
    "import glob"
   ]
  },
  {
   "cell_type": "code",
   "execution_count": 14,
   "metadata": {},
   "outputs": [],
   "source": [
    "# images_from_video/videos_ok_211_0bb_2110bb80-da68-46f3-b77a-a4eeb4ac8724\n",
    "COMPLETED = 'completed'\n",
    "FAILED = 'failed'\n",
    "S3_PREFIX = 'https://autoru-panorama-internal.s3.mds.yandex.net/upload/'\n",
    "\n",
    "# frames were generated in http://vgorovoy-01-dev.sas.yp-c.yandex.net:8889/notebooks/panorama/analyze_panoramas_rate.ipynb\n",
    "def get_url_status_from_path(path):\n",
    "    if 'videos_ok' in path:\n",
    "        path = path.replace('images_from_video/videos_ok_', '')\n",
    "        status = COMPLETED\n",
    "    elif 'videos_failed' in path:\n",
    "        path = path.replace('images_from_video/videos_failed_', '')\n",
    "        status = FAILED\n",
    "    else:\n",
    "        raise Exception(f'Strange folder path passed: {path}')\n",
    "        \n",
    "    url = S3_PREFIX + path.replace('_', '/')\n",
    "    return url, status"
   ]
  },
  {
   "cell_type": "code",
   "execution_count": 59,
   "metadata": {},
   "outputs": [],
   "source": [
    "BAD = 'BAD'\n",
    "GOOD = 'GOOD'\n",
    "UNKNOWN = 'UNKNOWN'\n",
    "def check_video(file_path, make_frames = True, debug_all = True, \n",
    "                debug_filter_big_boxes = True, folder_path = '', \n",
    "                debug_margins = False,\n",
    "                print_bad_photo = True,\n",
    "                debug_share_of_screen = False,\n",
    "                no_debug_message = False,\n",
    "                images_debug = None\n",
    "               ):\n",
    "    if folder_path == '':\n",
    "        file_path_upload = file_path.replace('/', '_')\n",
    "        if make_frames:\n",
    "            !mkdir images_from_video/$file_path_upload\n",
    "            !ffmpeg -i $file_path images_from_video/$file_path_upload/%d.jpg\n",
    "        # fails for https://autoru-panorama-internal.s3.mds.yandex.net/upload/612/b58/612b589e-f752-441e-b8ef-b3c628f734cd\n",
    "        # but only on ubuntu - on mac everything works\n",
    "        # advice on stackoverflow didn't help https://stackoverflow.com/questions/30782771/what-does-past-duration-x-xxx-too-large-mean/50432919#50432919\n",
    "        folder_path = 'images_from_video/' + file_path_upload\n",
    "    all_files = glob.glob(folder_path + '/*.jpg')\n",
    "    ok_count = 0\n",
    "    bad_count = 0\n",
    "    ok_box_count = 0\n",
    "    no_big_vehicle_middle_screen_found = 0\n",
    "    bounding_boxes_outside_image = 0\n",
    "    total_analyzed_frames = 0\n",
    "    bad_box_count = 0\n",
    "    for f in sorted(all_files):\n",
    "        c_frame = int(f.split('/')[-1].split('.')[0])\n",
    "        if c_frame%12 == 1: # analyze one frame in 0.5 seconds\n",
    "            is_ok_frame, is_ok_box, box_outside_of_image = check_big_car_tflite_results(f, \n",
    "                                                                  debug_all, \n",
    "                                                                  debug_filter_big_boxes=debug_filter_big_boxes,\n",
    "                                                                  debug_bounding_box_margin = debug_margins,\n",
    "                                                                  print_bad_photo = print_bad_photo,\n",
    "                                                                  debug_share_of_screen = debug_share_of_screen,\n",
    "                                                                  no_debug_message = no_debug_message,\n",
    "                                                                  images_debug = images_debug\n",
    "                                                                 )\n",
    "            total_analyzed_frames += 1\n",
    "            if is_ok_frame:\n",
    "                ok_count += 1\n",
    "            else:\n",
    "                no_big_vehicle_middle_screen_found += 1\n",
    "            if not is_ok_box:\n",
    "                bad_box_count += 1\n",
    "            if box_outside_of_image:\n",
    "                bounding_boxes_outside_image += 1\n",
    "    if not no_debug_message:\n",
    "        print(f'ok frames: {ok_count}')\n",
    "        print(f'bad frames without class: {no_big_vehicle_middle_screen_found}')\n",
    "        print(f'bad boxes: {bad_box_count}')\n",
    "        print(f'bad boxes outside of image: {bounding_boxes_outside_image}')\n",
    "\n",
    "    car_found_but_bounding_box_unsafe_margin = bad_box_count - no_big_vehicle_middle_screen_found\n",
    "    bad_frames = (no_big_vehicle_middle_screen_found + car_found_but_bounding_box_unsafe_margin)\n",
    "    really_bad_frames = (no_big_vehicle_middle_screen_found + bounding_boxes_outside_image)\n",
    "    if total_analyzed_frames == 0:\n",
    "        if not no_debug_message:\n",
    "            print(f'no frames found: {folder_path}')\n",
    "        share_no_big_vehicle_middle_screen_found = 2\n",
    "        share_car_found_but_bounding_box_unsafe_margin = 2\n",
    "        share_bad_frames = 2\n",
    "        share_really_bad_frames = 2\n",
    "    else:\n",
    "        share_no_big_vehicle_middle_screen_found = no_big_vehicle_middle_screen_found/total_analyzed_frames\n",
    "        share_bad_frames = bad_frames/total_analyzed_frames\n",
    "        share_really_bad_frames = really_bad_frames/total_analyzed_frames\n",
    "        if total_analyzed_frames - no_big_vehicle_middle_screen_found != 0:\n",
    "            share_car_found_but_bounding_box_unsafe_margin = car_found_but_bounding_box_unsafe_margin/(total_analyzed_frames - no_big_vehicle_middle_screen_found)\n",
    "        else:\n",
    "            share_car_found_but_bounding_box_unsafe_margin = 2\n",
    "\n",
    "    \n",
    "    if ok_count > 30 and share_really_bad_frames <= 0.05:\n",
    "        result = GOOD\n",
    "    elif share_really_bad_frames >= 0.16:\n",
    "        result = BAD\n",
    "    else:\n",
    "        result = UNKNOWN\n",
    "    url, status = get_url_status_from_path(folder_path)\n",
    "    res_dict = {\n",
    "        'url': url,\n",
    "        'panorama_status': status,\n",
    "        'image_path': folder_path,\n",
    "        'classifier_result': result,\n",
    "        'total_analyzed_frames': total_analyzed_frames,\n",
    "        'big_vehicle_middle_screen_found': ok_count,\n",
    "        'no_big_vehicle_middle_screen_found': bad_count,\n",
    "        'car_found_but_bounding_box_unsafe_margin': car_found_but_bounding_box_unsafe_margin, \n",
    "        'bounding_boxes_outside_image': bounding_boxes_outside_image,\n",
    "        'bad_frames': bad_frames,\n",
    "        'really_bad_frames': really_bad_frames,\n",
    "        'share_no_big_vehicle_middle_screen_found': share_no_big_vehicle_middle_screen_found,\n",
    "        'share_car_found_but_bounding_box_unsafe_margin': share_car_found_but_bounding_box_unsafe_margin,\n",
    "        'share_bad_frames': share_bad_frames,\n",
    "        'share_really_bad_frames': share_really_bad_frames\n",
    "    }\n",
    "    return res_dict\n",
    "    "
   ]
  },
  {
   "cell_type": "code",
   "execution_count": 16,
   "metadata": {},
   "outputs": [],
   "source": [
    "def get_filepath_from_url(url):\n",
    "    name = url.replace('https://autoru-panorama-internal.s3.mds.yandex.net/upload/', '').replace('/', '_')\n",
    "    filepath = 'videos_failed/' + name\n",
    "    return filepath"
   ]
  },
  {
   "cell_type": "code",
   "execution_count": 17,
   "metadata": {},
   "outputs": [],
   "source": [
    "# check_big_car_tflite_results('images_from_video/videos_failed_436_d36_436d36aa-393d-4881-9fe9-e80016d38232/145.jpg')"
   ]
  },
  {
   "cell_type": "code",
   "execution_count": 21,
   "metadata": {},
   "outputs": [
    {
     "data": {
      "text/plain": [
       "{'url': 'https://autoru-panorama-internal.s3.mds.yandex.net/upload/d09/b98/d09b9863-4a2d-498e-a999-a74aec917a8c',\n",
       " 'panorama_status': 'failed',\n",
       " 'image_path': 'images_from_video/videos_failed_d09_b98_d09b9863-4a2d-498e-a999-a74aec917a8c',\n",
       " 'classifier_result': 'BAD',\n",
       " 'total_analyzed_frames': 94,\n",
       " 'big_vehicle_middle_screen_found': 0,\n",
       " 'no_big_vehicle_middle_screen_found': 0,\n",
       " 'car_found_but_bounding_box_unsafe_margin': 0,\n",
       " 'bounding_boxes_outside_image': 0,\n",
       " 'bad_frames': 94,\n",
       " 'really_bad_frames': 94,\n",
       " 'share_no_big_vehicle_middle_screen_found': 1.0,\n",
       " 'share_car_found_but_bounding_box_unsafe_margin': 2,\n",
       " 'share_bad_frames': 1.0,\n",
       " 'share_really_bad_frames': 1.0}"
      ]
     },
     "execution_count": 21,
     "metadata": {},
     "output_type": "execute_result"
    }
   ],
   "source": [
    "path = 'images_from_video/videos_ok_71e_024_71e024f6-5b4d-48b6-9755-ba9c89aaf218'\n",
    "path = 'images_from_video/videos_failed_d09_b98_d09b9863-4a2d-498e-a999-a74aec917a8c'\n",
    "check_video(file_path = '', make_frames = False, \n",
    "                            debug_all = False, \n",
    "                            debug_filter_big_boxes = False, folder_path = path,\n",
    "                            debug_margins = False,\n",
    "                            print_bad_photo=False,\n",
    "                            debug_share_of_screen=False,\n",
    "                            no_debug_message=True\n",
    "                           )"
   ]
  },
  {
   "cell_type": "markdown",
   "metadata": {},
   "source": [
    "### Analysis of sample failed videos"
   ]
  },
  {
   "cell_type": "code",
   "execution_count": null,
   "metadata": {},
   "outputs": [],
   "source": [
    "# analyze failed images\n",
    "# check_video(file_path='2.mp4')# ok\n",
    "\n",
    "\n",
    "# 1 - https://autoru-panorama-internal.s3.mds.yandex.net/upload/612/b58/612b589e-f752-441e-b8ef-b3c628f734cd\n",
    "# снимал близко слишком, часто машина обрезана (UNK_ERROR)\n",
    "url = 'https://autoru-panorama-internal.s3.mds.yandex.net/upload/612/b58/612b589e-f752-441e-b8ef-b3c628f734cd' # failed ffmpeg\n",
    "# ok result\n",
    "# ok frames: 80\n",
    "# bad frames: 13\n",
    "# ok boxes: 23\n",
    "# bad boxes: 70\n",
    "\n",
    "# 2 - https://autoru-panorama-internal.s3.mds.yandex.net/upload/436/d36/436d36aa-393d-4881-9fe9-e80016d38232\n",
    "# в ноутбуке не работает \n",
    "# грузовик без кузова (может не дошел пару метров)\n",
    "url = 'https://autoru-panorama-internal.s3.mds.yandex.net/upload/436/d36/436d36aa-393d-4881-9fe9-e80016d38232'\n",
    "# small boxes should be used for trucks\n",
    "# ok frames: 112\n",
    "# bad frames: 12\n",
    "# ok boxes: 112\n",
    "# bad boxes: 12\n",
    "# todo make smaller frames\n",
    "\n",
    "# 3 - https://autoru-panorama-internal.s3.mds.yandex.net/upload/986/879/986879c4-584d-44d6-89e5-1aa0f37a5983\n",
    "# грузовик без кузова - нормальное видео, не понимаю почему не собралось (BIG_STEP_IN_RECONSTRUCTION)\n",
    "url = 'https://autoru-panorama-internal.s3.mds.yandex.net/upload/986/879/986879c4-584d-44d6-89e5-1aa0f37a5983'\n",
    "# small boxes should be used for trucks\n",
    "# ok frames: 160\n",
    "# bad frames: 19\n",
    "# ok boxes: 160\n",
    "# bad boxes: 19\n",
    "\n",
    "\n",
    "# 4 - https://autoru-panorama-internal.s3.mds.yandex.net/upload/6e9/354/6e935483-52d0-4c1f-9079-8876fe77b503\n",
    "# в ноутбуке не работает\n",
    "# легковушка нормально снятая\n",
    "url = 'https://autoru-panorama-internal.s3.mds.yandex.net/upload/6e9/354/6e935483-52d0-4c1f-9079-8876fe77b503'\n",
    "# too small box for car\n",
    "# ok frames: 96\n",
    "# bad frames: 2\n",
    "# ok boxes: 96\n",
    "# bad boxes: 2\n",
    "# check_video(filepath, make_frames=False, debug_all = False)\n",
    "# check_video(filepath, make_frames=True, debug_all = False)\n",
    "\n",
    "# 5 - https://autoru-panorama-internal.s3.mds.yandex.net/upload/be6/cce/be6ccecb-b0c8-4e63-b02b-43e5317e4fc9\n",
    "# в ноутбуке работает, но тяжелое видео\n",
    "# нормально снято (из проблем только тень) (UNK_ERROR)\n",
    "url = 'https://autoru-panorama-internal.s3.mds.yandex.net/upload/be6/cce/be6ccecb-b0c8-4e63-b02b-43e5317e4fc9'\n",
    "# error in box detection\n",
    "# ok frames: 303\n",
    "# bad frames: 0\n",
    "# ok boxes: 299\n",
    "# bad boxes: 4\n",
    "\n",
    "# 6 - https://autoru-panorama-internal.s3.mds.yandex.net/upload/ef4/c47/ef4c4767-a1ce-4b3d-9c0e-30ab4f88d61e\n",
    "# обрезанная машина, снимает прямо у забора\n",
    "url = 'https://autoru-panorama-internal.s3.mds.yandex.net/upload/ef4/c47/ef4c4767-a1ce-4b3d-9c0e-30ab4f88d61e'\n",
    "# some erros while uploading\n",
    "# ok frames: 100\n",
    "# bad frames: 59\n",
    "# ok boxes: 17\n",
    "# bad boxes: 142\n",
    "\n",
    "# 7 - https://autoru-panorama-internal.s3.mds.yandex.net/upload/d98/a9f/d98a9f97-7491-4bed-8b32-acb49de28be8\n",
    "# нормально снята лекговушка (UNK_ERROR)\n",
    "url = 'https://autoru-panorama-internal.s3.mds.yandex.net/upload/d98/a9f/d98a9f97-7491-4bed-8b32-acb49de28be8'\n",
    "# train for Niva!\n",
    "# ok frames: 144\n",
    "# bad frames: 3\n",
    "# ok boxes: 144\n",
    "# bad boxes: 3\n",
    "\n",
    "# 8 - https://autoru-panorama-internal.s3.mds.yandex.net/upload/831/493/83149371-205e-4b53-aadf-debf44d16518\n",
    "# легковушка, нормальна снята\n",
    "url = 'https://autoru-panorama-internal.s3.mds.yandex.net/upload/831/493/83149371-205e-4b53-aadf-debf44d16518'\n",
    "# ok, just close to the border\n",
    "# ok frames: 166\n",
    "# bad frames: 0\n",
    "# ok boxes: 162\n",
    "# bad boxes: 4\n",
    "\n",
    "# 9 - https://autoru-panorama-internal.s3.mds.yandex.net/upload/55d/8ba/55d8bae0-5fd8-4c32-84a8-4c7973021892\n",
    "# обрезана в кадре (UNK_ERROR)\n",
    "url = 'https://autoru-panorama-internal.s3.mds.yandex.net/upload/55d/8ba/55d8bae0-5fd8-4c32-84a8-4c7973021892'\n",
    "# ok frames: 76\n",
    "# bad frames: 6\n",
    "# ok boxes: 33\n",
    "# bad boxes: 49\n",
    "\n",
    "# 0 - https://autoru-panorama-internal.s3.mds.yandex.net/upload/3d5/714/3d5714fc-6ef6-4479-8d83-4140312eeaf2\n",
    "# posting from screen (CHECK_NORMALIZATION)\n",
    "url = 'https://autoru-panorama-internal.s3.mds.yandex.net/upload/3d5/714/3d5714fc-6ef6-4479-8d83-4140312eeaf2'\n",
    "# столб\n",
    "# ok frames: 133\n",
    "# bad frames: 20\n",
    "# ok boxes: 133\n",
    "# bad boxes: 20\n",
    "\n",
    "filepath = get_filepath_from_url(url)\n",
    "check_video(filepath, make_frames=True, debug_all = False, debug_filter_big_boxes = False)\n",
    "get_filepath_from_url(url)"
   ]
  },
  {
   "cell_type": "markdown",
   "metadata": {},
   "source": [
    "### Analysis of sample completed videos"
   ]
  },
  {
   "cell_type": "code",
   "execution_count": null,
   "metadata": {},
   "outputs": [],
   "source": [
    "all_folders = glob.glob('images_from_video/*')\n",
    "i = 0\n",
    "for folder in all_folders:\n",
    "    \n",
    "    if 'videos_ok' in folder:\n",
    "        i += 1\n",
    "#         print(folder)\n",
    "        if i == 1:\n",
    "            print(folder)\n",
    "            res = check_video(file_path = '', make_frames = False, \n",
    "                        debug_all = False, \n",
    "                        debug_filter_big_boxes = False, folder_path = folder,\n",
    "                        debug_margins = True,\n",
    "                        print_bad_photo=False\n",
    "                       )\n",
    "            print(res)\n",
    "#         break\n",
    "\n",
    "# images_from_video/videos_ok_e86_89d_e8689d6f-1bf9-4b83-a592-82ecf4956e83\n",
    "# ok frames: 80\n",
    "# bad frames: 0\n",
    "# ok boxes: 72\n",
    "# bad boxes: 8\n",
    "# after fix;\n",
    "# ok frames: 80\n",
    "# bad frames without class: 0\n",
    "# bad boxes: 7\n",
    "# bad boxes outside of image: 2\n",
    "\n",
    "# images_from_video/videos_ok_287_b38_287b380e-e940-44d1-bf0d-e4e1401dd015\n",
    "# suitcase instead of car\n",
    "# ok frames: 154\n",
    "# bad frames: 3\n",
    "# ok boxes: 154\n",
    "# bad boxes: 3\n",
    "\n",
    "# сильно обрезанные тоже склеивают\n",
    "# images_from_video/videos_ok_53b_d6a_53bd6a46-5540-4428-a879-4d4060f15ad7\n",
    "# ok frames: 82\n",
    "# bad frames: 7\n",
    "# ok boxes: 39\n",
    "# bad boxes: 50\n",
    "# after fix:\n",
    "# ok frames: 82\n",
    "# bad frames without class: 7\n",
    "# bad boxes: 44\n",
    "# bad boxes outside of image: 12\n",
    "\n",
    "# images_from_video/videos_ok_dad_56f_dad56ff5-34be-4a46-afb7-22962a9b37df i = 4\n",
    "# один раз не нашли машину, остальное слишком маленький фрагмент экрана\n",
    "# ok frames: 136\n",
    "# bad frames: 8\n",
    "# ok boxes: 136\n",
    "# bad boxes: 8\n",
    "# after fixing:\n",
    "# ok frames: 143\n",
    "# bad frames without class: 1\n",
    "# bad boxes: 1\n",
    "# bad boxes outside of image: 0\n",
    "\n",
    "# debugging photo: images_from_video/videos_ok_da4_dcd_da4dcd26-08af-4ac9-b233-775f34c89bce/1381.jpg\n",
    "# truck 48% 1 image\n",
    "# ok frames: 126\n",
    "# bad frames: 1\n",
    "# ok boxes: 126\n",
    "# bad boxes: 1\n",
    "\n",
    "# images_from_video/videos_ok_e13_766_e1376683-cec9-440b-b5ef-ce831686f60d\n",
    "# ok frames: 190\n",
    "# bad frames: 0\n",
    "# ok boxes: 190\n",
    "# bad boxes: 0\n",
    "\n",
    "# images_from_video/videos_ok_03d_04a_03d04ae5-1954-426c-b6ed-2c997f3ddcca -7\n",
    "# train on 2 images, car 47% on one, bad boxes sometimes really true\n",
    "# ok frames: 75\n",
    "# bad frames: 3\n",
    "# ok boxes: 49\n",
    "# bad boxes: 29\n",
    "# after fixes\n",
    "# ok frames: 75\n",
    "# bad frames without class: 3\n",
    "# bad boxes: 24\n",
    "# bad boxes outside of image: 7\n",
    "\n",
    "\n",
    "# images_from_video/videos_ok_89b_d79_89bd793d-2069-421d-beff-7a93c8874a95\n",
    "# bounding box not ok: images_from_video/videos_ok_89b_d79_89bd793d-2069-421d-beff-7a93c8874a95/1153.jpg\n",
    "# too big bounding box\n",
    "# ok frames: 179\n",
    "# bad frames: 0\n",
    "# ok boxes: 178\n",
    "# bad boxes: 1\n",
    "# after fixes\n",
    "# ok frames: 179\n",
    "# bad frames without class: 0\n",
    "# bad boxes: 1\n",
    "# bad boxes outside of image: 1\n",
    "\n",
    "# images_from_video/videos_ok_31e_57f_31e57f3e-a6fb-475f-a204-0fd9b8250be4\n",
    "# was 1 bad box - but fixed by fixing margin\n",
    "# ok frames: 164\n",
    "# bad frames: 0\n",
    "# ok boxes: 163\n",
    "# bad boxes: 1 (fixed - 0)\n",
    "\n",
    "# images_from_video/videos_ok_46a_061_46a061a5-b242-49b1-a41e-65f13b003784 - 10\n",
    "# idea # strictly out of picture boxes\n",
    "# ok frames: 106\n",
    "# bad frames: 0\n",
    "# ok boxes: 66\n",
    "# bad boxes: 40\n",
    "# after fixes\n",
    "# ok frames: 106\n",
    "# bad frames without class: 0\n",
    "# bad boxes: 40\n",
    "# bad boxes outside of image: 12\n",
    "\n",
    "# images_from_video/videos_ok_a4f_99d_a4f99db1-7605-449f-9b9f-c1ef9d0f2f7f - 11\n",
    "# ok frames: 223\n",
    "# bad frames without class: 2\n",
    "# bad boxes: 46\n",
    "# bad boxes outside of image: 22\n",
    "\n",
    "\n",
    "# images_from_video/videos_ok_4c7_4ef_4c74ef4b-6385-4fe1-b8e5-3fa6b94e5039 - 12\n",
    "# ok frames: 174\n",
    "# bad frames without class: 0\n",
    "# bad boxes: 0\n",
    "# bad boxes outside of image: 0\n",
    "\n",
    "# images_from_video/videos_ok_62d_768_62d768ce-077c-471d-bf25-22cb5cf6767d - 13\n",
    "# cell_phone bug with car, a lot of times outside the boxes\n",
    "# \n",
    "# ok frames: 55\n",
    "# bad frames without class: 17\n",
    "# bad boxes: 40\n",
    "# bad boxes outside of image: 6\n",
    "\n",
    "# images_from_video/videos_ok_03c_73d_03c73d60-43c5-4142-b4f4-c040eeeb862f\n",
    "# ok frames: 175\n",
    "# bad frames without class: 2\n",
    "# bad boxes: 11\n",
    "# bad boxes outside of image: 2\n",
    "\n",
    "\n",
    "# images_from_video/videos_ok_211_0bb_2110bb80-da68-46f3-b77a-a4eeb4ac8724\n",
    "# ok frames: 181\n",
    "# bad frames without class: 0\n",
    "# bad boxes: 0\n",
    "# bad boxes outside of image: 0"
   ]
  },
  {
   "cell_type": "markdown",
   "metadata": {},
   "source": [
    "### Process all videos"
   ]
  },
  {
   "cell_type": "code",
   "execution_count": 33,
   "metadata": {},
   "outputs": [],
   "source": [
    "def process_all_videos():\n",
    "    all_folders = glob.glob('images_from_video/*')\n",
    "    all_results = []\n",
    "    i = 0\n",
    "    for folder in all_folders:\n",
    "    \n",
    "        if 'videos_ok' in folder or 'videos_failed' in folder:\n",
    "#             print(f\"processing {folder}\")\n",
    "            res = check_video(file_path = '', make_frames = False, \n",
    "                        debug_all = False, \n",
    "                        debug_filter_big_boxes = False, folder_path = folder,\n",
    "                        debug_margins = False,\n",
    "                        print_bad_photo=False,\n",
    "                        no_debug_message=True\n",
    "                       )\n",
    "#             print(res)\n",
    "            all_results.append(res)\n",
    "    return all_results"
   ]
  },
  {
   "cell_type": "code",
   "execution_count": 34,
   "metadata": {},
   "outputs": [],
   "source": [
    "final_results = process_all_videos()"
   ]
  },
  {
   "cell_type": "code",
   "execution_count": 35,
   "metadata": {},
   "outputs": [
    {
     "name": "stdout",
     "output_type": "stream",
     "text": [
      "{\"ok\":true,\"result\":{\"message_id\":12988,\"from\":{\"id\":345259261,\"is_bot\":true,\"first_name\":\"RealtyCallCenterBot\",\"username\":\"RealtyCallCenterBot\"},\"chat\":{\"id\":-233546442,\"title\":\"BotTests\",\"type\":\"group\",\"all_members_are_administrators\":true},\"date\":1585908743,\"text\":\"Finished classifying panorama videos with tflite @VladimirGorovoy\",\"entities\":[{\"offset\":49,\"length\":16,\"type\":\"mention\"}]}}"
     ]
    }
   ],
   "source": [
    "!curl --data \"text=Finished classifying panorama videos with tflite @VladimirGorovoy&parse_mode=Markdown\" https://api.telegram.org/bot345259261:AAGBS5bxlxTe8I9cp_3mCpP-tghLHAuAOkw/sendMessage?chat_id=-233546442"
   ]
  },
  {
   "cell_type": "markdown",
   "metadata": {},
   "source": [
    "### Analyse final results of classifier"
   ]
  },
  {
   "cell_type": "code",
   "execution_count": 36,
   "metadata": {},
   "outputs": [],
   "source": [
    "df_results = pd.DataFrame(final_results)"
   ]
  },
  {
   "cell_type": "code",
   "execution_count": 50,
   "metadata": {},
   "outputs": [],
   "source": [
    "df_results.to_csv('classification_results_v2.tsv', sep = '\\t', index = False)"
   ]
  },
  {
   "cell_type": "code",
   "execution_count": 37,
   "metadata": {},
   "outputs": [
    {
     "data": {
      "text/html": [
       "<div>\n",
       "<style scoped>\n",
       "    .dataframe tbody tr th:only-of-type {\n",
       "        vertical-align: middle;\n",
       "    }\n",
       "\n",
       "    .dataframe tbody tr th {\n",
       "        vertical-align: top;\n",
       "    }\n",
       "\n",
       "    .dataframe thead th {\n",
       "        text-align: right;\n",
       "    }\n",
       "</style>\n",
       "<table border=\"1\" class=\"dataframe\">\n",
       "  <thead>\n",
       "    <tr style=\"text-align: right;\">\n",
       "      <th>panorama_status</th>\n",
       "      <th>completed</th>\n",
       "      <th>failed</th>\n",
       "    </tr>\n",
       "    <tr>\n",
       "      <th>classifier_result</th>\n",
       "      <th></th>\n",
       "      <th></th>\n",
       "    </tr>\n",
       "  </thead>\n",
       "  <tbody>\n",
       "    <tr>\n",
       "      <th>BAD</th>\n",
       "      <td>27</td>\n",
       "      <td>31</td>\n",
       "    </tr>\n",
       "    <tr>\n",
       "      <th>GOOD</th>\n",
       "      <td>184</td>\n",
       "      <td>55</td>\n",
       "    </tr>\n",
       "    <tr>\n",
       "      <th>UNKNOWN</th>\n",
       "      <td>34</td>\n",
       "      <td>19</td>\n",
       "    </tr>\n",
       "  </tbody>\n",
       "</table>\n",
       "</div>"
      ],
      "text/plain": [
       "panorama_status    completed  failed\n",
       "classifier_result                   \n",
       "BAD                       27      31\n",
       "GOOD                     184      55\n",
       "UNKNOWN                   34      19"
      ]
     },
     "execution_count": 37,
     "metadata": {},
     "output_type": "execute_result"
    }
   ],
   "source": [
    "pd.crosstab(df_results.classifier_result, [df_results.panorama_status])"
   ]
  },
  {
   "cell_type": "markdown",
   "metadata": {},
   "source": [
    "### 2nd version anlaysis\n",
    "share of reall bad photos > 15%"
   ]
  },
  {
   "cell_type": "code",
   "execution_count": 72,
   "metadata": {},
   "outputs": [],
   "source": [
    "import IPython.display"
   ]
  },
  {
   "cell_type": "code",
   "execution_count": 67,
   "metadata": {},
   "outputs": [],
   "source": [
    "def check_videos(paths):\n",
    "    all_images_debug = []\n",
    "    for folder in paths:\n",
    "        images_debug = []\n",
    "        print(f\"processing video: {folder}\")\n",
    "        res = check_video(file_path = '', make_frames = False, \n",
    "                        debug_all = False, \n",
    "                        debug_filter_big_boxes = False, folder_path = folder,\n",
    "                        debug_margins = False,\n",
    "                        print_bad_photo=False,\n",
    "                        no_debug_message=True,\n",
    "                        images_debug = images_debug\n",
    "                       )\n",
    "        all_images_debug.append(images_debug)\n",
    "        print(res)\n",
    "    return all_images_debug"
   ]
  },
  {
   "cell_type": "code",
   "execution_count": 44,
   "metadata": {},
   "outputs": [],
   "source": [
    "s_bad_completed = df_results[(df_results.classifier_result == BAD) & (df_results.panorama_status == COMPLETED)].sample(5)"
   ]
  },
  {
   "cell_type": "code",
   "execution_count": 60,
   "metadata": {},
   "outputs": [],
   "source": [
    "s_bad_failed = df_results[(df_results.classifier_result == BAD) & (df_results.panorama_status == FAILED)].sample(5)"
   ]
  },
  {
   "cell_type": "code",
   "execution_count": 92,
   "metadata": {},
   "outputs": [],
   "source": [
    "s_unknown_completed  = df_results[(df_results.classifier_result == UNKNOWN) & (df_results.panorama_status == FAILED)].sample(5)"
   ]
  },
  {
   "cell_type": "code",
   "execution_count": 96,
   "metadata": {},
   "outputs": [],
   "source": [
    "s_unknown_failed = s_unknown_completed"
   ]
  },
  {
   "cell_type": "code",
   "execution_count": 97,
   "metadata": {},
   "outputs": [],
   "source": [
    "unknown_failed_images = unknown_completed_images"
   ]
  },
  {
   "cell_type": "code",
   "execution_count": 99,
   "metadata": {},
   "outputs": [],
   "source": [
    "s_unknown_completed  = df_results[(df_results.classifier_result == UNKNOWN) & (df_results.panorama_status == COMPLETED)].sample(5)"
   ]
  },
  {
   "cell_type": "code",
   "execution_count": 102,
   "metadata": {},
   "outputs": [
    {
     "data": {
      "text/plain": [
       "184"
      ]
     },
     "execution_count": 102,
     "metadata": {},
     "output_type": "execute_result"
    }
   ],
   "source": [
    "len(df_results[(df_results.classifier_result == GOOD) & (df_results.panorama_status == COMPLETED)])"
   ]
  },
  {
   "cell_type": "code",
   "execution_count": 103,
   "metadata": {},
   "outputs": [
    {
     "data": {
      "text/plain": [
       "93"
      ]
     },
     "execution_count": 103,
     "metadata": {},
     "output_type": "execute_result"
    }
   ],
   "source": [
    "len(df_results[(df_results.classifier_result == GOOD) & (df_results.panorama_status == COMPLETED) & (df_results.bad_frames > 0)])"
   ]
  },
  {
   "cell_type": "code",
   "execution_count": 104,
   "metadata": {},
   "outputs": [],
   "source": [
    "s_ok_completed = df_results[(df_results.classifier_result == GOOD) & (df_results.panorama_status == COMPLETED) & (df_results.bad_frames > 0)].sample(10)"
   ]
  },
  {
   "cell_type": "code",
   "execution_count": 109,
   "metadata": {},
   "outputs": [
    {
     "data": {
      "text/plain": [
       "55"
      ]
     },
     "execution_count": 109,
     "metadata": {},
     "output_type": "execute_result"
    }
   ],
   "source": [
    "len(df_results[(df_results.classifier_result == GOOD) & (df_results.panorama_status == FAILED)])"
   ]
  },
  {
   "cell_type": "code",
   "execution_count": 110,
   "metadata": {},
   "outputs": [
    {
     "data": {
      "text/plain": [
       "32"
      ]
     },
     "execution_count": 110,
     "metadata": {},
     "output_type": "execute_result"
    }
   ],
   "source": [
    "len(df_results[(df_results.classifier_result == GOOD) & (df_results.panorama_status == FAILED) & (df_results.bad_frames > 0)])"
   ]
  },
  {
   "cell_type": "code",
   "execution_count": 111,
   "metadata": {},
   "outputs": [],
   "source": [
    "s_ok_failed = df_results[(df_results.classifier_result == GOOD) & (df_results.panorama_status == FAILED) & (df_results.bad_frames > 0)].sample(10)"
   ]
  },
  {
   "cell_type": "code",
   "execution_count": 91,
   "metadata": {},
   "outputs": [],
   "source": [
    "bad_failed_images = all_images_debug"
   ]
  },
  {
   "cell_type": "code",
   "execution_count": 112,
   "metadata": {},
   "outputs": [
    {
     "name": "stdout",
     "output_type": "stream",
     "text": [
      "processing video: images_from_video/videos_failed_76e_dc9_76edc944-4c2b-4b0b-8847-63d72cfee674\n",
      "{'url': 'https://autoru-panorama-internal.s3.mds.yandex.net/upload/76e/dc9/76edc944-4c2b-4b0b-8847-63d72cfee674', 'panorama_status': 'failed', 'image_path': 'images_from_video/videos_failed_76e_dc9_76edc944-4c2b-4b0b-8847-63d72cfee674', 'classifier_result': 'GOOD', 'total_analyzed_frames': 176, 'big_vehicle_middle_screen_found': 172, 'no_big_vehicle_middle_screen_found': 0, 'car_found_but_bounding_box_unsafe_margin': 0, 'bounding_boxes_outside_image': 0, 'bad_frames': 4, 'really_bad_frames': 4, 'share_no_big_vehicle_middle_screen_found': 0.022727272727272728, 'share_car_found_but_bounding_box_unsafe_margin': 0.0, 'share_bad_frames': 0.022727272727272728, 'share_really_bad_frames': 0.022727272727272728}\n",
      "processing video: images_from_video/videos_failed_f7f_3cc_f7f3cc8a-01bd-4902-aaac-0d949a0718b9\n",
      "{'url': 'https://autoru-panorama-internal.s3.mds.yandex.net/upload/f7f/3cc/f7f3cc8a-01bd-4902-aaac-0d949a0718b9', 'panorama_status': 'failed', 'image_path': 'images_from_video/videos_failed_f7f_3cc_f7f3cc8a-01bd-4902-aaac-0d949a0718b9', 'classifier_result': 'GOOD', 'total_analyzed_frames': 174, 'big_vehicle_middle_screen_found': 174, 'no_big_vehicle_middle_screen_found': 0, 'car_found_but_bounding_box_unsafe_margin': 15, 'bounding_boxes_outside_image': 6, 'bad_frames': 15, 'really_bad_frames': 6, 'share_no_big_vehicle_middle_screen_found': 0.0, 'share_car_found_but_bounding_box_unsafe_margin': 0.08620689655172414, 'share_bad_frames': 0.08620689655172414, 'share_really_bad_frames': 0.034482758620689655}\n",
      "processing video: images_from_video/videos_failed_95b_771_95b771d1-9b13-44c8-a654-da8593185f3a\n",
      "{'url': 'https://autoru-panorama-internal.s3.mds.yandex.net/upload/95b/771/95b771d1-9b13-44c8-a654-da8593185f3a', 'panorama_status': 'failed', 'image_path': 'images_from_video/videos_failed_95b_771_95b771d1-9b13-44c8-a654-da8593185f3a', 'classifier_result': 'GOOD', 'total_analyzed_frames': 303, 'big_vehicle_middle_screen_found': 303, 'no_big_vehicle_middle_screen_found': 0, 'car_found_but_bounding_box_unsafe_margin': 4, 'bounding_boxes_outside_image': 3, 'bad_frames': 4, 'really_bad_frames': 3, 'share_no_big_vehicle_middle_screen_found': 0.0, 'share_car_found_but_bounding_box_unsafe_margin': 0.013201320132013201, 'share_bad_frames': 0.013201320132013201, 'share_really_bad_frames': 0.009900990099009901}\n",
      "processing video: images_from_video/videos_failed_831_493_83149371-205e-4b53-aadf-debf44d16518\n",
      "{'url': 'https://autoru-panorama-internal.s3.mds.yandex.net/upload/831/493/83149371-205e-4b53-aadf-debf44d16518', 'panorama_status': 'failed', 'image_path': 'images_from_video/videos_failed_831_493_83149371-205e-4b53-aadf-debf44d16518', 'classifier_result': 'GOOD', 'total_analyzed_frames': 166, 'big_vehicle_middle_screen_found': 166, 'no_big_vehicle_middle_screen_found': 0, 'car_found_but_bounding_box_unsafe_margin': 2, 'bounding_boxes_outside_image': 0, 'bad_frames': 2, 'really_bad_frames': 0, 'share_no_big_vehicle_middle_screen_found': 0.0, 'share_car_found_but_bounding_box_unsafe_margin': 0.012048192771084338, 'share_bad_frames': 0.012048192771084338, 'share_really_bad_frames': 0.0}\n",
      "processing video: images_from_video/videos_failed_0c4_dea_0c4deac6-8622-4434-9919-ba84b6858925\n",
      "{'url': 'https://autoru-panorama-internal.s3.mds.yandex.net/upload/0c4/dea/0c4deac6-8622-4434-9919-ba84b6858925', 'panorama_status': 'failed', 'image_path': 'images_from_video/videos_failed_0c4_dea_0c4deac6-8622-4434-9919-ba84b6858925', 'classifier_result': 'GOOD', 'total_analyzed_frames': 179, 'big_vehicle_middle_screen_found': 176, 'no_big_vehicle_middle_screen_found': 0, 'car_found_but_bounding_box_unsafe_margin': 0, 'bounding_boxes_outside_image': 0, 'bad_frames': 3, 'really_bad_frames': 3, 'share_no_big_vehicle_middle_screen_found': 0.01675977653631285, 'share_car_found_but_bounding_box_unsafe_margin': 0.0, 'share_bad_frames': 0.01675977653631285, 'share_really_bad_frames': 0.01675977653631285}\n",
      "processing video: images_from_video/videos_failed_34b_0b0_34b0b00d-2a8c-4bc3-a72f-ea272c2383d2\n",
      "{'url': 'https://autoru-panorama-internal.s3.mds.yandex.net/upload/34b/0b0/34b0b00d-2a8c-4bc3-a72f-ea272c2383d2', 'panorama_status': 'failed', 'image_path': 'images_from_video/videos_failed_34b_0b0_34b0b00d-2a8c-4bc3-a72f-ea272c2383d2', 'classifier_result': 'GOOD', 'total_analyzed_frames': 148, 'big_vehicle_middle_screen_found': 148, 'no_big_vehicle_middle_screen_found': 0, 'car_found_but_bounding_box_unsafe_margin': 8, 'bounding_boxes_outside_image': 4, 'bad_frames': 8, 'really_bad_frames': 4, 'share_no_big_vehicle_middle_screen_found': 0.0, 'share_car_found_but_bounding_box_unsafe_margin': 0.05405405405405406, 'share_bad_frames': 0.05405405405405406, 'share_really_bad_frames': 0.02702702702702703}\n",
      "processing video: images_from_video/videos_failed_1e1_f39_1e1f39a6-f822-42f0-8fdb-461974edcd0e\n",
      "{'url': 'https://autoru-panorama-internal.s3.mds.yandex.net/upload/1e1/f39/1e1f39a6-f822-42f0-8fdb-461974edcd0e', 'panorama_status': 'failed', 'image_path': 'images_from_video/videos_failed_1e1_f39_1e1f39a6-f822-42f0-8fdb-461974edcd0e', 'classifier_result': 'GOOD', 'total_analyzed_frames': 182, 'big_vehicle_middle_screen_found': 181, 'no_big_vehicle_middle_screen_found': 0, 'car_found_but_bounding_box_unsafe_margin': 0, 'bounding_boxes_outside_image': 0, 'bad_frames': 1, 'really_bad_frames': 1, 'share_no_big_vehicle_middle_screen_found': 0.005494505494505495, 'share_car_found_but_bounding_box_unsafe_margin': 0.0, 'share_bad_frames': 0.005494505494505495, 'share_really_bad_frames': 0.005494505494505495}\n",
      "processing video: images_from_video/videos_failed_7a8_a2d_7a8a2dd8-b5ab-4169-8b9e-69b1bc889671\n",
      "{'url': 'https://autoru-panorama-internal.s3.mds.yandex.net/upload/7a8/a2d/7a8a2dd8-b5ab-4169-8b9e-69b1bc889671', 'panorama_status': 'failed', 'image_path': 'images_from_video/videos_failed_7a8_a2d_7a8a2dd8-b5ab-4169-8b9e-69b1bc889671', 'classifier_result': 'GOOD', 'total_analyzed_frames': 303, 'big_vehicle_middle_screen_found': 303, 'no_big_vehicle_middle_screen_found': 0, 'car_found_but_bounding_box_unsafe_margin': 4, 'bounding_boxes_outside_image': 3, 'bad_frames': 4, 'really_bad_frames': 3, 'share_no_big_vehicle_middle_screen_found': 0.0, 'share_car_found_but_bounding_box_unsafe_margin': 0.013201320132013201, 'share_bad_frames': 0.013201320132013201, 'share_really_bad_frames': 0.009900990099009901}\n",
      "processing video: images_from_video/videos_failed_411_e39_411e3996-7150-45cf-abb8-ce1f740cabf6\n",
      "{'url': 'https://autoru-panorama-internal.s3.mds.yandex.net/upload/411/e39/411e3996-7150-45cf-abb8-ce1f740cabf6', 'panorama_status': 'failed', 'image_path': 'images_from_video/videos_failed_411_e39_411e3996-7150-45cf-abb8-ce1f740cabf6', 'classifier_result': 'GOOD', 'total_analyzed_frames': 163, 'big_vehicle_middle_screen_found': 158, 'no_big_vehicle_middle_screen_found': 0, 'car_found_but_bounding_box_unsafe_margin': 1, 'bounding_boxes_outside_image': 0, 'bad_frames': 6, 'really_bad_frames': 5, 'share_no_big_vehicle_middle_screen_found': 0.03067484662576687, 'share_car_found_but_bounding_box_unsafe_margin': 0.006329113924050633, 'share_bad_frames': 0.03680981595092025, 'share_really_bad_frames': 0.03067484662576687}\n",
      "processing video: images_from_video/videos_failed_4f0_3ed_4f03edd2-5ab8-487a-8cce-eb98eb92cb37\n",
      "{'url': 'https://autoru-panorama-internal.s3.mds.yandex.net/upload/4f0/3ed/4f03edd2-5ab8-487a-8cce-eb98eb92cb37', 'panorama_status': 'failed', 'image_path': 'images_from_video/videos_failed_4f0_3ed_4f03edd2-5ab8-487a-8cce-eb98eb92cb37', 'classifier_result': 'GOOD', 'total_analyzed_frames': 117, 'big_vehicle_middle_screen_found': 114, 'no_big_vehicle_middle_screen_found': 0, 'car_found_but_bounding_box_unsafe_margin': 0, 'bounding_boxes_outside_image': 0, 'bad_frames': 3, 'really_bad_frames': 3, 'share_no_big_vehicle_middle_screen_found': 0.02564102564102564, 'share_car_found_but_bounding_box_unsafe_margin': 0.0, 'share_bad_frames': 0.02564102564102564, 'share_really_bad_frames': 0.02564102564102564}\n"
     ]
    }
   ],
   "source": [
    "# check_videos(list(s_bad_completed.image_path))\n",
    "# all videos trash\n",
    "# all_images_debug = check_videos(list(s_bad_failed.image_path))\n",
    "# all videos trash\n",
    "\n",
    "# unknown_completed_images = check_videos(list(s_unknown_completed.image_path))\n",
    "# was failed, fixed\n",
    "# good trucks, some cars with low border\n",
    "\n",
    "# unknown_completed_images = check_videos(list(s_unknown_completed.image_path))\n",
    "# 2 ok, 3 not very good\n",
    "\n",
    "# ok_completed_images = check_videos(list(s_ok_completed.image_path))\n",
    "# 4 of 10 not very good\n",
    "\n",
    "\n",
    "# ok_failed_images = check_videos(list(s_ok_failed.image_path))\n",
    "# 5 of 5 ok\n",
    "\n",
    "\n",
    "\n",
    "\n"
   ]
  },
  {
   "cell_type": "code",
   "execution_count": 114,
   "metadata": {
    "scrolled": false
   },
   "outputs": [],
   "source": [
    "# IPython.display.Image(all_images_debug[0][0])\n",
    "# IPython.display.Image(all_images_debug[0][10])\n",
    "# IPython.display.Image(all_images_debug[0][20])\n",
    "# IPython.display.Image(all_images_debug[0][30])\n",
    "\n",
    "\n",
    "# all_images_debug = unknown_failed_images\n",
    "\n",
    "#  3 кривые, 2 норм\n",
    "# all_images_debug = unknown_completed_images\n",
    "\n",
    "# all_images_debug = ok_completed_images\n",
    "# 4 of 10 подрезаны или столб или мутные\n",
    "\n",
    "all_images_debug = ok_failed_images\n",
    "# 5 of 5 good\n",
    "\n",
    "# almost all good\n",
    "# commented to keep notebook size small\n",
    "# for i in range(len(all_images_debug)):\n",
    "#     print(i)\n",
    "#     images = np.random.choice(all_images_debug[i], min(10, len(all_images_debug[i])))\n",
    "#     print(images)\n",
    "#     display(*map(IPython.display.Image, images))\n",
    "\n",
    "# all_images_debug[0].sample(10)"
   ]
  },
  {
   "cell_type": "code",
   "execution_count": 88,
   "metadata": {
    "scrolled": false
   },
   "outputs": [
    {
     "data": {
      "text/plain": [
       "array(['images_from_video/videos_failed_d86_97c_d8697cde-479a-4984-91f5-ff022f773fdc/133.jpg',\n",
       "       'images_from_video/videos_failed_d86_97c_d8697cde-479a-4984-91f5-ff022f773fdc/721.jpg',\n",
       "       'images_from_video/videos_failed_d86_97c_d8697cde-479a-4984-91f5-ff022f773fdc/709.jpg',\n",
       "       'images_from_video/videos_failed_d86_97c_d8697cde-479a-4984-91f5-ff022f773fdc/709.jpg',\n",
       "       'images_from_video/videos_failed_d86_97c_d8697cde-479a-4984-91f5-ff022f773fdc/49.jpg',\n",
       "       'images_from_video/videos_failed_d86_97c_d8697cde-479a-4984-91f5-ff022f773fdc/145.jpg',\n",
       "       'images_from_video/videos_failed_d86_97c_d8697cde-479a-4984-91f5-ff022f773fdc/553.jpg',\n",
       "       'images_from_video/videos_failed_d86_97c_d8697cde-479a-4984-91f5-ff022f773fdc/313.jpg',\n",
       "       'images_from_video/videos_failed_d86_97c_d8697cde-479a-4984-91f5-ff022f773fdc/145.jpg',\n",
       "       'images_from_video/videos_failed_d86_97c_d8697cde-479a-4984-91f5-ff022f773fdc/73.jpg'],\n",
       "      dtype='<U85')"
      ]
     },
     "execution_count": 88,
     "metadata": {},
     "output_type": "execute_result"
    }
   ],
   "source": [
    "i = 0\n",
    "np.random.choice(all_images_debug[i], min(10, len(all_images_debug[i])))"
   ]
  },
  {
   "cell_type": "code",
   "execution_count": 82,
   "metadata": {},
   "outputs": [
    {
     "data": {
      "text/plain": [
       "<map at 0x7ff23cfd4198>"
      ]
     },
     "execution_count": 82,
     "metadata": {},
     "output_type": "execute_result"
    }
   ],
   "source": [
    "map(IPython.display.Image, all_images_debug[0])"
   ]
  },
  {
   "cell_type": "markdown",
   "metadata": {},
   "source": [
    "### 1st version analysis\n",
    "just > 20 bad images is bad"
   ]
  },
  {
   "cell_type": "code",
   "execution_count": null,
   "metadata": {},
   "outputs": [],
   "source": [
    "df_results[(df_results.classifier_result == BAD) & (df_results.panorama_status == COMPLETED)]"
   ]
  },
  {
   "cell_type": "code",
   "execution_count": null,
   "metadata": {},
   "outputs": [],
   "source": [
    "# len(df_results[(df_results.classifier_result == GOOD) & (df_results.panorama_status == COMPLETED) \n",
    "#            & (df_results.share_bad_frames > 0.1)])\n",
    "# 29\n",
    "df_results[(df_results.classifier_result == GOOD) & (df_results.panorama_status == COMPLETED) \n",
    "           & (df_results.share_bad_frames > 0.3)]"
   ]
  },
  {
   "cell_type": "code",
   "execution_count": null,
   "metadata": {},
   "outputs": [],
   "source": [
    "df_results[(df_results.classifier_result == GOOD) & (df_results.panorama_status == COMPLETED) \n",
    "           & (df_results.share_really_bad_frames > 0.15)]"
   ]
  },
  {
   "cell_type": "code",
   "execution_count": null,
   "metadata": {},
   "outputs": [],
   "source": [
    "print(len(df_results[(df_results.panorama_status == FAILED) \n",
    "           & (df_results.share_really_bad_frames > 0.15)]))"
   ]
  },
  {
   "cell_type": "code",
   "execution_count": null,
   "metadata": {},
   "outputs": [],
   "source": [
    "print(len(df_results[(df_results.panorama_status == FAILED) \n",
    "           & (df_results.share_really_bad_frames < 0.05)]))"
   ]
  },
  {
   "cell_type": "code",
   "execution_count": null,
   "metadata": {},
   "outputs": [],
   "source": [
    "list(df_results[(df_results.panorama_status == FAILED) \n",
    "           & (df_results.share_really_bad_frames < 0.05)].sample(5).image_path)"
   ]
  },
  {
   "cell_type": "code",
   "execution_count": null,
   "metadata": {},
   "outputs": [],
   "source": [
    "list(df_results[(df_results.panorama_status == FAILED) \n",
    "           & (df_results.share_really_bad_frames > 0.15)].sample(5).image_path)"
   ]
  },
  {
   "cell_type": "code",
   "execution_count": null,
   "metadata": {},
   "outputs": [],
   "source": [
    "list(df_results[(df_results.panorama_status == COMPLETED) \n",
    "           & (df_results.share_really_bad_frames > 0.15)].image_path)"
   ]
  },
  {
   "cell_type": "code",
   "execution_count": null,
   "metadata": {},
   "outputs": [],
   "source": [
    "list(df_results[(df_results.panorama_status == FAILED) \n",
    "           & (df_results.share_really_bad_frames < 0.05)].sample(5).image_path)"
   ]
  },
  {
   "cell_type": "code",
   "execution_count": null,
   "metadata": {},
   "outputs": [],
   "source": [
    "print(len(df_results[(df_results.panorama_status == FAILED) \n",
    "           & (df_results.share_really_bad_frames > 0.05) & (df_results.share_really_bad_frames <= 0.15)]))"
   ]
  },
  {
   "cell_type": "code",
   "execution_count": null,
   "metadata": {
    "scrolled": true
   },
   "outputs": [],
   "source": [
    "path = 'images_from_video/videos_ok_71e_024_71e024f6-5b4d-48b6-9755-ba9c89aaf218'\n",
    "# very bad video, strange that it's ok in panoramas\n",
    "# 908599515-1584450216985-kgmPW\thttps://autoru-panorama-internal.s3.mds.yandex.net/upload/71e/024/71e024f6-5b4d-48b6-9755-ba9c89aaf218\n",
    "# very bad, but can't find on service,\n",
    "# https://auto.ru/cars/used/sale/dodge/caliber/1096883676-73493883/\n",
    "# better to make another\n",
    "\n",
    "path = 'images_from_video/videos_ok_5c8_a96_5c8a9690-0456-4b54-8c18-a26e706f5566'\n",
    "\n",
    "# fixed share of screen, small probabilites for trucks\n",
    "# ok frames: 172\n",
    "# bad frames without class: 4\n",
    "# bad boxes: 4\n",
    "# bad boxes outside of image: 0\n",
    "\n",
    "path = 'images_from_video/videos_ok_5c8_a96_5c8a9690-0456-4b54-8c18-a26e706f5566'\n",
    "# truck - partially fixed with bouding boxes todo: smaller probabilities for trucks\n",
    "# ok frames: 169\n",
    "# bad frames without class: 9\n",
    "# bad boxes: 9\n",
    "# bad boxes outside of image: 0\n",
    "\n",
    "path = 'images_from_video/videos_ok_33c_9a7_33c9a73e-77c3-48d1-99b6-ab15197c31b7'\n",
    "# fixed by bounding box fixes # car instead of truck , so still 4 errors\n",
    "# ok frames: 197\n",
    "# bad frames without class: 4\n",
    "# bad boxes: 4\n",
    "# bad boxes outside of image: 0\n",
    "\n",
    "path = 'images_from_video/videos_ok_9a5_447_9a544719-3d6a-4c49-9777-c6ff71f51f4c'\n",
    "# fixed by bouding box fixes # smaller probabilites for trucks\n",
    "# ok frames: 185\n",
    "# bad frames without class: 13\n",
    "# bad boxes: 13\n",
    "# bad boxes outside of image: 0\n",
    "\n",
    "\n",
    "\n",
    "path = 'images_from_video/videos_ok_896_b4f_896b4fdf-1d2d-4905-9247-19ea0404e7f6'\n",
    "# {'url': 'https://autoru-panorama-internal.s3.mds.yandex.net/upload/896/b4f/896b4fdf-1d2d-4905-9247-19ea0404e7f6',\n",
    "#  'panorama_status': 'completed',\n",
    "#  'image_path': 'images_from_video/videos_ok_896_b4f_896b4fdf-1d2d-4905-9247-19ea0404e7f6',\n",
    "#  'classifier_result': 'BAD',\n",
    "#  'total_analyzed_frames': 173,\n",
    "#  'big_vehicle_middle_screen_found': 149,\n",
    "#  'no_big_vehicle_middle_screen_found': 24,\n",
    "#  'car_found_but_bounding_box_unsafe_margin': 5,\n",
    "#  'bounding_boxes_outside_image': 3}\n",
    "# not fixed: suitcase, bottle, cell_phone and low probability (39-47%)\n",
    "\n",
    "path = 'images_from_video/videos_ok_618_0ac_6180ac75-f84e-4f97-a93a-cd5ab073ffc1'\n",
    "# fixed with lower thresholds\n",
    "\n",
    "\n",
    "#### ok classifier\n",
    "path = 'images_from_video/videos_ok_46a_061_46a061a5-b242-49b1-a41e-65f13b003784'\n",
    "# outside margin\n",
    "# {'url': 'https://autoru-panorama-internal.s3.mds.yandex.net/upload/46a/061/46a061a5-b242-49b1-a41e-65f13b003784',\n",
    "#  'panorama_status': 'completed',\n",
    "#  'image_path': 'images_from_video/videos_ok_46a_061_46a061a5-b242-49b1-a41e-65f13b003784',\n",
    "#  'classifier_result': 'GOOD',\n",
    "#  'total_analyzed_frames': 106,\n",
    "#  'big_vehicle_middle_screen_found': 106,\n",
    "#  'no_big_vehicle_middle_screen_found': 0,\n",
    "#  'car_found_but_bounding_box_unsafe_margin': 40,\n",
    "#  'bounding_boxes_outside_image': 12}\n",
    "\n",
    "path = 'images_from_video/videos_ok_a48_59c_a4859c48-00e9-41f6-b0d1-20ab03648fa4'\n",
    "# {'url': 'https://autoru-panorama-internal.s3.mds.yandex.net/upload/a48/59c/a4859c48-00e9-41f6-b0d1-20ab03648fa4',\n",
    "#  'panorama_status': 'completed',\n",
    "#  'image_path': 'images_from_video/videos_ok_a48_59c_a4859c48-00e9-41f6-b0d1-20ab03648fa4',\n",
    "#  'classifier_result': 'GOOD',\n",
    "#  'total_analyzed_frames': 81,\n",
    "#  'big_vehicle_middle_screen_found': 81,\n",
    "#  'no_big_vehicle_middle_screen_found': 0,\n",
    "#  'car_found_but_bounding_box_unsafe_margin': 80,\n",
    "#  'bounding_boxes_outside_image': 45}\n",
    "\n",
    "path = 'images_from_video/videos_ok_543_1cf_5431cfb5-f14f-474e-becd-c83b6308e132'\n",
    "# trash\n",
    "# 'url': 'https://autoru-panorama-internal.s3.mds.yandex.net/upload/543/1cf/5431cfb5-f14f-474e-becd-c83b6308e132',\n",
    "#  'panorama_status': 'completed',\n",
    "#  'image_path': 'images_from_video/videos_ok_543_1cf_5431cfb5-f14f-474e-becd-c83b6308e132',\n",
    "#  'classifier_result': 'GOOD',\n",
    "#  'total_analyzed_frames': 89,\n",
    "#  'big_vehicle_middle_screen_found': 89,\n",
    "#  'no_big_vehicle_middle_screen_found': 0,\n",
    "#  'car_found_but_bounding_box_unsafe_margin': 51,\n",
    "#  'bounding_boxes_outside_image': 33}\n",
    "\n",
    "\n",
    "path = 'images_from_video/videos_ok_b60_0a1_b600a1f3-5e1d-4b06-ab7d-eeb43e9e3596'\n",
    "# 'url': 'https://autoru-panorama-internal.s3.mds.yandex.net/upload/b60/0a1/b600a1f3-5e1d-4b06-ab7d-eeb43e9e3596',\n",
    "#  'panorama_status': 'completed',\n",
    "#  'image_path': 'images_from_video/videos_ok_b60_0a1_b600a1f3-5e1d-4b06-ab7d-eeb43e9e3596',\n",
    "#  'classifier_result': 'GOOD',\n",
    "#  'total_analyzed_frames': 110,\n",
    "#  'big_vehicle_middle_screen_found': 110,\n",
    "#  'no_big_vehicle_middle_screen_found': 0,\n",
    "#  'car_found_but_bounding_box_unsafe_margin': 31,\n",
    "#  'bounding_boxes_outside_image': 17}\n",
    "\n",
    "# check failed < 0.05\n",
    "# seems ok\n",
    "# for path in ['images_from_video/videos_failed_366_9e2_3669e234-3ad7-4551-87cb-e5e3f0237550',\n",
    "#  'images_from_video/videos_failed_120_5bc_1205bc7a-17c7-47a1-9f5f-159068136043',\n",
    "#  'images_from_video/videos_failed_da3_777_da37771d-93a8-4496-88bb-f5318ab34347',\n",
    "#  'images_from_video/videos_failed_b5c_7f9_b5c7f9a6-0d70-4d57-af95-4a84ce05bacc',\n",
    "#  'images_from_video/videos_failed_159_49f_15949f2b-cfa8-4b9b-bd72-d405d136edc0']:\n",
    "    \n",
    "\n",
    "# check failed > 0.15 (all relly failed)\n",
    "# for path in ['images_from_video/videos_failed_596_adb_596adbd6-3fba-407c-a2aa-da1cd9649d09',\n",
    "#  'images_from_video/videos_failed_07d_373_07d37364-2f84-486a-a3ea-0dc96873edad',\n",
    "#  'images_from_video/videos_failed_79f_75f_79f75fec-9c3a-43db-b392-9ddad58bf3b0',\n",
    "#  'images_from_video/videos_failed_886_f72_886f7275-e49e-4d10-be19-f72180788dea',\n",
    "#  'images_from_video/videos_failed_c96_89e_c9689eec-9017-4036-9e84-ae430318a5b0']:\n",
    "#     check_video(file_path = '', make_frames = False, \n",
    "#                             debug_all = False, \n",
    "#                             debug_filter_big_boxes = False, folder_path = path,\n",
    "#                             debug_margins = True,\n",
    "#                             print_bad_photo=True,\n",
    "#                             debug_share_of_screen=True\n",
    "#                            )\n",
    "\n",
    "\n",
    "# check ok > 0.15\n",
    "for path in ['images_from_video/videos_ok_53b_d6a_53bd6a46-5540-4428-a879-4d4060f15ad7',\n",
    " 'images_from_video/videos_ok_62d_768_62d768ce-077c-471d-bf25-22cb5cf6767d',\n",
    " 'images_from_video/videos_ok_7f8_75a_7f875a60-8493-4224-a56d-8120557006a3',\n",
    " 'images_from_video/videos_ok_fab_258_fab258d8-faa8-4fd7-a6bd-1e87f8b5b37b',\n",
    " 'images_from_video/videos_ok_c92_274_c92274ba-0528-4ece-b520-6f9abd3c1a7d',\n",
    " 'images_from_video/videos_ok_543_1cf_5431cfb5-f14f-474e-becd-c83b6308e132',\n",
    " 'images_from_video/videos_ok_618_0ac_6180ac75-f84e-4f97-a93a-cd5ab073ffc1',\n",
    " 'images_from_video/videos_ok_47b_fff_47bfff50-9ce7-4bc0-8d21-96a7019cbe4b',\n",
    " 'images_from_video/videos_ok_896_b4f_896b4fdf-1d2d-4905-9247-19ea0404e7f6',\n",
    " 'images_from_video/videos_ok_b60_0a1_b600a1f3-5e1d-4b06-ab7d-eeb43e9e3596',\n",
    " 'images_from_video/videos_ok_265_f80_265f80ff-a11a-4c15-b520-5b8aa870f489',\n",
    " 'images_from_video/videos_ok_dd3_cc1_dd3cc1ef-af5b-4e89-98c4-50dc454e9c72',\n",
    " 'images_from_video/videos_ok_f1b_f0a_f1bf0a37-8193-44ed-9605-da1bd29fd043',\n",
    " 'images_from_video/videos_ok_117_07f_11707fe0-ffa6-46bc-8d45-99a957edd890',\n",
    " 'images_from_video/videos_ok_a48_59c_a4859c48-00e9-41f6-b0d1-20ab03648fa4',\n",
    " 'images_from_video/videos_ok_8f7_73e_8f773e27-71b4-4392-badd-c7fdc2bbf091',\n",
    " 'images_from_video/videos_ok_20b_eda_20beda0a-d143-4d48-a9e5-4c75f3755ffb',\n",
    " 'images_from_video/videos_ok_485_00e_48500e30-3e82-4a54-876e-e133a787fc59',\n",
    " 'images_from_video/videos_ok_7a6_3e4_7a63e421-742f-43b0-ab9a-6e6909bb4764',\n",
    " 'images_from_video/videos_ok_9a5_447_9a544719-3d6a-4c49-9777-c6ff71f51f4c',\n",
    " 'images_from_video/videos_ok_598_223_5982233c-b414-4968-93ab-226aff952573',\n",
    " 'images_from_video/videos_ok_491_ef0_491ef0e4-fee9-4ec3-9411-544120739f30',\n",
    " 'images_from_video/videos_ok_5c8_a96_5c8a9690-0456-4b54-8c18-a26e706f5566',\n",
    " 'images_from_video/videos_ok_528_6e0_5286e0a3-ee9d-4793-a346-8b236d6d2f5d',\n",
    " 'images_from_video/videos_ok_362_974_362974b0-5e49-4eea-b780-ce13afb6f05c',\n",
    " 'images_from_video/videos_ok_f1a_1f2_f1a1f26f-7cf2-4275-af56-616fbac718af',\n",
    " 'images_from_video/videos_ok_889_af7_889af702-ad32-43d8-a21a-7ca48d8dfef3',\n",
    " 'images_from_video/videos_ok_bbb_a13_bbba139b-2f39-4810-b1e8-b01e3ae221d3',\n",
    " 'images_from_video/videos_ok_221_052_221052db-f985-432e-b07e-6d077a33b191',\n",
    " 'images_from_video/videos_ok_e07_0c5_e070c5ff-09b3-4715-b6b5-fdbc60970ba3',\n",
    " 'images_from_video/videos_ok_ee1_ef4_ee1ef438-b983-4a9b-95f0-3a421ebda309',\n",
    " 'images_from_video/videos_ok_31a_46f_31a46f74-62a2-417a-bd3e-a30bb9c37d8a',\n",
    " 'images_from_video/videos_ok_71e_024_71e024f6-5b4d-48b6-9755-ba9c89aaf218']:\n",
    "    check_video(file_path = '', make_frames = False, \n",
    "                            debug_all = False, \n",
    "                            debug_filter_big_boxes = False, folder_path = path,\n",
    "                            debug_margins = True,\n",
    "                            print_bad_photo=True,\n",
    "                            debug_share_of_screen=True\n",
    "                           )\n",
    "\n",
    "\n",
    "    \n",
    "\n",
    "# ok frames: 226\n",
    "# bad frames without class: 0\n",
    "# bad boxes: 0\n",
    "# bad boxes outside of image: 0\n",
    "# path = ''\n",
    "\n",
    "# 739975341-1584107375522-oSkJg\thttps://autoru-panorama-internal.s3.mds.yandex.net/upload/043/3a0/0433a0f0-544c-4d25-8448-0fab3b0b72bf\n",
    "# 1066934494-1583935918687-qdKtz\thttps://autoru-panorama-internal.s3.mds.yandex.net/upload/33c/9a7/33c9a73e-77c3-48d1-99b6-ab15197c31b7\n",
    "# 920854619-1583914538433-CWDrk\thttps://autoru-panorama-internal.s3.mds.yandex.net/upload/5c8/a96/5c8a9690-0456-4b54-8c18-a26e706f5566\n",
    "# 1130504595-1584455994055-9PyHe\thttps://autoru-panorama-internal.s3.mds.yandex.net/upload/618/0ac/6180ac75-f84e-4f97-a93a-cd5ab073ffc1\n",
    "\n",
    "# 908599515-1584450216985-kgmPW\thttps://autoru-panorama-internal.s3.mds.yandex.net/upload/71e/024/71e024f6-5b4d-48b6-9755-ba9c89aaf218\n",
    "# very bad, but can't find on service,\n",
    "# https://auto.ru/cars/used/sale/dodge/caliber/1096883676-73493883/\n",
    "# better to make another\n",
    "\n",
    "# 1133125868-1583858493084-sNI8D\thttps://autoru-panorama-internal.s3.mds.yandex.net/upload/896/b4f/896b4fdf-1d2d-4905-9247-19ea0404e7f6\n",
    "# 857678021-1583848639251-XqMBx\thttps://autoru-panorama-internal.s3.mds.yandex.net/upload/9a5/447/9a544719-3d6a-4c49-9777-c6ff71f51f4c\n",
    "\n",
    "#\tcategory_full\tid\tis_active\tpanorama_id\twas_active\tcreate_date\n",
    "# 0\t\"CARS\"\t\"1096883676-73493883\"\ttrue\t\"908599515-1584450216985-kgmPW\"\ttrue\t2020-03-17\n",
    "# 1\t\"ARTIC\"\t\"16226196-5a95948f\"\ttrue\t\"920854619-1583914538433-CWDrk\"\ttrue\t2019-11-29\n",
    "# 2\t\"ARTIC\"\t\"16265218-c704d1c6\"\ttrue\t\"739975341-1584107375522-oSkJg\"\ttrue\t2019-12-27\n",
    "# 3\t\"ARTIC\"\t\"16156280-055fbc32\"\tfalse\t\"857678021-1583848639251-XqMBx\"\ttrue\t2019-10-15\n"
   ]
  },
  {
   "cell_type": "code",
   "execution_count": null,
   "metadata": {},
   "outputs": [],
   "source": [
    "import IPython.display\n",
    "# IPython.display.Image('images_from_video/videos_failed_366_9e2_3669e234-3ad7-4551-87cb-e5e3f0237550/1.jpg') ok\n",
    "# 'images_from_video/videos_failed_120_5bc_1205bc7a-17c7-47a1-9f5f-159068136043',\n",
    "#  'images_from_video/videos_failed_da3_777_da37771d-93a8-4496-88bb-f5318ab34347',\n",
    "#  'images_from_video/videos_failed_b5c_7f9_b5c7f9a6-0d70-4d57-af95-4a84ce05bacc',\n",
    "#  'images_from_video/videos_failed_159_49f_15949f2b-cfa8-4b9b-bd72-d405d136edc0'\n",
    "\n",
    "res = []\n",
    "for prefix in ['images_from_video/videos_failed_366_9e2_3669e234-3ad7-4551-87cb-e5e3f0237550',\n",
    " 'images_from_video/videos_failed_120_5bc_1205bc7a-17c7-47a1-9f5f-159068136043',\n",
    " 'images_from_video/videos_failed_da3_777_da37771d-93a8-4496-88bb-f5318ab34347',\n",
    " 'images_from_video/videos_failed_b5c_7f9_b5c7f9a6-0d70-4d57-af95-4a84ce05bacc',\n",
    " 'images_from_video/videos_failed_159_49f_15949f2b-cfa8-4b9b-bd72-d405d136edc0']:\n",
    "    \n",
    "    path = prefix + \"/1.jpg\"\n",
    "#     path = prefix + \"/400.jpg\"\n",
    "#     path = prefix + \"/800.jpg\"\n",
    "    res.append(IPython.display.Image(path))"
   ]
  },
  {
   "cell_type": "code",
   "execution_count": null,
   "metadata": {},
   "outputs": [],
   "source": [
    "# res[5]"
   ]
  },
  {
   "cell_type": "code",
   "execution_count": null,
   "metadata": {},
   "outputs": [],
   "source": [
    "df_results['share_no_big_vehicle_middle_screen_found'] = df_results['no_big_vehicle_middle_screen_found']/df_results['total_analyzed_frames']"
   ]
  },
  {
   "cell_type": "code",
   "execution_count": null,
   "metadata": {},
   "outputs": [],
   "source": [
    "df_results['share_car_found_but_bounding_box_unsafe_margin'] = df_results['car_found_but_bounding_box_unsafe_margin']/(df_results['total_analyzed_frames'] - df_results['no_big_vehicle_middle_screen_found'])"
   ]
  },
  {
   "cell_type": "code",
   "execution_count": null,
   "metadata": {},
   "outputs": [],
   "source": [
    "df_results['share_bad_frames'] = (df_results['no_big_vehicle_middle_screen_found'] + df_results['car_found_but_bounding_box_unsafe_margin'])/df_results['total_analyzed_frames']"
   ]
  },
  {
   "cell_type": "code",
   "execution_count": null,
   "metadata": {},
   "outputs": [],
   "source": [
    "df_results['share_really_bad_frames'] = (df_results['no_big_vehicle_middle_screen_found'] + df_results['bounding_boxes_outside_image'])/df_results['total_analyzed_frames']"
   ]
  },
  {
   "cell_type": "code",
   "execution_count": null,
   "metadata": {},
   "outputs": [],
   "source": [
    "df_results['bad_frames'] = (df_results['no_big_vehicle_middle_screen_found'] + df_results['car_found_but_bounding_box_unsafe_margin'])\n",
    "df_results['really_bad_frames'] = (df_results['no_big_vehicle_middle_screen_found'] + df_results['bounding_boxes_outside_image'])"
   ]
  },
  {
   "cell_type": "code",
   "execution_count": null,
   "metadata": {},
   "outputs": [],
   "source": [
    "list(df_results[(df_results.classifier_result == BAD) & (df_results.panorama_status == COMPLETED)].url)"
   ]
  },
  {
   "cell_type": "code",
   "execution_count": null,
   "metadata": {},
   "outputs": [],
   "source": [
    "# 739975341-1584107375522-oSkJg\thttps://autoru-panorama-internal.s3.mds.yandex.net/upload/043/3a0/0433a0f0-544c-4d25-8448-0fab3b0b72bf\n",
    "# 1066934494-1583935918687-qdKtz\thttps://autoru-panorama-internal.s3.mds.yandex.net/upload/33c/9a7/33c9a73e-77c3-48d1-99b6-ab15197c31b7\n",
    "# 920854619-1583914538433-CWDrk\thttps://autoru-panorama-internal.s3.mds.yandex.net/upload/5c8/a96/5c8a9690-0456-4b54-8c18-a26e706f5566\n",
    "# 1130504595-1584455994055-9PyHe\thttps://autoru-panorama-internal.s3.mds.yandex.net/upload/618/0ac/6180ac75-f84e-4f97-a93a-cd5ab073ffc1\n",
    "\n",
    "# 908599515-1584450216985-kgmPW\thttps://autoru-panorama-internal.s3.mds.yandex.net/upload/71e/024/71e024f6-5b4d-48b6-9755-ba9c89aaf218\n",
    "# very bad, but can't find on service,\n",
    "# https://auto.ru/cars/used/sale/dodge/caliber/1096883676-73493883/\n",
    "# better to make another\n",
    "\n",
    "# 1133125868-1583858493084-sNI8D\thttps://autoru-panorama-internal.s3.mds.yandex.net/upload/896/b4f/896b4fdf-1d2d-4905-9247-19ea0404e7f6\n",
    "# 857678021-1583848639251-XqMBx\thttps://autoru-panorama-internal.s3.mds.yandex.net/upload/9a5/447/9a544719-3d6a-4c49-9777-c6ff71f51f4c\n",
    "\n",
    "#\tcategory_full\tid\tis_active\tpanorama_id\twas_active\tcreate_date\n",
    "# 0\t\"CARS\"\t\"1096883676-73493883\"\ttrue\t\"908599515-1584450216985-kgmPW\"\ttrue\t2020-03-17\n",
    "# 1\t\"ARTIC\"\t\"16226196-5a95948f\"\ttrue\t\"920854619-1583914538433-CWDrk\"\ttrue\t2019-11-29\n",
    "# 2\t\"ARTIC\"\t\"16265218-c704d1c6\"\ttrue\t\"739975341-1584107375522-oSkJg\"\ttrue\t2019-12-27\n",
    "# 3\t\"ARTIC\"\t\"16156280-055fbc32\"\tfalse\t\"857678021-1583848639251-XqMBx\"\ttrue\t2019-10-15"
   ]
  },
  {
   "cell_type": "code",
   "execution_count": null,
   "metadata": {},
   "outputs": [],
   "source": [
    "df_results.share_no_big_vehicle_middle_screen_found.describe()"
   ]
  },
  {
   "cell_type": "code",
   "execution_count": null,
   "metadata": {},
   "outputs": [],
   "source": [
    "df_results[(df_results.panorama_status == COMPLETED)].share_no_big_vehicle_middle_screen_found.describe()"
   ]
  },
  {
   "cell_type": "code",
   "execution_count": null,
   "metadata": {},
   "outputs": [],
   "source": [
    "df_results[(df_results.panorama_status == COMPLETED)].no_big_vehicle_middle_screen_found.max()"
   ]
  },
  {
   "cell_type": "code",
   "execution_count": null,
   "metadata": {},
   "outputs": [],
   "source": [
    "df_results[(df_results.panorama_status == COMPLETED)].car_found_but_bounding_box_unsafe_margin.max()"
   ]
  },
  {
   "cell_type": "code",
   "execution_count": null,
   "metadata": {},
   "outputs": [],
   "source": [
    "df_results[(df_results.panorama_status == COMPLETED)].bounding_boxes_outside_image.max()"
   ]
  },
  {
   "cell_type": "code",
   "execution_count": null,
   "metadata": {},
   "outputs": [],
   "source": [
    "df_results[(df_results.panorama_status == COMPLETED)].total_analyzed_frames.min()"
   ]
  },
  {
   "cell_type": "code",
   "execution_count": null,
   "metadata": {},
   "outputs": [],
   "source": [
    "df_results[(df_results.panorama_status == FAILED)].share_no_big_vehicle_middle_screen_found.describe()"
   ]
  },
  {
   "cell_type": "markdown",
   "metadata": {},
   "source": [
    "### Analyse strange cases"
   ]
  },
  {
   "cell_type": "code",
   "execution_count": null,
   "metadata": {},
   "outputs": [],
   "source": [
    "# images_from_video/videos_ok_287_b38_287b380e-e940-44d1-bf0d-e4e1401dd015\n",
    "# not ok frame: printing\n",
    "# debugging photo: images_from_video/videos_ok_287_b38_287b380e-e940-44d1-bf0d-e4e1401dd015/1729.jpg\n",
    "# not ok frame: printing\n",
    "# debugging photo: images_from_video/videos_ok_287_b38_287b380e-e940-44d1-bf0d-e4e1401dd015/1753.jpg\n",
    "# not ok frame: printing\n",
    "# debugging photo: images_from_video/videos_ok_287_b38_287b380e-e940-44d1-bf0d-e4e1401dd015/1765.jpg\n",
    "\n",
    "path = 'images_from_video/1.mp4/121.jpg'\n",
    "path = 'images_from_video/videos_ok_03d_04a_03d04ae5-1954-426c-b6ed-2c997f3ddcca/445.jpg'\n",
    "# train\n",
    "\n",
    "path = 'images_from_video/videos_ok_03d_04a_03d04ae5-1954-426c-b6ed-2c997f3ddcca/457.jpg'\n",
    "# parking meter + car 33%\n",
    "\n",
    "path = 'images_from_video/videos_ok_03d_04a_03d04ae5-1954-426c-b6ed-2c997f3ddcca/469.jpg'\n",
    "# car 47% - todo fix\n",
    "\n",
    "path = 'images_from_video/videos_ok_31e_57f_31e57f3e-a6fb-475f-a204-0fd9b8250be4/265.jpg'\n",
    "# check_big_car_tflite_results(path, debug_all=True, debug_filter_big_boxes=True, debug_bounding_box_margin=True)\n",
    "\n",
    "path = 'images_from_video/videos_ok_46a_061_46a061a5-b242-49b1-a41e-65f13b003784/1093.jpg'\n",
    "\n",
    "path = 'images_from_video/videos_ok_dad_56f_dad56ff5-34be-4a46-afb7-22962a9b37df/1273.jpg'\n",
    "# bounding box not ok: images_from_video/videos_ok_dad_56f_dad56ff5-34be-4a46-afb7-22962a9b37df/1261.jpg\n",
    "# no car/truck/bus found: images_from_video/videos_ok_dad_56f_dad56ff5-34be-4a46-afb7-22962a9b37df/1273.jpg\n",
    "# bounding box not ok: images_from_video/videos_ok_dad_56f_dad56ff5-34be-4a46-afb7-22962a9b37df/1273.jpg\n",
    "# no car/truck/bus found: images_from_video/videos_ok_dad_56f_dad56ff5-34be-4a46-afb7-22962a9b37df/1285.jpg\n",
    "# bounding box not ok: images_from_video/videos_ok_dad_56f_dad56ff5-34be-4a46-afb7-22962a9b37df/1285.jpg\n",
    "# no car/truck/bus found: images_from_video/videos_ok_dad_56f_dad56ff5-34be-4a46-afb7-22962a9b37df/1297.jpg\n",
    "# bounding box not ok: images_from_video/videos_ok_dad_56f_dad56ff5-34be-4a46-afb7-22962a9b37df/1297.jpg\n",
    "# no car/truck/bus found: images_from_video/videos_ok_dad_56f_dad56ff5-34be-4a46-afb7-22962a9b37df/1309.jpg\n",
    "# bounding box not ok: images_from_video/videos_ok_dad_56f_dad56ff5-34be-4a46-afb7-22962a9b37df/1309.jpg\n",
    "# no car/truck/bus found: images_from_video/videos_ok_dad_56f_dad56ff5-34be-4a46-afb7-22962a9b37df/1321.jpg\n",
    "# bounding box not ok: images_from_video/videos_ok_dad_56f_dad56ff5-34be-4a46-afb7-22962a9b37df/1321.jpg\n",
    "# no car/truck/bus found: images_from_video/videos_ok_dad_56f_dad56ff5-34be-4a46-afb7-22962a9b37df/1333.jpg\n",
    "# bounding box not ok: images_from_video/videos_ok_dad_56f_dad56ff5-34be-4a46-afb7-22962a9b37df/1333.jpg\n",
    "# big box not in the center found: images_from_video/videos_ok_dad_56f_dad56ff5-34be-4a46-afb7-22962a9b37df/445.jpg\n",
    "# no car/truck/bus found: images_from_video/videos_ok_dad_56f_dad56ff5-34be-4a46-afb7-22962a9b37df/445.jpg\n",
    "# bounding box not ok: images_from_video/videos_ok_dad_56f_dad56ff5-34be-4a46-afb7-22962a9b37df/445.jpg'\n",
    "check_big_car_tflite_results(path, debug_all=True, debug_filter_big_boxes=False, debug_bounding_box_margin=True,\n",
    "                            debug_share_of_screen=True)"
   ]
  }
 ],
 "metadata": {
  "kernelspec": {
   "display_name": "Python 3",
   "language": "python",
   "name": "python3"
  },
  "language_info": {
   "codemirror_mode": {
    "name": "ipython",
    "version": 3
   },
   "file_extension": ".py",
   "mimetype": "text/x-python",
   "name": "python",
   "nbconvert_exporter": "python",
   "pygments_lexer": "ipython3",
   "version": "3.6.10"
  }
 },
 "nbformat": 4,
 "nbformat_minor": 4
}
