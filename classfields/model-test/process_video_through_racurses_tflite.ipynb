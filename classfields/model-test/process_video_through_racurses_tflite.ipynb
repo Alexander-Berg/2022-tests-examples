{
 "cells": [
  {
   "cell_type": "markdown",
   "metadata": {},
   "source": [
    "### Analyze racurses tflite model on real videos"
   ]
  },
  {
   "cell_type": "code",
   "execution_count": 448,
   "metadata": {},
   "outputs": [],
   "source": [
    "import tensorflow as tf\n",
    "\n",
    "import numpy as np\n",
    "from PIL import Image\n",
    "\n",
    "import pandas as pd\n",
    "pd.set_option('display.max_columns', 500)\n",
    "pd.set_option('display.width', 1500)\n",
    "pd.set_option('display.max_colwidth', 1000)\n",
    "# pd.set_option('display.max_colheight', 1000)\n",
    "pd.set_option('display.max_rows', 500)\n",
    "\n",
    "import glob\n",
    "from IPython.display import Image as iimage"
   ]
  },
  {
   "cell_type": "code",
   "execution_count": 6,
   "metadata": {},
   "outputs": [],
   "source": [
    "racurs_model_path = 'ourmodels/bundled-tflite-racurses_2020219191728-2020-02-20T12_52_18.283Z/model.tflite'\n",
    "racurs_label_path = 'ourmodels/bundled-tflite-racurses_2020219191728-2020-02-20T12_52_18.283Z/dict.txt'"
   ]
  },
  {
   "cell_type": "code",
   "execution_count": 7,
   "metadata": {},
   "outputs": [],
   "source": [
    "def load_labels(filename):\n",
    "    with open(filename, 'r') as f:\n",
    "        return [line.strip() for line in f.readlines()]\n",
    "labels = load_labels(racurs_label_path)"
   ]
  },
  {
   "cell_type": "code",
   "execution_count": 10,
   "metadata": {},
   "outputs": [],
   "source": [
    "interpreter = tf.lite.Interpreter(racurs_model_path)\n",
    "interpreter.allocate_tensors()\n",
    "input_details = interpreter.get_input_details()\n",
    "output_details = interpreter.get_output_details()"
   ]
  },
  {
   "cell_type": "code",
   "execution_count": 11,
   "metadata": {},
   "outputs": [
    {
     "data": {
      "text/plain": [
       "[{'name': 'image',\n",
       "  'index': 3,\n",
       "  'shape': array([  1, 224, 224,   3], dtype=int32),\n",
       "  'dtype': numpy.uint8,\n",
       "  'quantization': (0.007874015718698502, 128)}]"
      ]
     },
     "execution_count": 11,
     "metadata": {},
     "output_type": "execute_result"
    }
   ],
   "source": [
    "input_ddetails"
   ]
  },
  {
   "cell_type": "code",
   "execution_count": 12,
   "metadata": {},
   "outputs": [
    {
     "data": {
      "text/plain": [
       "[{'name': 'scores',\n",
       "  'index': 172,\n",
       "  'shape': array([1, 6], dtype=int32),\n",
       "  'dtype': numpy.uint8,\n",
       "  'quantization': (0.00390625, 0)}]"
      ]
     },
     "execution_count": 12,
     "metadata": {},
     "output_type": "execute_result"
    }
   ],
   "source": [
    "output_details"
   ]
  },
  {
   "cell_type": "code",
   "execution_count": 38,
   "metadata": {},
   "outputs": [],
   "source": [
    "img_path = 'images_from_video/videos_ok_53b_d6a_53bd6a46-5540-4428-a879-4d4060f15ad7/1.jpg' # 3/4 back\n",
    "img_path = 'images_from_video/videos_ok_53b_d6a_53bd6a46-5540-4428-a879-4d4060f15ad7/500.jpg' # 3/4 front"
   ]
  },
  {
   "cell_type": "code",
   "execution_count": 49,
   "metadata": {},
   "outputs": [],
   "source": [
    "height = input_details[0]['shape'][1]\n",
    "width = input_details[0]['shape'][2]\n",
    "# img_path = '/var/tmp/tmpjcmgv9u0.jpg'\n",
    "img = Image.open(img_path).resize((width, height))\n",
    "input_data = np.expand_dims(img, axis = 0)\n",
    "interpreter.set_tensor(input_details[0]['index'], input_data)\n",
    "interpreter.invoke()\n",
    "scores = interpreter.get_tensor(output_details[0]['index'])"
   ]
  },
  {
   "cell_type": "code",
   "execution_count": 50,
   "metadata": {},
   "outputs": [
    {
     "data": {
      "text/plain": [
       "array([[  8, 233,   6,  23,  29,  87]], dtype=uint8)"
      ]
     },
     "execution_count": 50,
     "metadata": {},
     "output_type": "execute_result"
    }
   ],
   "source": [
    "scores"
   ]
  },
  {
   "cell_type": "code",
   "execution_count": 40,
   "metadata": {},
   "outputs": [],
   "source": [
    "LABEL_2_READABLE_RACURS = {'0': \"auto_view_3_4_back_0\",\n",
    "                           '1': \"auto_view_3_4_front_1\",\n",
    "                           '2': \"auto_view_back_2\",\n",
    "                           '7': \"auto_view_front_7\",\n",
    "                           '18': \"auto_view_side_18\",\n",
    "                           \"100\": \"other_views_100\"}"
   ]
  },
  {
   "cell_type": "code",
   "execution_count": 41,
   "metadata": {},
   "outputs": [
    {
     "data": {
      "text/plain": [
       "['18', '1', '2', '100', '0', '7']"
      ]
     },
     "execution_count": 41,
     "metadata": {},
     "output_type": "execute_result"
    }
   ],
   "source": [
    "labels"
   ]
  },
  {
   "cell_type": "code",
   "execution_count": 705,
   "metadata": {},
   "outputs": [],
   "source": [
    "# iimage(img_path)"
   ]
  },
  {
   "cell_type": "markdown",
   "metadata": {},
   "source": [
    "### Get racurs from image path"
   ]
  },
  {
   "cell_type": "code",
   "execution_count": 71,
   "metadata": {},
   "outputs": [],
   "source": [
    "interpreter = tf.lite.Interpreter(racurs_model_path)\n",
    "interpreter.allocate_tensors()\n",
    "input_details = interpreter.get_input_details()\n",
    "output_details = interpreter.get_output_details()\n",
    "def get_racurs_tf_lite_result(img_path):\n",
    "    height = input_details[0]['shape'][1]\n",
    "    width = input_details[0]['shape'][2]\n",
    "    img = Image.open(img_path).resize((width, height))\n",
    "    input_data = np.expand_dims(img, axis = 0)\n",
    "    interpreter.set_tensor(input_details[0]['index'], input_data)\n",
    "    interpreter.invoke()\n",
    "    scores = interpreter.get_tensor(output_details[0]['index']).squeeze()\n",
    "#     print(scores)\n",
    "    max_index = np.argmax(scores)\n",
    "    final_score = scores[max_index]\n",
    "    racurs = LABEL_2_READABLE_RACURS[labels[max_index]]\n",
    "    return racurs, final_score"
   ]
  },
  {
   "cell_type": "code",
   "execution_count": 72,
   "metadata": {},
   "outputs": [
    {
     "data": {
      "text/plain": [
       "('auto_view_side_18', 185)"
      ]
     },
     "execution_count": 72,
     "metadata": {},
     "output_type": "execute_result"
    }
   ],
   "source": [
    "get_racurs_tf_lite_result(img_path)"
   ]
  },
  {
   "cell_type": "code",
   "execution_count": 111,
   "metadata": {},
   "outputs": [
    {
     "name": "stdout",
     "output_type": "stream",
     "text": [
      "('auto_view_side_18', 185)\n"
     ]
    }
   ],
   "source": [
    "img_path = 'images_from_video/videos_ok_53b_d6a_53bd6a46-5540-4428-a879-4d4060f15ad7/1.jpg' # 3/4 back\n",
    "img_path = 'images_from_video/videos_ok_53b_d6a_53bd6a46-5540-4428-a879-4d4060f15ad7/1000.jpg' # 3/4 back\n",
    "img_path = 'images_from_video/videos_ok_53b_d6a_53bd6a46-5540-4428-a879-4d4060f15ad7/200.jpg' # 3/4 back\n",
    "print(get_racurs_tf_lite_result(img_path))\n",
    "# iimage(img_path)"
   ]
  },
  {
   "cell_type": "markdown",
   "metadata": {},
   "source": [
    "### Analyze video"
   ]
  },
  {
   "cell_type": "code",
   "execution_count": 173,
   "metadata": {},
   "outputs": [],
   "source": [
    "df_bb_classifier = pd.read_csv('classification_results_v2.tsv', sep = '\\t')\n"
   ]
  },
  {
   "cell_type": "code",
   "execution_count": 179,
   "metadata": {},
   "outputs": [
    {
     "data": {
      "text/html": [
       "<div>\n",
       "<style scoped>\n",
       "    .dataframe tbody tr th:only-of-type {\n",
       "        vertical-align: middle;\n",
       "    }\n",
       "\n",
       "    .dataframe tbody tr th {\n",
       "        vertical-align: top;\n",
       "    }\n",
       "\n",
       "    .dataframe thead th {\n",
       "        text-align: right;\n",
       "    }\n",
       "</style>\n",
       "<table border=\"1\" class=\"dataframe\">\n",
       "  <thead>\n",
       "    <tr style=\"text-align: right;\">\n",
       "      <th></th>\n",
       "      <th>url</th>\n",
       "      <th>panorama_status</th>\n",
       "      <th>image_path</th>\n",
       "      <th>classifier_result</th>\n",
       "      <th>total_analyzed_frames</th>\n",
       "      <th>big_vehicle_middle_screen_found</th>\n",
       "      <th>no_big_vehicle_middle_screen_found</th>\n",
       "      <th>car_found_but_bounding_box_unsafe_margin</th>\n",
       "      <th>bounding_boxes_outside_image</th>\n",
       "      <th>bad_frames</th>\n",
       "      <th>really_bad_frames</th>\n",
       "      <th>share_no_big_vehicle_middle_screen_found</th>\n",
       "      <th>share_car_found_but_bounding_box_unsafe_margin</th>\n",
       "      <th>share_bad_frames</th>\n",
       "      <th>share_really_bad_frames</th>\n",
       "    </tr>\n",
       "  </thead>\n",
       "  <tbody>\n",
       "    <tr>\n",
       "      <th>0</th>\n",
       "      <td>https://autoru-panorama-internal.s3.mds.yandex.net/upload/d98/a9f/d98a9f97-7491-4bed-8b32-acb49de28be8</td>\n",
       "      <td>failed</td>\n",
       "      <td>images_from_video/videos_failed_d98_a9f_d98a9f97-7491-4bed-8b32-acb49de28be8</td>\n",
       "      <td>GOOD</td>\n",
       "      <td>147</td>\n",
       "      <td>144</td>\n",
       "      <td>0</td>\n",
       "      <td>0</td>\n",
       "      <td>0</td>\n",
       "      <td>3</td>\n",
       "      <td>3</td>\n",
       "      <td>0.020408</td>\n",
       "      <td>0.00000</td>\n",
       "      <td>0.020408</td>\n",
       "      <td>0.020408</td>\n",
       "    </tr>\n",
       "    <tr>\n",
       "      <th>1</th>\n",
       "      <td>https://autoru-panorama-internal.s3.mds.yandex.net/upload/e86/89d/e8689d6f-1bf9-4b83-a592-82ecf4956e83</td>\n",
       "      <td>completed</td>\n",
       "      <td>images_from_video/videos_ok_e86_89d_e8689d6f-1bf9-4b83-a592-82ecf4956e83</td>\n",
       "      <td>GOOD</td>\n",
       "      <td>80</td>\n",
       "      <td>80</td>\n",
       "      <td>0</td>\n",
       "      <td>7</td>\n",
       "      <td>2</td>\n",
       "      <td>7</td>\n",
       "      <td>2</td>\n",
       "      <td>0.000000</td>\n",
       "      <td>0.08750</td>\n",
       "      <td>0.087500</td>\n",
       "      <td>0.025000</td>\n",
       "    </tr>\n",
       "    <tr>\n",
       "      <th>2</th>\n",
       "      <td>https://autoru-panorama-internal.s3.mds.yandex.net/upload/287/b38/287b380e-e940-44d1-bf0d-e4e1401dd015</td>\n",
       "      <td>completed</td>\n",
       "      <td>images_from_video/videos_ok_287_b38_287b380e-e940-44d1-bf0d-e4e1401dd015</td>\n",
       "      <td>GOOD</td>\n",
       "      <td>157</td>\n",
       "      <td>154</td>\n",
       "      <td>0</td>\n",
       "      <td>0</td>\n",
       "      <td>0</td>\n",
       "      <td>3</td>\n",
       "      <td>3</td>\n",
       "      <td>0.019108</td>\n",
       "      <td>0.00000</td>\n",
       "      <td>0.019108</td>\n",
       "      <td>0.019108</td>\n",
       "    </tr>\n",
       "    <tr>\n",
       "      <th>3</th>\n",
       "      <td>https://autoru-panorama-internal.s3.mds.yandex.net/upload/53b/d6a/53bd6a46-5540-4428-a879-4d4060f15ad7</td>\n",
       "      <td>completed</td>\n",
       "      <td>images_from_video/videos_ok_53b_d6a_53bd6a46-5540-4428-a879-4d4060f15ad7</td>\n",
       "      <td>BAD</td>\n",
       "      <td>89</td>\n",
       "      <td>82</td>\n",
       "      <td>0</td>\n",
       "      <td>37</td>\n",
       "      <td>12</td>\n",
       "      <td>44</td>\n",
       "      <td>19</td>\n",
       "      <td>0.078652</td>\n",
       "      <td>0.45122</td>\n",
       "      <td>0.494382</td>\n",
       "      <td>0.213483</td>\n",
       "    </tr>\n",
       "    <tr>\n",
       "      <th>4</th>\n",
       "      <td>https://autoru-panorama-internal.s3.mds.yandex.net/upload/dad/56f/dad56ff5-34be-4a46-afb7-22962a9b37df</td>\n",
       "      <td>completed</td>\n",
       "      <td>images_from_video/videos_ok_dad_56f_dad56ff5-34be-4a46-afb7-22962a9b37df</td>\n",
       "      <td>GOOD</td>\n",
       "      <td>144</td>\n",
       "      <td>143</td>\n",
       "      <td>0</td>\n",
       "      <td>0</td>\n",
       "      <td>0</td>\n",
       "      <td>1</td>\n",
       "      <td>1</td>\n",
       "      <td>0.006944</td>\n",
       "      <td>0.00000</td>\n",
       "      <td>0.006944</td>\n",
       "      <td>0.006944</td>\n",
       "    </tr>\n",
       "  </tbody>\n",
       "</table>\n",
       "</div>"
      ],
      "text/plain": [
       "                                                                                                      url panorama_status                                                                    image_path classifier_result  total_analyzed_frames  big_vehicle_middle_screen_found  no_big_vehicle_middle_screen_found  car_found_but_bounding_box_unsafe_margin  bounding_boxes_outside_image  bad_frames  really_bad_frames  share_no_big_vehicle_middle_screen_found  share_car_found_but_bounding_box_unsafe_margin  share_bad_frames  share_really_bad_frames\n",
       "0  https://autoru-panorama-internal.s3.mds.yandex.net/upload/d98/a9f/d98a9f97-7491-4bed-8b32-acb49de28be8          failed  images_from_video/videos_failed_d98_a9f_d98a9f97-7491-4bed-8b32-acb49de28be8              GOOD                    147                              144                                   0                                         0                             0           3                  3                                  0.020408                                         0.00000          0.020408                 0.020408\n",
       "1  https://autoru-panorama-internal.s3.mds.yandex.net/upload/e86/89d/e8689d6f-1bf9-4b83-a592-82ecf4956e83       completed      images_from_video/videos_ok_e86_89d_e8689d6f-1bf9-4b83-a592-82ecf4956e83              GOOD                     80                               80                                   0                                         7                             2           7                  2                                  0.000000                                         0.08750          0.087500                 0.025000\n",
       "2  https://autoru-panorama-internal.s3.mds.yandex.net/upload/287/b38/287b380e-e940-44d1-bf0d-e4e1401dd015       completed      images_from_video/videos_ok_287_b38_287b380e-e940-44d1-bf0d-e4e1401dd015              GOOD                    157                              154                                   0                                         0                             0           3                  3                                  0.019108                                         0.00000          0.019108                 0.019108\n",
       "3  https://autoru-panorama-internal.s3.mds.yandex.net/upload/53b/d6a/53bd6a46-5540-4428-a879-4d4060f15ad7       completed      images_from_video/videos_ok_53b_d6a_53bd6a46-5540-4428-a879-4d4060f15ad7               BAD                     89                               82                                   0                                        37                            12          44                 19                                  0.078652                                         0.45122          0.494382                 0.213483\n",
       "4  https://autoru-panorama-internal.s3.mds.yandex.net/upload/dad/56f/dad56ff5-34be-4a46-afb7-22962a9b37df       completed      images_from_video/videos_ok_dad_56f_dad56ff5-34be-4a46-afb7-22962a9b37df              GOOD                    144                              143                                   0                                         0                             0           1                  1                                  0.006944                                         0.00000          0.006944                 0.006944"
      ]
     },
     "execution_count": 179,
     "metadata": {},
     "output_type": "execute_result"
    }
   ],
   "source": [
    "df_bb_classifier.head()"
   ]
  },
  {
   "cell_type": "code",
   "execution_count": 178,
   "metadata": {},
   "outputs": [
    {
     "data": {
      "text/plain": [
       "['images_from_video/videos_failed_d98_a9f_d98a9f97-7491-4bed-8b32-acb49de28be8',\n",
       " 'images_from_video/videos_ok_e86_89d_e8689d6f-1bf9-4b83-a592-82ecf4956e83']"
      ]
     },
     "execution_count": 178,
     "metadata": {},
     "output_type": "execute_result"
    }
   ],
   "source": [
    "GOOD = 'GOOD'\n",
    "# COMPLETED = 'completed'\n",
    "# FAILED = 'failed'\n",
    "list(df_bb_classifier.image_path)[0:2]"
   ]
  },
  {
   "cell_type": "code",
   "execution_count": 146,
   "metadata": {},
   "outputs": [],
   "source": [
    "from functools import cmp_to_key\n",
    "\n",
    "def sort_by_filenumber(x, y):\n",
    "    name1 = int(x.split('/')[-1].split('.jpg')[0])\n",
    "    name2 = int(y.split('/')[-1].split('.jpg')[0])\n",
    "#     print(name1)\n",
    "#     print(name2)\n",
    "    return -1 if name1 < name2 else 1\n",
    "    \n",
    "    \n",
    "# sort_by_filenumber('images_from_video/videos_ok_53b_d6a_53bd6a46-5540-4428-a879-4d4060f15ad7/1.jpg', 'images_from_video/videos_ok_53b_d6a_53bd6a46-5540-4428-a879-4d4060f15ad7/1000.jpg')    \n",
    "folder_path = 'images_from_video/videos_failed_00e_725_00e725e3-afad-4b46-be56-46664c51d8c4/'\n",
    "all_files = glob.glob(folder_path + \"*.jpg\")\n",
    "    \n",
    "all_files.sort(key=cmp_to_key(sort_by_filenumber))"
   ]
  },
  {
   "cell_type": "code",
   "execution_count": 216,
   "metadata": {},
   "outputs": [],
   "source": [
    "from collections import defaultdict\n",
    "# folder_path = 'images_from_video/videos_failed_00e_725_00e725e3-afad-4b46-be56-46664c51d8c4'\n",
    "def process_video_though_racurses(folder_path):\n",
    "    all_files = glob.glob(folder_path + \"/*.jpg\")\n",
    "    all_files.sort(key=cmp_to_key(sort_by_filenumber))\n",
    "    list_counts = []\n",
    "    racurses_dict = defaultdict(int)\n",
    "    i = 0\n",
    "    for file in all_files:\n",
    "        # process 2 frames per second\n",
    "        i += 1\n",
    "        if i%12 != 1:\n",
    "            continue\n",
    "        racurs, score = get_racurs_tf_lite_result(file)\n",
    "        racurses_dict[racurs] += 1\n",
    "        if len(list_counts) == 0:\n",
    "            add_dict = {}\n",
    "            add_dict[racurs] = 1\n",
    "            list_counts.append(add_dict)\n",
    "        else:\n",
    "            if racurs in list_counts[-1]:\n",
    "                list_counts[-1][racurs] += 1\n",
    "            else:\n",
    "                add_dict = {}\n",
    "                add_dict[racurs] = 1\n",
    "                list_counts.append(add_dict)\n",
    "#         print(list_counts)\n",
    "#         print(racurses_dict)\n",
    "    return dict(racurses_dict), list_counts"
   ]
  },
  {
   "cell_type": "code",
   "execution_count": 170,
   "metadata": {},
   "outputs": [],
   "source": [
    "racurses_dict, list_counts = process_video_though_racurses(folder_path = folder_path)"
   ]
  },
  {
   "cell_type": "code",
   "execution_count": 171,
   "metadata": {},
   "outputs": [
    {
     "data": {
      "text/plain": [
       "{'auto_view_front_7': 42,\n",
       " 'auto_view_side_18': 82,\n",
       " 'other_views_100': 3,\n",
       " 'auto_view_back_2': 2,\n",
       " 'auto_view_3_4_back_0': 1,\n",
       " 'auto_view_3_4_front_1': 1}"
      ]
     },
     "execution_count": 171,
     "metadata": {},
     "output_type": "execute_result"
    }
   ],
   "source": [
    "racurses_dict"
   ]
  },
  {
   "cell_type": "code",
   "execution_count": 182,
   "metadata": {},
   "outputs": [
    {
     "name": "stdout",
     "output_type": "stream",
     "text": [
      "ok\n"
     ]
    }
   ],
   "source": [
    "all_keys = list(racurses_dict.keys())\n",
    "# if len(all_keys) == 6 \n",
    "if 'other_views_100' in all_keys:\n",
    "    print('ok')\n",
    " "
   ]
  },
  {
   "cell_type": "code",
   "execution_count": 222,
   "metadata": {},
   "outputs": [],
   "source": [
    "def are_all_racurses_present(racurses_dict):\n",
    "    all_keys = list(racurses_dict.keys())\n",
    "    total_keys = len(all_keys)\n",
    "    if total_keys == 6 or (total_keys == 5 and 'other_views_100' not in all_keys):\n",
    "        return True\n",
    "    else:\n",
    "        return False\n",
    "   "
   ]
  },
  {
   "cell_type": "code",
   "execution_count": 172,
   "metadata": {},
   "outputs": [
    {
     "data": {
      "text/plain": [
       "[{'auto_view_front_7': 39},\n",
       " {'auto_view_side_18': 28},\n",
       " {'other_views_100': 3},\n",
       " {'auto_view_side_18': 6},\n",
       " {'auto_view_back_2': 2},\n",
       " {'auto_view_side_18': 32},\n",
       " {'auto_view_3_4_back_0': 1},\n",
       " {'auto_view_side_18': 12},\n",
       " {'auto_view_3_4_front_1': 1},\n",
       " {'auto_view_side_18': 4},\n",
       " {'auto_view_front_7': 3}]"
      ]
     },
     "execution_count": 172,
     "metadata": {},
     "output_type": "execute_result"
    }
   ],
   "source": [
    "list_counts"
   ]
  },
  {
   "cell_type": "code",
   "execution_count": 223,
   "metadata": {},
   "outputs": [],
   "source": [
    "all_dicts = []\n",
    "def process_all_videos(folder_paths):\n",
    "    for path in folder_paths:\n",
    "        print(f\"Processing {path}\")\n",
    "        racurses_dict, list_counts = process_video_though_racurses(path)\n",
    "        res = {}\n",
    "        res['image_path'] = path\n",
    "        res['racurses_dict'] = racurses_dict\n",
    "        res['list_racurses'] = list_counts\n",
    "        res['all_racurses_present'] = are_all_racurses_present(racurses_dict)\n",
    "        all_dicts.append(res)\n",
    "    return pd.DataFrame(all_dicts)"
   ]
  },
  {
   "cell_type": "code",
   "execution_count": 226,
   "metadata": {},
   "outputs": [
    {
     "name": "stdout",
     "output_type": "stream",
     "text": [
      "Processing images_from_video/videos_failed_d98_a9f_d98a9f97-7491-4bed-8b32-acb49de28be8\n",
      "Processing images_from_video/videos_ok_e86_89d_e8689d6f-1bf9-4b83-a592-82ecf4956e83\n",
      "Processing images_from_video/videos_ok_287_b38_287b380e-e940-44d1-bf0d-e4e1401dd015\n",
      "Processing images_from_video/videos_ok_53b_d6a_53bd6a46-5540-4428-a879-4d4060f15ad7\n",
      "Processing images_from_video/videos_ok_dad_56f_dad56ff5-34be-4a46-afb7-22962a9b37df\n",
      "Processing images_from_video/videos_ok_da4_dcd_da4dcd26-08af-4ac9-b233-775f34c89bce\n",
      "Processing images_from_video/videos_ok_e13_766_e1376683-cec9-440b-b5ef-ce831686f60d\n",
      "Processing images_from_video/videos_ok_03d_04a_03d04ae5-1954-426c-b6ed-2c997f3ddcca\n",
      "Processing images_from_video/videos_ok_89b_d79_89bd793d-2069-421d-beff-7a93c8874a95\n",
      "Processing images_from_video/videos_ok_31e_57f_31e57f3e-a6fb-475f-a204-0fd9b8250be4\n",
      "Processing images_from_video/videos_ok_46a_061_46a061a5-b242-49b1-a41e-65f13b003784\n",
      "Processing images_from_video/videos_ok_a4f_99d_a4f99db1-7605-449f-9b9f-c1ef9d0f2f7f\n",
      "Processing images_from_video/videos_ok_4c7_4ef_4c74ef4b-6385-4fe1-b8e5-3fa6b94e5039\n",
      "Processing images_from_video/videos_ok_62d_768_62d768ce-077c-471d-bf25-22cb5cf6767d\n",
      "Processing images_from_video/videos_ok_03c_73d_03c73d60-43c5-4142-b4f4-c040eeeb862f\n",
      "Processing images_from_video/videos_failed_42e_faf_42efafcb-0a5e-4a68-9d91-4f909f1e9002\n",
      "Processing images_from_video/videos_ok_211_0bb_2110bb80-da68-46f3-b77a-a4eeb4ac8724\n",
      "Processing images_from_video/videos_ok_021_298_0212981c-8447-493b-9291-53828f16f65f\n",
      "Processing images_from_video/videos_failed_69f_a8b_69fa8b48-5b30-43fa-8be6-20affcce6827\n",
      "Processing images_from_video/videos_ok_3a5_933_3a59336f-81d7-4bb4-bf67-02ced476210c\n",
      "Processing images_from_video/videos_ok_75e_5dc_75e5dc4c-4983-4001-a394-b5332570c702\n",
      "Processing images_from_video/videos_ok_6d9_a1a_6d9a1ac6-ca96-4501-b448-655acd65e294\n",
      "Processing images_from_video/videos_ok_d2c_f23_d2cf2333-6b19-435a-8671-1a8f524030a0\n",
      "Processing images_from_video/videos_failed_4f0_3ed_4f03edd2-5ab8-487a-8cce-eb98eb92cb37\n",
      "Processing images_from_video/videos_ok_7f8_75a_7f875a60-8493-4224-a56d-8120557006a3\n",
      "Processing images_from_video/videos_ok_fab_258_fab258d8-faa8-4fd7-a6bd-1e87f8b5b37b\n",
      "Processing images_from_video/videos_failed_2a6_648_2a6648eb-87bf-41be-a8b7-42c4a4ca5ec6\n",
      "Processing images_from_video/videos_ok_a5e_70f_a5e70fa7-031c-4a76-b8b0-61c0f6ccaedf\n",
      "Processing images_from_video/videos_failed_663_071_6630712a-8bc3-4bc8-8176-6fb282c3a3cc\n",
      "Processing images_from_video/videos_ok_ed7_34f_ed734fea-125c-4d51-8698-6881e5e0f5ac\n",
      "Processing images_from_video/videos_failed_831_493_83149371-205e-4b53-aadf-debf44d16518\n",
      "Processing images_from_video/videos_ok_171_3ef_1713efa5-6b77-4f39-bbb6-fb2c4ce5ed40\n",
      "Processing images_from_video/videos_ok_91f_77d_91f77dc4-6b2c-4b47-bb44-632527c19f94\n",
      "Processing images_from_video/videos_ok_ce1_5ee_ce15ee41-ce75-4b41-99ce-128e9e1d71dd\n",
      "Processing images_from_video/videos_failed_857_ec2_857ec274-5670-4e46-96d8-7e18d51b7a59\n",
      "Processing images_from_video/videos_ok_f2f_9c2_f2f9c2e7-8d74-4d70-a402-21d696b80a74\n",
      "Processing images_from_video/videos_ok_6ed_2eb_6ed2eb6a-fe9a-4c5f-a3d0-627f76c03c68\n",
      "Processing images_from_video/videos_ok_d09_925_d0992549-dec9-40ad-89ba-124902540409\n",
      "Processing images_from_video/videos_failed_b53_c69_b53c69b5-33d6-4748-95e1-f842982f727c\n",
      "Processing images_from_video/videos_ok_00d_123_00d123be-ecfa-43bf-b489-2f54e4ec0bd0\n",
      "Processing images_from_video/videos_ok_049_575_04957525-3463-48df-a3ab-34b3e81ce362\n",
      "Processing images_from_video/videos_ok_c92_274_c92274ba-0528-4ece-b520-6f9abd3c1a7d\n",
      "Processing images_from_video/videos_ok_263_829_2638299c-b445-4899-b458-53fe681eff4d\n",
      "Processing images_from_video/videos_ok_6ca_bec_6cabec45-7c5f-4efa-bc3d-3bb022bbedc0\n",
      "Processing images_from_video/videos_failed_120_5bc_1205bc7a-17c7-47a1-9f5f-159068136043\n",
      "Processing images_from_video/videos_ok_cac_5c0_cac5c051-0a16-4528-96ed-a1cd2ca851d6\n",
      "Processing images_from_video/videos_ok_543_1cf_5431cfb5-f14f-474e-becd-c83b6308e132\n",
      "Processing images_from_video/videos_failed_55d_8ba_55d8bae0-5fd8-4c32-84a8-4c7973021892\n",
      "Processing images_from_video/videos_ok_9fe_ecd_9feecd93-08e8-4973-870d-d12d02b79558\n",
      "Processing images_from_video/videos_ok_1e8_f3b_1e8f3bb6-f19d-4b82-a868-af4d3466c3ec\n",
      "Processing images_from_video/videos_ok_67b_f43_67bf4320-eb00-4c00-9729-e65d1036edd2\n",
      "Processing images_from_video/videos_ok_2d9_915_2d991587-78d9-4dea-96f9-4090d9b9a447\n",
      "Processing images_from_video/videos_failed_430_9fd_4309fd5f-d7f2-4ee5-b256-5ddb6c262648\n",
      "Processing images_from_video/videos_failed_978_81c_97881ccf-b9c4-4569-a7c9-3ffb0627c50f\n",
      "Processing images_from_video/videos_ok_de4_c5e_de4c5efd-4f04-4284-ab64-3267d1d60f8f\n",
      "Processing images_from_video/videos_failed_ef4_c47_ef4c4767-a1ce-4b3d-9c0e-30ab4f88d61e\n",
      "Processing images_from_video/videos_failed_af9_ee7_af9ee745-2571-414e-ae9f-5cde82e9dfda\n",
      "Processing images_from_video/videos_ok_461_7b3_4617b3f5-1de7-4cb4-a96e-51c038c51977\n",
      "Processing images_from_video/videos_ok_618_0ac_6180ac75-f84e-4f97-a93a-cd5ab073ffc1\n",
      "Processing images_from_video/videos_ok_06b_5ea_06b5ea2a-103c-4b9a-8f93-1ffa89937ecb\n",
      "Processing images_from_video/videos_ok_023_833_0238339e-b221-4932-a133-6ad933e050b9\n",
      "Processing images_from_video/videos_ok_b43_d7b_b43d7b89-90a9-477f-a351-a0f2411591ba\n",
      "Processing images_from_video/videos_ok_47b_fff_47bfff50-9ce7-4bc0-8d21-96a7019cbe4b\n",
      "Processing images_from_video/videos_ok_ba7_126_ba712616-8bf0-495c-a326-088b79070f87\n",
      "Processing images_from_video/videos_ok_d64_bbb_d64bbbd6-5d16-44be-a443-48148825ae8b\n",
      "Processing images_from_video/videos_ok_2b7_3c3_2b73c3f2-452d-4190-a624-0c97710f7b2f\n",
      "Processing images_from_video/videos_ok_7d7_99f_7d799ff4-cc2d-443b-bcfa-89c9801d638d\n",
      "Processing images_from_video/videos_failed_35a_138_35a13881-9bc1-4596-bc45-7d6d76b09daa\n",
      "Processing images_from_video/videos_ok_1bc_d7b_1bcd7b62-5e8e-46d2-af17-2a667681a6c9\n",
      "Processing images_from_video/videos_ok_5c0_8d9_5c08d930-2325-493b-8279-cbd6f8a3db40\n",
      "Processing images_from_video/videos_ok_f7a_eb7_f7aeb758-b228-4893-87e2-b1258efe10e4\n",
      "Processing images_from_video/videos_ok_79d_8d9_79d8d9e7-3740-44c5-a3cf-a5fc5aa5e015\n",
      "Processing images_from_video/videos_failed_250_88e_25088e17-e8fd-4f12-9206-00a3853e03f6\n",
      "Processing images_from_video/videos_ok_896_b4f_896b4fdf-1d2d-4905-9247-19ea0404e7f6\n",
      "Processing images_from_video/videos_failed_3fb_0af_3fb0af88-2095-4c51-b308-d3be1547ba79\n",
      "Processing images_from_video/videos_ok_15f_4eb_15f4eb71-447b-4356-b817-de444c2ee98a\n",
      "Processing images_from_video/videos_failed_fe7_ea8_fe7ea821-7c24-4b33-83d1-3aff85d6412f\n",
      "Processing images_from_video/videos_ok_072_7e0_0727e01c-dd18-42d2-a288-2e121d11c685\n",
      "Processing images_from_video/videos_failed_d33_9e1_d339e108-884a-44b0-8fdc-d47708527a3f\n",
      "Processing images_from_video/videos_ok_421_95b_42195b4a-5363-4131-915d-2618d6fa6784\n",
      "Processing images_from_video/videos_failed_ff9_fd6_ff9fd619-927c-4cab-ae02-a0bcc4665ab4\n",
      "Processing images_from_video/videos_ok_5b9_784_5b97842c-4204-40c0-bec9-520cc27916bf\n",
      "Processing images_from_video/videos_ok_b46_d4b_b46d4bfe-702f-457f-8724-96bbdaa1bff1\n",
      "Processing images_from_video/videos_failed_986_879_986879c4-584d-44d6-89e5-1aa0f37a5983\n",
      "Processing images_from_video/videos_failed_0a0_30d_0a030d32-cdc9-4949-9a74-9c34f8ac51e1\n",
      "Processing images_from_video/videos_ok_53b_d70_53bd70c9-a263-459d-8fc6-f2279576b965\n",
      "Processing images_from_video/videos_failed_9ae_107_9ae10706-9c41-435d-83a6-8ff135191a1c\n",
      "Processing images_from_video/videos_ok_01e_67f_01e67f36-58c4-47c8-a085-755a9b2f338d\n",
      "Processing images_from_video/videos_ok_b60_0a1_b600a1f3-5e1d-4b06-ab7d-eeb43e9e3596\n",
      "Processing images_from_video/videos_ok_a63_45e_a6345e9e-2567-4d30-a9cb-b2e993638a33\n",
      "Processing images_from_video/videos_ok_265_f80_265f80ff-a11a-4c15-b520-5b8aa870f489\n",
      "Processing images_from_video/videos_ok_977_4f6_9774f66a-2256-433e-8a81-26badc613c53\n",
      "Processing images_from_video/videos_ok_dd3_cc1_dd3cc1ef-af5b-4e89-98c4-50dc454e9c72\n",
      "Processing images_from_video/videos_failed_d09_b98_d09b9863-4a2d-498e-a999-a74aec917a8c\n",
      "Processing images_from_video/videos_failed_a98_37f_a9837f24-bc3b-43cd-a0f1-326be81e4a75\n",
      "Processing images_from_video/videos_ok_2d6_87d_2d687dc9-a131-4f7d-add6-6b740836170d\n",
      "Processing images_from_video/videos_ok_b50_4d6_b504d67a-0fc9-428d-b0ea-e3ef771cedc8\n"
     ]
    },
    {
     "name": "stdout",
     "output_type": "stream",
     "text": [
      "Processing images_from_video/videos_ok_6b1_300_6b130009-2529-453b-a44c-6c7ff840e41c\n",
      "Processing images_from_video/videos_ok_c6e_199_c6e199e7-061d-4641-ad32-2b3b9889fb7c\n",
      "Processing images_from_video/videos_ok_f1b_f0a_f1bf0a37-8193-44ed-9605-da1bd29fd043\n",
      "Processing images_from_video/videos_ok_591_830_59183004-1a31-4b29-9122-74b201574e76\n",
      "Processing images_from_video/videos_failed_ebb_b2f_ebbb2f60-3561-4fb8-a279-cb22550d743d\n",
      "Processing images_from_video/videos_ok_08e_183_08e183ad-dc6c-4bff-bb03-bc0f72ea1a3c\n",
      "Processing images_from_video/videos_ok_e4a_ba3_e4aba3a6-46a8-46c3-be30-12fc9a5297e0\n",
      "Processing images_from_video/videos_failed_00e_725_00e725e3-afad-4b46-be56-46664c51d8c4\n",
      "Processing images_from_video/videos_ok_59e_aa7_59eaa7fc-c014-40de-a81d-fbb2d83570dc\n",
      "Processing images_from_video/videos_ok_56b_888_56b8885f-30d4-4975-9bf0-4505ef2e2576\n",
      "Processing images_from_video/videos_ok_a48_59c_a4859c48-00e9-41f6-b0d1-20ab03648fa4\n",
      "Processing images_from_video/videos_failed_9b2_c87_9b2c87ff-ab19-400b-ba3b-4fef1d9b7e4c\n",
      "Processing images_from_video/videos_ok_fba_3e6_fba3e642-6663-4036-89f7-3ea1deb2a17f\n",
      "Processing images_from_video/videos_ok_8f7_73e_8f773e27-71b4-4392-badd-c7fdc2bbf091\n",
      "Processing images_from_video/videos_ok_baf_086_baf086bb-ac8b-4d10-a081-a0b0b750da30\n",
      "Processing images_from_video/videos_failed_efc_858_efc85844-7bb4-443a-b6ef-d9bd63b61c69\n",
      "Processing images_from_video/videos_ok_f4b_2b7_f4b2b707-92ad-43a2-9b78-d8f802bb97cd\n",
      "Processing images_from_video/videos_ok_261_aac_261aac12-3868-432b-b675-58857027976b\n",
      "Processing images_from_video/videos_ok_7de_37f_7de37f9d-eb32-4c14-bef8-aa39eca3b5bb\n",
      "Processing images_from_video/videos_ok_d95_bc4_d95bc454-2d75-4f85-822d-cd6167d45aca\n",
      "Processing images_from_video/videos_ok_947_762_9477620f-8dc2-451f-9b90-98fab8a7f182\n",
      "Processing images_from_video/videos_ok_9dd_746_9dd7463e-1829-4665-9d3f-41065f7c9fd4\n",
      "Processing images_from_video/videos_ok_20b_eda_20beda0a-d143-4d48-a9e5-4c75f3755ffb\n",
      "Processing images_from_video/videos_ok_ebf_4d5_ebf4d559-d91f-4699-817a-353d4780fc9b\n",
      "Processing images_from_video/videos_ok_1b8_e6c_1b8e6ca5-72dc-43fb-acc8-3684e1cffe4b\n",
      "Processing images_from_video/videos_ok_60f_4c4_60f4c410-d1aa-493b-a599-c6ad5acc0185\n",
      "Processing images_from_video/videos_ok_f6b_44a_f6b44ace-dd2a-41eb-83ff-0f7d13f57240\n",
      "Processing images_from_video/videos_failed_eac_c31_eacc314e-cde2-40aa-9b6c-99dfcf01fd50\n",
      "Processing images_from_video/videos_ok_d1f_b8a_d1fb8aee-c342-488c-8c6d-318c9017c047\n",
      "Processing images_from_video/videos_ok_698_044_698044e9-5411-4bec-bffb-973aaa62f038\n",
      "Processing images_from_video/videos_failed_40f_6d5_40f6d544-80e6-4dd4-b812-37184815f458\n",
      "Processing images_from_video/videos_ok_485_00e_48500e30-3e82-4a54-876e-e133a787fc59\n",
      "Processing images_from_video/videos_ok_2fd_77e_2fd77ef9-74e2-473b-a4d5-a201cebfb680\n",
      "Processing images_from_video/videos_failed_c96_89e_c9689eec-9017-4036-9e84-ae430318a5b0\n",
      "Processing images_from_video/videos_ok_a73_aae_a73aae2b-27fd-49f8-85f4-ac957b792fef\n",
      "Processing images_from_video/videos_ok_5de_75e_5de75e86-a95a-47da-9ff5-2cd1d544829d\n",
      "Processing images_from_video/videos_ok_079_fef_079fef4b-76f4-44fe-8917-4aee1e5c8e2f\n",
      "Processing images_from_video/videos_failed_3f2_881_3f288121-1336-416a-ac39-367a6d4707f0\n",
      "Processing images_from_video/videos_ok_0b7_3a1_0b73a177-63f6-4ac9-8904-ec8dca025a71\n",
      "Processing images_from_video/videos_failed_67b_527_67b52773-d7dd-4e5f-a584-f1f263beda89\n",
      "Processing images_from_video/videos_failed_042_e67_042e678a-f9da-4150-9d16-f49f654805a0\n",
      "Processing images_from_video/videos_ok_422_c86_422c8630-f341-44dc-8422-7244bd1e87ee\n",
      "Processing images_from_video/videos_failed_07d_373_07d37364-2f84-486a-a3ea-0dc96873edad\n",
      "Processing images_from_video/videos_ok_7a6_3e4_7a63e421-742f-43b0-ab9a-6e6909bb4764\n",
      "Processing images_from_video/videos_ok_6cf_c1b_6cfc1be7-9a22-46ad-aa05-2d8911be7041\n",
      "Processing images_from_video/videos_failed_bcb_aac_bcbaacb3-c5bc-4098-9644-b7966515291d\n",
      "Processing images_from_video/videos_ok_1e9_054_1e905428-6e81-41c6-8061-3ae5be6b6af5\n",
      "Processing images_from_video/videos_ok_245_cbb_245cbba1-8986-464e-aef6-6c1ff1ef8dc1\n",
      "Processing images_from_video/videos_ok_19d_18c_19d18c76-dc49-44a3-bcaa-c847389b1de7\n",
      "Processing images_from_video/videos_ok_9a5_447_9a544719-3d6a-4c49-9777-c6ff71f51f4c\n",
      "Processing images_from_video/videos_ok_08c_9cf_08c9cf37-68eb-474d-a5ac-3c9104a1b7a9\n",
      "Processing images_from_video/videos_failed_8b2_5cf_8b25cf8c-c03c-4c3b-86bf-b47863f75b32\n",
      "Processing images_from_video/videos_ok_730_c25_730c2526-9756-41fa-91b9-e1f6c357e21a\n",
      "Processing images_from_video/videos_ok_001_da6_001da6d4-2727-4543-bbe3-dd1e1334e59b\n",
      "Processing images_from_video/videos_ok_095_46d_09546d73-97ce-4913-8fcb-fdc3a082a995\n",
      "Processing images_from_video/videos_failed_64c_61a_64c61abc-29b0-4665-b308-9b60063c5ab2\n",
      "Processing images_from_video/videos_failed_055_c35_055c3585-7f55-40a6-8829-10bdf77f1713\n",
      "Processing images_from_video/videos_ok_598_223_5982233c-b414-4968-93ab-226aff952573\n",
      "Processing images_from_video/videos_failed_c2a_b3c_c2ab3cf5-2b82-4115-9297-75f68f3f8c9e\n",
      "Processing images_from_video/videos_failed_9fc_caa_9fccaad4-d893-4e51-ab31-0b13af9c6256\n",
      "Processing images_from_video/videos_failed_0f9_d90_0f9d90b1-a157-4fcc-bfc7-8b49ae6826fd\n",
      "Processing images_from_video/videos_ok_dea_69f_dea69fc0-aa2d-4795-9e84-3460c9779e1c\n",
      "Processing images_from_video/videos_ok_d5d_35a_d5d35a4f-66fb-4da7-b2c8-423b338d6d8d\n",
      "Processing images_from_video/videos_failed_d0b_0b4_d0b0b4eb-ed26-460d-a360-d00263f94b1d\n",
      "Processing images_from_video/videos_failed_95b_771_95b771d1-9b13-44c8-a654-da8593185f3a\n",
      "Processing images_from_video/videos_ok_0b2_c34_0b2c34ac-35b9-4cc3-8917-8ea38c62eeeb\n",
      "Processing images_from_video/videos_ok_fed_51c_fed51cd6-3a1c-4c10-a185-8f90c7e835a4\n",
      "Processing images_from_video/videos_failed_888_8f8_8888f8fc-2819-43c5-a3d5-e9a14d3f2506\n",
      "Processing images_from_video/videos_ok_733_a1d_733a1d17-729f-44ad-9fe5-3a1e299f862c\n",
      "Processing images_from_video/videos_ok_491_ef0_491ef0e4-fee9-4ec3-9411-544120739f30\n",
      "Processing images_from_video/videos_failed_786_168_786168b6-6d12-4f1d-a299-b53bdab2faa8\n",
      "Processing images_from_video/videos_ok_53d_ccf_53dccf14-b86a-47dc-81f9-efc2c22df01b\n",
      "Processing images_from_video/videos_ok_502_e27_502e2739-576a-4653-afed-a2bf9bd0f449\n",
      "Processing images_from_video/videos_failed_85f_1b2_85f1b2c3-e93d-464c-8020-9ed04fa17abd\n",
      "Processing images_from_video/videos_ok_c67_71a_c6771a48-e17a-49eb-aa24-d7f05fc41612\n",
      "Processing images_from_video/videos_ok_549_606_549606c7-5946-4804-92a1-f9c5324f83e2\n",
      "Processing images_from_video/videos_ok_33c_9a7_33c9a73e-77c3-48d1-99b6-ab15197c31b7\n",
      "Processing images_from_video/videos_ok_3dc_744_3dc74425-b03c-45d9-86e2-c33627c42e0c\n",
      "Processing images_from_video/videos_ok_301_964_301964ac-35e8-44b3-a15d-ceb7d22cb878\n",
      "Processing images_from_video/videos_ok_807_630_80763058-c807-4ff3-a9de-e4ffc92dd3d2\n",
      "Processing images_from_video/videos_ok_544_4c9_5444c982-f91d-48e1-b1bb-3af273351bbd\n",
      "Processing images_from_video/videos_ok_117_333_11733369-d1a5-4615-9305-cc90d30b852f\n",
      "Processing images_from_video/videos_ok_a39_2f7_a392f734-0827-4db1-a583-733db9f92ed9\n",
      "Processing images_from_video/videos_failed_411_e39_411e3996-7150-45cf-abb8-ce1f740cabf6\n",
      "Processing images_from_video/videos_failed_c45_cfd_c45cfdc9-efa5-44fb-88ac-528e608b22d6\n",
      "Processing images_from_video/videos_ok_4d9_bd4_4d9bd4bf-6a7a-4bb5-b605-6e1d5199e7a9\n",
      "Processing images_from_video/videos_ok_306_038_306038da-0823-4783-af7c-6b72cb69699a\n",
      "Processing images_from_video/videos_ok_220_a58_220a5898-13f8-4945-9498-0d2ca666510a\n",
      "Processing images_from_video/videos_ok_1c7_7a6_1c77a6b0-2fbd-4c86-9578-578bde7dcf4d\n",
      "Processing images_from_video/videos_ok_441_ed7_441ed73f-7583-47fa-a5ec-76bafc613fcd\n",
      "Processing images_from_video/videos_ok_106_9eb_1069ebf0-dabf-434e-8eb4-76349f69a75c\n",
      "Processing images_from_video/videos_failed_19d_f49_19df49a0-50c1-4cb4-b9da-e138c8a3cc56\n",
      "Processing images_from_video/videos_ok_5c8_a96_5c8a9690-0456-4b54-8c18-a26e706f5566\n",
      "Processing images_from_video/videos_ok_e1d_dad_e1ddadef-db91-4aa3-a4b5-f78e1e58b7a8\n",
      "Processing images_from_video/videos_ok_528_6e0_5286e0a3-ee9d-4793-a346-8b236d6d2f5d\n",
      "Processing images_from_video/videos_ok_ec8_e46_ec8e462d-c1d0-4ffd-aae3-2b1f1d9beac2\n",
      "Processing images_from_video/videos_ok_44f_63d_44f63db7-4bf0-4bf2-8c54-4c17f8389c2c\n"
     ]
    },
    {
     "name": "stdout",
     "output_type": "stream",
     "text": [
      "Processing images_from_video/videos_ok_f23_45b_f2345b1c-6bba-4c54-9f59-e21114ab9df4\n",
      "Processing images_from_video/videos_ok_228_82e_22882ea0-87fb-42a4-994b-07c8d7ed1e1a\n",
      "Processing images_from_video/videos_failed_fcb_c69_fcbc6954-0d90-4d9e-9672-12055d16cfdb\n",
      "Processing images_from_video/videos_failed_ab3_f36_ab3f3671-212b-432e-a24b-a0c20ac2ea12\n",
      "Processing images_from_video/videos_ok_362_974_362974b0-5e49-4eea-b780-ce13afb6f05c\n",
      "Processing images_from_video/videos_ok_efc_cd1_efccd157-adde-4cb2-aa33-5f855ff3723e\n",
      "Processing images_from_video/videos_ok_98e_51a_98e51a65-32e2-492c-a32c-f03431f3596e\n",
      "Processing images_from_video/videos_ok_8f4_207_8f4207d1-6593-47fc-aad6-d15860f49bb5\n",
      "Processing images_from_video/videos_ok_f80_579_f8057937-7838-4d5c-b6c1-1034c62aef00\n",
      "Processing images_from_video/videos_ok_945_c16_945c16e5-fe42-4446-87ce-c6ee2356fee5\n",
      "Processing images_from_video/videos_ok_952_6bf_9526bfd4-8222-42a2-9ff3-6552a7156f94\n",
      "Processing images_from_video/videos_ok_4a9_9a0_4a99a0cf-099c-4575-ae55-d24d79d41742\n",
      "Processing images_from_video/videos_failed_665_30c_66530cad-5a2b-4823-8592-df28c5cb306c\n",
      "Processing images_from_video/videos_ok_5a9_93f_5a993f00-4158-473b-bdbd-c7adeb41e694\n",
      "Processing images_from_video/videos_ok_e03_8dc_e038dc0a-2e34-4325-89cb-1b616f3e8b62\n",
      "Processing images_from_video/videos_failed_d92_c18_d92c1824-3f92-4014-93f1-4a3caa5831d4\n",
      "Processing images_from_video/videos_ok_e09_46c_e0946c7a-597a-4dea-bb4e-5d3744e79170\n",
      "Processing images_from_video/videos_failed_596_adb_596adbd6-3fba-407c-a2aa-da1cd9649d09\n",
      "Processing images_from_video/videos_ok_9b9_ad6_9b9ad6e7-d1cc-4409-ac2a-09ec0a7987b3\n",
      "Processing images_from_video/videos_ok_9d2_bb9_9d2bb909-dbc0-492a-bc26-b2c5c9145c66\n",
      "Processing images_from_video/videos_ok_f1a_1f2_f1a1f26f-7cf2-4275-af56-616fbac718af\n",
      "Processing images_from_video/videos_ok_0de_c42_0dec4262-9a52-422d-a9e0-6c15855a3660\n",
      "Processing images_from_video/videos_failed_0c4_dea_0c4deac6-8622-4434-9919-ba84b6858925\n",
      "Processing images_from_video/videos_ok_1c0_7ec_1c07ec0d-3b9d-4c31-9b46-abb7bffb51d7\n",
      "Processing images_from_video/videos_ok_67b_d4a_67bd4aaf-27e6-4155-b269-78317098e7d5\n",
      "Processing images_from_video/videos_failed_b09_b67_b09b679f-471c-42f2-b1a3-c4242703893b\n",
      "Processing images_from_video/videos_ok_b86_3de_b863dece-2a75-4444-9e54-160e417f8c5b\n",
      "Processing images_from_video/videos_failed_5ab_07f_5ab07ffe-ea8f-4ebd-9d72-fd6a72fb9730\n",
      "Processing images_from_video/videos_failed_93b_944_93b944b0-99b5-42ed-ac7f-059ad329fe26\n",
      "Processing images_from_video/videos_failed_79f_75f_79f75fec-9c3a-43db-b392-9ddad58bf3b0\n",
      "Processing images_from_video/videos_failed_e34_767_e3476725-c30f-4ace-afdd-aa9da6abbd2a\n",
      "Processing images_from_video/videos_ok_443_b40_443b4025-4216-4078-bc29-72039b1ab2a8\n",
      "Processing images_from_video/videos_failed_03a_227_03a22708-215f-43e7-ab6d-79bf6c7bd64a\n",
      "Processing images_from_video/videos_failed_7f3_b33_7f3b33f1-ffa5-49a3-9dbc-04edb3a16a1f\n",
      "Processing images_from_video/videos_ok_c42_759_c42759ac-4250-4a1f-9816-5f4876eec408\n",
      "Processing images_from_video/videos_ok_5bf_9e0_5bf9e06d-0df8-459d-95d9-82b0c94a1114\n",
      "Processing images_from_video/videos_ok_099_116_099116b0-dc19-4014-a979-d66c3048f7b5\n",
      "Processing images_from_video/videos_ok_adc_55c_adc55c9b-3d2b-4a20-8394-5c49f289ba39\n",
      "Processing images_from_video/videos_failed_3d5_714_3d5714fc-6ef6-4479-8d83-4140312eeaf2\n",
      "Processing images_from_video/videos_failed_dbc_f83_dbcf83b8-bddb-4917-9dbd-787324f1e45f\n",
      "Processing images_from_video/videos_ok_4c2_709_4c270970-d38d-4727-a683-22a0eb5356c8\n",
      "Processing images_from_video/videos_ok_8f6_b24_8f6b24c0-9c1c-43b1-a576-31d820b1dfe1\n",
      "Processing images_from_video/videos_failed_7a8_a2d_7a8a2dd8-b5ab-4169-8b9e-69b1bc889671\n",
      "Processing images_from_video/videos_ok_889_af7_889af702-ad32-43d8-a21a-7ca48d8dfef3\n",
      "Processing images_from_video/videos_ok_ba7_bcb_ba7bcb79-e4c1-46a9-adcf-8e0e832e96c1\n",
      "Processing images_from_video/videos_ok_fde_d84_fded84f8-d1d4-4f2d-974b-b7637c86dfa7\n",
      "Processing images_from_video/videos_ok_e24_65e_e2465e96-2e59-49ca-b35c-cc4ad02a33e0\n",
      "Processing images_from_video/videos_ok_cab_eb8_cabeb8de-4945-4329-b7c0-d5f5b5dc689c\n",
      "Processing images_from_video/videos_ok_af9_8c4_af98c496-b3d2-4734-bc04-4ac925621b82\n",
      "Processing images_from_video/videos_ok_bde_871_bde871f0-d64a-4cbd-b348-9f9b02f2cba0\n",
      "Processing images_from_video/videos_failed_b5c_7f9_b5c7f9a6-0d70-4d57-af95-4a84ce05bacc\n",
      "Processing images_from_video/videos_failed_03f_4a8_03f4a857-3291-48b3-8bcd-7b3103f08a7e\n",
      "Processing images_from_video/videos_ok_3ee_ff8_3eeff881-2dc6-4415-b19c-a19897fef739\n",
      "Processing images_from_video/videos_failed_019_f53_019f5330-c9f5-493f-8a29-5f33054e523a\n",
      "Processing images_from_video/videos_ok_ad8_21a_ad821a31-f3cf-45d2-9ae3-94722aea5cda\n",
      "Processing images_from_video/videos_ok_b38_d1a_b38d1a9d-c4c6-4faa-9a4a-cfe22cc41574\n",
      "Processing images_from_video/videos_ok_70d_65d_70d65d4d-992c-4c03-b05b-31f47431dfd5\n",
      "Processing images_from_video/videos_ok_b65_b9d_b65b9da7-077a-4478-b2fa-d4e9cb557518\n",
      "Processing images_from_video/videos_ok_257_7d1_2577d153-ee05-43d3-8deb-023021659215\n",
      "Processing images_from_video/videos_ok_573_e70_573e7031-0e44-4280-a26c-1567f487ca58\n",
      "Processing images_from_video/videos_ok_e06_b15_e06b15ca-4ce6-4329-94e4-403d724e3f3e\n",
      "Processing images_from_video/videos_ok_3d7_c48_3d7c48a8-51c3-4e4a-8fa6-ee597a63542e\n",
      "Processing images_from_video/videos_ok_8de_69c_8de69c13-a9b7-467b-a449-c1ee452ccd90\n",
      "Processing images_from_video/videos_ok_0d7_c7b_0d7c7b3f-1154-47f7-8e43-d9f0e5e5c963\n",
      "Processing images_from_video/videos_failed_1e1_f39_1e1f39a6-f822-42f0-8fdb-461974edcd0e\n",
      "Processing images_from_video/videos_failed_159_49f_15949f2b-cfa8-4b9b-bd72-d405d136edc0\n",
      "Processing images_from_video/videos_failed_1f1_e8a_1f1e8a8a-2d43-4f77-9733-b398db61e0b8\n",
      "Processing images_from_video/videos_failed_366_9e2_3669e234-3ad7-4551-87cb-e5e3f0237550\n",
      "Processing images_from_video/videos_ok_082_ced_082ced9f-1d22-466d-8e2d-72c6e6da637c\n",
      "Processing images_from_video/videos_ok_159_017_159017bd-fdc9-4b3c-a4af-510f1a802f9a\n",
      "Processing images_from_video/videos_ok_bbb_a13_bbba139b-2f39-4810-b1e8-b01e3ae221d3\n",
      "Processing images_from_video/videos_ok_4ef_b90_4efb908e-87f9-4125-ad98-8f826b91ea84\n",
      "Processing images_from_video/videos_ok_bce_11c_bce11ce3-6bea-414e-b50c-30c20e7ee8e1\n",
      "Processing images_from_video/videos_ok_51d_5a0_51d5a006-98c4-4d96-964a-88c2634a3bf4\n",
      "Processing images_from_video/videos_ok_221_052_221052db-f985-432e-b07e-6d077a33b191\n",
      "Processing images_from_video/videos_failed_cba_ac0_cbaac0d9-68f3-490c-ace9-673e0ec38f01\n",
      "Processing images_from_video/videos_failed_76e_dc9_76edc944-4c2b-4b0b-8847-63d72cfee674\n",
      "Processing images_from_video/videos_failed_da3_777_da37771d-93a8-4496-88bb-f5318ab34347\n",
      "Processing images_from_video/videos_failed_436_d36_436d36aa-393d-4881-9fe9-e80016d38232\n",
      "Processing images_from_video/videos_failed_80d_56c_80d56c25-c2b7-4988-9e44-de459206ec4a\n",
      "Processing images_from_video/videos_failed_e12_8a5_e128a5ad-9ecf-4056-9103-ea6e5cbf27b8\n",
      "Processing images_from_video/videos_ok_1b6_57b_1b657b44-f05f-4f09-8923-17ba3f4e6dc8\n",
      "Processing images_from_video/videos_ok_77d_81e_77d81ee2-0b59-42df-a4ae-06fe582dfd0d\n",
      "Processing images_from_video/videos_failed_886_f72_886f7275-e49e-4d10-be19-f72180788dea\n",
      "Processing images_from_video/videos_ok_191_7bb_1917bb60-cf18-45c6-95b7-e21ff4475504\n",
      "Processing images_from_video/videos_ok_e13_b95_e13b9518-875e-41c6-8568-c61d31009956\n",
      "Processing images_from_video/videos_failed_f42_ad3_f42ad321-74d3-498f-8b8b-e7b0b2042570\n",
      "Processing images_from_video/videos_ok_a19_e58_a19e58ca-a960-4d3e-a28e-e77ef59f56e0\n",
      "Processing images_from_video/videos_ok_e07_0c5_e070c5ff-09b3-4715-b6b5-fdbc60970ba3\n",
      "Processing images_from_video/videos_ok_043_3a0_0433a0f0-544c-4d25-8448-0fab3b0b72bf\n",
      "Processing images_from_video/videos_failed_14d_1cd_14d1cded-1861-44c3-831c-5edcc753c20b\n",
      "Processing images_from_video/videos_ok_abd_72d_abd72d77-6385-4375-b8a7-ead9561d3af7\n",
      "Processing images_from_video/videos_failed_293_467_2934676c-30e6-45bb-a850-26ed8e9ce0da\n",
      "Processing images_from_video/videos_failed_56c_597_56c59756-50a3-4927-887e-a4a3ead569d1\n",
      "Processing images_from_video/videos_ok_049_594_04959416-470b-45ed-bde5-dc36d650f0e6\n",
      "Processing images_from_video/videos_ok_fcb_5b0_fcb5b0c3-c6e8-4795-aa53-fe3a475778b2\n"
     ]
    },
    {
     "name": "stdout",
     "output_type": "stream",
     "text": [
      "Processing images_from_video/videos_failed_612_b58_612b589e-f752-441e-b8ef-b3c628f734cd\n",
      "Processing images_from_video/videos_ok_cb0_067_cb006707-faa1-4c99-abb4-0721c730c13f\n",
      "Processing images_from_video/videos_failed_be6_cce_be6ccecb-b0c8-4e63-b02b-43e5317e4fc9\n",
      "Processing images_from_video/videos_ok_afe_88c_afe88ce2-ed96-4415-b0d8-297096ba957b\n",
      "Processing images_from_video/videos_failed_458_fd1_458fd1b7-6881-420a-bdee-a82650bc0f04\n",
      "Processing images_from_video/videos_ok_36f_9be_36f9bec6-6e95-4c83-a1ac-28cd6a97e1b9\n",
      "Processing images_from_video/videos_ok_d48_130_d48130d1-db2b-41e7-92bb-d7b333030b1a\n",
      "Processing images_from_video/videos_ok_5d1_3cb_5d13cb4f-387d-4784-8f30-a81dbcd8287b\n",
      "Processing images_from_video/videos_failed_6e9_354_6e935483-52d0-4c1f-9079-8876fe77b503\n",
      "Processing images_from_video/videos_failed_2c4_234_2c42345d-c827-432d-80c1-aa7a3b254133\n",
      "Processing images_from_video/videos_ok_33d_1bc_33d1bcc1-4407-4d65-a5a9-0da472b56e75\n",
      "Processing images_from_video/videos_ok_561_615_561615c5-4564-4af6-a6b4-4cb0bc26900f\n",
      "Processing images_from_video/videos_ok_741_06b_74106bb5-450d-4c75-9ae2-35acd0ebee61\n",
      "Processing images_from_video/videos_ok_312_ae2_312ae2c5-8ce7-47db-83c1-344fbdcc45b6\n",
      "Processing images_from_video/videos_failed_e63_4de_e634deb8-b54a-43b6-b36a-05ae8211808a\n",
      "Processing images_from_video/videos_ok_565_961_565961f5-6dcf-4669-ba23-a35f00ffc643\n",
      "Processing images_from_video/videos_failed_a74_a4d_a74a4d0d-45cc-4fce-866d-b8d8c4da1c61\n",
      "Processing images_from_video/videos_failed_cd5_dc5_cd5dc50c-18bb-44dc-b903-37be9e7a3ee3\n",
      "Processing images_from_video/videos_failed_d8c_c58_d8cc5869-bc5c-4a57-8b46-283364863437\n",
      "Processing images_from_video/videos_ok_991_b84_991b84f5-8f05-4078-94a5-9e35b09276bc\n",
      "Processing images_from_video/videos_ok_9d8_15e_9d815eca-73e3-4164-849e-ef0251d2fb16\n",
      "Processing images_from_video/videos_failed_f86_13d_f8613d2e-c535-4c7b-b746-fa8a43c87846\n",
      "Processing images_from_video/videos_ok_65d_9cd_65d9cd5c-b886-478f-b8d4-fe4076133cbb\n",
      "Processing images_from_video/videos_failed_f7f_3cc_f7f3cc8a-01bd-4902-aaac-0d949a0718b9\n",
      "Processing images_from_video/videos_ok_ee1_ef4_ee1ef438-b983-4a9b-95f0-3a421ebda309\n",
      "Processing images_from_video/videos_ok_51e_440_51e440bf-7179-44f8-9539-e8b43f194da0\n",
      "Processing images_from_video/videos_ok_81c_f24_81cf24f5-e50b-4c76-9237-0eb008b57d29\n",
      "Processing images_from_video/videos_ok_e39_a49_e39a49a2-d7f6-42e5-82a7-aa03011ba450\n",
      "Processing images_from_video/videos_ok_c10_4c5_c104c597-0d74-48f8-956f-dd3946b1c4d1\n",
      "Processing images_from_video/videos_ok_f47_614_f4761458-9478-44c9-8ebd-d97bef6e516e\n",
      "Processing images_from_video/videos_ok_699_9a3_6999a3c8-4013-4125-ad0c-876b8cb9a4ad\n",
      "Processing images_from_video/videos_ok_31a_46f_31a46f74-62a2-417a-bd3e-a30bb9c37d8a\n",
      "Processing images_from_video/videos_ok_cf0_2bb_cf02bbe5-1459-44be-9871-9a781d0803cc\n",
      "Processing images_from_video/videos_failed_34b_0b0_34b0b00d-2a8c-4bc3-a72f-ea272c2383d2\n",
      "Processing images_from_video/videos_failed_161_ceb_161cebdf-7008-484c-8ae3-b72a58f88c10\n",
      "Processing images_from_video/videos_ok_87a_f2d_87af2d62-f206-4ab2-8550-23f82f27b8e1\n",
      "Processing images_from_video/videos_ok_f58_3e2_f583e23c-c3ec-4784-8272-d728a9322011\n",
      "Processing images_from_video/videos_failed_d39_79b_d3979b39-6b0f-4790-bc9f-b21f0caab6f0\n",
      "Processing images_from_video/videos_ok_35b_378_35b3784c-8a65-4b73-a15c-6058a78bb4c1\n",
      "Processing images_from_video/videos_failed_826_f70_826f70cb-f5ec-4a5b-bcc1-d7d436f27ea9\n",
      "Processing images_from_video/videos_ok_49f_89d_49f89dc4-9910-4e32-a04e-8535e7027fc4\n",
      "Processing images_from_video/videos_ok_802_e56_802e5639-e993-4dbd-a13d-2a8de482acbb\n",
      "Processing images_from_video/videos_ok_1ac_b41_1acb4114-726b-4c3b-81b0-19395412b9f6\n",
      "Processing images_from_video/videos_ok_468_f88_468f8820-6b61-4fd6-a342-b0650dbb5db2\n",
      "Processing images_from_video/videos_ok_71e_024_71e024f6-5b4d-48b6-9755-ba9c89aaf218\n",
      "Processing images_from_video/videos_failed_16d_53e_16d53e71-705c-4c41-a40a-e888d6f6bf03\n",
      "Processing images_from_video/videos_ok_7a6_727_7a6727a0-5f64-4a4f-9b7f-012d25f11314\n",
      "Processing images_from_video/videos_ok_ec9_69c_ec969c78-1dd8-4680-aa81-013c2377c303\n",
      "Processing images_from_video/videos_failed_2df_540_2df540d9-564b-48b2-8ad8-a5294c2fde91\n",
      "Processing images_from_video/videos_ok_6a0_352_6a0352f4-5dd7-4296-8574-2e72594b166e\n",
      "Processing images_from_video/videos_failed_3e1_fae_3e1fae49-8a52-4ff3-a610-161139eb24c9\n",
      "Processing images_from_video/videos_ok_828_edc_828edc3a-e6f5-44ef-95e1-2dcdc008d89a\n",
      "Processing images_from_video/videos_ok_98a_74e_98a74e58-7bb4-4d67-a04a-45efae95ac19\n"
     ]
    }
   ],
   "source": [
    "# df_res_racurses1 = process_all_videos(list(df_bb_classifier.image_path)[0:2])\n",
    "df_res_racurses = process_all_videos(list(df_bb_classifier.image_path))"
   ]
  },
  {
   "cell_type": "code",
   "execution_count": 228,
   "metadata": {},
   "outputs": [
    {
     "data": {
      "text/html": [
       "<div>\n",
       "<style scoped>\n",
       "    .dataframe tbody tr th:only-of-type {\n",
       "        vertical-align: middle;\n",
       "    }\n",
       "\n",
       "    .dataframe tbody tr th {\n",
       "        vertical-align: top;\n",
       "    }\n",
       "\n",
       "    .dataframe thead th {\n",
       "        text-align: right;\n",
       "    }\n",
       "</style>\n",
       "<table border=\"1\" class=\"dataframe\">\n",
       "  <thead>\n",
       "    <tr style=\"text-align: right;\">\n",
       "      <th></th>\n",
       "      <th>image_path</th>\n",
       "      <th>racurses_dict</th>\n",
       "      <th>list_racurses</th>\n",
       "      <th>all_racurses_present</th>\n",
       "    </tr>\n",
       "  </thead>\n",
       "  <tbody>\n",
       "    <tr>\n",
       "      <th>5</th>\n",
       "      <td>images_from_video/videos_ok_53b_d6a_53bd6a46-5540-4428-a879-4d4060f15ad7</td>\n",
       "      <td>{'auto_view_3_4_back_0': 18, 'auto_view_side_18': 28, 'auto_view_3_4_front_1': 22, 'auto_view_front_7': 10, 'auto_view_back_2': 11}</td>\n",
       "      <td>[{'auto_view_3_4_back_0': 3}, {'auto_view_side_18': 16}, {'auto_view_3_4_front_1': 10}, {'auto_view_front_7': 10}, {'auto_view_3_4_front_1': 12}, {'auto_view_3_4_back_0': 2}, {'auto_view_side_18': 12}, {'auto_view_3_4_back_0': 9}, {'auto_view_back_2': 11}, {'auto_view_3_4_back_0': 4}]</td>\n",
       "      <td>True</td>\n",
       "    </tr>\n",
       "    <tr>\n",
       "      <th>161</th>\n",
       "      <td>images_from_video/videos_failed_64c_61a_64c61abc-29b0-4665-b308-9b60063c5ab2</td>\n",
       "      <td>{'auto_view_front_7': 18, 'auto_view_side_18': 72, 'auto_view_3_4_front_1': 3, 'auto_view_3_4_back_0': 5, 'auto_view_back_2': 4, 'other_views_100': 3}</td>\n",
       "      <td>[{'auto_view_front_7': 1}, {'auto_view_side_18': 1}, {'auto_view_3_4_front_1': 1}, {'auto_view_front_7': 17}, {'auto_view_3_4_back_0': 1}, {'auto_view_side_18': 1}, {'auto_view_3_4_back_0': 1}, {'auto_view_side_18': 21}, {'auto_view_3_4_back_0': 1}, {'auto_view_side_18': 1}, {'auto_view_back_2': 1}, {'auto_view_side_18': 28}, {'auto_view_back_2': 1}, {'auto_view_side_18': 3}, {'other_views_100': 3}, {'auto_view_back_2': 2}, {'auto_view_side_18': 9}, {'auto_view_3_4_back_0': 2}, {'auto_view_side_18': 8}, {'auto_view_3_4_front_1': 2}]</td>\n",
       "      <td>True</td>\n",
       "    </tr>\n",
       "    <tr>\n",
       "      <th>256</th>\n",
       "      <td>images_from_video/videos_failed_019_f53_019f5330-c9f5-493f-8a29-5f33054e523a</td>\n",
       "      <td>{'auto_view_front_7': 32, 'auto_view_3_4_front_1': 32, 'auto_view_side_18': 54, 'auto_view_3_4_back_0': 28, 'auto_view_back_2': 18}</td>\n",
       "      <td>[{'auto_view_front_7': 14}, {'auto_view_3_4_front_1': 17}, {'auto_view_side_18': 25}, {'auto_view_3_4_back_0': 1}, {'auto_view_side_18': 1}, {'auto_view_3_4_back_0': 1}, {'auto_view_side_18': 1}, {'auto_view_3_4_back_0': 12}, {'auto_view_back_2': 18}, {'auto_view_3_4_back_0': 14}, {'auto_view_side_18': 27}, {'auto_view_3_4_front_1': 15}, {'auto_view_front_7': 18}]</td>\n",
       "      <td>True</td>\n",
       "    </tr>\n",
       "    <tr>\n",
       "      <th>77</th>\n",
       "      <td>images_from_video/videos_ok_15f_4eb_15f4eb71-447b-4356-b817-de444c2ee98a</td>\n",
       "      <td>{'auto_view_3_4_front_1': 49, 'auto_view_side_18': 73, 'auto_view_3_4_back_0': 13, 'auto_view_back_2': 22, 'other_views_100': 3, 'auto_view_front_7': 36}</td>\n",
       "      <td>[{'auto_view_3_4_front_1': 3}, {'auto_view_side_18': 1}, {'auto_view_3_4_front_1': 8}, {'auto_view_side_18': 1}, {'auto_view_3_4_front_1': 5}, {'auto_view_side_18': 19}, {'auto_view_3_4_back_0': 2}, {'auto_view_side_18': 1}, {'auto_view_3_4_back_0': 2}, {'auto_view_side_18': 1}, {'auto_view_3_4_back_0': 1}, {'auto_view_side_18': 1}, {'auto_view_3_4_back_0': 1}, {'auto_view_3_4_front_1': 14}, {'auto_view_back_2': 17}, {'auto_view_3_4_front_1': 1}, {'auto_view_back_2': 1}, {'auto_view_3_4_front_1': 7}, {'auto_view_3_4_back_0': 4}, {'auto_view_3_4_front_1': 1}, {'auto_view_3_4_back_0': 2}, {'other_views_100': 1}, {'auto_view_3_4_back_0': 1}, {'auto_view_side_18': 2}, {'auto_view_3_4_front_1': 1}, {'auto_view_side_18': 1}, {'other_views_100': 1}, {'auto_view_side_18': 1}, {'other_views_100': 1}, {'auto_view_side_18': 32}, {'auto_view_3_4_front_1': 1}, {'auto_view_front_7': 31}, {'auto_view_back_2': 1}, {'auto_view_front_7': 2}, {'auto_view_back_2': 1}, {'auto_view_front_7': 2}, {'auto_...</td>\n",
       "      <td>True</td>\n",
       "    </tr>\n",
       "    <tr>\n",
       "      <th>58</th>\n",
       "      <td>images_from_video/videos_failed_af9_ee7_af9ee745-2571-414e-ae9f-5cde82e9dfda</td>\n",
       "      <td>{'auto_view_3_4_front_1': 23, 'auto_view_side_18': 27, 'auto_view_3_4_back_0': 23, 'auto_view_front_7': 9, 'auto_view_back_2': 7}</td>\n",
       "      <td>[{'auto_view_3_4_front_1': 13}, {'auto_view_side_18': 1}, {'auto_view_3_4_front_1': 4}, {'auto_view_side_18': 14}, {'auto_view_3_4_front_1': 1}, {'auto_view_side_18': 1}, {'auto_view_3_4_front_1': 2}, {'auto_view_3_4_back_0': 2}, {'auto_view_3_4_front_1': 2}, {'auto_view_3_4_back_0': 3}, {'auto_view_3_4_front_1': 1}, {'auto_view_front_7': 7}, {'auto_view_back_2': 1}, {'auto_view_front_7': 2}, {'auto_view_back_2': 6}, {'auto_view_3_4_back_0': 17}, {'auto_view_side_18': 1}, {'auto_view_3_4_back_0': 1}, {'auto_view_side_18': 10}]</td>\n",
       "      <td>True</td>\n",
       "    </tr>\n",
       "  </tbody>\n",
       "</table>\n",
       "</div>"
      ],
      "text/plain": [
       "                                                                       image_path                                                                                                                                              racurses_dict  \\\n",
       "5        images_from_video/videos_ok_53b_d6a_53bd6a46-5540-4428-a879-4d4060f15ad7                        {'auto_view_3_4_back_0': 18, 'auto_view_side_18': 28, 'auto_view_3_4_front_1': 22, 'auto_view_front_7': 10, 'auto_view_back_2': 11}   \n",
       "161  images_from_video/videos_failed_64c_61a_64c61abc-29b0-4665-b308-9b60063c5ab2     {'auto_view_front_7': 18, 'auto_view_side_18': 72, 'auto_view_3_4_front_1': 3, 'auto_view_3_4_back_0': 5, 'auto_view_back_2': 4, 'other_views_100': 3}   \n",
       "256  images_from_video/videos_failed_019_f53_019f5330-c9f5-493f-8a29-5f33054e523a                        {'auto_view_front_7': 32, 'auto_view_3_4_front_1': 32, 'auto_view_side_18': 54, 'auto_view_3_4_back_0': 28, 'auto_view_back_2': 18}   \n",
       "77       images_from_video/videos_ok_15f_4eb_15f4eb71-447b-4356-b817-de444c2ee98a  {'auto_view_3_4_front_1': 49, 'auto_view_side_18': 73, 'auto_view_3_4_back_0': 13, 'auto_view_back_2': 22, 'other_views_100': 3, 'auto_view_front_7': 36}   \n",
       "58   images_from_video/videos_failed_af9_ee7_af9ee745-2571-414e-ae9f-5cde82e9dfda                          {'auto_view_3_4_front_1': 23, 'auto_view_side_18': 27, 'auto_view_3_4_back_0': 23, 'auto_view_front_7': 9, 'auto_view_back_2': 7}   \n",
       "\n",
       "                                                                                                                                                                                                                                                                                                                                                                                                                                                                                                                                                                                                                                                                                                                                                                                                                                                                                                                                                                                                                               list_racurses  \\\n",
       "5                                                                                                                                                                                                                                                                                                                                                                                                                                                                                                                                                                                                                                                                                                                                              [{'auto_view_3_4_back_0': 3}, {'auto_view_side_18': 16}, {'auto_view_3_4_front_1': 10}, {'auto_view_front_7': 10}, {'auto_view_3_4_front_1': 12}, {'auto_view_3_4_back_0': 2}, {'auto_view_side_18': 12}, {'auto_view_3_4_back_0': 9}, {'auto_view_back_2': 11}, {'auto_view_3_4_back_0': 4}]   \n",
       "161                                                                                                                                                                                                                                                                                                                                                                                                                                                                               [{'auto_view_front_7': 1}, {'auto_view_side_18': 1}, {'auto_view_3_4_front_1': 1}, {'auto_view_front_7': 17}, {'auto_view_3_4_back_0': 1}, {'auto_view_side_18': 1}, {'auto_view_3_4_back_0': 1}, {'auto_view_side_18': 21}, {'auto_view_3_4_back_0': 1}, {'auto_view_side_18': 1}, {'auto_view_back_2': 1}, {'auto_view_side_18': 28}, {'auto_view_back_2': 1}, {'auto_view_side_18': 3}, {'other_views_100': 3}, {'auto_view_back_2': 2}, {'auto_view_side_18': 9}, {'auto_view_3_4_back_0': 2}, {'auto_view_side_18': 8}, {'auto_view_3_4_front_1': 2}]   \n",
       "256                                                                                                                                                                                                                                                                                                                                                                                                                                                                                                                                                                                                                                                           [{'auto_view_front_7': 14}, {'auto_view_3_4_front_1': 17}, {'auto_view_side_18': 25}, {'auto_view_3_4_back_0': 1}, {'auto_view_side_18': 1}, {'auto_view_3_4_back_0': 1}, {'auto_view_side_18': 1}, {'auto_view_3_4_back_0': 12}, {'auto_view_back_2': 18}, {'auto_view_3_4_back_0': 14}, {'auto_view_side_18': 27}, {'auto_view_3_4_front_1': 15}, {'auto_view_front_7': 18}]   \n",
       "77   [{'auto_view_3_4_front_1': 3}, {'auto_view_side_18': 1}, {'auto_view_3_4_front_1': 8}, {'auto_view_side_18': 1}, {'auto_view_3_4_front_1': 5}, {'auto_view_side_18': 19}, {'auto_view_3_4_back_0': 2}, {'auto_view_side_18': 1}, {'auto_view_3_4_back_0': 2}, {'auto_view_side_18': 1}, {'auto_view_3_4_back_0': 1}, {'auto_view_side_18': 1}, {'auto_view_3_4_back_0': 1}, {'auto_view_3_4_front_1': 14}, {'auto_view_back_2': 17}, {'auto_view_3_4_front_1': 1}, {'auto_view_back_2': 1}, {'auto_view_3_4_front_1': 7}, {'auto_view_3_4_back_0': 4}, {'auto_view_3_4_front_1': 1}, {'auto_view_3_4_back_0': 2}, {'other_views_100': 1}, {'auto_view_3_4_back_0': 1}, {'auto_view_side_18': 2}, {'auto_view_3_4_front_1': 1}, {'auto_view_side_18': 1}, {'other_views_100': 1}, {'auto_view_side_18': 1}, {'other_views_100': 1}, {'auto_view_side_18': 32}, {'auto_view_3_4_front_1': 1}, {'auto_view_front_7': 31}, {'auto_view_back_2': 1}, {'auto_view_front_7': 2}, {'auto_view_back_2': 1}, {'auto_view_front_7': 2}, {'auto_...   \n",
       "58                                                                                                                                                                                                                                                                                                                                                                                                                                                                                      [{'auto_view_3_4_front_1': 13}, {'auto_view_side_18': 1}, {'auto_view_3_4_front_1': 4}, {'auto_view_side_18': 14}, {'auto_view_3_4_front_1': 1}, {'auto_view_side_18': 1}, {'auto_view_3_4_front_1': 2}, {'auto_view_3_4_back_0': 2}, {'auto_view_3_4_front_1': 2}, {'auto_view_3_4_back_0': 3}, {'auto_view_3_4_front_1': 1}, {'auto_view_front_7': 7}, {'auto_view_back_2': 1}, {'auto_view_front_7': 2}, {'auto_view_back_2': 6}, {'auto_view_3_4_back_0': 17}, {'auto_view_side_18': 1}, {'auto_view_3_4_back_0': 1}, {'auto_view_side_18': 10}]   \n",
       "\n",
       "     all_racurses_present  \n",
       "5                    True  \n",
       "161                  True  \n",
       "256                  True  \n",
       "77                   True  \n",
       "58                   True  "
      ]
     },
     "execution_count": 228,
     "metadata": {},
     "output_type": "execute_result"
    }
   ],
   "source": [
    "df_res_racurses.sample(5)"
   ]
  },
  {
   "cell_type": "code",
   "execution_count": 227,
   "metadata": {},
   "outputs": [
    {
     "name": "stdout",
     "output_type": "stream",
     "text": [
      "{\"ok\":true,\"result\":{\"message_id\":12990,\"from\":{\"id\":345259261,\"is_bot\":true,\"first_name\":\"RealtyCallCenterBot\",\"username\":\"RealtyCallCenterBot\"},\"chat\":{\"id\":-233546442,\"title\":\"BotTests\",\"type\":\"group\",\"all_members_are_administrators\":true},\"date\":1586261669,\"text\":\"Finished classifying panorama videos with racurses model tflite @VladimirGorovoy\",\"entities\":[{\"offset\":64,\"length\":16,\"type\":\"mention\"}]}}"
     ]
    }
   ],
   "source": [
    "!curl --data \"text=Finished classifying panorama videos with racurses model tflite @VladimirGorovoy&parse_mode=Markdown\" https://api.telegram.org/bot345259261:AAGBS5bxlxTe8I9cp_3mCpP-tghLHAuAOkw/sendMessage?chat_id=-233546442"
   ]
  },
  {
   "cell_type": "code",
   "execution_count": 194,
   "metadata": {},
   "outputs": [
    {
     "data": {
      "text/plain": [
       "pandas.core.frame.DataFrame"
      ]
     },
     "execution_count": 194,
     "metadata": {},
     "output_type": "execute_result"
    }
   ],
   "source": [
    "type(df_res_racurses)"
   ]
  },
  {
   "cell_type": "code",
   "execution_count": 198,
   "metadata": {},
   "outputs": [
    {
     "data": {
      "text/html": [
       "<div>\n",
       "<style scoped>\n",
       "    .dataframe tbody tr th:only-of-type {\n",
       "        vertical-align: middle;\n",
       "    }\n",
       "\n",
       "    .dataframe tbody tr th {\n",
       "        vertical-align: top;\n",
       "    }\n",
       "\n",
       "    .dataframe thead th {\n",
       "        text-align: right;\n",
       "    }\n",
       "</style>\n",
       "<table border=\"1\" class=\"dataframe\">\n",
       "  <thead>\n",
       "    <tr style=\"text-align: right;\">\n",
       "      <th></th>\n",
       "      <th>image_path</th>\n",
       "      <th>racurses_dict</th>\n",
       "      <th>list_racurses</th>\n",
       "      <th>all_racurses_present</th>\n",
       "    </tr>\n",
       "  </thead>\n",
       "  <tbody>\n",
       "    <tr>\n",
       "      <th>313</th>\n",
       "      <td>images_from_video/videos_failed_e63_4de_e634deb8-b54a-43b6-b36a-05ae8211808a</td>\n",
       "      <td>{'auto_view_front_7': 42, 'auto_view_side_18': 82, 'other_views_100': 3, 'auto_view_back_2': 2, 'auto_view_3_4_back_0': 1, 'auto_view_3_4_front_1': 1}</td>\n",
       "      <td>[{'auto_view_front_7': 39}, {'auto_view_side_18': 28}, {'other_views_100': 3}, {'auto_view_side_18': 6}, {'auto_view_back_2': 2}, {'auto_view_side_18': 32}, {'auto_view_3_4_back_0': 1}, {'auto_view_side_18': 12}, {'auto_view_3_4_front_1': 1}, {'auto_view_side_18': 4}, {'auto_view_front_7': 3}]</td>\n",
       "      <td>True</td>\n",
       "    </tr>\n",
       "    <tr>\n",
       "      <th>226</th>\n",
       "      <td>images_from_video/videos_ok_1c0_7ec_1c07ec0d-3b9d-4c31-9b46-abb7bffb51d7</td>\n",
       "      <td>{'auto_view_front_7': 42, 'auto_view_side_18': 82, 'other_views_100': 3, 'auto_view_back_2': 2, 'auto_view_3_4_back_0': 1, 'auto_view_3_4_front_1': 1}</td>\n",
       "      <td>[{'auto_view_front_7': 39}, {'auto_view_side_18': 28}, {'other_views_100': 3}, {'auto_view_side_18': 6}, {'auto_view_back_2': 2}, {'auto_view_side_18': 32}, {'auto_view_3_4_back_0': 1}, {'auto_view_side_18': 12}, {'auto_view_3_4_front_1': 1}, {'auto_view_side_18': 4}, {'auto_view_front_7': 3}]</td>\n",
       "      <td>True</td>\n",
       "    </tr>\n",
       "    <tr>\n",
       "      <th>9</th>\n",
       "      <td>images_from_video/videos_ok_03d_04a_03d04ae5-1954-426c-b6ed-2c997f3ddcca</td>\n",
       "      <td>{'auto_view_front_7': 42, 'auto_view_side_18': 82, 'other_views_100': 3, 'auto_view_back_2': 2, 'auto_view_3_4_back_0': 1, 'auto_view_3_4_front_1': 1}</td>\n",
       "      <td>[{'auto_view_front_7': 39}, {'auto_view_side_18': 28}, {'other_views_100': 3}, {'auto_view_side_18': 6}, {'auto_view_back_2': 2}, {'auto_view_side_18': 32}, {'auto_view_3_4_back_0': 1}, {'auto_view_side_18': 12}, {'auto_view_3_4_front_1': 1}, {'auto_view_side_18': 4}, {'auto_view_front_7': 3}]</td>\n",
       "      <td>True</td>\n",
       "    </tr>\n",
       "    <tr>\n",
       "      <th>246</th>\n",
       "      <td>images_from_video/videos_ok_889_af7_889af702-ad32-43d8-a21a-7ca48d8dfef3</td>\n",
       "      <td>{'auto_view_front_7': 42, 'auto_view_side_18': 82, 'other_views_100': 3, 'auto_view_back_2': 2, 'auto_view_3_4_back_0': 1, 'auto_view_3_4_front_1': 1}</td>\n",
       "      <td>[{'auto_view_front_7': 39}, {'auto_view_side_18': 28}, {'other_views_100': 3}, {'auto_view_side_18': 6}, {'auto_view_back_2': 2}, {'auto_view_side_18': 32}, {'auto_view_3_4_back_0': 1}, {'auto_view_side_18': 12}, {'auto_view_3_4_front_1': 1}, {'auto_view_side_18': 4}, {'auto_view_front_7': 3}]</td>\n",
       "      <td>True</td>\n",
       "    </tr>\n",
       "    <tr>\n",
       "      <th>211</th>\n",
       "      <td>images_from_video/videos_ok_f80_579_f8057937-7838-4d5c-b6c1-1034c62aef00</td>\n",
       "      <td>{'auto_view_front_7': 42, 'auto_view_side_18': 82, 'other_views_100': 3, 'auto_view_back_2': 2, 'auto_view_3_4_back_0': 1, 'auto_view_3_4_front_1': 1}</td>\n",
       "      <td>[{'auto_view_front_7': 39}, {'auto_view_side_18': 28}, {'other_views_100': 3}, {'auto_view_side_18': 6}, {'auto_view_back_2': 2}, {'auto_view_side_18': 32}, {'auto_view_3_4_back_0': 1}, {'auto_view_side_18': 12}, {'auto_view_3_4_front_1': 1}, {'auto_view_side_18': 4}, {'auto_view_front_7': 3}]</td>\n",
       "      <td>True</td>\n",
       "    </tr>\n",
       "  </tbody>\n",
       "</table>\n",
       "</div>"
      ],
      "text/plain": [
       "                                                                       image_path                                                                                                                                           racurses_dict                                                                                                                                                                                                                                                                                           list_racurses  all_racurses_present\n",
       "313  images_from_video/videos_failed_e63_4de_e634deb8-b54a-43b6-b36a-05ae8211808a  {'auto_view_front_7': 42, 'auto_view_side_18': 82, 'other_views_100': 3, 'auto_view_back_2': 2, 'auto_view_3_4_back_0': 1, 'auto_view_3_4_front_1': 1}  [{'auto_view_front_7': 39}, {'auto_view_side_18': 28}, {'other_views_100': 3}, {'auto_view_side_18': 6}, {'auto_view_back_2': 2}, {'auto_view_side_18': 32}, {'auto_view_3_4_back_0': 1}, {'auto_view_side_18': 12}, {'auto_view_3_4_front_1': 1}, {'auto_view_side_18': 4}, {'auto_view_front_7': 3}]                  True\n",
       "226      images_from_video/videos_ok_1c0_7ec_1c07ec0d-3b9d-4c31-9b46-abb7bffb51d7  {'auto_view_front_7': 42, 'auto_view_side_18': 82, 'other_views_100': 3, 'auto_view_back_2': 2, 'auto_view_3_4_back_0': 1, 'auto_view_3_4_front_1': 1}  [{'auto_view_front_7': 39}, {'auto_view_side_18': 28}, {'other_views_100': 3}, {'auto_view_side_18': 6}, {'auto_view_back_2': 2}, {'auto_view_side_18': 32}, {'auto_view_3_4_back_0': 1}, {'auto_view_side_18': 12}, {'auto_view_3_4_front_1': 1}, {'auto_view_side_18': 4}, {'auto_view_front_7': 3}]                  True\n",
       "9        images_from_video/videos_ok_03d_04a_03d04ae5-1954-426c-b6ed-2c997f3ddcca  {'auto_view_front_7': 42, 'auto_view_side_18': 82, 'other_views_100': 3, 'auto_view_back_2': 2, 'auto_view_3_4_back_0': 1, 'auto_view_3_4_front_1': 1}  [{'auto_view_front_7': 39}, {'auto_view_side_18': 28}, {'other_views_100': 3}, {'auto_view_side_18': 6}, {'auto_view_back_2': 2}, {'auto_view_side_18': 32}, {'auto_view_3_4_back_0': 1}, {'auto_view_side_18': 12}, {'auto_view_3_4_front_1': 1}, {'auto_view_side_18': 4}, {'auto_view_front_7': 3}]                  True\n",
       "246      images_from_video/videos_ok_889_af7_889af702-ad32-43d8-a21a-7ca48d8dfef3  {'auto_view_front_7': 42, 'auto_view_side_18': 82, 'other_views_100': 3, 'auto_view_back_2': 2, 'auto_view_3_4_back_0': 1, 'auto_view_3_4_front_1': 1}  [{'auto_view_front_7': 39}, {'auto_view_side_18': 28}, {'other_views_100': 3}, {'auto_view_side_18': 6}, {'auto_view_back_2': 2}, {'auto_view_side_18': 32}, {'auto_view_3_4_back_0': 1}, {'auto_view_side_18': 12}, {'auto_view_3_4_front_1': 1}, {'auto_view_side_18': 4}, {'auto_view_front_7': 3}]                  True\n",
       "211      images_from_video/videos_ok_f80_579_f8057937-7838-4d5c-b6c1-1034c62aef00  {'auto_view_front_7': 42, 'auto_view_side_18': 82, 'other_views_100': 3, 'auto_view_back_2': 2, 'auto_view_3_4_back_0': 1, 'auto_view_3_4_front_1': 1}  [{'auto_view_front_7': 39}, {'auto_view_side_18': 28}, {'other_views_100': 3}, {'auto_view_side_18': 6}, {'auto_view_back_2': 2}, {'auto_view_side_18': 32}, {'auto_view_3_4_back_0': 1}, {'auto_view_side_18': 12}, {'auto_view_3_4_front_1': 1}, {'auto_view_side_18': 4}, {'auto_view_front_7': 3}]                  True"
      ]
     },
     "execution_count": 198,
     "metadata": {},
     "output_type": "execute_result"
    }
   ],
   "source": [
    "df_res_racurses.sample(5)"
   ]
  },
  {
   "cell_type": "code",
   "execution_count": 229,
   "metadata": {},
   "outputs": [],
   "source": [
    "df_final = df_bb_classifier.merge(df_res_racurses)"
   ]
  },
  {
   "cell_type": "code",
   "execution_count": 230,
   "metadata": {
    "scrolled": false
   },
   "outputs": [
    {
     "data": {
      "text/html": [
       "<div>\n",
       "<style scoped>\n",
       "    .dataframe tbody tr th:only-of-type {\n",
       "        vertical-align: middle;\n",
       "    }\n",
       "\n",
       "    .dataframe tbody tr th {\n",
       "        vertical-align: top;\n",
       "    }\n",
       "\n",
       "    .dataframe thead th {\n",
       "        text-align: right;\n",
       "    }\n",
       "</style>\n",
       "<table border=\"1\" class=\"dataframe\">\n",
       "  <thead>\n",
       "    <tr style=\"text-align: right;\">\n",
       "      <th></th>\n",
       "      <th>url</th>\n",
       "      <th>panorama_status</th>\n",
       "      <th>image_path</th>\n",
       "      <th>classifier_result</th>\n",
       "      <th>total_analyzed_frames</th>\n",
       "      <th>big_vehicle_middle_screen_found</th>\n",
       "      <th>no_big_vehicle_middle_screen_found</th>\n",
       "      <th>car_found_but_bounding_box_unsafe_margin</th>\n",
       "      <th>bounding_boxes_outside_image</th>\n",
       "      <th>bad_frames</th>\n",
       "      <th>really_bad_frames</th>\n",
       "      <th>share_no_big_vehicle_middle_screen_found</th>\n",
       "      <th>share_car_found_but_bounding_box_unsafe_margin</th>\n",
       "      <th>share_bad_frames</th>\n",
       "      <th>share_really_bad_frames</th>\n",
       "      <th>racurses_dict</th>\n",
       "      <th>list_racurses</th>\n",
       "      <th>all_racurses_present</th>\n",
       "    </tr>\n",
       "  </thead>\n",
       "  <tbody>\n",
       "    <tr>\n",
       "      <th>279</th>\n",
       "      <td>https://autoru-panorama-internal.s3.mds.yandex.net/upload/76e/dc9/76edc944-4c2b-4b0b-8847-63d72cfee674</td>\n",
       "      <td>failed</td>\n",
       "      <td>images_from_video/videos_failed_76e_dc9_76edc944-4c2b-4b0b-8847-63d72cfee674</td>\n",
       "      <td>GOOD</td>\n",
       "      <td>176</td>\n",
       "      <td>172</td>\n",
       "      <td>0</td>\n",
       "      <td>0</td>\n",
       "      <td>0</td>\n",
       "      <td>4</td>\n",
       "      <td>4</td>\n",
       "      <td>0.022727</td>\n",
       "      <td>0.000000</td>\n",
       "      <td>0.022727</td>\n",
       "      <td>0.022727</td>\n",
       "      <td>{'auto_view_front_7': 55, 'auto_view_side_18': 95, 'auto_view_3_4_front_1': 6, 'auto_view_3_4_back_0': 11, 'auto_view_back_2': 9}</td>\n",
       "      <td>[{'auto_view_front_7': 17}, {'auto_view_side_18': 2}, {'auto_view_3_4_front_1': 1}, {'auto_view_side_18': 1}, {'auto_view_3_4_front_1': 4}, {'auto_view_side_18': 6}, {'auto_view_3_4_front_1': 1}, {'auto_view_side_18': 32}, {'auto_view_3_4_back_0': 9}, {'auto_view_side_18': 1}, {'auto_view_3_4_back_0': 1}, {'auto_view_back_2': 2}, {'auto_view_front_7': 7}, {'auto_view_back_2': 2}, {'auto_view_side_18': 1}, {'auto_view_back_2': 1}, {'auto_view_side_18': 1}, {'auto_view_back_2': 1}, {'auto_view_side_18': 1}, {'auto_view_back_2': 1}, {'auto_view_side_18': 2}, {'auto_view_back_2': 1}, {'auto_view_front_7': 1}, {'auto_view_back_2': 1}, {'auto_view_side_18': 2}, {'auto_view_3_4_back_0': 1}, {'auto_view_side_18': 44}, {'auto_view_front_7': 3}, {'auto_view_side_18': 2}, {'auto_view_front_7': 27}]</td>\n",
       "      <td>True</td>\n",
       "    </tr>\n",
       "    <tr>\n",
       "      <th>163</th>\n",
       "      <td>https://autoru-panorama-internal.s3.mds.yandex.net/upload/598/223/5982233c-b414-4968-93ab-226aff952573</td>\n",
       "      <td>completed</td>\n",
       "      <td>images_from_video/videos_ok_598_223_5982233c-b414-4968-93ab-226aff952573</td>\n",
       "      <td>BAD</td>\n",
       "      <td>163</td>\n",
       "      <td>162</td>\n",
       "      <td>0</td>\n",
       "      <td>94</td>\n",
       "      <td>58</td>\n",
       "      <td>95</td>\n",
       "      <td>59</td>\n",
       "      <td>0.006135</td>\n",
       "      <td>0.580247</td>\n",
       "      <td>0.582822</td>\n",
       "      <td>0.361963</td>\n",
       "      <td>{'auto_view_front_7': 23, 'auto_view_3_4_front_1': 7, 'auto_view_3_4_back_0': 47, 'auto_view_side_18': 67, 'auto_view_back_2': 19}</td>\n",
       "      <td>[{'auto_view_front_7': 20}, {'auto_view_3_4_front_1': 7}, {'auto_view_3_4_back_0': 1}, {'auto_view_side_18': 32}, {'auto_view_3_4_back_0': 22}, {'auto_view_back_2': 10}, {'auto_view_front_7': 1}, {'auto_view_back_2': 1}, {'auto_view_front_7': 1}, {'auto_view_back_2': 5}, {'auto_view_front_7': 1}, {'auto_view_back_2': 2}, {'auto_view_3_4_back_0': 1}, {'auto_view_back_2': 1}, {'auto_view_3_4_back_0': 23}, {'auto_view_side_18': 35}]</td>\n",
       "      <td>True</td>\n",
       "    </tr>\n",
       "    <tr>\n",
       "      <th>77</th>\n",
       "      <td>https://autoru-panorama-internal.s3.mds.yandex.net/upload/15f/4eb/15f4eb71-447b-4356-b817-de444c2ee98a</td>\n",
       "      <td>completed</td>\n",
       "      <td>images_from_video/videos_ok_15f_4eb_15f4eb71-447b-4356-b817-de444c2ee98a</td>\n",
       "      <td>GOOD</td>\n",
       "      <td>196</td>\n",
       "      <td>196</td>\n",
       "      <td>0</td>\n",
       "      <td>30</td>\n",
       "      <td>3</td>\n",
       "      <td>30</td>\n",
       "      <td>3</td>\n",
       "      <td>0.000000</td>\n",
       "      <td>0.153061</td>\n",
       "      <td>0.153061</td>\n",
       "      <td>0.015306</td>\n",
       "      <td>{'auto_view_3_4_front_1': 49, 'auto_view_side_18': 73, 'auto_view_3_4_back_0': 13, 'auto_view_back_2': 22, 'other_views_100': 3, 'auto_view_front_7': 36}</td>\n",
       "      <td>[{'auto_view_3_4_front_1': 3}, {'auto_view_side_18': 1}, {'auto_view_3_4_front_1': 8}, {'auto_view_side_18': 1}, {'auto_view_3_4_front_1': 5}, {'auto_view_side_18': 19}, {'auto_view_3_4_back_0': 2}, {'auto_view_side_18': 1}, {'auto_view_3_4_back_0': 2}, {'auto_view_side_18': 1}, {'auto_view_3_4_back_0': 1}, {'auto_view_side_18': 1}, {'auto_view_3_4_back_0': 1}, {'auto_view_3_4_front_1': 14}, {'auto_view_back_2': 17}, {'auto_view_3_4_front_1': 1}, {'auto_view_back_2': 1}, {'auto_view_3_4_front_1': 7}, {'auto_view_3_4_back_0': 4}, {'auto_view_3_4_front_1': 1}, {'auto_view_3_4_back_0': 2}, {'other_views_100': 1}, {'auto_view_3_4_back_0': 1}, {'auto_view_side_18': 2}, {'auto_view_3_4_front_1': 1}, {'auto_view_side_18': 1}, {'other_views_100': 1}, {'auto_view_side_18': 1}, {'other_views_100': 1}, {'auto_view_side_18': 32}, {'auto_view_3_4_front_1': 1}, {'auto_view_front_7': 31}, {'auto_view_back_2': 1}, {'auto_view_front_7': 2}, {'auto_view_back_2': 1}, {'auto_view_front_7': 2}, {'auto_...</td>\n",
       "      <td>True</td>\n",
       "    </tr>\n",
       "    <tr>\n",
       "      <th>85</th>\n",
       "      <td>https://autoru-panorama-internal.s3.mds.yandex.net/upload/986/879/986879c4-584d-44d6-89e5-1aa0f37a5983</td>\n",
       "      <td>failed</td>\n",
       "      <td>images_from_video/videos_failed_986_879_986879c4-584d-44d6-89e5-1aa0f37a5983</td>\n",
       "      <td>GOOD</td>\n",
       "      <td>179</td>\n",
       "      <td>176</td>\n",
       "      <td>0</td>\n",
       "      <td>0</td>\n",
       "      <td>0</td>\n",
       "      <td>3</td>\n",
       "      <td>3</td>\n",
       "      <td>0.016760</td>\n",
       "      <td>0.000000</td>\n",
       "      <td>0.016760</td>\n",
       "      <td>0.016760</td>\n",
       "      <td>{'auto_view_front_7': 47, 'auto_view_side_18': 105, 'auto_view_3_4_back_0': 3, 'other_views_100': 6, 'auto_view_back_2': 18}</td>\n",
       "      <td>[{'auto_view_front_7': 1}, {'auto_view_side_18': 1}, {'auto_view_front_7': 22}, {'auto_view_side_18': 1}, {'auto_view_front_7': 1}, {'auto_view_side_18': 1}, {'auto_view_front_7': 2}, {'auto_view_side_18': 28}, {'auto_view_3_4_back_0': 1}, {'auto_view_side_18': 1}, {'other_views_100': 2}, {'auto_view_3_4_back_0': 1}, {'auto_view_side_18': 1}, {'other_views_100': 2}, {'auto_view_side_18': 3}, {'other_views_100': 2}, {'auto_view_side_18': 1}, {'auto_view_back_2': 5}, {'auto_view_3_4_back_0': 1}, {'auto_view_back_2': 4}, {'auto_view_front_7': 1}, {'auto_view_back_2': 5}, {'auto_view_side_18': 2}, {'auto_view_back_2': 2}, {'auto_view_side_18': 65}, {'auto_view_front_7': 8}, {'auto_view_side_18': 1}, {'auto_view_front_7': 3}, {'auto_view_back_2': 2}, {'auto_view_front_7': 9}]</td>\n",
       "      <td>False</td>\n",
       "    </tr>\n",
       "    <tr>\n",
       "      <th>214</th>\n",
       "      <td>https://autoru-panorama-internal.s3.mds.yandex.net/upload/4a9/9a0/4a99a0cf-099c-4575-ae55-d24d79d41742</td>\n",
       "      <td>completed</td>\n",
       "      <td>images_from_video/videos_ok_4a9_9a0_4a99a0cf-099c-4575-ae55-d24d79d41742</td>\n",
       "      <td>GOOD</td>\n",
       "      <td>339</td>\n",
       "      <td>339</td>\n",
       "      <td>0</td>\n",
       "      <td>25</td>\n",
       "      <td>15</td>\n",
       "      <td>25</td>\n",
       "      <td>15</td>\n",
       "      <td>0.000000</td>\n",
       "      <td>0.073746</td>\n",
       "      <td>0.073746</td>\n",
       "      <td>0.044248</td>\n",
       "      <td>{'auto_view_3_4_front_1': 86, 'auto_view_side_18': 78, 'other_views_100': 1, 'auto_view_3_4_back_0': 70, 'auto_view_back_2': 48, 'auto_view_front_7': 56}</td>\n",
       "      <td>[{'auto_view_3_4_front_1': 1}, {'auto_view_side_18': 2}, {'auto_view_3_4_front_1': 2}, {'other_views_100': 1}, {'auto_view_side_18': 1}, {'auto_view_3_4_back_0': 18}, {'auto_view_3_4_front_1': 1}, {'auto_view_3_4_back_0': 11}, {'auto_view_3_4_front_1': 1}, {'auto_view_3_4_back_0': 17}, {'auto_view_back_2': 48}, {'auto_view_3_4_back_0': 10}, {'auto_view_3_4_front_1': 1}, {'auto_view_3_4_back_0': 1}, {'auto_view_3_4_front_1': 4}, {'auto_view_3_4_back_0': 1}, {'auto_view_3_4_front_1': 2}, {'auto_view_3_4_back_0': 11}, {'auto_view_front_7': 1}, {'auto_view_side_18': 1}, {'auto_view_3_4_back_0': 1}, {'auto_view_side_18': 46}, {'auto_view_3_4_front_1': 36}, {'auto_view_front_7': 55}, {'auto_view_3_4_front_1': 37}, {'auto_view_side_18': 1}, {'auto_view_3_4_front_1': 1}, {'auto_view_side_18': 27}]</td>\n",
       "      <td>True</td>\n",
       "    </tr>\n",
       "  </tbody>\n",
       "</table>\n",
       "</div>"
      ],
      "text/plain": [
       "                                                                                                        url panorama_status                                                                    image_path classifier_result  total_analyzed_frames  big_vehicle_middle_screen_found  no_big_vehicle_middle_screen_found  car_found_but_bounding_box_unsafe_margin  bounding_boxes_outside_image  bad_frames  really_bad_frames  share_no_big_vehicle_middle_screen_found  share_car_found_but_bounding_box_unsafe_margin  share_bad_frames  share_really_bad_frames                                                                                                                                              racurses_dict  \\\n",
       "279  https://autoru-panorama-internal.s3.mds.yandex.net/upload/76e/dc9/76edc944-4c2b-4b0b-8847-63d72cfee674          failed  images_from_video/videos_failed_76e_dc9_76edc944-4c2b-4b0b-8847-63d72cfee674              GOOD                    176                              172                                   0                                         0                             0           4                  4                                  0.022727                                        0.000000          0.022727                 0.022727                          {'auto_view_front_7': 55, 'auto_view_side_18': 95, 'auto_view_3_4_front_1': 6, 'auto_view_3_4_back_0': 11, 'auto_view_back_2': 9}   \n",
       "163  https://autoru-panorama-internal.s3.mds.yandex.net/upload/598/223/5982233c-b414-4968-93ab-226aff952573       completed      images_from_video/videos_ok_598_223_5982233c-b414-4968-93ab-226aff952573               BAD                    163                              162                                   0                                        94                            58          95                 59                                  0.006135                                        0.580247          0.582822                 0.361963                         {'auto_view_front_7': 23, 'auto_view_3_4_front_1': 7, 'auto_view_3_4_back_0': 47, 'auto_view_side_18': 67, 'auto_view_back_2': 19}   \n",
       "77   https://autoru-panorama-internal.s3.mds.yandex.net/upload/15f/4eb/15f4eb71-447b-4356-b817-de444c2ee98a       completed      images_from_video/videos_ok_15f_4eb_15f4eb71-447b-4356-b817-de444c2ee98a              GOOD                    196                              196                                   0                                        30                             3          30                  3                                  0.000000                                        0.153061          0.153061                 0.015306  {'auto_view_3_4_front_1': 49, 'auto_view_side_18': 73, 'auto_view_3_4_back_0': 13, 'auto_view_back_2': 22, 'other_views_100': 3, 'auto_view_front_7': 36}   \n",
       "85   https://autoru-panorama-internal.s3.mds.yandex.net/upload/986/879/986879c4-584d-44d6-89e5-1aa0f37a5983          failed  images_from_video/videos_failed_986_879_986879c4-584d-44d6-89e5-1aa0f37a5983              GOOD                    179                              176                                   0                                         0                             0           3                  3                                  0.016760                                        0.000000          0.016760                 0.016760                               {'auto_view_front_7': 47, 'auto_view_side_18': 105, 'auto_view_3_4_back_0': 3, 'other_views_100': 6, 'auto_view_back_2': 18}   \n",
       "214  https://autoru-panorama-internal.s3.mds.yandex.net/upload/4a9/9a0/4a99a0cf-099c-4575-ae55-d24d79d41742       completed      images_from_video/videos_ok_4a9_9a0_4a99a0cf-099c-4575-ae55-d24d79d41742              GOOD                    339                              339                                   0                                        25                            15          25                 15                                  0.000000                                        0.073746          0.073746                 0.044248  {'auto_view_3_4_front_1': 86, 'auto_view_side_18': 78, 'other_views_100': 1, 'auto_view_3_4_back_0': 70, 'auto_view_back_2': 48, 'auto_view_front_7': 56}   \n",
       "\n",
       "                                                                                                                                                                                                                                                                                                                                                                                                                                                                                                                                                                                                                                                                                                                                                                                                                                                                                                                                                                                                                               list_racurses  \\\n",
       "279                                                                                                                                                                                                           [{'auto_view_front_7': 17}, {'auto_view_side_18': 2}, {'auto_view_3_4_front_1': 1}, {'auto_view_side_18': 1}, {'auto_view_3_4_front_1': 4}, {'auto_view_side_18': 6}, {'auto_view_3_4_front_1': 1}, {'auto_view_side_18': 32}, {'auto_view_3_4_back_0': 9}, {'auto_view_side_18': 1}, {'auto_view_3_4_back_0': 1}, {'auto_view_back_2': 2}, {'auto_view_front_7': 7}, {'auto_view_back_2': 2}, {'auto_view_side_18': 1}, {'auto_view_back_2': 1}, {'auto_view_side_18': 1}, {'auto_view_back_2': 1}, {'auto_view_side_18': 1}, {'auto_view_back_2': 1}, {'auto_view_side_18': 2}, {'auto_view_back_2': 1}, {'auto_view_front_7': 1}, {'auto_view_back_2': 1}, {'auto_view_side_18': 2}, {'auto_view_3_4_back_0': 1}, {'auto_view_side_18': 44}, {'auto_view_front_7': 3}, {'auto_view_side_18': 2}, {'auto_view_front_7': 27}]   \n",
       "163                                                                                                                                                                                                                                                                                                                                                                                                                                                                                                                                                                                        [{'auto_view_front_7': 20}, {'auto_view_3_4_front_1': 7}, {'auto_view_3_4_back_0': 1}, {'auto_view_side_18': 32}, {'auto_view_3_4_back_0': 22}, {'auto_view_back_2': 10}, {'auto_view_front_7': 1}, {'auto_view_back_2': 1}, {'auto_view_front_7': 1}, {'auto_view_back_2': 5}, {'auto_view_front_7': 1}, {'auto_view_back_2': 2}, {'auto_view_3_4_back_0': 1}, {'auto_view_back_2': 1}, {'auto_view_3_4_back_0': 23}, {'auto_view_side_18': 35}]   \n",
       "77   [{'auto_view_3_4_front_1': 3}, {'auto_view_side_18': 1}, {'auto_view_3_4_front_1': 8}, {'auto_view_side_18': 1}, {'auto_view_3_4_front_1': 5}, {'auto_view_side_18': 19}, {'auto_view_3_4_back_0': 2}, {'auto_view_side_18': 1}, {'auto_view_3_4_back_0': 2}, {'auto_view_side_18': 1}, {'auto_view_3_4_back_0': 1}, {'auto_view_side_18': 1}, {'auto_view_3_4_back_0': 1}, {'auto_view_3_4_front_1': 14}, {'auto_view_back_2': 17}, {'auto_view_3_4_front_1': 1}, {'auto_view_back_2': 1}, {'auto_view_3_4_front_1': 7}, {'auto_view_3_4_back_0': 4}, {'auto_view_3_4_front_1': 1}, {'auto_view_3_4_back_0': 2}, {'other_views_100': 1}, {'auto_view_3_4_back_0': 1}, {'auto_view_side_18': 2}, {'auto_view_3_4_front_1': 1}, {'auto_view_side_18': 1}, {'other_views_100': 1}, {'auto_view_side_18': 1}, {'other_views_100': 1}, {'auto_view_side_18': 32}, {'auto_view_3_4_front_1': 1}, {'auto_view_front_7': 31}, {'auto_view_back_2': 1}, {'auto_view_front_7': 2}, {'auto_view_back_2': 1}, {'auto_view_front_7': 2}, {'auto_...   \n",
       "85                                                                                                                                                                                                                             [{'auto_view_front_7': 1}, {'auto_view_side_18': 1}, {'auto_view_front_7': 22}, {'auto_view_side_18': 1}, {'auto_view_front_7': 1}, {'auto_view_side_18': 1}, {'auto_view_front_7': 2}, {'auto_view_side_18': 28}, {'auto_view_3_4_back_0': 1}, {'auto_view_side_18': 1}, {'other_views_100': 2}, {'auto_view_3_4_back_0': 1}, {'auto_view_side_18': 1}, {'other_views_100': 2}, {'auto_view_side_18': 3}, {'other_views_100': 2}, {'auto_view_side_18': 1}, {'auto_view_back_2': 5}, {'auto_view_3_4_back_0': 1}, {'auto_view_back_2': 4}, {'auto_view_front_7': 1}, {'auto_view_back_2': 5}, {'auto_view_side_18': 2}, {'auto_view_back_2': 2}, {'auto_view_side_18': 65}, {'auto_view_front_7': 8}, {'auto_view_side_18': 1}, {'auto_view_front_7': 3}, {'auto_view_back_2': 2}, {'auto_view_front_7': 9}]   \n",
       "214                                                                                                                                                                                                         [{'auto_view_3_4_front_1': 1}, {'auto_view_side_18': 2}, {'auto_view_3_4_front_1': 2}, {'other_views_100': 1}, {'auto_view_side_18': 1}, {'auto_view_3_4_back_0': 18}, {'auto_view_3_4_front_1': 1}, {'auto_view_3_4_back_0': 11}, {'auto_view_3_4_front_1': 1}, {'auto_view_3_4_back_0': 17}, {'auto_view_back_2': 48}, {'auto_view_3_4_back_0': 10}, {'auto_view_3_4_front_1': 1}, {'auto_view_3_4_back_0': 1}, {'auto_view_3_4_front_1': 4}, {'auto_view_3_4_back_0': 1}, {'auto_view_3_4_front_1': 2}, {'auto_view_3_4_back_0': 11}, {'auto_view_front_7': 1}, {'auto_view_side_18': 1}, {'auto_view_3_4_back_0': 1}, {'auto_view_side_18': 46}, {'auto_view_3_4_front_1': 36}, {'auto_view_front_7': 55}, {'auto_view_3_4_front_1': 37}, {'auto_view_side_18': 1}, {'auto_view_3_4_front_1': 1}, {'auto_view_side_18': 27}]   \n",
       "\n",
       "     all_racurses_present  \n",
       "279                  True  \n",
       "163                  True  \n",
       "77                   True  \n",
       "85                  False  \n",
       "214                  True  "
      ]
     },
     "execution_count": 230,
     "metadata": {},
     "output_type": "execute_result"
    }
   ],
   "source": [
    "df_final.sample(5)"
   ]
  },
  {
   "cell_type": "code",
   "execution_count": 231,
   "metadata": {},
   "outputs": [],
   "source": [
    "df_final.to_csv('bb_racurs_classifier_result.tsv', sep = '\\t', index = False)"
   ]
  },
  {
   "cell_type": "code",
   "execution_count": 242,
   "metadata": {},
   "outputs": [],
   "source": [
    "list(df_final)\n",
    "cols = [\n",
    " 'panorama_status',\n",
    " 'classifier_result',\n",
    " 'racurses_dict',\n",
    " 'image_path',\n",
    " 'list_racurses']\n",
    "# df_final[]"
   ]
  },
  {
   "cell_type": "code",
   "execution_count": 243,
   "metadata": {},
   "outputs": [
    {
     "data": {
      "text/html": [
       "<div>\n",
       "<style scoped>\n",
       "    .dataframe tbody tr th:only-of-type {\n",
       "        vertical-align: middle;\n",
       "    }\n",
       "\n",
       "    .dataframe tbody tr th {\n",
       "        vertical-align: top;\n",
       "    }\n",
       "\n",
       "    .dataframe thead th {\n",
       "        text-align: right;\n",
       "    }\n",
       "</style>\n",
       "<table border=\"1\" class=\"dataframe\">\n",
       "  <thead>\n",
       "    <tr style=\"text-align: right;\">\n",
       "      <th></th>\n",
       "      <th>panorama_status</th>\n",
       "      <th>classifier_result</th>\n",
       "      <th>racurses_dict</th>\n",
       "      <th>image_path</th>\n",
       "      <th>list_racurses</th>\n",
       "    </tr>\n",
       "  </thead>\n",
       "  <tbody>\n",
       "    <tr>\n",
       "      <th>302</th>\n",
       "      <td>completed</td>\n",
       "      <td>GOOD</td>\n",
       "      <td>{'auto_view_3_4_front_1': 102, 'auto_view_side_18': 69, 'auto_view_3_4_back_0': 57, 'auto_view_back_2': 33, 'auto_view_front_7': 36}</td>\n",
       "      <td>images_from_video/videos_ok_afe_88c_afe88ce2-ed96-4415-b0d8-297096ba957b</td>\n",
       "      <td>[{'auto_view_3_4_front_1': 44}, {'auto_view_side_18': 43}, {'auto_view_3_4_back_0': 2}, {'auto_view_side_18': 1}, {'auto_view_3_4_back_0': 4}, {'auto_view_3_4_front_1': 3}, {'auto_view_3_4_back_0': 15}, {'auto_view_back_2': 30}, {'auto_view_front_7': 1}, {'auto_view_back_2': 1}, {'auto_view_front_7': 1}, {'auto_view_back_2': 2}, {'auto_view_front_7': 3}, {'auto_view_3_4_back_0': 29}, {'auto_view_side_18': 1}, {'auto_view_3_4_back_0': 2}, {'auto_view_side_18': 1}, {'auto_view_3_4_back_0': 5}, {'auto_view_side_18': 23}, {'auto_view_3_4_front_1': 40}, {'auto_view_front_7': 31}, {'auto_view_3_4_front_1': 15}]</td>\n",
       "    </tr>\n",
       "    <tr>\n",
       "      <th>134</th>\n",
       "      <td>completed</td>\n",
       "      <td>GOOD</td>\n",
       "      <td>{'auto_view_back_2': 32, 'auto_view_side_18': 22, 'other_views_100': 109, 'auto_view_3_4_back_0': 5, 'auto_view_front_7': 48, 'auto_view_3_4_front_1': 10}</td>\n",
       "      <td>images_from_video/videos_ok_d1f_b8a_d1fb8aee-c342-488c-8c6d-318c9017c047</td>\n",
       "      <td>[{'auto_view_back_2': 24}, {'auto_view_side_18': 1}, {'auto_view_back_2': 4}, {'auto_view_side_18': 1}, {'auto_view_back_2': 3}, {'other_views_100': 38}, {'auto_view_3_4_back_0': 1}, {'other_views_100': 4}, {'auto_view_front_7': 3}, {'other_views_100': 1}, {'auto_view_front_7': 17}, {'auto_view_back_2': 1}, {'auto_view_front_7': 15}, {'auto_view_3_4_back_0': 1}, {'auto_view_front_7': 1}, {'other_views_100': 1}, {'auto_view_front_7': 1}, {'auto_view_3_4_back_0': 1}, {'auto_view_front_7': 2}, {'auto_view_3_4_back_0': 1}, {'other_views_100': 14}, {'auto_view_3_4_front_1': 1}, {'other_views_100': 15}, {'auto_view_3_4_front_1': 1}, {'other_views_100': 4}, {'auto_view_3_4_front_1': 3}, {'other_views_100': 13}, {'auto_view_side_18': 1}, {'other_views_100': 1}, {'auto_view_side_18': 8}, {'auto_view_3_4_front_1': 1}, {'auto_view_side_18': 6}, {'auto_view_3_4_front_1': 3}, {'auto_view_side_18': 2}, {'other_views_100': 1}, {'auto_view_3_4_front_1': 1}, {'auto_view_side_18': 3}, {'auto_view_fr...</td>\n",
       "    </tr>\n",
       "    <tr>\n",
       "      <th>248</th>\n",
       "      <td>completed</td>\n",
       "      <td>UNKNOWN</td>\n",
       "      <td>{'auto_view_back_2': 29, 'other_views_100': 3, 'auto_view_front_7': 12, 'auto_view_3_4_front_1': 3, 'auto_view_side_18': 43, 'auto_view_3_4_back_0': 13}</td>\n",
       "      <td>images_from_video/videos_ok_fde_d84_fded84f8-d1d4-4f2d-974b-b7637c86dfa7</td>\n",
       "      <td>[{'auto_view_back_2': 9}, {'other_views_100': 2}, {'auto_view_front_7': 6}, {'auto_view_3_4_front_1': 1}, {'auto_view_side_18': 2}, {'auto_view_3_4_front_1': 1}, {'auto_view_side_18': 20}, {'auto_view_3_4_back_0': 5}, {'auto_view_back_2': 15}, {'auto_view_3_4_back_0': 8}, {'auto_view_side_18': 21}, {'auto_view_3_4_front_1': 1}, {'auto_view_front_7': 6}, {'auto_view_back_2': 3}, {'other_views_100': 1}, {'auto_view_back_2': 2}]</td>\n",
       "    </tr>\n",
       "    <tr>\n",
       "      <th>257</th>\n",
       "      <td>completed</td>\n",
       "      <td>GOOD</td>\n",
       "      <td>{'auto_view_side_18': 40, 'auto_view_3_4_front_1': 33, 'auto_view_3_4_back_0': 12, 'auto_view_front_7': 68, 'auto_view_back_2': 10, 'other_views_100': 2}</td>\n",
       "      <td>images_from_video/videos_ok_ad8_21a_ad821a31-f3cf-45d2-9ae3-94722aea5cda</td>\n",
       "      <td>[{'auto_view_side_18': 1}, {'auto_view_3_4_front_1': 1}, {'auto_view_side_18': 9}, {'auto_view_3_4_back_0': 3}, {'auto_view_side_18': 6}, {'auto_view_front_7': 15}, {'auto_view_3_4_back_0': 2}, {'auto_view_front_7': 1}, {'auto_view_3_4_back_0': 1}, {'auto_view_front_7': 1}, {'auto_view_3_4_back_0': 2}, {'auto_view_front_7': 4}, {'auto_view_back_2': 3}, {'auto_view_front_7': 1}, {'auto_view_back_2': 7}, {'auto_view_front_7': 11}, {'auto_view_3_4_back_0': 1}, {'auto_view_front_7': 1}, {'auto_view_3_4_back_0': 3}, {'auto_view_front_7': 8}, {'auto_view_side_18': 1}, {'auto_view_front_7': 2}, {'auto_view_side_18': 14}, {'auto_view_3_4_front_1': 2}, {'auto_view_side_18': 1}, {'auto_view_3_4_front_1': 1}, {'auto_view_side_18': 1}, {'auto_view_3_4_front_1': 14}, {'auto_view_front_7': 23}, {'auto_view_3_4_front_1': 13}, {'other_views_100': 2}, {'auto_view_3_4_front_1': 1}, {'auto_view_side_18': 2}, {'auto_view_3_4_front_1': 1}, {'auto_view_side_18': 1}, {'auto_view_front_7': 1}, {'auto_view...</td>\n",
       "    </tr>\n",
       "    <tr>\n",
       "      <th>254</th>\n",
       "      <td>failed</td>\n",
       "      <td>UNKNOWN</td>\n",
       "      <td>{'auto_view_3_4_back_0': 25, 'auto_view_back_2': 21, 'auto_view_3_4_front_1': 35, 'auto_view_side_18': 28, 'auto_view_front_7': 26}</td>\n",
       "      <td>images_from_video/videos_failed_03f_4a8_03f4a857-3291-48b3-8bcd-7b3103f08a7e</td>\n",
       "      <td>[{'auto_view_3_4_back_0': 9}, {'auto_view_back_2': 18}, {'auto_view_3_4_back_0': 4}, {'auto_view_back_2': 1}, {'auto_view_3_4_back_0': 9}, {'auto_view_3_4_front_1': 1}, {'auto_view_3_4_back_0': 2}, {'auto_view_side_18': 6}, {'auto_view_3_4_back_0': 1}, {'auto_view_back_2': 2}, {'auto_view_3_4_front_1': 3}, {'auto_view_side_18': 1}, {'auto_view_3_4_front_1': 18}, {'auto_view_front_7': 26}, {'auto_view_3_4_front_1': 13}, {'auto_view_side_18': 21}]</td>\n",
       "    </tr>\n",
       "    <tr>\n",
       "      <th>158</th>\n",
       "      <td>completed</td>\n",
       "      <td>GOOD</td>\n",
       "      <td>{'auto_view_side_18': 58, 'auto_view_3_4_front_1': 24, 'auto_view_3_4_back_0': 38, 'auto_view_front_7': 28, 'auto_view_back_2': 9}</td>\n",
       "      <td>images_from_video/videos_ok_730_c25_730c2526-9756-41fa-91b9-e1f6c357e21a</td>\n",
       "      <td>[{'auto_view_side_18': 18}, {'auto_view_3_4_front_1': 8}, {'auto_view_3_4_back_0': 1}, {'auto_view_3_4_front_1': 1}, {'auto_view_3_4_back_0': 2}, {'auto_view_front_7': 2}, {'auto_view_3_4_back_0': 2}, {'auto_view_front_7': 21}, {'auto_view_3_4_front_1': 10}, {'auto_view_side_18': 25}, {'auto_view_3_4_front_1': 2}, {'auto_view_side_18': 2}, {'auto_view_3_4_front_1': 2}, {'auto_view_side_18': 1}, {'auto_view_3_4_back_0': 2}, {'auto_view_3_4_front_1': 1}, {'auto_view_3_4_back_0': 13}, {'auto_view_front_7': 1}, {'auto_view_back_2': 1}, {'auto_view_3_4_back_0': 2}, {'auto_view_back_2': 4}, {'auto_view_front_7': 4}, {'auto_view_back_2': 4}, {'auto_view_3_4_back_0': 15}, {'auto_view_side_18': 4}, {'auto_view_3_4_back_0': 1}, {'auto_view_side_18': 8}]</td>\n",
       "    </tr>\n",
       "    <tr>\n",
       "      <th>310</th>\n",
       "      <td>completed</td>\n",
       "      <td>UNKNOWN</td>\n",
       "      <td>{'auto_view_side_18': 97, 'other_views_100': 38, 'auto_view_3_4_back_0': 13, 'auto_view_back_2': 30, 'auto_view_3_4_front_1': 2, 'auto_view_front_7': 1}</td>\n",
       "      <td>images_from_video/videos_ok_561_615_561615c5-4564-4af6-a6b4-4cb0bc26900f</td>\n",
       "      <td>[{'auto_view_side_18': 19}, {'other_views_100': 1}, {'auto_view_side_18': 2}, {'auto_view_3_4_back_0': 4}, {'auto_view_back_2': 23}, {'auto_view_3_4_back_0': 2}, {'auto_view_back_2': 1}, {'auto_view_3_4_back_0': 2}, {'auto_view_back_2': 1}, {'auto_view_3_4_back_0': 1}, {'auto_view_back_2': 1}, {'auto_view_side_18': 1}, {'auto_view_back_2': 2}, {'auto_view_side_18': 3}, {'auto_view_3_4_back_0': 1}, {'auto_view_side_18': 28}, {'auto_view_3_4_front_1': 1}, {'auto_view_side_18': 2}, {'auto_view_3_4_front_1': 1}, {'other_views_100': 2}, {'auto_view_back_2': 1}, {'other_views_100': 1}, {'auto_view_side_18': 1}, {'auto_view_front_7': 1}, {'other_views_100': 16}, {'auto_view_back_2': 1}, {'other_views_100': 16}, {'auto_view_side_18': 23}, {'other_views_100': 1}, {'auto_view_side_18': 3}, {'auto_view_3_4_back_0': 1}, {'auto_view_side_18': 1}, {'auto_view_3_4_back_0': 1}, {'auto_view_side_18': 2}, {'other_views_100': 1}, {'auto_view_side_18': 1}, {'auto_view_3_4_back_0': 1}, {'auto_view_side...</td>\n",
       "    </tr>\n",
       "    <tr>\n",
       "      <th>149</th>\n",
       "      <td>completed</td>\n",
       "      <td>BAD</td>\n",
       "      <td>{'auto_view_3_4_back_0': 16, 'auto_view_side_18': 22, 'auto_view_3_4_front_1': 16, 'auto_view_front_7': 9, 'auto_view_back_2': 9}</td>\n",
       "      <td>images_from_video/videos_ok_7a6_3e4_7a63e421-742f-43b0-ab9a-6e6909bb4764</td>\n",
       "      <td>[{'auto_view_3_4_back_0': 9}, {'auto_view_side_18': 11}, {'auto_view_3_4_front_1': 1}, {'auto_view_side_18': 1}, {'auto_view_3_4_front_1': 8}, {'auto_view_front_7': 9}, {'auto_view_3_4_front_1': 7}, {'auto_view_side_18': 10}, {'auto_view_3_4_back_0': 7}, {'auto_view_back_2': 9}]</td>\n",
       "    </tr>\n",
       "    <tr>\n",
       "      <th>311</th>\n",
       "      <td>completed</td>\n",
       "      <td>GOOD</td>\n",
       "      <td>{'auto_view_3_4_front_1': 72, 'auto_view_front_7': 47, 'auto_view_side_18': 65, 'auto_view_back_2': 42}</td>\n",
       "      <td>images_from_video/videos_ok_741_06b_74106bb5-450d-4c75-9ae2-35acd0ebee61</td>\n",
       "      <td>[{'auto_view_3_4_front_1': 13}, {'auto_view_front_7': 26}, {'auto_view_3_4_front_1': 17}, {'auto_view_side_18': 1}, {'auto_view_3_4_front_1': 3}, {'auto_view_side_18': 22}, {'auto_view_3_4_front_1': 2}, {'auto_view_side_18': 2}, {'auto_view_3_4_front_1': 1}, {'auto_view_side_18': 1}, {'auto_view_3_4_front_1': 5}, {'auto_view_back_2': 1}, {'auto_view_3_4_front_1': 3}, {'auto_view_back_2': 37}, {'auto_view_front_7': 1}, {'auto_view_back_2': 1}, {'auto_view_side_18': 3}, {'auto_view_3_4_front_1': 1}, {'auto_view_front_7': 1}, {'auto_view_3_4_front_1': 1}, {'auto_view_side_18': 4}, {'auto_view_front_7': 2}, {'auto_view_3_4_front_1': 1}, {'auto_view_side_18': 18}, {'auto_view_3_4_front_1': 2}, {'auto_view_side_18': 5}, {'auto_view_3_4_front_1': 1}, {'auto_view_side_18': 9}, {'auto_view_3_4_front_1': 20}, {'auto_view_front_7': 1}, {'auto_view_3_4_front_1': 2}, {'auto_view_back_2': 3}, {'auto_view_front_7': 16}]</td>\n",
       "    </tr>\n",
       "    <tr>\n",
       "      <th>95</th>\n",
       "      <td>failed</td>\n",
       "      <td>BAD</td>\n",
       "      <td>{'other_views_100': 94}</td>\n",
       "      <td>images_from_video/videos_failed_d09_b98_d09b9863-4a2d-498e-a999-a74aec917a8c</td>\n",
       "      <td>[{'other_views_100': 94}]</td>\n",
       "    </tr>\n",
       "    <tr>\n",
       "      <th>76</th>\n",
       "      <td>failed</td>\n",
       "      <td>BAD</td>\n",
       "      <td>{'auto_view_3_4_front_1': 26, 'auto_view_front_7': 15, 'auto_view_side_18': 23, 'auto_view_3_4_back_0': 19, 'auto_view_back_2': 15}</td>\n",
       "      <td>images_from_video/videos_failed_3fb_0af_3fb0af88-2095-4c51-b308-d3be1547ba79</td>\n",
       "      <td>[{'auto_view_3_4_front_1': 10}, {'auto_view_front_7': 15}, {'auto_view_3_4_front_1': 8}, {'auto_view_side_18': 6}, {'auto_view_3_4_back_0': 1}, {'auto_view_side_18': 2}, {'auto_view_3_4_back_0': 5}, {'auto_view_side_18': 1}, {'auto_view_3_4_back_0': 7}, {'auto_view_back_2': 15}, {'auto_view_3_4_back_0': 6}, {'auto_view_side_18': 13}, {'auto_view_3_4_front_1': 1}, {'auto_view_side_18': 1}, {'auto_view_3_4_front_1': 7}]</td>\n",
       "    </tr>\n",
       "    <tr>\n",
       "      <th>199</th>\n",
       "      <td>completed</td>\n",
       "      <td>GOOD</td>\n",
       "      <td>{'auto_view_3_4_back_0': 14, 'auto_view_side_18': 162, 'auto_view_3_4_front_1': 1, 'auto_view_back_2': 19, 'other_views_100': 6, 'auto_view_front_7': 16}</td>\n",
       "      <td>images_from_video/videos_ok_e1d_dad_e1ddadef-db91-4aa3-a4b5-f78e1e58b7a8</td>\n",
       "      <td>[{'auto_view_3_4_back_0': 1}, {'auto_view_side_18': 1}, {'auto_view_3_4_back_0': 5}, {'auto_view_3_4_front_1': 1}, {'auto_view_3_4_back_0': 2}, {'auto_view_side_18': 72}, {'auto_view_back_2': 5}, {'other_views_100': 1}, {'auto_view_front_7': 1}, {'other_views_100': 5}, {'auto_view_back_2': 2}, {'auto_view_side_18': 1}, {'auto_view_back_2': 1}, {'auto_view_side_18': 75}, {'auto_view_back_2': 1}, {'auto_view_side_18': 1}, {'auto_view_front_7': 5}, {'auto_view_back_2': 6}, {'auto_view_front_7': 2}, {'auto_view_back_2': 2}, {'auto_view_front_7': 7}, {'auto_view_back_2': 1}, {'auto_view_front_7': 1}, {'auto_view_back_2': 1}, {'auto_view_3_4_back_0': 1}, {'auto_view_side_18': 1}, {'auto_view_3_4_back_0': 2}, {'auto_view_side_18': 1}, {'auto_view_3_4_back_0': 2}, {'auto_view_side_18': 1}, {'auto_view_3_4_back_0': 1}, {'auto_view_side_18': 9}]</td>\n",
       "    </tr>\n",
       "    <tr>\n",
       "      <th>321</th>\n",
       "      <td>completed</td>\n",
       "      <td>GOOD</td>\n",
       "      <td>{'auto_view_side_18': 78, 'auto_view_3_4_back_0': 25, 'auto_view_back_2': 21, 'auto_view_3_4_front_1': 29, 'auto_view_front_7': 23}</td>\n",
       "      <td>images_from_video/videos_ok_65d_9cd_65d9cd5c-b886-478f-b8d4-fe4076133cbb</td>\n",
       "      <td>[{'auto_view_side_18': 20}, {'auto_view_3_4_back_0': 2}, {'auto_view_side_18': 1}, {'auto_view_3_4_back_0': 14}, {'auto_view_back_2': 20}, {'auto_view_3_4_back_0': 1}, {'auto_view_back_2': 1}, {'auto_view_3_4_back_0': 8}, {'auto_view_3_4_front_1': 1}, {'auto_view_side_18': 35}, {'auto_view_3_4_front_1': 3}, {'auto_view_side_18': 1}, {'auto_view_3_4_front_1': 10}, {'auto_view_front_7': 23}, {'auto_view_3_4_front_1': 15}, {'auto_view_side_18': 21}]</td>\n",
       "    </tr>\n",
       "    <tr>\n",
       "      <th>166</th>\n",
       "      <td>failed</td>\n",
       "      <td>UNKNOWN</td>\n",
       "      <td>{'auto_view_front_7': 42, 'auto_view_back_2': 28, 'auto_view_3_4_front_1': 76, 'auto_view_side_18': 16, 'auto_view_3_4_back_0': 30, 'other_views_100': 2}</td>\n",
       "      <td>images_from_video/videos_failed_0f9_d90_0f9d90b1-a157-4fcc-bfc7-8b49ae6826fd</td>\n",
       "      <td>[{'auto_view_front_7': 3}, {'auto_view_back_2': 2}, {'auto_view_front_7': 6}, {'auto_view_back_2': 1}, {'auto_view_front_7': 8}, {'auto_view_3_4_front_1': 1}, {'auto_view_front_7': 4}, {'auto_view_3_4_front_1': 20}, {'auto_view_side_18': 1}, {'auto_view_3_4_front_1': 4}, {'auto_view_side_18': 1}, {'auto_view_3_4_front_1': 9}, {'auto_view_side_18': 1}, {'auto_view_3_4_front_1': 5}, {'auto_view_side_18': 3}, {'auto_view_3_4_front_1': 4}, {'auto_view_3_4_back_0': 4}, {'auto_view_side_18': 2}, {'auto_view_3_4_back_0': 1}, {'auto_view_3_4_front_1': 1}, {'auto_view_3_4_back_0': 8}, {'auto_view_back_2': 1}, {'auto_view_3_4_back_0': 1}, {'auto_view_back_2': 1}, {'auto_view_3_4_back_0': 1}, {'auto_view_back_2': 21}, {'auto_view_3_4_back_0': 1}, {'auto_view_back_2': 1}, {'auto_view_3_4_back_0': 2}, {'auto_view_3_4_front_1': 1}, {'auto_view_3_4_back_0': 5}, {'auto_view_side_18': 1}, {'auto_view_3_4_back_0': 4}, {'auto_view_side_18': 1}, {'auto_view_3_4_back_0': 1}, {'auto_view_side_18': 3}, {...</td>\n",
       "    </tr>\n",
       "    <tr>\n",
       "      <th>345</th>\n",
       "      <td>completed</td>\n",
       "      <td>GOOD</td>\n",
       "      <td>{'auto_view_side_18': 52, 'auto_view_3_4_front_1': 21, 'auto_view_front_7': 15, 'auto_view_back_2': 18, 'auto_view_3_4_back_0': 6}</td>\n",
       "      <td>images_from_video/videos_ok_7a6_727_7a6727a0-5f64-4a4f-9b7f-012d25f11314</td>\n",
       "      <td>[{'auto_view_side_18': 23}, {'auto_view_3_4_front_1': 1}, {'auto_view_side_18': 1}, {'auto_view_3_4_front_1': 7}, {'auto_view_front_7': 13}, {'auto_view_3_4_front_1': 9}, {'auto_view_side_18': 1}, {'auto_view_3_4_front_1': 1}, {'auto_view_side_18': 24}, {'auto_view_3_4_front_1': 1}, {'auto_view_side_18': 1}, {'auto_view_3_4_front_1': 1}, {'auto_view_side_18': 1}, {'auto_view_3_4_front_1': 1}, {'auto_view_side_18': 1}, {'auto_view_back_2': 18}, {'auto_view_front_7': 2}, {'auto_view_3_4_back_0': 6}]</td>\n",
       "    </tr>\n",
       "    <tr>\n",
       "      <th>142</th>\n",
       "      <td>completed</td>\n",
       "      <td>GOOD</td>\n",
       "      <td>{'auto_view_front_7': 52, 'auto_view_3_4_back_0': 41, 'auto_view_3_4_front_1': 2, 'auto_view_side_18': 50, 'auto_view_back_2': 6}</td>\n",
       "      <td>images_from_video/videos_ok_079_fef_079fef4b-76f4-44fe-8917-4aee1e5c8e2f</td>\n",
       "      <td>[{'auto_view_front_7': 39}, {'auto_view_3_4_back_0': 7}, {'auto_view_3_4_front_1': 1}, {'auto_view_side_18': 1}, {'auto_view_3_4_back_0': 2}, {'auto_view_3_4_front_1': 1}, {'auto_view_3_4_back_0': 5}, {'auto_view_side_18': 1}, {'auto_view_3_4_back_0': 1}, {'auto_view_side_18': 4}, {'auto_view_3_4_back_0': 22}, {'auto_view_back_2': 1}, {'auto_view_3_4_back_0': 1}, {'auto_view_back_2': 5}, {'auto_view_3_4_back_0': 1}, {'auto_view_side_18': 14}, {'auto_view_3_4_back_0': 2}, {'auto_view_side_18': 28}, {'auto_view_front_7': 1}, {'auto_view_side_18': 2}, {'auto_view_front_7': 12}]</td>\n",
       "    </tr>\n",
       "    <tr>\n",
       "      <th>32</th>\n",
       "      <td>failed</td>\n",
       "      <td>GOOD</td>\n",
       "      <td>{'auto_view_side_18': 66, 'auto_view_3_4_back_0': 36, 'auto_view_back_2': 18, 'auto_view_3_4_front_1': 24, 'auto_view_front_7': 22}</td>\n",
       "      <td>images_from_video/videos_failed_831_493_83149371-205e-4b53-aadf-debf44d16518</td>\n",
       "      <td>[{'auto_view_side_18': 19}, {'auto_view_3_4_back_0': 1}, {'auto_view_side_18': 1}, {'auto_view_3_4_back_0': 16}, {'auto_view_back_2': 18}, {'auto_view_3_4_back_0': 17}, {'auto_view_side_18': 26}, {'auto_view_3_4_front_1': 13}, {'auto_view_3_4_back_0': 2}, {'auto_view_front_7': 22}, {'auto_view_3_4_front_1': 11}, {'auto_view_side_18': 20}]</td>\n",
       "    </tr>\n",
       "    <tr>\n",
       "      <th>59</th>\n",
       "      <td>completed</td>\n",
       "      <td>GOOD</td>\n",
       "      <td>{'auto_view_front_7': 64, 'auto_view_side_18': 25, 'auto_view_3_4_back_0': 47, 'auto_view_back_2': 3, 'other_views_100': 12}</td>\n",
       "      <td>images_from_video/videos_ok_461_7b3_4617b3f5-1de7-4cb4-a96e-51c038c51977</td>\n",
       "      <td>[{'auto_view_front_7': 36}, {'auto_view_side_18': 3}, {'auto_view_front_7': 1}, {'auto_view_3_4_back_0': 35}, {'auto_view_front_7': 1}, {'auto_view_3_4_back_0': 2}, {'auto_view_back_2': 1}, {'auto_view_3_4_back_0': 3}, {'auto_view_back_2': 1}, {'auto_view_3_4_back_0': 5}, {'auto_view_back_2': 1}, {'auto_view_front_7': 2}, {'auto_view_3_4_back_0': 1}, {'auto_view_front_7': 4}, {'auto_view_3_4_back_0': 1}, {'auto_view_front_7': 1}, {'auto_view_side_18': 1}, {'auto_view_front_7': 2}, {'other_views_100': 12}, {'auto_view_side_18': 21}, {'auto_view_front_7': 17}]</td>\n",
       "    </tr>\n",
       "    <tr>\n",
       "      <th>118</th>\n",
       "      <td>completed</td>\n",
       "      <td>UNKNOWN</td>\n",
       "      <td>{'auto_view_3_4_back_0': 27, 'auto_view_side_18': 151, 'auto_view_3_4_front_1': 3, 'other_views_100': 3, 'auto_view_back_2': 19, 'auto_view_front_7': 24}</td>\n",
       "      <td>images_from_video/videos_ok_fba_3e6_fba3e642-6663-4036-89f7-3ea1deb2a17f</td>\n",
       "      <td>[{'auto_view_3_4_back_0': 4}, {'auto_view_side_18': 1}, {'auto_view_3_4_back_0': 4}, {'auto_view_side_18': 1}, {'auto_view_3_4_back_0': 4}, {'auto_view_side_18': 1}, {'auto_view_3_4_back_0': 1}, {'auto_view_side_18': 13}, {'auto_view_3_4_front_1': 1}, {'other_views_100': 1}, {'auto_view_3_4_front_1': 1}, {'other_views_100': 2}, {'auto_view_side_18': 2}, {'auto_view_3_4_front_1': 1}, {'auto_view_side_18': 1}, {'auto_view_3_4_back_0': 1}, {'auto_view_side_18': 42}, {'auto_view_3_4_back_0': 3}, {'auto_view_side_18': 3}, {'auto_view_3_4_back_0': 2}, {'auto_view_side_18': 2}, {'auto_view_back_2': 13}, {'auto_view_side_18': 3}, {'auto_view_3_4_back_0': 4}, {'auto_view_side_18': 73}, {'auto_view_3_4_back_0': 1}, {'auto_view_side_18': 3}, {'auto_view_front_7': 2}, {'auto_view_side_18': 1}, {'auto_view_front_7': 21}, {'auto_view_back_2': 2}, {'auto_view_front_7': 1}, {'auto_view_back_2': 4}, {'auto_view_side_18': 1}, {'auto_view_3_4_back_0': 2}, {'auto_view_side_18': 1}, {'auto_view_3_4_bac...</td>\n",
       "    </tr>\n",
       "    <tr>\n",
       "      <th>163</th>\n",
       "      <td>completed</td>\n",
       "      <td>BAD</td>\n",
       "      <td>{'auto_view_front_7': 23, 'auto_view_3_4_front_1': 7, 'auto_view_3_4_back_0': 47, 'auto_view_side_18': 67, 'auto_view_back_2': 19}</td>\n",
       "      <td>images_from_video/videos_ok_598_223_5982233c-b414-4968-93ab-226aff952573</td>\n",
       "      <td>[{'auto_view_front_7': 20}, {'auto_view_3_4_front_1': 7}, {'auto_view_3_4_back_0': 1}, {'auto_view_side_18': 32}, {'auto_view_3_4_back_0': 22}, {'auto_view_back_2': 10}, {'auto_view_front_7': 1}, {'auto_view_back_2': 1}, {'auto_view_front_7': 1}, {'auto_view_back_2': 5}, {'auto_view_front_7': 1}, {'auto_view_back_2': 2}, {'auto_view_3_4_back_0': 1}, {'auto_view_back_2': 1}, {'auto_view_3_4_back_0': 23}, {'auto_view_side_18': 35}]</td>\n",
       "    </tr>\n",
       "    <tr>\n",
       "      <th>225</th>\n",
       "      <td>failed</td>\n",
       "      <td>GOOD</td>\n",
       "      <td>{'auto_view_front_7': 47, 'auto_view_side_18': 105, 'auto_view_3_4_back_0': 3, 'other_views_100': 6, 'auto_view_back_2': 18}</td>\n",
       "      <td>images_from_video/videos_failed_0c4_dea_0c4deac6-8622-4434-9919-ba84b6858925</td>\n",
       "      <td>[{'auto_view_front_7': 1}, {'auto_view_side_18': 1}, {'auto_view_front_7': 22}, {'auto_view_side_18': 1}, {'auto_view_front_7': 1}, {'auto_view_side_18': 1}, {'auto_view_front_7': 2}, {'auto_view_side_18': 28}, {'auto_view_3_4_back_0': 1}, {'auto_view_side_18': 1}, {'other_views_100': 2}, {'auto_view_3_4_back_0': 1}, {'auto_view_side_18': 1}, {'other_views_100': 2}, {'auto_view_side_18': 3}, {'other_views_100': 2}, {'auto_view_side_18': 1}, {'auto_view_back_2': 5}, {'auto_view_3_4_back_0': 1}, {'auto_view_back_2': 4}, {'auto_view_front_7': 1}, {'auto_view_back_2': 5}, {'auto_view_side_18': 2}, {'auto_view_back_2': 2}, {'auto_view_side_18': 65}, {'auto_view_front_7': 8}, {'auto_view_side_18': 1}, {'auto_view_front_7': 3}, {'auto_view_back_2': 2}, {'auto_view_front_7': 9}]</td>\n",
       "    </tr>\n",
       "    <tr>\n",
       "      <th>283</th>\n",
       "      <td>failed</td>\n",
       "      <td>GOOD</td>\n",
       "      <td>{'auto_view_back_2': 23, 'auto_view_front_7': 13, 'auto_view_side_18': 82, 'auto_view_3_4_front_1': 5, 'other_views_100': 1}</td>\n",
       "      <td>images_from_video/videos_failed_e12_8a5_e128a5ad-9ecf-4056-9103-ea6e5cbf27b8</td>\n",
       "      <td>[{'auto_view_back_2': 7}, {'auto_view_front_7': 4}, {'auto_view_back_2': 1}, {'auto_view_front_7': 3}, {'auto_view_back_2': 2}, {'auto_view_front_7': 5}, {'auto_view_back_2': 1}, {'auto_view_front_7': 1}, {'auto_view_back_2': 1}, {'auto_view_side_18': 1}, {'auto_view_3_4_front_1': 1}, {'auto_view_side_18': 1}, {'auto_view_3_4_front_1': 1}, {'auto_view_side_18': 39}, {'auto_view_back_2': 6}, {'auto_view_side_18': 2}, {'auto_view_back_2': 2}, {'auto_view_side_18': 1}, {'other_views_100': 1}, {'auto_view_back_2': 2}, {'auto_view_side_18': 32}, {'auto_view_3_4_front_1': 1}, {'auto_view_side_18': 4}, {'auto_view_3_4_front_1': 1}, {'auto_view_side_18': 1}, {'auto_view_back_2': 1}, {'auto_view_3_4_front_1': 1}, {'auto_view_side_18': 1}]</td>\n",
       "    </tr>\n",
       "    <tr>\n",
       "      <th>115</th>\n",
       "      <td>completed</td>\n",
       "      <td>GOOD</td>\n",
       "      <td>{'auto_view_side_18': 88, 'auto_view_3_4_back_0': 57, 'auto_view_back_2': 41, 'auto_view_front_7': 28, 'auto_view_3_4_front_1': 11}</td>\n",
       "      <td>images_from_video/videos_ok_56b_888_56b8885f-30d4-4975-9bf0-4505ef2e2576</td>\n",
       "      <td>[{'auto_view_side_18': 9}, {'auto_view_3_4_back_0': 15}, {'auto_view_back_2': 4}, {'auto_view_front_7': 1}, {'auto_view_back_2': 4}, {'auto_view_front_7': 1}, {'auto_view_back_2': 5}, {'auto_view_front_7': 1}, {'auto_view_back_2': 2}, {'auto_view_3_4_back_0': 8}, {'auto_view_side_18': 26}, {'auto_view_3_4_front_1': 1}, {'auto_view_side_18': 3}, {'auto_view_front_7': 2}, {'auto_view_3_4_front_1': 1}, {'auto_view_front_7': 13}, {'auto_view_back_2': 1}, {'auto_view_front_7': 9}, {'auto_view_3_4_front_1': 8}, {'auto_view_side_18': 1}, {'auto_view_3_4_front_1': 1}, {'auto_view_side_18': 26}, {'auto_view_3_4_back_0': 20}, {'auto_view_back_2': 16}, {'auto_view_front_7': 1}, {'auto_view_back_2': 5}, {'auto_view_3_4_back_0': 1}, {'auto_view_back_2': 2}, {'auto_view_3_4_back_0': 1}, {'auto_view_back_2': 2}, {'auto_view_3_4_back_0': 10}, {'auto_view_side_18': 1}, {'auto_view_3_4_back_0': 1}, {'auto_view_side_18': 2}, {'auto_view_3_4_back_0': 1}, {'auto_view_side_18': 20}]</td>\n",
       "    </tr>\n",
       "    <tr>\n",
       "      <th>236</th>\n",
       "      <td>failed</td>\n",
       "      <td>GOOD</td>\n",
       "      <td>{'auto_view_front_7': 47, 'auto_view_side_18': 105, 'auto_view_3_4_back_0': 3, 'other_views_100': 6, 'auto_view_back_2': 18}</td>\n",
       "      <td>images_from_video/videos_failed_7f3_b33_7f3b33f1-ffa5-49a3-9dbc-04edb3a16a1f</td>\n",
       "      <td>[{'auto_view_front_7': 1}, {'auto_view_side_18': 1}, {'auto_view_front_7': 22}, {'auto_view_side_18': 1}, {'auto_view_front_7': 1}, {'auto_view_side_18': 1}, {'auto_view_front_7': 2}, {'auto_view_side_18': 28}, {'auto_view_3_4_back_0': 1}, {'auto_view_side_18': 1}, {'other_views_100': 2}, {'auto_view_3_4_back_0': 1}, {'auto_view_side_18': 1}, {'other_views_100': 2}, {'auto_view_side_18': 3}, {'other_views_100': 2}, {'auto_view_side_18': 1}, {'auto_view_back_2': 5}, {'auto_view_3_4_back_0': 1}, {'auto_view_back_2': 4}, {'auto_view_front_7': 1}, {'auto_view_back_2': 5}, {'auto_view_side_18': 2}, {'auto_view_back_2': 2}, {'auto_view_side_18': 65}, {'auto_view_front_7': 8}, {'auto_view_side_18': 1}, {'auto_view_front_7': 3}, {'auto_view_back_2': 2}, {'auto_view_front_7': 9}]</td>\n",
       "    </tr>\n",
       "    <tr>\n",
       "      <th>249</th>\n",
       "      <td>completed</td>\n",
       "      <td>GOOD</td>\n",
       "      <td>{'auto_view_front_7': 76, 'auto_view_3_4_front_1': 35, 'auto_view_side_18': 77, 'auto_view_3_4_back_0': 20, 'auto_view_back_2': 15, 'other_views_100': 3}</td>\n",
       "      <td>images_from_video/videos_ok_e24_65e_e2465e96-2e59-49ca-b35c-cc4ad02a33e0</td>\n",
       "      <td>[{'auto_view_front_7': 22}, {'auto_view_3_4_front_1': 11}, {'auto_view_side_18': 1}, {'auto_view_3_4_back_0': 1}, {'auto_view_side_18': 1}, {'auto_view_3_4_back_0': 1}, {'auto_view_side_18': 42}, {'auto_view_3_4_back_0': 1}, {'auto_view_front_7': 1}, {'auto_view_side_18': 3}, {'auto_view_front_7': 6}, {'auto_view_back_2': 3}, {'auto_view_front_7': 3}, {'auto_view_back_2': 1}, {'auto_view_front_7': 2}, {'auto_view_back_2': 3}, {'auto_view_front_7': 9}, {'auto_view_back_2': 8}, {'auto_view_3_4_back_0': 17}, {'auto_view_side_18': 1}, {'auto_view_3_4_front_1': 1}, {'other_views_100': 1}, {'auto_view_side_18': 26}, {'auto_view_3_4_front_1': 1}, {'auto_view_side_18': 1}, {'auto_view_3_4_front_1': 1}, {'auto_view_side_18': 2}, {'auto_view_3_4_front_1': 12}, {'auto_view_front_7': 2}, {'other_views_100': 1}, {'auto_view_front_7': 15}, {'other_views_100': 1}, {'auto_view_front_7': 16}, {'auto_view_3_4_front_1': 9}]</td>\n",
       "    </tr>\n",
       "    <tr>\n",
       "      <th>334</th>\n",
       "      <td>completed</td>\n",
       "      <td>GOOD</td>\n",
       "      <td>{'auto_view_front_7': 6, 'auto_view_3_4_front_1': 32, 'auto_view_side_18': 20, 'auto_view_3_4_back_0': 20, 'auto_view_back_2': 11}</td>\n",
       "      <td>images_from_video/videos_ok_87a_f2d_87af2d62-f206-4ab2-8550-23f82f27b8e1</td>\n",
       "      <td>[{'auto_view_front_7': 6}, {'auto_view_3_4_front_1': 11}, {'auto_view_side_18': 9}, {'auto_view_3_4_front_1': 1}, {'auto_view_side_18': 1}, {'auto_view_3_4_back_0': 1}, {'auto_view_3_4_front_1': 1}, {'auto_view_side_18': 1}, {'auto_view_3_4_back_0': 1}, {'auto_view_side_18': 1}, {'auto_view_3_4_back_0': 6}, {'auto_view_back_2': 10}, {'auto_view_3_4_back_0': 1}, {'auto_view_back_2': 1}, {'auto_view_3_4_back_0': 11}, {'auto_view_side_18': 8}, {'auto_view_3_4_front_1': 19}]</td>\n",
       "    </tr>\n",
       "    <tr>\n",
       "      <th>42</th>\n",
       "      <td>completed</td>\n",
       "      <td>GOOD</td>\n",
       "      <td>{'auto_view_side_18': 35, 'auto_view_3_4_back_0': 19, 'auto_view_back_2': 9, 'auto_view_front_7': 25, 'auto_view_3_4_front_1': 16}</td>\n",
       "      <td>images_from_video/videos_ok_049_575_04957525-3463-48df-a3ab-34b3e81ce362</td>\n",
       "      <td>[{'auto_view_side_18': 12}, {'auto_view_3_4_back_0': 1}, {'auto_view_side_18': 2}, {'auto_view_3_4_back_0': 1}, {'auto_view_side_18': 1}, {'auto_view_3_4_back_0': 8}, {'auto_view_back_2': 1}, {'auto_view_front_7': 5}, {'auto_view_back_2': 1}, {'auto_view_front_7': 1}, {'auto_view_back_2': 1}, {'auto_view_front_7': 2}, {'auto_view_back_2': 1}, {'auto_view_front_7': 2}, {'auto_view_back_2': 5}, {'auto_view_3_4_back_0': 1}, {'auto_view_side_18': 1}, {'auto_view_3_4_back_0': 6}, {'auto_view_side_18': 2}, {'auto_view_3_4_back_0': 2}, {'auto_view_side_18': 9}, {'auto_view_3_4_front_1': 2}, {'auto_view_side_18': 4}, {'auto_view_3_4_front_1': 5}, {'auto_view_front_7': 15}, {'auto_view_3_4_front_1': 9}, {'auto_view_side_18': 4}]</td>\n",
       "    </tr>\n",
       "    <tr>\n",
       "      <th>214</th>\n",
       "      <td>completed</td>\n",
       "      <td>GOOD</td>\n",
       "      <td>{'auto_view_3_4_front_1': 86, 'auto_view_side_18': 78, 'other_views_100': 1, 'auto_view_3_4_back_0': 70, 'auto_view_back_2': 48, 'auto_view_front_7': 56}</td>\n",
       "      <td>images_from_video/videos_ok_4a9_9a0_4a99a0cf-099c-4575-ae55-d24d79d41742</td>\n",
       "      <td>[{'auto_view_3_4_front_1': 1}, {'auto_view_side_18': 2}, {'auto_view_3_4_front_1': 2}, {'other_views_100': 1}, {'auto_view_side_18': 1}, {'auto_view_3_4_back_0': 18}, {'auto_view_3_4_front_1': 1}, {'auto_view_3_4_back_0': 11}, {'auto_view_3_4_front_1': 1}, {'auto_view_3_4_back_0': 17}, {'auto_view_back_2': 48}, {'auto_view_3_4_back_0': 10}, {'auto_view_3_4_front_1': 1}, {'auto_view_3_4_back_0': 1}, {'auto_view_3_4_front_1': 4}, {'auto_view_3_4_back_0': 1}, {'auto_view_3_4_front_1': 2}, {'auto_view_3_4_back_0': 11}, {'auto_view_front_7': 1}, {'auto_view_side_18': 1}, {'auto_view_3_4_back_0': 1}, {'auto_view_side_18': 46}, {'auto_view_3_4_front_1': 36}, {'auto_view_front_7': 55}, {'auto_view_3_4_front_1': 37}, {'auto_view_side_18': 1}, {'auto_view_3_4_front_1': 1}, {'auto_view_side_18': 27}]</td>\n",
       "    </tr>\n",
       "    <tr>\n",
       "      <th>291</th>\n",
       "      <td>completed</td>\n",
       "      <td>BAD</td>\n",
       "      <td>{'auto_view_front_7': 42, 'auto_view_3_4_back_0': 19, 'auto_view_side_18': 41, 'auto_view_back_2': 2, 'other_views_100': 22}</td>\n",
       "      <td>images_from_video/videos_ok_e07_0c5_e070c5ff-09b3-4715-b6b5-fdbc60970ba3</td>\n",
       "      <td>[{'auto_view_front_7': 2}, {'auto_view_3_4_back_0': 2}, {'auto_view_side_18': 1}, {'auto_view_3_4_back_0': 1}, {'auto_view_front_7': 8}, {'auto_view_back_2': 1}, {'auto_view_front_7': 20}, {'auto_view_back_2': 1}, {'other_views_100': 1}, {'auto_view_3_4_back_0': 3}, {'auto_view_front_7': 1}, {'auto_view_3_4_back_0': 3}, {'auto_view_front_7': 1}, {'other_views_100': 2}, {'auto_view_3_4_back_0': 1}, {'other_views_100': 1}, {'auto_view_front_7': 1}, {'auto_view_3_4_back_0': 2}, {'auto_view_front_7': 1}, {'other_views_100': 1}, {'auto_view_front_7': 4}, {'other_views_100': 3}, {'auto_view_3_4_back_0': 1}, {'other_views_100': 1}, {'auto_view_3_4_back_0': 2}, {'other_views_100': 1}, {'auto_view_side_18': 1}, {'other_views_100': 1}, {'auto_view_side_18': 1}, {'other_views_100': 4}, {'auto_view_3_4_back_0': 1}, {'auto_view_side_18': 1}, {'other_views_100': 1}, {'auto_view_side_18': 2}, {'other_views_100': 1}, {'auto_view_side_18': 1}, {'other_views_100': 5}, {'auto_view_3_4_back_0': 1}, {'...</td>\n",
       "    </tr>\n",
       "    <tr>\n",
       "      <th>226</th>\n",
       "      <td>completed</td>\n",
       "      <td>GOOD</td>\n",
       "      <td>{'auto_view_side_18': 71, 'auto_view_back_2': 19, 'auto_view_3_4_back_0': 14, 'auto_view_3_4_front_1': 22, 'auto_view_front_7': 27}</td>\n",
       "      <td>images_from_video/videos_ok_1c0_7ec_1c07ec0d-3b9d-4c31-9b46-abb7bffb51d7</td>\n",
       "      <td>[{'auto_view_side_18': 1}, {'auto_view_back_2': 1}, {'auto_view_side_18': 3}, {'auto_view_3_4_back_0': 3}, {'auto_view_side_18': 1}, {'auto_view_back_2': 18}, {'auto_view_3_4_back_0': 10}, {'auto_view_side_18': 5}, {'auto_view_3_4_back_0': 1}, {'auto_view_side_18': 29}, {'auto_view_3_4_front_1': 1}, {'auto_view_side_18': 1}, {'auto_view_3_4_front_1': 1}, {'auto_view_side_18': 1}, {'auto_view_3_4_front_1': 1}, {'auto_view_side_18': 1}, {'auto_view_3_4_front_1': 9}, {'auto_view_side_18': 3}, {'auto_view_front_7': 1}, {'auto_view_side_18': 1}, {'auto_view_front_7': 26}, {'auto_view_3_4_front_1': 9}, {'auto_view_side_18': 3}, {'auto_view_3_4_front_1': 1}, {'auto_view_side_18': 22}]</td>\n",
       "    </tr>\n",
       "  </tbody>\n",
       "</table>\n",
       "</div>"
      ],
      "text/plain": [
       "    panorama_status classifier_result                                                                                                                                               racurses_dict                                                                    image_path  \\\n",
       "302       completed              GOOD                        {'auto_view_3_4_front_1': 102, 'auto_view_side_18': 69, 'auto_view_3_4_back_0': 57, 'auto_view_back_2': 33, 'auto_view_front_7': 36}      images_from_video/videos_ok_afe_88c_afe88ce2-ed96-4415-b0d8-297096ba957b   \n",
       "134       completed              GOOD  {'auto_view_back_2': 32, 'auto_view_side_18': 22, 'other_views_100': 109, 'auto_view_3_4_back_0': 5, 'auto_view_front_7': 48, 'auto_view_3_4_front_1': 10}      images_from_video/videos_ok_d1f_b8a_d1fb8aee-c342-488c-8c6d-318c9017c047   \n",
       "248       completed           UNKNOWN    {'auto_view_back_2': 29, 'other_views_100': 3, 'auto_view_front_7': 12, 'auto_view_3_4_front_1': 3, 'auto_view_side_18': 43, 'auto_view_3_4_back_0': 13}      images_from_video/videos_ok_fde_d84_fded84f8-d1d4-4f2d-974b-b7637c86dfa7   \n",
       "257       completed              GOOD   {'auto_view_side_18': 40, 'auto_view_3_4_front_1': 33, 'auto_view_3_4_back_0': 12, 'auto_view_front_7': 68, 'auto_view_back_2': 10, 'other_views_100': 2}      images_from_video/videos_ok_ad8_21a_ad821a31-f3cf-45d2-9ae3-94722aea5cda   \n",
       "254          failed           UNKNOWN                         {'auto_view_3_4_back_0': 25, 'auto_view_back_2': 21, 'auto_view_3_4_front_1': 35, 'auto_view_side_18': 28, 'auto_view_front_7': 26}  images_from_video/videos_failed_03f_4a8_03f4a857-3291-48b3-8bcd-7b3103f08a7e   \n",
       "158       completed              GOOD                          {'auto_view_side_18': 58, 'auto_view_3_4_front_1': 24, 'auto_view_3_4_back_0': 38, 'auto_view_front_7': 28, 'auto_view_back_2': 9}      images_from_video/videos_ok_730_c25_730c2526-9756-41fa-91b9-e1f6c357e21a   \n",
       "310       completed           UNKNOWN    {'auto_view_side_18': 97, 'other_views_100': 38, 'auto_view_3_4_back_0': 13, 'auto_view_back_2': 30, 'auto_view_3_4_front_1': 2, 'auto_view_front_7': 1}      images_from_video/videos_ok_561_615_561615c5-4564-4af6-a6b4-4cb0bc26900f   \n",
       "149       completed               BAD                           {'auto_view_3_4_back_0': 16, 'auto_view_side_18': 22, 'auto_view_3_4_front_1': 16, 'auto_view_front_7': 9, 'auto_view_back_2': 9}      images_from_video/videos_ok_7a6_3e4_7a63e421-742f-43b0-ab9a-6e6909bb4764   \n",
       "311       completed              GOOD                                                     {'auto_view_3_4_front_1': 72, 'auto_view_front_7': 47, 'auto_view_side_18': 65, 'auto_view_back_2': 42}      images_from_video/videos_ok_741_06b_74106bb5-450d-4c75-9ae2-35acd0ebee61   \n",
       "95           failed               BAD                                                                                                                                     {'other_views_100': 94}  images_from_video/videos_failed_d09_b98_d09b9863-4a2d-498e-a999-a74aec917a8c   \n",
       "76           failed               BAD                         {'auto_view_3_4_front_1': 26, 'auto_view_front_7': 15, 'auto_view_side_18': 23, 'auto_view_3_4_back_0': 19, 'auto_view_back_2': 15}  images_from_video/videos_failed_3fb_0af_3fb0af88-2095-4c51-b308-d3be1547ba79   \n",
       "199       completed              GOOD   {'auto_view_3_4_back_0': 14, 'auto_view_side_18': 162, 'auto_view_3_4_front_1': 1, 'auto_view_back_2': 19, 'other_views_100': 6, 'auto_view_front_7': 16}      images_from_video/videos_ok_e1d_dad_e1ddadef-db91-4aa3-a4b5-f78e1e58b7a8   \n",
       "321       completed              GOOD                         {'auto_view_side_18': 78, 'auto_view_3_4_back_0': 25, 'auto_view_back_2': 21, 'auto_view_3_4_front_1': 29, 'auto_view_front_7': 23}      images_from_video/videos_ok_65d_9cd_65d9cd5c-b886-478f-b8d4-fe4076133cbb   \n",
       "166          failed           UNKNOWN   {'auto_view_front_7': 42, 'auto_view_back_2': 28, 'auto_view_3_4_front_1': 76, 'auto_view_side_18': 16, 'auto_view_3_4_back_0': 30, 'other_views_100': 2}  images_from_video/videos_failed_0f9_d90_0f9d90b1-a157-4fcc-bfc7-8b49ae6826fd   \n",
       "345       completed              GOOD                          {'auto_view_side_18': 52, 'auto_view_3_4_front_1': 21, 'auto_view_front_7': 15, 'auto_view_back_2': 18, 'auto_view_3_4_back_0': 6}      images_from_video/videos_ok_7a6_727_7a6727a0-5f64-4a4f-9b7f-012d25f11314   \n",
       "142       completed              GOOD                           {'auto_view_front_7': 52, 'auto_view_3_4_back_0': 41, 'auto_view_3_4_front_1': 2, 'auto_view_side_18': 50, 'auto_view_back_2': 6}      images_from_video/videos_ok_079_fef_079fef4b-76f4-44fe-8917-4aee1e5c8e2f   \n",
       "32           failed              GOOD                         {'auto_view_side_18': 66, 'auto_view_3_4_back_0': 36, 'auto_view_back_2': 18, 'auto_view_3_4_front_1': 24, 'auto_view_front_7': 22}  images_from_video/videos_failed_831_493_83149371-205e-4b53-aadf-debf44d16518   \n",
       "59        completed              GOOD                                {'auto_view_front_7': 64, 'auto_view_side_18': 25, 'auto_view_3_4_back_0': 47, 'auto_view_back_2': 3, 'other_views_100': 12}      images_from_video/videos_ok_461_7b3_4617b3f5-1de7-4cb4-a96e-51c038c51977   \n",
       "118       completed           UNKNOWN   {'auto_view_3_4_back_0': 27, 'auto_view_side_18': 151, 'auto_view_3_4_front_1': 3, 'other_views_100': 3, 'auto_view_back_2': 19, 'auto_view_front_7': 24}      images_from_video/videos_ok_fba_3e6_fba3e642-6663-4036-89f7-3ea1deb2a17f   \n",
       "163       completed               BAD                          {'auto_view_front_7': 23, 'auto_view_3_4_front_1': 7, 'auto_view_3_4_back_0': 47, 'auto_view_side_18': 67, 'auto_view_back_2': 19}      images_from_video/videos_ok_598_223_5982233c-b414-4968-93ab-226aff952573   \n",
       "225          failed              GOOD                                {'auto_view_front_7': 47, 'auto_view_side_18': 105, 'auto_view_3_4_back_0': 3, 'other_views_100': 6, 'auto_view_back_2': 18}  images_from_video/videos_failed_0c4_dea_0c4deac6-8622-4434-9919-ba84b6858925   \n",
       "283          failed              GOOD                                {'auto_view_back_2': 23, 'auto_view_front_7': 13, 'auto_view_side_18': 82, 'auto_view_3_4_front_1': 5, 'other_views_100': 1}  images_from_video/videos_failed_e12_8a5_e128a5ad-9ecf-4056-9103-ea6e5cbf27b8   \n",
       "115       completed              GOOD                         {'auto_view_side_18': 88, 'auto_view_3_4_back_0': 57, 'auto_view_back_2': 41, 'auto_view_front_7': 28, 'auto_view_3_4_front_1': 11}      images_from_video/videos_ok_56b_888_56b8885f-30d4-4975-9bf0-4505ef2e2576   \n",
       "236          failed              GOOD                                {'auto_view_front_7': 47, 'auto_view_side_18': 105, 'auto_view_3_4_back_0': 3, 'other_views_100': 6, 'auto_view_back_2': 18}  images_from_video/videos_failed_7f3_b33_7f3b33f1-ffa5-49a3-9dbc-04edb3a16a1f   \n",
       "249       completed              GOOD   {'auto_view_front_7': 76, 'auto_view_3_4_front_1': 35, 'auto_view_side_18': 77, 'auto_view_3_4_back_0': 20, 'auto_view_back_2': 15, 'other_views_100': 3}      images_from_video/videos_ok_e24_65e_e2465e96-2e59-49ca-b35c-cc4ad02a33e0   \n",
       "334       completed              GOOD                          {'auto_view_front_7': 6, 'auto_view_3_4_front_1': 32, 'auto_view_side_18': 20, 'auto_view_3_4_back_0': 20, 'auto_view_back_2': 11}      images_from_video/videos_ok_87a_f2d_87af2d62-f206-4ab2-8550-23f82f27b8e1   \n",
       "42        completed              GOOD                          {'auto_view_side_18': 35, 'auto_view_3_4_back_0': 19, 'auto_view_back_2': 9, 'auto_view_front_7': 25, 'auto_view_3_4_front_1': 16}      images_from_video/videos_ok_049_575_04957525-3463-48df-a3ab-34b3e81ce362   \n",
       "214       completed              GOOD   {'auto_view_3_4_front_1': 86, 'auto_view_side_18': 78, 'other_views_100': 1, 'auto_view_3_4_back_0': 70, 'auto_view_back_2': 48, 'auto_view_front_7': 56}      images_from_video/videos_ok_4a9_9a0_4a99a0cf-099c-4575-ae55-d24d79d41742   \n",
       "291       completed               BAD                                {'auto_view_front_7': 42, 'auto_view_3_4_back_0': 19, 'auto_view_side_18': 41, 'auto_view_back_2': 2, 'other_views_100': 22}      images_from_video/videos_ok_e07_0c5_e070c5ff-09b3-4715-b6b5-fdbc60970ba3   \n",
       "226       completed              GOOD                         {'auto_view_side_18': 71, 'auto_view_back_2': 19, 'auto_view_3_4_back_0': 14, 'auto_view_3_4_front_1': 22, 'auto_view_front_7': 27}      images_from_video/videos_ok_1c0_7ec_1c07ec0d-3b9d-4c31-9b46-abb7bffb51d7   \n",
       "\n",
       "                                                                                                                                                                                                                                                                                                                                                                                                                                                                                                                                                                                                                                                                                                                                                                                                                                                                                                                                                                                                                               list_racurses  \n",
       "302                                                                                                                                                                                                                                                                                                                                                                                                     [{'auto_view_3_4_front_1': 44}, {'auto_view_side_18': 43}, {'auto_view_3_4_back_0': 2}, {'auto_view_side_18': 1}, {'auto_view_3_4_back_0': 4}, {'auto_view_3_4_front_1': 3}, {'auto_view_3_4_back_0': 15}, {'auto_view_back_2': 30}, {'auto_view_front_7': 1}, {'auto_view_back_2': 1}, {'auto_view_front_7': 1}, {'auto_view_back_2': 2}, {'auto_view_front_7': 3}, {'auto_view_3_4_back_0': 29}, {'auto_view_side_18': 1}, {'auto_view_3_4_back_0': 2}, {'auto_view_side_18': 1}, {'auto_view_3_4_back_0': 5}, {'auto_view_side_18': 23}, {'auto_view_3_4_front_1': 40}, {'auto_view_front_7': 31}, {'auto_view_3_4_front_1': 15}]  \n",
       "134  [{'auto_view_back_2': 24}, {'auto_view_side_18': 1}, {'auto_view_back_2': 4}, {'auto_view_side_18': 1}, {'auto_view_back_2': 3}, {'other_views_100': 38}, {'auto_view_3_4_back_0': 1}, {'other_views_100': 4}, {'auto_view_front_7': 3}, {'other_views_100': 1}, {'auto_view_front_7': 17}, {'auto_view_back_2': 1}, {'auto_view_front_7': 15}, {'auto_view_3_4_back_0': 1}, {'auto_view_front_7': 1}, {'other_views_100': 1}, {'auto_view_front_7': 1}, {'auto_view_3_4_back_0': 1}, {'auto_view_front_7': 2}, {'auto_view_3_4_back_0': 1}, {'other_views_100': 14}, {'auto_view_3_4_front_1': 1}, {'other_views_100': 15}, {'auto_view_3_4_front_1': 1}, {'other_views_100': 4}, {'auto_view_3_4_front_1': 3}, {'other_views_100': 13}, {'auto_view_side_18': 1}, {'other_views_100': 1}, {'auto_view_side_18': 8}, {'auto_view_3_4_front_1': 1}, {'auto_view_side_18': 6}, {'auto_view_3_4_front_1': 3}, {'auto_view_side_18': 2}, {'other_views_100': 1}, {'auto_view_3_4_front_1': 1}, {'auto_view_side_18': 3}, {'auto_view_fr...  \n",
       "248                                                                                                                                                                                                                                                                                                                                                                                                                                                                                                                                                                                            [{'auto_view_back_2': 9}, {'other_views_100': 2}, {'auto_view_front_7': 6}, {'auto_view_3_4_front_1': 1}, {'auto_view_side_18': 2}, {'auto_view_3_4_front_1': 1}, {'auto_view_side_18': 20}, {'auto_view_3_4_back_0': 5}, {'auto_view_back_2': 15}, {'auto_view_3_4_back_0': 8}, {'auto_view_side_18': 21}, {'auto_view_3_4_front_1': 1}, {'auto_view_front_7': 6}, {'auto_view_back_2': 3}, {'other_views_100': 1}, {'auto_view_back_2': 2}]  \n",
       "257  [{'auto_view_side_18': 1}, {'auto_view_3_4_front_1': 1}, {'auto_view_side_18': 9}, {'auto_view_3_4_back_0': 3}, {'auto_view_side_18': 6}, {'auto_view_front_7': 15}, {'auto_view_3_4_back_0': 2}, {'auto_view_front_7': 1}, {'auto_view_3_4_back_0': 1}, {'auto_view_front_7': 1}, {'auto_view_3_4_back_0': 2}, {'auto_view_front_7': 4}, {'auto_view_back_2': 3}, {'auto_view_front_7': 1}, {'auto_view_back_2': 7}, {'auto_view_front_7': 11}, {'auto_view_3_4_back_0': 1}, {'auto_view_front_7': 1}, {'auto_view_3_4_back_0': 3}, {'auto_view_front_7': 8}, {'auto_view_side_18': 1}, {'auto_view_front_7': 2}, {'auto_view_side_18': 14}, {'auto_view_3_4_front_1': 2}, {'auto_view_side_18': 1}, {'auto_view_3_4_front_1': 1}, {'auto_view_side_18': 1}, {'auto_view_3_4_front_1': 14}, {'auto_view_front_7': 23}, {'auto_view_3_4_front_1': 13}, {'other_views_100': 2}, {'auto_view_3_4_front_1': 1}, {'auto_view_side_18': 2}, {'auto_view_3_4_front_1': 1}, {'auto_view_side_18': 1}, {'auto_view_front_7': 1}, {'auto_view...  \n",
       "254                                                                                                                                                                                                                                                                                                                                                                                                                                                                                                                                                                        [{'auto_view_3_4_back_0': 9}, {'auto_view_back_2': 18}, {'auto_view_3_4_back_0': 4}, {'auto_view_back_2': 1}, {'auto_view_3_4_back_0': 9}, {'auto_view_3_4_front_1': 1}, {'auto_view_3_4_back_0': 2}, {'auto_view_side_18': 6}, {'auto_view_3_4_back_0': 1}, {'auto_view_back_2': 2}, {'auto_view_3_4_front_1': 3}, {'auto_view_side_18': 1}, {'auto_view_3_4_front_1': 18}, {'auto_view_front_7': 26}, {'auto_view_3_4_front_1': 13}, {'auto_view_side_18': 21}]  \n",
       "158                                                                                                                                                                                                                                                        [{'auto_view_side_18': 18}, {'auto_view_3_4_front_1': 8}, {'auto_view_3_4_back_0': 1}, {'auto_view_3_4_front_1': 1}, {'auto_view_3_4_back_0': 2}, {'auto_view_front_7': 2}, {'auto_view_3_4_back_0': 2}, {'auto_view_front_7': 21}, {'auto_view_3_4_front_1': 10}, {'auto_view_side_18': 25}, {'auto_view_3_4_front_1': 2}, {'auto_view_side_18': 2}, {'auto_view_3_4_front_1': 2}, {'auto_view_side_18': 1}, {'auto_view_3_4_back_0': 2}, {'auto_view_3_4_front_1': 1}, {'auto_view_3_4_back_0': 13}, {'auto_view_front_7': 1}, {'auto_view_back_2': 1}, {'auto_view_3_4_back_0': 2}, {'auto_view_back_2': 4}, {'auto_view_front_7': 4}, {'auto_view_back_2': 4}, {'auto_view_3_4_back_0': 15}, {'auto_view_side_18': 4}, {'auto_view_3_4_back_0': 1}, {'auto_view_side_18': 8}]  \n",
       "310  [{'auto_view_side_18': 19}, {'other_views_100': 1}, {'auto_view_side_18': 2}, {'auto_view_3_4_back_0': 4}, {'auto_view_back_2': 23}, {'auto_view_3_4_back_0': 2}, {'auto_view_back_2': 1}, {'auto_view_3_4_back_0': 2}, {'auto_view_back_2': 1}, {'auto_view_3_4_back_0': 1}, {'auto_view_back_2': 1}, {'auto_view_side_18': 1}, {'auto_view_back_2': 2}, {'auto_view_side_18': 3}, {'auto_view_3_4_back_0': 1}, {'auto_view_side_18': 28}, {'auto_view_3_4_front_1': 1}, {'auto_view_side_18': 2}, {'auto_view_3_4_front_1': 1}, {'other_views_100': 2}, {'auto_view_back_2': 1}, {'other_views_100': 1}, {'auto_view_side_18': 1}, {'auto_view_front_7': 1}, {'other_views_100': 16}, {'auto_view_back_2': 1}, {'other_views_100': 16}, {'auto_view_side_18': 23}, {'other_views_100': 1}, {'auto_view_side_18': 3}, {'auto_view_3_4_back_0': 1}, {'auto_view_side_18': 1}, {'auto_view_3_4_back_0': 1}, {'auto_view_side_18': 2}, {'other_views_100': 1}, {'auto_view_side_18': 1}, {'auto_view_3_4_back_0': 1}, {'auto_view_side...  \n",
       "149                                                                                                                                                                                                                                                                                                                                                                                                                                                                                                                                                                                                                                                                                                                                                  [{'auto_view_3_4_back_0': 9}, {'auto_view_side_18': 11}, {'auto_view_3_4_front_1': 1}, {'auto_view_side_18': 1}, {'auto_view_3_4_front_1': 8}, {'auto_view_front_7': 9}, {'auto_view_3_4_front_1': 7}, {'auto_view_side_18': 10}, {'auto_view_3_4_back_0': 7}, {'auto_view_back_2': 9}]  \n",
       "311                                                                                   [{'auto_view_3_4_front_1': 13}, {'auto_view_front_7': 26}, {'auto_view_3_4_front_1': 17}, {'auto_view_side_18': 1}, {'auto_view_3_4_front_1': 3}, {'auto_view_side_18': 22}, {'auto_view_3_4_front_1': 2}, {'auto_view_side_18': 2}, {'auto_view_3_4_front_1': 1}, {'auto_view_side_18': 1}, {'auto_view_3_4_front_1': 5}, {'auto_view_back_2': 1}, {'auto_view_3_4_front_1': 3}, {'auto_view_back_2': 37}, {'auto_view_front_7': 1}, {'auto_view_back_2': 1}, {'auto_view_side_18': 3}, {'auto_view_3_4_front_1': 1}, {'auto_view_front_7': 1}, {'auto_view_3_4_front_1': 1}, {'auto_view_side_18': 4}, {'auto_view_front_7': 2}, {'auto_view_3_4_front_1': 1}, {'auto_view_side_18': 18}, {'auto_view_3_4_front_1': 2}, {'auto_view_side_18': 5}, {'auto_view_3_4_front_1': 1}, {'auto_view_side_18': 9}, {'auto_view_3_4_front_1': 20}, {'auto_view_front_7': 1}, {'auto_view_3_4_front_1': 2}, {'auto_view_back_2': 3}, {'auto_view_front_7': 16}]  \n",
       "95                                                                                                                                                                                                                                                                                                                                                                                                                                                                                                                                                                                                                                                                                                                                                                                                                                                                                                                                                                                                                 [{'other_views_100': 94}]  \n",
       "76                                                                                                                                                                                                                                                                                                                                                                                                                                                                                                                                                                                                     [{'auto_view_3_4_front_1': 10}, {'auto_view_front_7': 15}, {'auto_view_3_4_front_1': 8}, {'auto_view_side_18': 6}, {'auto_view_3_4_back_0': 1}, {'auto_view_side_18': 2}, {'auto_view_3_4_back_0': 5}, {'auto_view_side_18': 1}, {'auto_view_3_4_back_0': 7}, {'auto_view_back_2': 15}, {'auto_view_3_4_back_0': 6}, {'auto_view_side_18': 13}, {'auto_view_3_4_front_1': 1}, {'auto_view_side_18': 1}, {'auto_view_3_4_front_1': 7}]  \n",
       "199                                                                                                                                                          [{'auto_view_3_4_back_0': 1}, {'auto_view_side_18': 1}, {'auto_view_3_4_back_0': 5}, {'auto_view_3_4_front_1': 1}, {'auto_view_3_4_back_0': 2}, {'auto_view_side_18': 72}, {'auto_view_back_2': 5}, {'other_views_100': 1}, {'auto_view_front_7': 1}, {'other_views_100': 5}, {'auto_view_back_2': 2}, {'auto_view_side_18': 1}, {'auto_view_back_2': 1}, {'auto_view_side_18': 75}, {'auto_view_back_2': 1}, {'auto_view_side_18': 1}, {'auto_view_front_7': 5}, {'auto_view_back_2': 6}, {'auto_view_front_7': 2}, {'auto_view_back_2': 2}, {'auto_view_front_7': 7}, {'auto_view_back_2': 1}, {'auto_view_front_7': 1}, {'auto_view_back_2': 1}, {'auto_view_3_4_back_0': 1}, {'auto_view_side_18': 1}, {'auto_view_3_4_back_0': 2}, {'auto_view_side_18': 1}, {'auto_view_3_4_back_0': 2}, {'auto_view_side_18': 1}, {'auto_view_3_4_back_0': 1}, {'auto_view_side_18': 9}]  \n",
       "321                                                                                                                                                                                                                                                                                                                                                                                                                                                                                                                                                                       [{'auto_view_side_18': 20}, {'auto_view_3_4_back_0': 2}, {'auto_view_side_18': 1}, {'auto_view_3_4_back_0': 14}, {'auto_view_back_2': 20}, {'auto_view_3_4_back_0': 1}, {'auto_view_back_2': 1}, {'auto_view_3_4_back_0': 8}, {'auto_view_3_4_front_1': 1}, {'auto_view_side_18': 35}, {'auto_view_3_4_front_1': 3}, {'auto_view_side_18': 1}, {'auto_view_3_4_front_1': 10}, {'auto_view_front_7': 23}, {'auto_view_3_4_front_1': 15}, {'auto_view_side_18': 21}]  \n",
       "166  [{'auto_view_front_7': 3}, {'auto_view_back_2': 2}, {'auto_view_front_7': 6}, {'auto_view_back_2': 1}, {'auto_view_front_7': 8}, {'auto_view_3_4_front_1': 1}, {'auto_view_front_7': 4}, {'auto_view_3_4_front_1': 20}, {'auto_view_side_18': 1}, {'auto_view_3_4_front_1': 4}, {'auto_view_side_18': 1}, {'auto_view_3_4_front_1': 9}, {'auto_view_side_18': 1}, {'auto_view_3_4_front_1': 5}, {'auto_view_side_18': 3}, {'auto_view_3_4_front_1': 4}, {'auto_view_3_4_back_0': 4}, {'auto_view_side_18': 2}, {'auto_view_3_4_back_0': 1}, {'auto_view_3_4_front_1': 1}, {'auto_view_3_4_back_0': 8}, {'auto_view_back_2': 1}, {'auto_view_3_4_back_0': 1}, {'auto_view_back_2': 1}, {'auto_view_3_4_back_0': 1}, {'auto_view_back_2': 21}, {'auto_view_3_4_back_0': 1}, {'auto_view_back_2': 1}, {'auto_view_3_4_back_0': 2}, {'auto_view_3_4_front_1': 1}, {'auto_view_3_4_back_0': 5}, {'auto_view_side_18': 1}, {'auto_view_3_4_back_0': 4}, {'auto_view_side_18': 1}, {'auto_view_3_4_back_0': 1}, {'auto_view_side_18': 3}, {...  \n",
       "345                                                                                                                                                                                                                                                                                                                                                                                                                                                                                                                   [{'auto_view_side_18': 23}, {'auto_view_3_4_front_1': 1}, {'auto_view_side_18': 1}, {'auto_view_3_4_front_1': 7}, {'auto_view_front_7': 13}, {'auto_view_3_4_front_1': 9}, {'auto_view_side_18': 1}, {'auto_view_3_4_front_1': 1}, {'auto_view_side_18': 24}, {'auto_view_3_4_front_1': 1}, {'auto_view_side_18': 1}, {'auto_view_3_4_front_1': 1}, {'auto_view_side_18': 1}, {'auto_view_3_4_front_1': 1}, {'auto_view_side_18': 1}, {'auto_view_back_2': 18}, {'auto_view_front_7': 2}, {'auto_view_3_4_back_0': 6}]  \n",
       "142                                                                                                                                                                                                                                                                                                                                                                                                                                    [{'auto_view_front_7': 39}, {'auto_view_3_4_back_0': 7}, {'auto_view_3_4_front_1': 1}, {'auto_view_side_18': 1}, {'auto_view_3_4_back_0': 2}, {'auto_view_3_4_front_1': 1}, {'auto_view_3_4_back_0': 5}, {'auto_view_side_18': 1}, {'auto_view_3_4_back_0': 1}, {'auto_view_side_18': 4}, {'auto_view_3_4_back_0': 22}, {'auto_view_back_2': 1}, {'auto_view_3_4_back_0': 1}, {'auto_view_back_2': 5}, {'auto_view_3_4_back_0': 1}, {'auto_view_side_18': 14}, {'auto_view_3_4_back_0': 2}, {'auto_view_side_18': 28}, {'auto_view_front_7': 1}, {'auto_view_side_18': 2}, {'auto_view_front_7': 12}]  \n",
       "32                                                                                                                                                                                                                                                                                                                                                                                                                                                                                                                                                                                                                                                                                      [{'auto_view_side_18': 19}, {'auto_view_3_4_back_0': 1}, {'auto_view_side_18': 1}, {'auto_view_3_4_back_0': 16}, {'auto_view_back_2': 18}, {'auto_view_3_4_back_0': 17}, {'auto_view_side_18': 26}, {'auto_view_3_4_front_1': 13}, {'auto_view_3_4_back_0': 2}, {'auto_view_front_7': 22}, {'auto_view_3_4_front_1': 11}, {'auto_view_side_18': 20}]  \n",
       "59                                                                                                                                                                                                                                                                                                                                                                                                                                                      [{'auto_view_front_7': 36}, {'auto_view_side_18': 3}, {'auto_view_front_7': 1}, {'auto_view_3_4_back_0': 35}, {'auto_view_front_7': 1}, {'auto_view_3_4_back_0': 2}, {'auto_view_back_2': 1}, {'auto_view_3_4_back_0': 3}, {'auto_view_back_2': 1}, {'auto_view_3_4_back_0': 5}, {'auto_view_back_2': 1}, {'auto_view_front_7': 2}, {'auto_view_3_4_back_0': 1}, {'auto_view_front_7': 4}, {'auto_view_3_4_back_0': 1}, {'auto_view_front_7': 1}, {'auto_view_side_18': 1}, {'auto_view_front_7': 2}, {'other_views_100': 12}, {'auto_view_side_18': 21}, {'auto_view_front_7': 17}]  \n",
       "118  [{'auto_view_3_4_back_0': 4}, {'auto_view_side_18': 1}, {'auto_view_3_4_back_0': 4}, {'auto_view_side_18': 1}, {'auto_view_3_4_back_0': 4}, {'auto_view_side_18': 1}, {'auto_view_3_4_back_0': 1}, {'auto_view_side_18': 13}, {'auto_view_3_4_front_1': 1}, {'other_views_100': 1}, {'auto_view_3_4_front_1': 1}, {'other_views_100': 2}, {'auto_view_side_18': 2}, {'auto_view_3_4_front_1': 1}, {'auto_view_side_18': 1}, {'auto_view_3_4_back_0': 1}, {'auto_view_side_18': 42}, {'auto_view_3_4_back_0': 3}, {'auto_view_side_18': 3}, {'auto_view_3_4_back_0': 2}, {'auto_view_side_18': 2}, {'auto_view_back_2': 13}, {'auto_view_side_18': 3}, {'auto_view_3_4_back_0': 4}, {'auto_view_side_18': 73}, {'auto_view_3_4_back_0': 1}, {'auto_view_side_18': 3}, {'auto_view_front_7': 2}, {'auto_view_side_18': 1}, {'auto_view_front_7': 21}, {'auto_view_back_2': 2}, {'auto_view_front_7': 1}, {'auto_view_back_2': 4}, {'auto_view_side_18': 1}, {'auto_view_3_4_back_0': 2}, {'auto_view_side_18': 1}, {'auto_view_3_4_bac...  \n",
       "163                                                                                                                                                                                                                                                                                                                                                                                                                                                                                                                                                                                        [{'auto_view_front_7': 20}, {'auto_view_3_4_front_1': 7}, {'auto_view_3_4_back_0': 1}, {'auto_view_side_18': 32}, {'auto_view_3_4_back_0': 22}, {'auto_view_back_2': 10}, {'auto_view_front_7': 1}, {'auto_view_back_2': 1}, {'auto_view_front_7': 1}, {'auto_view_back_2': 5}, {'auto_view_front_7': 1}, {'auto_view_back_2': 2}, {'auto_view_3_4_back_0': 1}, {'auto_view_back_2': 1}, {'auto_view_3_4_back_0': 23}, {'auto_view_side_18': 35}]  \n",
       "225                                                                                                                                                                                                                            [{'auto_view_front_7': 1}, {'auto_view_side_18': 1}, {'auto_view_front_7': 22}, {'auto_view_side_18': 1}, {'auto_view_front_7': 1}, {'auto_view_side_18': 1}, {'auto_view_front_7': 2}, {'auto_view_side_18': 28}, {'auto_view_3_4_back_0': 1}, {'auto_view_side_18': 1}, {'other_views_100': 2}, {'auto_view_3_4_back_0': 1}, {'auto_view_side_18': 1}, {'other_views_100': 2}, {'auto_view_side_18': 3}, {'other_views_100': 2}, {'auto_view_side_18': 1}, {'auto_view_back_2': 5}, {'auto_view_3_4_back_0': 1}, {'auto_view_back_2': 4}, {'auto_view_front_7': 1}, {'auto_view_back_2': 5}, {'auto_view_side_18': 2}, {'auto_view_back_2': 2}, {'auto_view_side_18': 65}, {'auto_view_front_7': 8}, {'auto_view_side_18': 1}, {'auto_view_front_7': 3}, {'auto_view_back_2': 2}, {'auto_view_front_7': 9}]  \n",
       "283                                                                                                                                                                                                                                                                      [{'auto_view_back_2': 7}, {'auto_view_front_7': 4}, {'auto_view_back_2': 1}, {'auto_view_front_7': 3}, {'auto_view_back_2': 2}, {'auto_view_front_7': 5}, {'auto_view_back_2': 1}, {'auto_view_front_7': 1}, {'auto_view_back_2': 1}, {'auto_view_side_18': 1}, {'auto_view_3_4_front_1': 1}, {'auto_view_side_18': 1}, {'auto_view_3_4_front_1': 1}, {'auto_view_side_18': 39}, {'auto_view_back_2': 6}, {'auto_view_side_18': 2}, {'auto_view_back_2': 2}, {'auto_view_side_18': 1}, {'other_views_100': 1}, {'auto_view_back_2': 2}, {'auto_view_side_18': 32}, {'auto_view_3_4_front_1': 1}, {'auto_view_side_18': 4}, {'auto_view_3_4_front_1': 1}, {'auto_view_side_18': 1}, {'auto_view_back_2': 1}, {'auto_view_3_4_front_1': 1}, {'auto_view_side_18': 1}]  \n",
       "115                          [{'auto_view_side_18': 9}, {'auto_view_3_4_back_0': 15}, {'auto_view_back_2': 4}, {'auto_view_front_7': 1}, {'auto_view_back_2': 4}, {'auto_view_front_7': 1}, {'auto_view_back_2': 5}, {'auto_view_front_7': 1}, {'auto_view_back_2': 2}, {'auto_view_3_4_back_0': 8}, {'auto_view_side_18': 26}, {'auto_view_3_4_front_1': 1}, {'auto_view_side_18': 3}, {'auto_view_front_7': 2}, {'auto_view_3_4_front_1': 1}, {'auto_view_front_7': 13}, {'auto_view_back_2': 1}, {'auto_view_front_7': 9}, {'auto_view_3_4_front_1': 8}, {'auto_view_side_18': 1}, {'auto_view_3_4_front_1': 1}, {'auto_view_side_18': 26}, {'auto_view_3_4_back_0': 20}, {'auto_view_back_2': 16}, {'auto_view_front_7': 1}, {'auto_view_back_2': 5}, {'auto_view_3_4_back_0': 1}, {'auto_view_back_2': 2}, {'auto_view_3_4_back_0': 1}, {'auto_view_back_2': 2}, {'auto_view_3_4_back_0': 10}, {'auto_view_side_18': 1}, {'auto_view_3_4_back_0': 1}, {'auto_view_side_18': 2}, {'auto_view_3_4_back_0': 1}, {'auto_view_side_18': 20}]  \n",
       "236                                                                                                                                                                                                                            [{'auto_view_front_7': 1}, {'auto_view_side_18': 1}, {'auto_view_front_7': 22}, {'auto_view_side_18': 1}, {'auto_view_front_7': 1}, {'auto_view_side_18': 1}, {'auto_view_front_7': 2}, {'auto_view_side_18': 28}, {'auto_view_3_4_back_0': 1}, {'auto_view_side_18': 1}, {'other_views_100': 2}, {'auto_view_3_4_back_0': 1}, {'auto_view_side_18': 1}, {'other_views_100': 2}, {'auto_view_side_18': 3}, {'other_views_100': 2}, {'auto_view_side_18': 1}, {'auto_view_back_2': 5}, {'auto_view_3_4_back_0': 1}, {'auto_view_back_2': 4}, {'auto_view_front_7': 1}, {'auto_view_back_2': 5}, {'auto_view_side_18': 2}, {'auto_view_back_2': 2}, {'auto_view_side_18': 65}, {'auto_view_front_7': 8}, {'auto_view_side_18': 1}, {'auto_view_front_7': 3}, {'auto_view_back_2': 2}, {'auto_view_front_7': 9}]  \n",
       "249                                                                                   [{'auto_view_front_7': 22}, {'auto_view_3_4_front_1': 11}, {'auto_view_side_18': 1}, {'auto_view_3_4_back_0': 1}, {'auto_view_side_18': 1}, {'auto_view_3_4_back_0': 1}, {'auto_view_side_18': 42}, {'auto_view_3_4_back_0': 1}, {'auto_view_front_7': 1}, {'auto_view_side_18': 3}, {'auto_view_front_7': 6}, {'auto_view_back_2': 3}, {'auto_view_front_7': 3}, {'auto_view_back_2': 1}, {'auto_view_front_7': 2}, {'auto_view_back_2': 3}, {'auto_view_front_7': 9}, {'auto_view_back_2': 8}, {'auto_view_3_4_back_0': 17}, {'auto_view_side_18': 1}, {'auto_view_3_4_front_1': 1}, {'other_views_100': 1}, {'auto_view_side_18': 26}, {'auto_view_3_4_front_1': 1}, {'auto_view_side_18': 1}, {'auto_view_3_4_front_1': 1}, {'auto_view_side_18': 2}, {'auto_view_3_4_front_1': 12}, {'auto_view_front_7': 2}, {'other_views_100': 1}, {'auto_view_front_7': 15}, {'other_views_100': 1}, {'auto_view_front_7': 16}, {'auto_view_3_4_front_1': 9}]  \n",
       "334                                                                                                                                                                                                                                                                                                                                                                                                                                                                                                                                              [{'auto_view_front_7': 6}, {'auto_view_3_4_front_1': 11}, {'auto_view_side_18': 9}, {'auto_view_3_4_front_1': 1}, {'auto_view_side_18': 1}, {'auto_view_3_4_back_0': 1}, {'auto_view_3_4_front_1': 1}, {'auto_view_side_18': 1}, {'auto_view_3_4_back_0': 1}, {'auto_view_side_18': 1}, {'auto_view_3_4_back_0': 6}, {'auto_view_back_2': 10}, {'auto_view_3_4_back_0': 1}, {'auto_view_back_2': 1}, {'auto_view_3_4_back_0': 11}, {'auto_view_side_18': 8}, {'auto_view_3_4_front_1': 19}]  \n",
       "42                                                                                                                                                                                                                                                                                 [{'auto_view_side_18': 12}, {'auto_view_3_4_back_0': 1}, {'auto_view_side_18': 2}, {'auto_view_3_4_back_0': 1}, {'auto_view_side_18': 1}, {'auto_view_3_4_back_0': 8}, {'auto_view_back_2': 1}, {'auto_view_front_7': 5}, {'auto_view_back_2': 1}, {'auto_view_front_7': 1}, {'auto_view_back_2': 1}, {'auto_view_front_7': 2}, {'auto_view_back_2': 1}, {'auto_view_front_7': 2}, {'auto_view_back_2': 5}, {'auto_view_3_4_back_0': 1}, {'auto_view_side_18': 1}, {'auto_view_3_4_back_0': 6}, {'auto_view_side_18': 2}, {'auto_view_3_4_back_0': 2}, {'auto_view_side_18': 9}, {'auto_view_3_4_front_1': 2}, {'auto_view_side_18': 4}, {'auto_view_3_4_front_1': 5}, {'auto_view_front_7': 15}, {'auto_view_3_4_front_1': 9}, {'auto_view_side_18': 4}]  \n",
       "214                                                                                                                                                                                                         [{'auto_view_3_4_front_1': 1}, {'auto_view_side_18': 2}, {'auto_view_3_4_front_1': 2}, {'other_views_100': 1}, {'auto_view_side_18': 1}, {'auto_view_3_4_back_0': 18}, {'auto_view_3_4_front_1': 1}, {'auto_view_3_4_back_0': 11}, {'auto_view_3_4_front_1': 1}, {'auto_view_3_4_back_0': 17}, {'auto_view_back_2': 48}, {'auto_view_3_4_back_0': 10}, {'auto_view_3_4_front_1': 1}, {'auto_view_3_4_back_0': 1}, {'auto_view_3_4_front_1': 4}, {'auto_view_3_4_back_0': 1}, {'auto_view_3_4_front_1': 2}, {'auto_view_3_4_back_0': 11}, {'auto_view_front_7': 1}, {'auto_view_side_18': 1}, {'auto_view_3_4_back_0': 1}, {'auto_view_side_18': 46}, {'auto_view_3_4_front_1': 36}, {'auto_view_front_7': 55}, {'auto_view_3_4_front_1': 37}, {'auto_view_side_18': 1}, {'auto_view_3_4_front_1': 1}, {'auto_view_side_18': 27}]  \n",
       "291  [{'auto_view_front_7': 2}, {'auto_view_3_4_back_0': 2}, {'auto_view_side_18': 1}, {'auto_view_3_4_back_0': 1}, {'auto_view_front_7': 8}, {'auto_view_back_2': 1}, {'auto_view_front_7': 20}, {'auto_view_back_2': 1}, {'other_views_100': 1}, {'auto_view_3_4_back_0': 3}, {'auto_view_front_7': 1}, {'auto_view_3_4_back_0': 3}, {'auto_view_front_7': 1}, {'other_views_100': 2}, {'auto_view_3_4_back_0': 1}, {'other_views_100': 1}, {'auto_view_front_7': 1}, {'auto_view_3_4_back_0': 2}, {'auto_view_front_7': 1}, {'other_views_100': 1}, {'auto_view_front_7': 4}, {'other_views_100': 3}, {'auto_view_3_4_back_0': 1}, {'other_views_100': 1}, {'auto_view_3_4_back_0': 2}, {'other_views_100': 1}, {'auto_view_side_18': 1}, {'other_views_100': 1}, {'auto_view_side_18': 1}, {'other_views_100': 4}, {'auto_view_3_4_back_0': 1}, {'auto_view_side_18': 1}, {'other_views_100': 1}, {'auto_view_side_18': 2}, {'other_views_100': 1}, {'auto_view_side_18': 1}, {'other_views_100': 5}, {'auto_view_3_4_back_0': 1}, {'...  \n",
       "226                                                                                                                                                                                                                                                                                                                           [{'auto_view_side_18': 1}, {'auto_view_back_2': 1}, {'auto_view_side_18': 3}, {'auto_view_3_4_back_0': 3}, {'auto_view_side_18': 1}, {'auto_view_back_2': 18}, {'auto_view_3_4_back_0': 10}, {'auto_view_side_18': 5}, {'auto_view_3_4_back_0': 1}, {'auto_view_side_18': 29}, {'auto_view_3_4_front_1': 1}, {'auto_view_side_18': 1}, {'auto_view_3_4_front_1': 1}, {'auto_view_side_18': 1}, {'auto_view_3_4_front_1': 1}, {'auto_view_side_18': 1}, {'auto_view_3_4_front_1': 9}, {'auto_view_side_18': 3}, {'auto_view_front_7': 1}, {'auto_view_side_18': 1}, {'auto_view_front_7': 26}, {'auto_view_3_4_front_1': 9}, {'auto_view_side_18': 3}, {'auto_view_3_4_front_1': 1}, {'auto_view_side_18': 22}]  "
      ]
     },
     "execution_count": 243,
     "metadata": {},
     "output_type": "execute_result"
    }
   ],
   "source": [
    "s = df_final[cols].sample(30)\n",
    "s"
   ]
  },
  {
   "cell_type": "code",
   "execution_count": null,
   "metadata": {},
   "outputs": [],
   "source": []
  },
  {
   "cell_type": "code",
   "execution_count": 706,
   "metadata": {},
   "outputs": [],
   "source": [
    "path = 'images_from_video/videos_ok_d1f_b8a_d1fb8aee-c342-488c-8c6d-318c9017c047'\n",
    "# 'other_views_100': 109 - Honde\n",
    "\n",
    "path = 'images_from_video/videos_ok_561_615_561615c5-4564-4af6-a6b4-4cb0bc26900f'\n",
    "# VW in the dark\n",
    "# 'other_views_100': 38,\n",
    "\n",
    "path = 'images_from_video/videos_ok_7a6_3e4_7a63e421-742f-43b0-ab9a-6e6909bb4764'\n",
    "# small number of frames / BAD status\n",
    "\n",
    "\n",
    "\n",
    "# path = path + '/1.jpg'\n",
    "path = path + '/300.jpg'\n",
    "# iimage(path)\n"
   ]
  },
  {
   "cell_type": "code",
   "execution_count": 238,
   "metadata": {},
   "outputs": [
    {
     "data": {
      "text/html": [
       "<div>\n",
       "<style scoped>\n",
       "    .dataframe tbody tr th:only-of-type {\n",
       "        vertical-align: middle;\n",
       "    }\n",
       "\n",
       "    .dataframe tbody tr th {\n",
       "        vertical-align: top;\n",
       "    }\n",
       "\n",
       "    .dataframe thead th {\n",
       "        text-align: right;\n",
       "    }\n",
       "</style>\n",
       "<table border=\"1\" class=\"dataframe\">\n",
       "  <thead>\n",
       "    <tr style=\"text-align: right;\">\n",
       "      <th>all_racurses_present</th>\n",
       "      <th>False</th>\n",
       "      <th>True</th>\n",
       "    </tr>\n",
       "    <tr>\n",
       "      <th>classifier_result</th>\n",
       "      <th></th>\n",
       "      <th></th>\n",
       "    </tr>\n",
       "  </thead>\n",
       "  <tbody>\n",
       "    <tr>\n",
       "      <th>BAD</th>\n",
       "      <td>10</td>\n",
       "      <td>48</td>\n",
       "    </tr>\n",
       "    <tr>\n",
       "      <th>GOOD</th>\n",
       "      <td>29</td>\n",
       "      <td>212</td>\n",
       "    </tr>\n",
       "    <tr>\n",
       "      <th>UNKNOWN</th>\n",
       "      <td>2</td>\n",
       "      <td>51</td>\n",
       "    </tr>\n",
       "  </tbody>\n",
       "</table>\n",
       "</div>"
      ],
      "text/plain": [
       "all_racurses_present  False  True \n",
       "classifier_result                 \n",
       "BAD                      10     48\n",
       "GOOD                     29    212\n",
       "UNKNOWN                   2     51"
      ]
     },
     "execution_count": 238,
     "metadata": {},
     "output_type": "execute_result"
    }
   ],
   "source": [
    "pd.crosstab(df_final.classifier_result, df_final.all_racurses_present)"
   ]
  },
  {
   "cell_type": "code",
   "execution_count": 239,
   "metadata": {},
   "outputs": [
    {
     "data": {
      "text/html": [
       "<div>\n",
       "<style scoped>\n",
       "    .dataframe tbody tr th:only-of-type {\n",
       "        vertical-align: middle;\n",
       "    }\n",
       "\n",
       "    .dataframe tbody tr th {\n",
       "        vertical-align: top;\n",
       "    }\n",
       "\n",
       "    .dataframe thead th {\n",
       "        text-align: right;\n",
       "    }\n",
       "</style>\n",
       "<table border=\"1\" class=\"dataframe\">\n",
       "  <thead>\n",
       "    <tr style=\"text-align: right;\">\n",
       "      <th>all_racurses_present</th>\n",
       "      <th>False</th>\n",
       "      <th>True</th>\n",
       "    </tr>\n",
       "    <tr>\n",
       "      <th>panorama_status</th>\n",
       "      <th></th>\n",
       "      <th></th>\n",
       "    </tr>\n",
       "  </thead>\n",
       "  <tbody>\n",
       "    <tr>\n",
       "      <th>completed</th>\n",
       "      <td>22</td>\n",
       "      <td>224</td>\n",
       "    </tr>\n",
       "    <tr>\n",
       "      <th>failed</th>\n",
       "      <td>19</td>\n",
       "      <td>87</td>\n",
       "    </tr>\n",
       "  </tbody>\n",
       "</table>\n",
       "</div>"
      ],
      "text/plain": [
       "all_racurses_present  False  True \n",
       "panorama_status                   \n",
       "completed                22    224\n",
       "failed                   19     87"
      ]
     },
     "execution_count": 239,
     "metadata": {},
     "output_type": "execute_result"
    }
   ],
   "source": [
    "pd.crosstab(df_final.panorama_status, df_final.all_racurses_present)"
   ]
  },
  {
   "cell_type": "markdown",
   "metadata": {},
   "source": [
    "#### Analyze videos where not all frames are presented"
   ]
  },
  {
   "cell_type": "code",
   "execution_count": 251,
   "metadata": {},
   "outputs": [],
   "source": [
    "df_failed_racurses = df_final[df_final.all_racurses_present == False]"
   ]
  },
  {
   "cell_type": "code",
   "execution_count": 303,
   "metadata": {},
   "outputs": [
    {
     "data": {
      "text/plain": [
       "41"
      ]
     },
     "execution_count": 303,
     "metadata": {},
     "output_type": "execute_result"
    }
   ],
   "source": [
    "len(df_failed_racurses)"
   ]
  },
  {
   "cell_type": "code",
   "execution_count": 304,
   "metadata": {},
   "outputs": [
    {
     "data": {
      "text/plain": [
       "352"
      ]
     },
     "execution_count": 304,
     "metadata": {},
     "output_type": "execute_result"
    }
   ],
   "source": [
    "len(df_res_racurses)"
   ]
  },
  {
   "cell_type": "code",
   "execution_count": 252,
   "metadata": {},
   "outputs": [],
   "source": [
    "sr = df_failed_racurses.sample(30)"
   ]
  },
  {
   "cell_type": "code",
   "execution_count": 707,
   "metadata": {},
   "outputs": [],
   "source": [
    "# sr[cols]"
   ]
  },
  {
   "cell_type": "code",
   "execution_count": 411,
   "metadata": {},
   "outputs": [],
   "source": [
    "def debug_folder(path, rate = 36):\n",
    "    all_files = glob.glob(path + \"/*.jpg\")\n",
    "    all_files.sort(key=cmp_to_key(sort_by_filenumber))\n",
    "    i = 0\n",
    "    images = []\n",
    "    for file in all_files:\n",
    "        # process 2 frames per second\n",
    "        i += 1\n",
    "        if i%rate == 1 or i == 1 or i == len(all_files):\n",
    "            images.append(file)\n",
    "            \n",
    "    display(*map(iimage, images))"
   ]
  },
  {
   "cell_type": "code",
   "execution_count": 708,
   "metadata": {},
   "outputs": [],
   "source": [
    "path = 'images_from_video/videos_ok_991_b84_991b84f5-8f05-4078-94a5-9e35b09276bc'\n",
    "# no 3/4 back - mercedez jeep\n",
    "\n",
    "path = 'images_from_video/videos_ok_ec9_69c_ec969c78-1dd8-4680-aa81-013c2377c303'\n",
    "# no back - mercedez GLC\n",
    "\n",
    "path = 'images_from_video/videos_failed_cba_ac0_cbaac0d9-68f3-490c-ace9-673e0ec38f01'\n",
    "# truck mercedez - all ok, classifier wrong - no 3-4 front\n",
    "\n",
    "path = 'images_from_video/videos_ok_6ed_2eb_6ed2eb6a-fe9a-4c5f-a3d0-627f76c03c68'\n",
    "# no front - китайский паркетник\n",
    "\n",
    "path = 'images_from_video/videos_ok_e07_0c5_e070c5ff-09b3-4715-b6b5-fdbc60970ba3'\n",
    "# no 3/4 front - KAMAZ\n",
    "\n",
    "path = 'images_from_video/videos_ok_741_06b_74106bb5-450d-4c75-9ae2-35acd0ebee61'\n",
    "# no 3/4 back - mercedez jeep\n",
    "\n",
    "path = 'images_from_video/videos_failed_d09_b98_d09b9863-4a2d-498e-a999-a74aec917a8c'\n",
    "# notebook trash\n",
    "\n",
    "path = 'images_from_video/videos_failed_4f0_3ed_4f03edd2-5ab8-487a-8cce-eb98eb92cb37'\n",
    "# not 3/4 front SCANIA truck\n",
    "\n",
    "path = 'images_from_video/videos_ok_d48_130_d48130d1-db2b-41e7-92bb-d7b333030b1a'\n",
    "# no 3/4 back - suzuki универсал\n",
    "\n",
    "path = 'images_from_video/videos_failed_07d_373_07d37364-2f84-486a-a3ea-0dc96873edad'\n",
    "# very strange part of the truck - no front\n",
    "\n",
    "path = 'images_from_video/videos_ok_ed7_34f_ed734fea-125c-4d51-8698-6881e5e0f5ac'\n",
    "# not 3/4 back opel sedan\n",
    "\n",
    "path = 'images_from_video/videos_failed_e12_8a5_e128a5ad-9ecf-4056-9103-ea6e5cbf27b8'\n",
    "# not 3/4 back truck MAN\n",
    "\n",
    "path = 'images_from_video/videos_ok_5c0_8d9_5c08d930-2325-493b-8279-cbd6f8a3db40'\n",
    "# no 3/4 front: only back part of the truck\n",
    "\n",
    "path = 'images_from_video/videos_ok_08c_9cf_08c9cf37-68eb-474d-a5ac-3c9104a1b7a9'\n",
    "# no back: mercedez jeep\n",
    "\n",
    "path = 'images_from_video/videos_failed_986_879_986879c4-584d-44d6-89e5-1aa0f37a5983'\n",
    "# no 3/4 front: Truck MAN\n",
    "\n",
    "path = 'images_from_video/videos_failed_0c4_dea_0c4deac6-8622-4434-9919-ba84b6858925'\n",
    "# no 3/4 front: truck man\n",
    "\n",
    "path = 'images_from_video/videos_failed_7f3_b33_7f3b33f1-ffa5-49a3-9dbc-04edb3a16a1f'\n",
    "# no 3/4 front: truck MAN\n",
    "\n",
    "path = 'images_from_video/videos_ok_5c8_a96_5c8a9690-0456-4b54-8c18-a26e706f5566'\n",
    "# not 3/4 front: truck SCANIA\n",
    "\n",
    "path = 'images_from_video/videos_ok_5bf_9e0_5bf9e06d-0df8-459d-95d9-82b0c94a1114'\n",
    "# no back:  китайский универсал\n",
    "\n",
    "path = 'images_from_video/videos_ok_461_7b3_4617b3f5-1de7-4cb4-a96e-51c038c51977'\n",
    "# no 3/4 front: truck Mercedez\n",
    "\n",
    "path = 'images_from_video/videos_failed_430_9fd_4309fd5f-d7f2-4ee5-b256-5ddb6c262648'\n",
    "# no back: mercedez jeep\n",
    "\n",
    "path = 'images_from_video/videos_ok_67b_f43_67bf4320-eb00-4c00-9729-e65d1036edd2'\n",
    "# truck scania: no 3/4 front, no 3/4 back\n",
    "\n",
    "path = 'images_from_video/videos_ok_e4a_ba3_e4aba3a6-46a8-46c3-be30-12fc9a5297e0'\n",
    "# no 3/4 back: jeep honda\n",
    "\n",
    "path = 'images_from_video/videos_failed_436_d36_436d36aa-393d-4881-9fe9-e80016d38232'\n",
    "# no 3/4 back: truck man\n",
    "\n",
    "path = 'images_from_video/videos_ok_481_f9c_481f9c9f-9f26-4464-a9b5-8adb15dcfa37'\n",
    "# no back: mercedez jeep\n",
    "\n",
    "path = 'images_from_video/videos_failed_c96_89e_c9689eec-9017-4036-9e84-ae430318a5b0'\n",
    "# no 3/4 back: car on the table (too many other views)\n",
    "\n",
    "path = 'images_from_video/videos_ok_c42_759_c42759ac-4250-4a1f-9816-5f4876eec408'\n",
    "# no front: renault logan\n",
    "\n",
    "path = 'images_from_video/videos_ok_485_00e_48500e30-3e82-4a54-876e-e133a787fc59'\n",
    "# no 3/4 front: обрезанный местами грузовик\n",
    "\n",
    "path = 'images_from_video/videos_ok_082_ced_082ced9f-1d22-466d-8e2d-72c6e6da637c'\n",
    "# no 3/4 front: размытый гелик\n",
    "\n",
    "path = 'images_from_video/videos_failed_b5c_7f9_b5c7f9a6-0d70-4d57-af95-4a84ce05bacc'\n",
    "# no back mercedez jeep\n",
    "\n",
    "# img_path = path + '/600.jpg'\n",
    "# iimage(img_path)\n",
    "# debug_folder(path, rate = 60)\n",
    "\n",
    "\n"
   ]
  },
  {
   "cell_type": "code",
   "execution_count": 390,
   "metadata": {},
   "outputs": [
    {
     "data": {
      "text/html": [
       "<div>\n",
       "<style scoped>\n",
       "    .dataframe tbody tr th:only-of-type {\n",
       "        vertical-align: middle;\n",
       "    }\n",
       "\n",
       "    .dataframe tbody tr th {\n",
       "        vertical-align: top;\n",
       "    }\n",
       "\n",
       "    .dataframe thead th {\n",
       "        text-align: right;\n",
       "    }\n",
       "</style>\n",
       "<table border=\"1\" class=\"dataframe\">\n",
       "  <thead>\n",
       "    <tr style=\"text-align: right;\">\n",
       "      <th></th>\n",
       "      <th>url</th>\n",
       "      <th>panorama_status</th>\n",
       "      <th>image_path</th>\n",
       "      <th>classifier_result</th>\n",
       "      <th>total_analyzed_frames</th>\n",
       "      <th>big_vehicle_middle_screen_found</th>\n",
       "      <th>no_big_vehicle_middle_screen_found</th>\n",
       "      <th>car_found_but_bounding_box_unsafe_margin</th>\n",
       "      <th>bounding_boxes_outside_image</th>\n",
       "      <th>bad_frames</th>\n",
       "      <th>really_bad_frames</th>\n",
       "      <th>share_no_big_vehicle_middle_screen_found</th>\n",
       "      <th>share_car_found_but_bounding_box_unsafe_margin</th>\n",
       "      <th>share_bad_frames</th>\n",
       "      <th>share_really_bad_frames</th>\n",
       "      <th>racurses_dict</th>\n",
       "      <th>list_racurses</th>\n",
       "      <th>all_racurses_present</th>\n",
       "      <th>classifier_racurses</th>\n",
       "    </tr>\n",
       "  </thead>\n",
       "  <tbody>\n",
       "    <tr>\n",
       "      <th>71</th>\n",
       "      <td>https://autoru-panorama-internal.s3.mds.yandex.net/upload/5c0/8d9/5c08d930-2325-493b-8279-cbd6f8a3db40</td>\n",
       "      <td>completed</td>\n",
       "      <td>images_from_video/videos_ok_5c0_8d9_5c08d930-2325-493b-8279-cbd6f8a3db40</td>\n",
       "      <td>GOOD</td>\n",
       "      <td>266</td>\n",
       "      <td>262</td>\n",
       "      <td>0</td>\n",
       "      <td>0</td>\n",
       "      <td>0</td>\n",
       "      <td>4</td>\n",
       "      <td>4</td>\n",
       "      <td>0.015038</td>\n",
       "      <td>0.0</td>\n",
       "      <td>0.015038</td>\n",
       "      <td>0.015038</td>\n",
       "      <td>{'auto_view_front_7': 39, 'auto_view_3_4_front_1': 23, 'auto_view_back_2': 44, 'auto_view_side_18': 160}</td>\n",
       "      <td>[{'auto_view_front_7': 14}, {'auto_view_3_4_front_1': 1}, {'auto_view_front_7': 1}, {'auto_view_3_4_front_1': 2}, {'auto_view_back_2': 1}, {'auto_view_3_4_front_1': 4}, {'auto_view_side_18': 40}, {'auto_view_front_7': 1}, {'auto_view_side_18': 4}, {'auto_view_back_2': 1}, {'auto_view_front_7': 2}, {'auto_view_side_18': 21}, {'auto_view_back_2': 1}, {'auto_view_side_18': 4}, {'auto_view_back_2': 2}, {'auto_view_side_18': 3}, {'auto_view_back_2': 3}, {'auto_view_side_18': 2}, {'auto_view_back_2': 1}, {'auto_view_side_18': 3}, {'auto_view_back_2': 1}, {'auto_view_3_4_front_1': 1}, {'auto_view_back_2': 1}, {'auto_view_3_4_front_1': 1}, {'auto_view_back_2': 28}, {'auto_view_side_18': 5}, {'auto_view_back_2': 1}, {'auto_view_side_18': 33}, {'auto_view_back_2': 1}, {'auto_view_side_18': 24}, {'auto_view_back_2': 2}, {'auto_view_side_18': 2}, {'auto_view_back_2': 1}, {'auto_view_side_18': 14}, {'auto_view_front_7': 1}, {'auto_view_side_18': 1}, {'auto_view_3_4_front_1': 1}, {'auto_view_sid...</td>\n",
       "      <td>False</td>\n",
       "      <td>UNKNOWN_RACURS</td>\n",
       "    </tr>\n",
       "  </tbody>\n",
       "</table>\n",
       "</div>"
      ],
      "text/plain": [
       "                                                                                                       url panorama_status                                                                image_path classifier_result  total_analyzed_frames  big_vehicle_middle_screen_found  no_big_vehicle_middle_screen_found  car_found_but_bounding_box_unsafe_margin  bounding_boxes_outside_image  bad_frames  really_bad_frames  share_no_big_vehicle_middle_screen_found  share_car_found_but_bounding_box_unsafe_margin  share_bad_frames  share_really_bad_frames                                                                                             racurses_dict  \\\n",
       "71  https://autoru-panorama-internal.s3.mds.yandex.net/upload/5c0/8d9/5c08d930-2325-493b-8279-cbd6f8a3db40       completed  images_from_video/videos_ok_5c0_8d9_5c08d930-2325-493b-8279-cbd6f8a3db40              GOOD                    266                              262                                   0                                         0                             0           4                  4                                  0.015038                                             0.0          0.015038                 0.015038  {'auto_view_front_7': 39, 'auto_view_3_4_front_1': 23, 'auto_view_back_2': 44, 'auto_view_side_18': 160}   \n",
       "\n",
       "                                                                                                                                                                                                                                                                                                                                                                                                                                                                                                                                                                                                                                                                                                                                                                                                                                                                                                                                                                                                                              list_racurses  \\\n",
       "71  [{'auto_view_front_7': 14}, {'auto_view_3_4_front_1': 1}, {'auto_view_front_7': 1}, {'auto_view_3_4_front_1': 2}, {'auto_view_back_2': 1}, {'auto_view_3_4_front_1': 4}, {'auto_view_side_18': 40}, {'auto_view_front_7': 1}, {'auto_view_side_18': 4}, {'auto_view_back_2': 1}, {'auto_view_front_7': 2}, {'auto_view_side_18': 21}, {'auto_view_back_2': 1}, {'auto_view_side_18': 4}, {'auto_view_back_2': 2}, {'auto_view_side_18': 3}, {'auto_view_back_2': 3}, {'auto_view_side_18': 2}, {'auto_view_back_2': 1}, {'auto_view_side_18': 3}, {'auto_view_back_2': 1}, {'auto_view_3_4_front_1': 1}, {'auto_view_back_2': 1}, {'auto_view_3_4_front_1': 1}, {'auto_view_back_2': 28}, {'auto_view_side_18': 5}, {'auto_view_back_2': 1}, {'auto_view_side_18': 33}, {'auto_view_back_2': 1}, {'auto_view_side_18': 24}, {'auto_view_back_2': 2}, {'auto_view_side_18': 2}, {'auto_view_back_2': 1}, {'auto_view_side_18': 14}, {'auto_view_front_7': 1}, {'auto_view_side_18': 1}, {'auto_view_3_4_front_1': 1}, {'auto_view_sid...   \n",
       "\n",
       "    all_racurses_present classifier_racurses  \n",
       "71                 False      UNKNOWN_RACURS  "
      ]
     },
     "execution_count": 390,
     "metadata": {},
     "output_type": "execute_result"
    }
   ],
   "source": [
    "df_final[df_final.image_path == 'images_from_video/videos_ok_5c0_8d9_5c08d930-2325-493b-8279-cbd6f8a3db40']"
   ]
  },
  {
   "cell_type": "markdown",
   "metadata": {},
   "source": [
    "### Classify racurses"
   ]
  },
  {
   "cell_type": "code",
   "execution_count": 359,
   "metadata": {},
   "outputs": [],
   "source": [
    "AUTO_VIEW_3_4_BACK = \"auto_view_3_4_back_0\"\n",
    "AUTO_VIEW_3_4_FRONT = \"auto_view_3_4_front_1\"\n",
    "AUTO_VIEW_BACK = \"auto_view_back_2\"\n",
    "AUTO_VIEW_FRONT = \"auto_view_front_7\"\n",
    "AUTO_VIEW_SIDE = \"auto_view_side_18\"\n",
    "AUTO_VIEW_OTHER = \"other_views_100\""
   ]
  },
  {
   "cell_type": "code",
   "execution_count": 715,
   "metadata": {},
   "outputs": [],
   "source": [
    "min_share_side = 0.15 # 1/2-1/4\n",
    "min_share_back_front = 0.10\n",
    "max_other_share = 0.05\n",
    "min_share_3_4_front_back = 0.10\n",
    "min_total_share_back_front = 0.20\n",
    "GOOD_RACURS = 'GOOD_RACURS'\n",
    "OK_RACURS = 'OK_RACURS'\n",
    "BAD_RACURS = 'BAD_RACURS'\n",
    "UNKNOWN_RACURS = 'UNKNOWN_RACURS'\n",
    "ZERO_FRAMES_RACURS = 'ZERO_FRAMES_RACURS'\n",
    "def classify_racurses(r_dict):\n",
    "    total_frames = sum(r_dict.values())\n",
    "    if total_frames == 0:\n",
    "        return ZERO_FRAMES_RACURS\n",
    "        \n",
    "    side_share = r_dict.get(AUTO_VIEW_SIDE, 0)/total_frames\n",
    "    back_share = r_dict.get(AUTO_VIEW_BACK, 0)/total_frames\n",
    "    front_share = r_dict.get(AUTO_VIEW_FRONT, 0)/total_frames\n",
    "    back_3_4_share = r_dict.get(AUTO_VIEW_3_4_BACK, 0)/total_frames\n",
    "    front_3_4_share = r_dict.get(AUTO_VIEW_3_4_FRONT, 0)/total_frames\n",
    "    back_total_share = back_3_4_share + back_share\n",
    "    front_total_share = front_3_4_share + front_share\n",
    "    other_share = r_dict.get(AUTO_VIEW_OTHER, 0)/total_frames\n",
    "\n",
    "    # everything is great: enough share for all racurses and small amount of bad photos\n",
    "    if side_share >= min_share_side \\\n",
    "        and front_share >= min_share_back_front \\\n",
    "        and back_share >= min_share_back_front \\\n",
    "        and front_3_4_share >= min_share_3_4_front_back \\\n",
    "        and back_3_4_share >= min_share_3_4_front_back \\\n",
    "        and other_share <= max_other_share:\n",
    "        return GOOD_RACURS\n",
    "\n",
    "    # for trucks and jeeps 3/4 back is mixed with back in current model, and 3/4 front is mixed with front\n",
    "    if side_share >= min_share_side \\\n",
    "        and front_total_share >= min_total_share_back_front \\\n",
    "        and back_total_share >= min_total_share_back_front \\\n",
    "        and other_share <= max_other_share:\n",
    "        return OK_RACURS\n",
    "    \n",
    "    if side_share == 0 or back_total_share == 0 or front_total_share == 0 or other_share > 0.5:\n",
    "        return BAD_RACURS\n",
    "    else:\n",
    "        return UNKNOWN_RACURS\n",
    "    \n",
    "        \n",
    "\n",
    "    "
   ]
  },
  {
   "cell_type": "code",
   "execution_count": 378,
   "metadata": {},
   "outputs": [],
   "source": [
    "df_final['classifier_racurses'] = df_final.racurses_dict.map(classify_racurses)"
   ]
  },
  {
   "cell_type": "code",
   "execution_count": 379,
   "metadata": {},
   "outputs": [
    {
     "data": {
      "text/plain": [
       "UNKNOWN_RACURS        134\n",
       "GOOD_RACURS           117\n",
       "OK_RACURS              93\n",
       "BAD_RACURS              6\n",
       "ZERO_FRAMES_RACURS      2\n",
       "Name: classifier_racurses, dtype: int64"
      ]
     },
     "execution_count": 379,
     "metadata": {},
     "output_type": "execute_result"
    }
   ],
   "source": [
    "df_final.classifier_racurses.value_counts()"
   ]
  },
  {
   "cell_type": "code",
   "execution_count": 380,
   "metadata": {},
   "outputs": [
    {
     "data": {
      "text/html": [
       "<div>\n",
       "<style scoped>\n",
       "    .dataframe tbody tr th:only-of-type {\n",
       "        vertical-align: middle;\n",
       "    }\n",
       "\n",
       "    .dataframe tbody tr th {\n",
       "        vertical-align: top;\n",
       "    }\n",
       "\n",
       "    .dataframe thead th {\n",
       "        text-align: right;\n",
       "    }\n",
       "</style>\n",
       "<table border=\"1\" class=\"dataframe\">\n",
       "  <thead>\n",
       "    <tr style=\"text-align: right;\">\n",
       "      <th></th>\n",
       "      <th>panorama_status</th>\n",
       "      <th>classifier_result</th>\n",
       "      <th>racurses_dict</th>\n",
       "      <th>image_path</th>\n",
       "      <th>list_racurses</th>\n",
       "    </tr>\n",
       "  </thead>\n",
       "  <tbody>\n",
       "    <tr>\n",
       "      <th>95</th>\n",
       "      <td>failed</td>\n",
       "      <td>BAD</td>\n",
       "      <td>{'other_views_100': 94}</td>\n",
       "      <td>images_from_video/videos_failed_d09_b98_d09b9863-4a2d-498e-a999-a74aec917a8c</td>\n",
       "      <td>[{'other_views_100': 94}]</td>\n",
       "    </tr>\n",
       "    <tr>\n",
       "      <th>114</th>\n",
       "      <td>completed</td>\n",
       "      <td>UNKNOWN</td>\n",
       "      <td>{'auto_view_3_4_back_0': 38, 'auto_view_side_18': 73, 'auto_view_back_2': 28}</td>\n",
       "      <td>images_from_video/videos_ok_59e_aa7_59eaa7fc-c014-40de-a81d-fbb2d83570dc</td>\n",
       "      <td>[{'auto_view_3_4_back_0': 10}, {'auto_view_side_18': 31}, {'auto_view_3_4_back_0': 3}, {'auto_view_side_18': 11}, {'auto_view_back_2': 1}, {'auto_view_side_18': 1}, {'auto_view_back_2': 23}, {'auto_view_3_4_back_0': 6}, {'auto_view_side_18': 1}, {'auto_view_3_4_back_0': 1}, {'auto_view_side_18': 6}, {'auto_view_3_4_back_0': 1}, {'auto_view_side_18': 2}, {'auto_view_3_4_back_0': 1}, {'auto_view_side_18': 11}, {'auto_view_3_4_back_0': 1}, {'auto_view_side_18': 1}, {'auto_view_3_4_back_0': 4}, {'auto_view_side_18': 1}, {'auto_view_3_4_back_0': 11}, {'auto_view_back_2': 1}, {'auto_view_side_18': 1}, {'auto_view_back_2': 3}, {'auto_view_side_18': 7}]</td>\n",
       "    </tr>\n",
       "    <tr>\n",
       "      <th>169</th>\n",
       "      <td>failed</td>\n",
       "      <td>BAD</td>\n",
       "      <td>{'auto_view_3_4_back_0': 5, 'auto_view_3_4_front_1': 5, 'auto_view_front_7': 11, 'auto_view_side_18': 13, 'other_views_100': 55, 'auto_view_back_2': 15}</td>\n",
       "      <td>images_from_video/videos_failed_d0b_0b4_d0b0b4eb-ed26-460d-a360-d00263f94b1d</td>\n",
       "      <td>[{'auto_view_3_4_back_0': 3}, {'auto_view_3_4_front_1': 1}, {'auto_view_3_4_back_0': 1}, {'auto_view_3_4_front_1': 3}, {'auto_view_front_7': 9}, {'auto_view_side_18': 2}, {'other_views_100': 20}, {'auto_view_back_2': 8}, {'auto_view_front_7': 1}, {'auto_view_back_2': 5}, {'auto_view_front_7': 1}, {'auto_view_back_2': 2}, {'auto_view_3_4_back_0': 1}, {'other_views_100': 1}, {'auto_view_3_4_front_1': 1}, {'other_views_100': 6}, {'auto_view_side_18': 1}, {'other_views_100': 8}, {'auto_view_side_18': 1}, {'other_views_100': 20}, {'auto_view_side_18': 9}]</td>\n",
       "    </tr>\n",
       "    <tr>\n",
       "      <th>215</th>\n",
       "      <td>failed</td>\n",
       "      <td>BAD</td>\n",
       "      <td>{'other_views_100': 85, 'auto_view_front_7': 55}</td>\n",
       "      <td>images_from_video/videos_failed_665_30c_66530cad-5a2b-4823-8592-df28c5cb306c</td>\n",
       "      <td>[{'other_views_100': 15}, {'auto_view_front_7': 6}, {'other_views_100': 6}, {'auto_view_front_7': 1}, {'other_views_100': 1}, {'auto_view_front_7': 1}, {'other_views_100': 6}, {'auto_view_front_7': 2}, {'other_views_100': 4}, {'auto_view_front_7': 1}, {'other_views_100': 4}, {'auto_view_front_7': 1}, {'other_views_100': 1}, {'auto_view_front_7': 13}, {'other_views_100': 1}, {'auto_view_front_7': 5}, {'other_views_100': 1}, {'auto_view_front_7': 2}, {'other_views_100': 12}, {'auto_view_front_7': 1}, {'other_views_100': 1}, {'auto_view_front_7': 2}, {'other_views_100': 5}, {'auto_view_front_7': 12}, {'other_views_100': 2}, {'auto_view_front_7': 8}, {'other_views_100': 26}]</td>\n",
       "    </tr>\n",
       "    <tr>\n",
       "      <th>220</th>\n",
       "      <td>failed</td>\n",
       "      <td>BAD</td>\n",
       "      <td>{'other_views_100': 81}</td>\n",
       "      <td>images_from_video/videos_failed_596_adb_596adbd6-3fba-407c-a2aa-da1cd9649d09</td>\n",
       "      <td>[{'other_views_100': 81}]</td>\n",
       "    </tr>\n",
       "    <tr>\n",
       "      <th>338</th>\n",
       "      <td>failed</td>\n",
       "      <td>BAD</td>\n",
       "      <td>{'other_views_100': 178, 'auto_view_3_4_back_0': 3}</td>\n",
       "      <td>images_from_video/videos_failed_826_f70_826f70cb-f5ec-4a5b-bcc1-d7d436f27ea9</td>\n",
       "      <td>[{'other_views_100': 61}, {'auto_view_3_4_back_0': 1}, {'other_views_100': 2}, {'auto_view_3_4_back_0': 1}, {'other_views_100': 21}, {'auto_view_3_4_back_0': 1}, {'other_views_100': 94}]</td>\n",
       "    </tr>\n",
       "  </tbody>\n",
       "</table>\n",
       "</div>"
      ],
      "text/plain": [
       "    panorama_status classifier_result                                                                                                                                             racurses_dict                                                                    image_path                                                                                                                                                                                                                                                                                                                                                                                                                                                                                                                                                                                                                                                                                            list_racurses\n",
       "95           failed               BAD                                                                                                                                   {'other_views_100': 94}  images_from_video/videos_failed_d09_b98_d09b9863-4a2d-498e-a999-a74aec917a8c                                                                                                                                                                                                                                                                                                                                                                                                                                                                                                                                                                                                                                                                                [{'other_views_100': 94}]\n",
       "114       completed           UNKNOWN                                                                             {'auto_view_3_4_back_0': 38, 'auto_view_side_18': 73, 'auto_view_back_2': 28}      images_from_video/videos_ok_59e_aa7_59eaa7fc-c014-40de-a81d-fbb2d83570dc                            [{'auto_view_3_4_back_0': 10}, {'auto_view_side_18': 31}, {'auto_view_3_4_back_0': 3}, {'auto_view_side_18': 11}, {'auto_view_back_2': 1}, {'auto_view_side_18': 1}, {'auto_view_back_2': 23}, {'auto_view_3_4_back_0': 6}, {'auto_view_side_18': 1}, {'auto_view_3_4_back_0': 1}, {'auto_view_side_18': 6}, {'auto_view_3_4_back_0': 1}, {'auto_view_side_18': 2}, {'auto_view_3_4_back_0': 1}, {'auto_view_side_18': 11}, {'auto_view_3_4_back_0': 1}, {'auto_view_side_18': 1}, {'auto_view_3_4_back_0': 4}, {'auto_view_side_18': 1}, {'auto_view_3_4_back_0': 11}, {'auto_view_back_2': 1}, {'auto_view_side_18': 1}, {'auto_view_back_2': 3}, {'auto_view_side_18': 7}]\n",
       "169          failed               BAD  {'auto_view_3_4_back_0': 5, 'auto_view_3_4_front_1': 5, 'auto_view_front_7': 11, 'auto_view_side_18': 13, 'other_views_100': 55, 'auto_view_back_2': 15}  images_from_video/videos_failed_d0b_0b4_d0b0b4eb-ed26-460d-a360-d00263f94b1d                                                                                                                             [{'auto_view_3_4_back_0': 3}, {'auto_view_3_4_front_1': 1}, {'auto_view_3_4_back_0': 1}, {'auto_view_3_4_front_1': 3}, {'auto_view_front_7': 9}, {'auto_view_side_18': 2}, {'other_views_100': 20}, {'auto_view_back_2': 8}, {'auto_view_front_7': 1}, {'auto_view_back_2': 5}, {'auto_view_front_7': 1}, {'auto_view_back_2': 2}, {'auto_view_3_4_back_0': 1}, {'other_views_100': 1}, {'auto_view_3_4_front_1': 1}, {'other_views_100': 6}, {'auto_view_side_18': 1}, {'other_views_100': 8}, {'auto_view_side_18': 1}, {'other_views_100': 20}, {'auto_view_side_18': 9}]\n",
       "215          failed               BAD                                                                                                          {'other_views_100': 85, 'auto_view_front_7': 55}  images_from_video/videos_failed_665_30c_66530cad-5a2b-4823-8592-df28c5cb306c  [{'other_views_100': 15}, {'auto_view_front_7': 6}, {'other_views_100': 6}, {'auto_view_front_7': 1}, {'other_views_100': 1}, {'auto_view_front_7': 1}, {'other_views_100': 6}, {'auto_view_front_7': 2}, {'other_views_100': 4}, {'auto_view_front_7': 1}, {'other_views_100': 4}, {'auto_view_front_7': 1}, {'other_views_100': 1}, {'auto_view_front_7': 13}, {'other_views_100': 1}, {'auto_view_front_7': 5}, {'other_views_100': 1}, {'auto_view_front_7': 2}, {'other_views_100': 12}, {'auto_view_front_7': 1}, {'other_views_100': 1}, {'auto_view_front_7': 2}, {'other_views_100': 5}, {'auto_view_front_7': 12}, {'other_views_100': 2}, {'auto_view_front_7': 8}, {'other_views_100': 26}]\n",
       "220          failed               BAD                                                                                                                                   {'other_views_100': 81}  images_from_video/videos_failed_596_adb_596adbd6-3fba-407c-a2aa-da1cd9649d09                                                                                                                                                                                                                                                                                                                                                                                                                                                                                                                                                                                                                                                                                [{'other_views_100': 81}]\n",
       "338          failed               BAD                                                                                                       {'other_views_100': 178, 'auto_view_3_4_back_0': 3}  images_from_video/videos_failed_826_f70_826f70cb-f5ec-4a5b-bcc1-d7d436f27ea9                                                                                                                                                                                                                                                                                                                                                                                                                                                                                                               [{'other_views_100': 61}, {'auto_view_3_4_back_0': 1}, {'other_views_100': 2}, {'auto_view_3_4_back_0': 1}, {'other_views_100': 21}, {'auto_view_3_4_back_0': 1}, {'other_views_100': 94}]"
      ]
     },
     "execution_count": 380,
     "metadata": {},
     "output_type": "execute_result"
    }
   ],
   "source": [
    "df_final[df_final.classifier_racurses == BAD_RACURS][cols]"
   ]
  },
  {
   "cell_type": "code",
   "execution_count": 709,
   "metadata": {},
   "outputs": [],
   "source": [
    "# path = 'images_from_video/videos_failed_ff9_fd6_ff9fd619-927c-4cab-ae02-a0bcc4665ab4'\n",
    "# обрезанное видео\n",
    "\n",
    "# path = 'images_from_video/videos_ok_59e_aa7_59eaa7fc-c014-40de-a81d-fbb2d83570dc'\n",
    "# truck isuzu no fron\n",
    "\n",
    "path = 'images_from_video/videos_ok_d1f_b8a_d1fb8aee-c342-488c-8c6d-318c9017c047'\n",
    "# kia - много other кадров в поле\n",
    "\n",
    "path = 'images_from_video/videos_ok_561_615_561615c5-4564-4af6-a6b4-4cb0bc26900f'\n",
    "# toyota в темноте - много other кадров\n",
    "\n",
    "path = 'images_from_video/videos_ok_828_edc_828edc3a-e6f5-44ef-95e1-2dcdc008d89a'\n",
    "# снова kia\n",
    "\n",
    "# debug_folder(path, rate = 60)"
   ]
  },
  {
   "cell_type": "code",
   "execution_count": 414,
   "metadata": {},
   "outputs": [],
   "source": [
    "GOOD = 'GOOD'\n",
    "UNKNOWN = 'UNKNOWN'\n",
    "good_bb = df_final[df_final.classifier_result == GOOD]"
   ]
  },
  {
   "cell_type": "code",
   "execution_count": 415,
   "metadata": {},
   "outputs": [
    {
     "data": {
      "text/plain": [
       "GOOD       241\n",
       "BAD         58\n",
       "UNKNOWN     53\n",
       "Name: classifier_result, dtype: int64"
      ]
     },
     "execution_count": 415,
     "metadata": {},
     "output_type": "execute_result"
    }
   ],
   "source": [
    "unknown_bb = df_final[df_final.classifier_result == UNKNOWN]\n",
    "df_final.classifier_result.value_counts()"
   ]
  },
  {
   "cell_type": "code",
   "execution_count": 384,
   "metadata": {},
   "outputs": [
    {
     "data": {
      "text/plain": [
       "241"
      ]
     },
     "execution_count": 384,
     "metadata": {},
     "output_type": "execute_result"
    }
   ],
   "source": [
    "len(good_bb)"
   ]
  },
  {
   "cell_type": "code",
   "execution_count": 386,
   "metadata": {},
   "outputs": [
    {
     "data": {
      "text/plain": [
       "UNKNOWN_RACURS    92\n",
       "GOOD_RACURS       85\n",
       "OK_RACURS         64\n",
       "Name: classifier_racurses, dtype: int64"
      ]
     },
     "execution_count": 386,
     "metadata": {},
     "output_type": "execute_result"
    }
   ],
   "source": [
    "good_bb.classifier_racurses.value_counts()"
   ]
  },
  {
   "cell_type": "code",
   "execution_count": 417,
   "metadata": {},
   "outputs": [
    {
     "data": {
      "text/plain": [
       "UNKNOWN_RACURS    25\n",
       "GOOD_RACURS       16\n",
       "OK_RACURS         11\n",
       "BAD_RACURS         1\n",
       "Name: classifier_racurses, dtype: int64"
      ]
     },
     "execution_count": 417,
     "metadata": {},
     "output_type": "execute_result"
    }
   ],
   "source": [
    "unknown_bb.classifier_racurses.value_counts()"
   ]
  },
  {
   "cell_type": "code",
   "execution_count": 388,
   "metadata": {},
   "outputs": [
    {
     "data": {
      "text/html": [
       "<div>\n",
       "<style scoped>\n",
       "    .dataframe tbody tr th:only-of-type {\n",
       "        vertical-align: middle;\n",
       "    }\n",
       "\n",
       "    .dataframe tbody tr th {\n",
       "        vertical-align: top;\n",
       "    }\n",
       "\n",
       "    .dataframe thead th {\n",
       "        text-align: right;\n",
       "    }\n",
       "</style>\n",
       "<table border=\"1\" class=\"dataframe\">\n",
       "  <thead>\n",
       "    <tr style=\"text-align: right;\">\n",
       "      <th>panorama_status</th>\n",
       "      <th>completed</th>\n",
       "      <th>failed</th>\n",
       "    </tr>\n",
       "    <tr>\n",
       "      <th>classifier_racurses</th>\n",
       "      <th></th>\n",
       "      <th></th>\n",
       "    </tr>\n",
       "  </thead>\n",
       "  <tbody>\n",
       "    <tr>\n",
       "      <th>GOOD_RACURS</th>\n",
       "      <td>71</td>\n",
       "      <td>14</td>\n",
       "    </tr>\n",
       "    <tr>\n",
       "      <th>OK_RACURS</th>\n",
       "      <td>50</td>\n",
       "      <td>14</td>\n",
       "    </tr>\n",
       "    <tr>\n",
       "      <th>UNKNOWN_RACURS</th>\n",
       "      <td>64</td>\n",
       "      <td>28</td>\n",
       "    </tr>\n",
       "  </tbody>\n",
       "</table>\n",
       "</div>"
      ],
      "text/plain": [
       "panorama_status      completed  failed\n",
       "classifier_racurses                   \n",
       "GOOD_RACURS                 71      14\n",
       "OK_RACURS                   50      14\n",
       "UNKNOWN_RACURS              64      28"
      ]
     },
     "execution_count": 388,
     "metadata": {},
     "output_type": "execute_result"
    }
   ],
   "source": [
    "pd.crosstab(good_bb.classifier_racurses, good_bb.panorama_status)"
   ]
  },
  {
   "cell_type": "code",
   "execution_count": 418,
   "metadata": {},
   "outputs": [
    {
     "data": {
      "text/html": [
       "<div>\n",
       "<style scoped>\n",
       "    .dataframe tbody tr th:only-of-type {\n",
       "        vertical-align: middle;\n",
       "    }\n",
       "\n",
       "    .dataframe tbody tr th {\n",
       "        vertical-align: top;\n",
       "    }\n",
       "\n",
       "    .dataframe thead th {\n",
       "        text-align: right;\n",
       "    }\n",
       "</style>\n",
       "<table border=\"1\" class=\"dataframe\">\n",
       "  <thead>\n",
       "    <tr style=\"text-align: right;\">\n",
       "      <th>panorama_status</th>\n",
       "      <th>completed</th>\n",
       "      <th>failed</th>\n",
       "    </tr>\n",
       "    <tr>\n",
       "      <th>classifier_racurses</th>\n",
       "      <th></th>\n",
       "      <th></th>\n",
       "    </tr>\n",
       "  </thead>\n",
       "  <tbody>\n",
       "    <tr>\n",
       "      <th>BAD_RACURS</th>\n",
       "      <td>1</td>\n",
       "      <td>0</td>\n",
       "    </tr>\n",
       "    <tr>\n",
       "      <th>GOOD_RACURS</th>\n",
       "      <td>12</td>\n",
       "      <td>4</td>\n",
       "    </tr>\n",
       "    <tr>\n",
       "      <th>OK_RACURS</th>\n",
       "      <td>9</td>\n",
       "      <td>2</td>\n",
       "    </tr>\n",
       "    <tr>\n",
       "      <th>UNKNOWN_RACURS</th>\n",
       "      <td>12</td>\n",
       "      <td>13</td>\n",
       "    </tr>\n",
       "  </tbody>\n",
       "</table>\n",
       "</div>"
      ],
      "text/plain": [
       "panorama_status      completed  failed\n",
       "classifier_racurses                   \n",
       "BAD_RACURS                   1       0\n",
       "GOOD_RACURS                 12       4\n",
       "OK_RACURS                    9       2\n",
       "UNKNOWN_RACURS              12      13"
      ]
     },
     "execution_count": 418,
     "metadata": {},
     "output_type": "execute_result"
    }
   ],
   "source": [
    "pd.crosstab(unknown_bb.classifier_racurses, unknown_bb.panorama_status)"
   ]
  },
  {
   "cell_type": "code",
   "execution_count": 389,
   "metadata": {},
   "outputs": [],
   "source": [
    "good_bb_failed = good_bb[good_bb.panorama_status == 'failed']"
   ]
  },
  {
   "cell_type": "code",
   "execution_count": 431,
   "metadata": {},
   "outputs": [],
   "source": [
    "unknown_bb_failed = unknown_bb[unknown_bb.panorama_status == 'failed']"
   ]
  },
  {
   "cell_type": "code",
   "execution_count": 432,
   "metadata": {},
   "outputs": [],
   "source": [
    "good_racurs_failed = good_bb_failed[good_bb_failed.classifier_racurses == GOOD_RACURS]\n",
    "unk_good_racurs_failed = unknown_bb_failed[unknown_bb_failed.classifier_racurses == GOOD_RACURS]"
   ]
  },
  {
   "cell_type": "code",
   "execution_count": 433,
   "metadata": {},
   "outputs": [],
   "source": [
    "ok_racurs_failed = good_bb_failed[good_bb_failed.classifier_racurses == OK_RACURS]\n",
    "unk_ok_racurs_failed = unknown_bb_failed[unknown_bb_failed.classifier_racurses == OK_RACURS]"
   ]
  },
  {
   "cell_type": "code",
   "execution_count": 434,
   "metadata": {},
   "outputs": [],
   "source": [
    "unknown_racurs_failed = good_bb_failed[good_bb_failed.classifier_racurses == UNKNOWN_RACURS]\n",
    "unk_unknown_racurs_failed = unknown_bb_failed[unknown_bb_failed.classifier_racurses == UNKNOWN_RACURS]"
   ]
  },
  {
   "cell_type": "code",
   "execution_count": 435,
   "metadata": {},
   "outputs": [
    {
     "data": {
      "text/plain": [
       "14"
      ]
     },
     "execution_count": 435,
     "metadata": {},
     "output_type": "execute_result"
    }
   ],
   "source": [
    "len(good_racurs_failed)"
   ]
  },
  {
   "cell_type": "code",
   "execution_count": 407,
   "metadata": {},
   "outputs": [
    {
     "data": {
      "text/plain": [
       "14"
      ]
     },
     "execution_count": 407,
     "metadata": {},
     "output_type": "execute_result"
    }
   ],
   "source": [
    "len(ok_racurs_failed)"
   ]
  },
  {
   "cell_type": "code",
   "execution_count": 404,
   "metadata": {},
   "outputs": [],
   "source": [
    "def debug_folders(df, rate = 60):\n",
    "    paths = list(df.image_path)\n",
    "    for path in paths:\n",
    "        print(path)\n",
    "        debug_folder(path, rate = rate)"
   ]
  },
  {
   "cell_type": "code",
   "execution_count": 444,
   "metadata": {
    "scrolled": false
   },
   "outputs": [],
   "source": [
    "# debug_folders(good_racurs_failed, rate = 120)\n",
    "# all ok\n",
    "\n",
    "# debug_folders(ok_racurs_failed, rate = 120)\n",
    "# all ok\n",
    "\n",
    "# debug_folders(unknown_racurs_failed, rate = 120)\n",
    "# недокрутил 2 машины:\n",
    "# images_from_video/videos_failed_250_88e_25088e17-e8fd-4f12-9206-00a3853e03f6\n",
    "# тут еще и логотип\n",
    "\n",
    "# images_from_video/videos_failed_8b2_5cf_8b25cf8c-c03c-4c3b-86bf-b47863f75b32\n",
    "# Недокруитил? \n",
    "\n",
    "# print(len(unk_good_racurs_failed))\n",
    "# debug_folders(unk_good_racurs_failed)\n",
    "# images_from_video/videos_failed_9fc_caa_9fccaad4-d893-4e51-ab31-0b13af9c6256 недокрутил\n",
    "# почти докрутил: images_from_video/videos_failed_786_168_786168b6-6d12-4f1d-a299-b53bdab2faa8\n",
    "# та же, недокрутил: images_from_video/videos_failed_03f_4a8_03f4a857-3291-48b3-8bcd-7b3103f08a7e\n",
    "# застрял на последнем кадре\n",
    "\n",
    "# print(len(unk_ok_racurs_failed))\n",
    "# debug_folders(unk_ok_racurs_failed, rate = 120)\n",
    "# images_from_video/videos_failed_b53_c69_b53c69b5-33d6-4748-95e1-f842982f727c - застрял в последних кадрах\n",
    "# images_from_video/videos_failed_af9_ee7_af9ee745-2571-414e-ae9f-5cde82e9dfda - недокрутил\n",
    "# images_from_video/videos_failed_ebb_b2f_ebbb2f60-3561-4fb8-a279-cb22550d743d - перекрутил немного\n",
    "# images_from_video/videos_failed_14d_1cd_14d1cded-1861-44c3-831c-5edcc753c20b - недокрутил\n",
    "\n",
    "# print(len(unk_unknown_racurs_failed))\n",
    "# debug_folders(unk_unknown_racurs_failed, rate = 120)\n"
   ]
  },
  {
   "cell_type": "markdown",
   "metadata": {},
   "source": [
    "#### Недокрученное видео"
   ]
  },
  {
   "cell_type": "code",
   "execution_count": 553,
   "metadata": {},
   "outputs": [],
   "source": [
    "# RACURSES_INDEXES = {\n",
    "#     \"auto_view_3_4_back_0\": 0\n",
    "#     \"auto_view_back_2\"\n",
    "    \n",
    "#                            '1': \"auto_view_3_4_front_1\",\n",
    "#                            '2': \"auto_view_back_2\",\n",
    "#                            '7': \"auto_view_front_7\",\n",
    "#                            '18': \"auto_view_side_18\",\n",
    "#                            \"100\": \"other_views_100\"}\n",
    "    \n",
    "# }\n",
    "CAN_FOLLOW_STRICT = 'CAN_FOLLOW_STRICT'\n",
    "CAN_FOLLOW_LIGHT= 'CAN_FOLLOW_LIGHT'\n",
    "CANNOT_FOLLOW = 'CANNOT_FOLLOW'\n",
    "def can_follow(racurs1, racurs2):\n",
    "    if racurs1 == AUTO_VIEW_3_4_BACK:\n",
    "        if racurs2 in {AUTO_VIEW_BACK, AUTO_VIEW_SIDE}:\n",
    "            return CAN_FOLLOW_STRICT\n",
    "        elif racurs2 in {AUTO_VIEW_3_4_FRONT}: \n",
    "            return CAN_FOLLOW_LIGHT\n",
    "        else:\n",
    "            return CANNOT_FOLLOW\n",
    "    if racurs1 == AUTO_VIEW_SIDE:\n",
    "        if racurs2 in (AUTO_VIEW_3_4_BACK, AUTO_VIEW_3_4_FRONT):\n",
    "            return CAN_FOLLOW_STRICT\n",
    "        elif racurs2 in {AUTO_VIEW_FRONT, AUTO_VIEW_BACK}:\n",
    "            return CAN_FOLLOW_LIGHT\n",
    "        else:\n",
    "            return CANNOT_FOLLOW\n",
    "        \n",
    "    if racurs1 == AUTO_VIEW_3_4_FRONT:\n",
    "        if racurs2 in {AUTO_VIEW_FRONT, AUTO_VIEW_SIDE}:\n",
    "            return CAN_FOLLOW_STRICT\n",
    "        elif racurs2 in {AUTO_VIEW_3_4_BACK}: \n",
    "            return CAN_FOLLOW_LIGHT\n",
    "        else:\n",
    "            return CANNOT_FOLLOW\n",
    "    if racurs1 == AUTO_VIEW_BACK:\n",
    "        if racurs2 in {AUTO_VIEW_3_4_BACK}:\n",
    "            return CAN_FOLLOW_STRICT\n",
    "        elif racurs2 in {AUTO_VIEW_SIDE}: \n",
    "            return CAN_FOLLOW_LIGHT\n",
    "        else:\n",
    "            return CANNOT_FOLLOW\n",
    "    if racurs1 == AUTO_VIEW_FRONT:\n",
    "        if racurs2 in {AUTO_VIEW_3_4_FRONT}:\n",
    "            return CAN_FOLLOW_STRICT\n",
    "        elif racurs2 in {AUTO_VIEW_SIDE}: \n",
    "            return CAN_FOLLOW_LIGHT\n",
    "        else:\n",
    "            return CANNOT_FOLLOW"
   ]
  },
  {
   "cell_type": "code",
   "execution_count": 717,
   "metadata": {},
   "outputs": [],
   "source": [
    "RACURS_2_MIN_COUNT = {\n",
    "    AUTO_VIEW_3_4_BACK: 2,\n",
    "    AUTO_VIEW_3_4_FRONT: 2,\n",
    "    AUTO_VIEW_SIDE: 2,\n",
    "    AUTO_VIEW_BACK: 1,\n",
    "    AUTO_VIEW_FRONT: 1\n",
    "}\n",
    "def is_finished(first_racurs, racurses_2_count):\n",
    "    if racurses_2_count[first_racurs] < RACURS_2_MIN_COUNT[first_racurs] + 1:\n",
    "        return False\n",
    "    for key, value in RACURS_2_MIN_COUNT.items():\n",
    "        if value > racurses_2_count.get(key, 0):\n",
    "            return False\n",
    "    return True\n",
    "    \n",
    "    \n",
    "def classify_video_finished_by_row(row):\n",
    "    return classify_video_finished(row['list_racurses'])\n",
    "\n",
    "def classify_video_finished(list_racurses):\n",
    "    \n",
    "    list_ok_racurses = []\n",
    "    \n",
    "    for racurs in list_racurses:\n",
    "#         print(racurs)\n",
    "        key, value = list(racurs.items())[0]\n",
    "        if value <= 2 or key == AUTO_VIEW_OTHER:\n",
    "            continue\n",
    "        else:\n",
    "            # join only same racurses:\n",
    "            if not ((len(list_ok_racurses) > 0) and (key == list_ok_racurses[-1])):\n",
    "                list_ok_racurses.append(key)\n",
    "\n",
    "    if len(list_ok_racurses) < 4:\n",
    "        return CANNOT_FOLLOW, False\n",
    "\n",
    "\n",
    "    current_can_follow = CAN_FOLLOW_STRICT\n",
    "    racurses2count = defaultdict(int)\n",
    "\n",
    "    \n",
    "    for i in range(len(list_ok_racurses) - 1):\n",
    "        racurs1 = list_ok_racurses[i]\n",
    "        racurs2 = list_ok_racurses[i+1]\n",
    "        if current_can_follow != CANNOT_FOLLOW:\n",
    "            can_follow_res = can_follow(racurs1, racurs2)\n",
    "            if can_follow_res == CANNOT_FOLLOW:\n",
    "                current_can_follow = can_follow_res\n",
    "            elif can_follow_res == CAN_FOLLOW_LIGHT:\n",
    "                current_can_follow = can_follow_res\n",
    "        racurses2count[racurs1] += 1\n",
    "    racurses2count[list_ok_racurses[-1]] += 1\n",
    "    is_finished_result = is_finished(list_ok_racurses[0], racurses2count)\n",
    "    return current_can_follow, is_finished_result\n"
   ]
  },
  {
   "cell_type": "code",
   "execution_count": 671,
   "metadata": {},
   "outputs": [],
   "source": [
    "df_final[['can_follow_racurses', 'is_video_finished']] = df_final.apply(classify_video_finished_by_row, axis = 1, result_type='expand')"
   ]
  },
  {
   "cell_type": "code",
   "execution_count": 672,
   "metadata": {},
   "outputs": [],
   "source": [
    "df_follow_strict = df_final[(df_final.can_follow_racurses == CAN_FOLLOW_STRICT)]"
   ]
  },
  {
   "cell_type": "code",
   "execution_count": 674,
   "metadata": {},
   "outputs": [
    {
     "data": {
      "text/plain": [
       "CANNOT_FOLLOW        160\n",
       "CAN_FOLLOW_STRICT    101\n",
       "CAN_FOLLOW_LIGHT      91\n",
       "Name: can_follow_racurses, dtype: int64"
      ]
     },
     "execution_count": 674,
     "metadata": {},
     "output_type": "execute_result"
    }
   ],
   "source": [
    "df_final.can_follow_racurses.value_counts()"
   ]
  },
  {
   "cell_type": "code",
   "execution_count": 675,
   "metadata": {},
   "outputs": [
    {
     "data": {
      "text/html": [
       "<div>\n",
       "<style scoped>\n",
       "    .dataframe tbody tr th:only-of-type {\n",
       "        vertical-align: middle;\n",
       "    }\n",
       "\n",
       "    .dataframe tbody tr th {\n",
       "        vertical-align: top;\n",
       "    }\n",
       "\n",
       "    .dataframe thead th {\n",
       "        text-align: right;\n",
       "    }\n",
       "</style>\n",
       "<table border=\"1\" class=\"dataframe\">\n",
       "  <thead>\n",
       "    <tr style=\"text-align: right;\">\n",
       "      <th>can_follow_racurses</th>\n",
       "      <th>CANNOT_FOLLOW</th>\n",
       "      <th>CAN_FOLLOW_LIGHT</th>\n",
       "      <th>CAN_FOLLOW_STRICT</th>\n",
       "    </tr>\n",
       "    <tr>\n",
       "      <th>classifier_racurses</th>\n",
       "      <th></th>\n",
       "      <th></th>\n",
       "      <th></th>\n",
       "    </tr>\n",
       "  </thead>\n",
       "  <tbody>\n",
       "    <tr>\n",
       "      <th>BAD_RACURS</th>\n",
       "      <td>5</td>\n",
       "      <td>1</td>\n",
       "      <td>0</td>\n",
       "    </tr>\n",
       "    <tr>\n",
       "      <th>GOOD_RACURS</th>\n",
       "      <td>13</td>\n",
       "      <td>25</td>\n",
       "      <td>79</td>\n",
       "    </tr>\n",
       "    <tr>\n",
       "      <th>OK_RACURS</th>\n",
       "      <td>57</td>\n",
       "      <td>17</td>\n",
       "      <td>19</td>\n",
       "    </tr>\n",
       "    <tr>\n",
       "      <th>UNKNOWN_RACURS</th>\n",
       "      <td>83</td>\n",
       "      <td>48</td>\n",
       "      <td>3</td>\n",
       "    </tr>\n",
       "    <tr>\n",
       "      <th>ZERO_FRAMES_RACURS</th>\n",
       "      <td>2</td>\n",
       "      <td>0</td>\n",
       "      <td>0</td>\n",
       "    </tr>\n",
       "  </tbody>\n",
       "</table>\n",
       "</div>"
      ],
      "text/plain": [
       "can_follow_racurses  CANNOT_FOLLOW  CAN_FOLLOW_LIGHT  CAN_FOLLOW_STRICT\n",
       "classifier_racurses                                                    \n",
       "BAD_RACURS                       5                 1                  0\n",
       "GOOD_RACURS                     13                25                 79\n",
       "OK_RACURS                       57                17                 19\n",
       "UNKNOWN_RACURS                  83                48                  3\n",
       "ZERO_FRAMES_RACURS               2                 0                  0"
      ]
     },
     "execution_count": 675,
     "metadata": {},
     "output_type": "execute_result"
    }
   ],
   "source": [
    "pd.crosstab(df_final.classifier_racurses, df_final.can_follow_racurses)"
   ]
  },
  {
   "cell_type": "code",
   "execution_count": 676,
   "metadata": {},
   "outputs": [
    {
     "data": {
      "text/html": [
       "<div>\n",
       "<style scoped>\n",
       "    .dataframe tbody tr th:only-of-type {\n",
       "        vertical-align: middle;\n",
       "    }\n",
       "\n",
       "    .dataframe tbody tr th {\n",
       "        vertical-align: top;\n",
       "    }\n",
       "\n",
       "    .dataframe thead th {\n",
       "        text-align: right;\n",
       "    }\n",
       "</style>\n",
       "<table border=\"1\" class=\"dataframe\">\n",
       "  <thead>\n",
       "    <tr style=\"text-align: right;\">\n",
       "      <th>can_follow_racurses</th>\n",
       "      <th>CANNOT_FOLLOW</th>\n",
       "      <th>CAN_FOLLOW_LIGHT</th>\n",
       "      <th>CAN_FOLLOW_STRICT</th>\n",
       "    </tr>\n",
       "    <tr>\n",
       "      <th>classifier_result</th>\n",
       "      <th></th>\n",
       "      <th></th>\n",
       "      <th></th>\n",
       "    </tr>\n",
       "  </thead>\n",
       "  <tbody>\n",
       "    <tr>\n",
       "      <th>BAD</th>\n",
       "      <td>27</td>\n",
       "      <td>10</td>\n",
       "      <td>21</td>\n",
       "    </tr>\n",
       "    <tr>\n",
       "      <th>GOOD</th>\n",
       "      <td>111</td>\n",
       "      <td>60</td>\n",
       "      <td>70</td>\n",
       "    </tr>\n",
       "    <tr>\n",
       "      <th>UNKNOWN</th>\n",
       "      <td>22</td>\n",
       "      <td>21</td>\n",
       "      <td>10</td>\n",
       "    </tr>\n",
       "  </tbody>\n",
       "</table>\n",
       "</div>"
      ],
      "text/plain": [
       "can_follow_racurses  CANNOT_FOLLOW  CAN_FOLLOW_LIGHT  CAN_FOLLOW_STRICT\n",
       "classifier_result                                                      \n",
       "BAD                             27                10                 21\n",
       "GOOD                           111                60                 70\n",
       "UNKNOWN                         22                21                 10"
      ]
     },
     "execution_count": 676,
     "metadata": {},
     "output_type": "execute_result"
    }
   ],
   "source": [
    "pd.crosstab(df_final.classifier_result, df_final.can_follow_racurses)"
   ]
  },
  {
   "cell_type": "code",
   "execution_count": 678,
   "metadata": {},
   "outputs": [],
   "source": [
    "good_bb = df_final[df_final.classifier_result == GOOD]"
   ]
  },
  {
   "cell_type": "code",
   "execution_count": 679,
   "metadata": {},
   "outputs": [
    {
     "data": {
      "text/html": [
       "<div>\n",
       "<style scoped>\n",
       "    .dataframe tbody tr th:only-of-type {\n",
       "        vertical-align: middle;\n",
       "    }\n",
       "\n",
       "    .dataframe tbody tr th {\n",
       "        vertical-align: top;\n",
       "    }\n",
       "\n",
       "    .dataframe thead th {\n",
       "        text-align: right;\n",
       "    }\n",
       "</style>\n",
       "<table border=\"1\" class=\"dataframe\">\n",
       "  <thead>\n",
       "    <tr style=\"text-align: right;\">\n",
       "      <th>can_follow_racurses</th>\n",
       "      <th>CANNOT_FOLLOW</th>\n",
       "      <th>CAN_FOLLOW_LIGHT</th>\n",
       "      <th>CAN_FOLLOW_STRICT</th>\n",
       "    </tr>\n",
       "    <tr>\n",
       "      <th>panorama_status</th>\n",
       "      <th></th>\n",
       "      <th></th>\n",
       "      <th></th>\n",
       "    </tr>\n",
       "  </thead>\n",
       "  <tbody>\n",
       "    <tr>\n",
       "      <th>completed</th>\n",
       "      <td>77</td>\n",
       "      <td>50</td>\n",
       "      <td>58</td>\n",
       "    </tr>\n",
       "    <tr>\n",
       "      <th>failed</th>\n",
       "      <td>34</td>\n",
       "      <td>10</td>\n",
       "      <td>12</td>\n",
       "    </tr>\n",
       "  </tbody>\n",
       "</table>\n",
       "</div>"
      ],
      "text/plain": [
       "can_follow_racurses  CANNOT_FOLLOW  CAN_FOLLOW_LIGHT  CAN_FOLLOW_STRICT\n",
       "panorama_status                                                        \n",
       "completed                       77                50                 58\n",
       "failed                          34                10                 12"
      ]
     },
     "execution_count": 679,
     "metadata": {},
     "output_type": "execute_result"
    }
   ],
   "source": [
    "pd.crosstab(good_bb.panorama_status, good_bb.can_follow_racurses)"
   ]
  },
  {
   "cell_type": "code",
   "execution_count": 681,
   "metadata": {},
   "outputs": [],
   "source": [
    "can_follow_ok = df_final[df_final.classifier_result.isin([GOOD, UNKNOWN]) & (df_final.can_follow_racurses == CAN_FOLLOW_STRICT)]"
   ]
  },
  {
   "cell_type": "code",
   "execution_count": 683,
   "metadata": {},
   "outputs": [
    {
     "data": {
      "text/html": [
       "<div>\n",
       "<style scoped>\n",
       "    .dataframe tbody tr th:only-of-type {\n",
       "        vertical-align: middle;\n",
       "    }\n",
       "\n",
       "    .dataframe tbody tr th {\n",
       "        vertical-align: top;\n",
       "    }\n",
       "\n",
       "    .dataframe thead th {\n",
       "        text-align: right;\n",
       "    }\n",
       "</style>\n",
       "<table border=\"1\" class=\"dataframe\">\n",
       "  <thead>\n",
       "    <tr style=\"text-align: right;\">\n",
       "      <th>is_video_finished</th>\n",
       "      <th>False</th>\n",
       "      <th>True</th>\n",
       "    </tr>\n",
       "    <tr>\n",
       "      <th>panorama_status</th>\n",
       "      <th></th>\n",
       "      <th></th>\n",
       "    </tr>\n",
       "  </thead>\n",
       "  <tbody>\n",
       "    <tr>\n",
       "      <th>completed</th>\n",
       "      <td>6</td>\n",
       "      <td>59</td>\n",
       "    </tr>\n",
       "    <tr>\n",
       "      <th>failed</th>\n",
       "      <td>3</td>\n",
       "      <td>12</td>\n",
       "    </tr>\n",
       "  </tbody>\n",
       "</table>\n",
       "</div>"
      ],
      "text/plain": [
       "is_video_finished  False  True \n",
       "panorama_status                \n",
       "completed              6     59\n",
       "failed                 3     12"
      ]
     },
     "execution_count": 683,
     "metadata": {},
     "output_type": "execute_result"
    }
   ],
   "source": [
    "pd.crosstab(can_follow_ok.panorama_status, can_follow_ok.is_video_finished)"
   ]
  },
  {
   "cell_type": "code",
   "execution_count": null,
   "metadata": {},
   "outputs": [],
   "source": [
    "pd.crosstab(good_bb.panorama_status, good_bb.can_follow_racurses)"
   ]
  },
  {
   "cell_type": "code",
   "execution_count": 673,
   "metadata": {},
   "outputs": [
    {
     "data": {
      "text/plain": [
       "True     80\n",
       "False    21\n",
       "Name: is_video_finished, dtype: int64"
      ]
     },
     "execution_count": 673,
     "metadata": {},
     "output_type": "execute_result"
    }
   ],
   "source": [
    "df_follow_strict['is_video_finished'].value_counts()"
   ]
  },
  {
   "cell_type": "markdown",
   "metadata": {},
   "source": [
    "### failed panoramas not finished analysis\n"
   ]
  },
  {
   "cell_type": "code",
   "execution_count": 686,
   "metadata": {},
   "outputs": [],
   "source": [
    "failed_finished = list(can_follow_ok[(can_follow_ok.panorama_status == 'failed') &  (can_follow_ok.is_video_finished == True)].image_path)"
   ]
  },
  {
   "cell_type": "code",
   "execution_count": 690,
   "metadata": {},
   "outputs": [
    {
     "data": {
      "text/plain": [
       "12"
      ]
     },
     "execution_count": 690,
     "metadata": {},
     "output_type": "execute_result"
    }
   ],
   "source": [
    "len(failed_finished)"
   ]
  },
  {
   "cell_type": "code",
   "execution_count": 691,
   "metadata": {},
   "outputs": [],
   "source": [
    "# failed_finished\n",
    "# debug_folders(df_final[df_final.image_path.isin(failed_finished)], rate = 120)\n",
    "# # all ok, really finished"
   ]
  },
  {
   "cell_type": "code",
   "execution_count": 692,
   "metadata": {},
   "outputs": [],
   "source": [
    "failed_unfinished = list(can_follow_ok[(can_follow_ok.panorama_status == 'failed') &  (can_follow_ok.is_video_finished == False)].image_path)"
   ]
  },
  {
   "cell_type": "code",
   "execution_count": 693,
   "metadata": {},
   "outputs": [
    {
     "data": {
      "text/plain": [
       "3"
      ]
     },
     "execution_count": 693,
     "metadata": {},
     "output_type": "execute_result"
    }
   ],
   "source": [
    "len(failed_unfinished)"
   ]
  },
  {
   "cell_type": "code",
   "execution_count": 695,
   "metadata": {},
   "outputs": [
    {
     "data": {
      "text/plain": [
       "['images_from_video/videos_failed_250_88e_25088e17-e8fd-4f12-9206-00a3853e03f6',\n",
       " 'images_from_video/videos_failed_9fc_caa_9fccaad4-d893-4e51-ab31-0b13af9c6256',\n",
       " 'images_from_video/videos_failed_03f_4a8_03f4a857-3291-48b3-8bcd-7b3103f08a7e']"
      ]
     },
     "execution_count": 695,
     "metadata": {},
     "output_type": "execute_result"
    }
   ],
   "source": [
    "failed_unfinished\n",
    "# all true"
   ]
  },
  {
   "cell_type": "code",
   "execution_count": 703,
   "metadata": {},
   "outputs": [
    {
     "name": "stdout",
     "output_type": "stream",
     "text": [
      "https://autoru-panorama-internal.s3.mds.yandex.net/upload/250/88e/25088e17-e8fd-4f12-9206-00a3853e03f6\n",
      "https://autoru-panorama-internal.s3.mds.yandex.net/upload/9fc/caa/9fccaad4-d893-4e51-ab31-0b13af9c6256\n",
      "https://autoru-panorama-internal.s3.mds.yandex.net/upload/03f/4a8/03f4a857-3291-48b3-8bcd-7b3103f08a7e\n"
     ]
    }
   ],
   "source": [
    "for k in list(df_final[df_final.image_path.isin(failed_unfinished)].url):\n",
    "    print(k)"
   ]
  },
  {
   "cell_type": "code",
   "execution_count": 696,
   "metadata": {},
   "outputs": [],
   "source": [
    "# debug_folders(df_final[df_final.image_path.isin(failed_unfinished)], rate = 120)\n",
    "# all unfinished"
   ]
  },
  {
   "cell_type": "code",
   "execution_count": 697,
   "metadata": {},
   "outputs": [],
   "source": [
    "completed_unfinished = list(can_follow_ok[(can_follow_ok.panorama_status == 'completed') &  (can_follow_ok.is_video_finished == False)].image_path)"
   ]
  },
  {
   "cell_type": "code",
   "execution_count": 704,
   "metadata": {},
   "outputs": [
    {
     "name": "stdout",
     "output_type": "stream",
     "text": [
      "https://autoru-panorama-internal.s3.mds.yandex.net/upload/47f/713/47f71340-3f3c-48e1-9f8e-461d9270614c\n",
      "https://autoru-panorama-internal.s3.mds.yandex.net/upload/e03/8dc/e038dc0a-2e34-4325-89cb-1b616f3e8b62\n",
      "https://autoru-panorama-internal.s3.mds.yandex.net/upload/8de/69c/8de69c13-a9b7-467b-a449-c1ee452ccd90\n",
      "https://autoru-panorama-internal.s3.mds.yandex.net/upload/87a/f2d/87af2d62-f206-4ab2-8550-23f82f27b8e1\n"
     ]
    }
   ],
   "source": [
    "completed_unfinished_razmetka = [\n",
    "    'images_from_video/videos_ok_47f_713_47f71340-3f3c-48e1-9f8e-461d9270614c',\n",
    "    'images_from_video/videos_ok_e03_8dc_e038dc0a-2e34-4325-89cb-1b616f3e8b62',\n",
    "    'images_from_video/videos_ok_8de_69c_8de69c13-a9b7-467b-a449-c1ee452ccd90',\n",
    "    'images_from_video/videos_ok_87a_f2d_87af2d62-f206-4ab2-8550-23f82f27b8e1'\n",
    "]\n",
    "for k in list(df_final[df_final.image_path.isin(completed_unfinished_razmetka)].url):\n",
    "    print(k)"
   ]
  },
  {
   "cell_type": "code",
   "execution_count": 698,
   "metadata": {},
   "outputs": [
    {
     "data": {
      "text/plain": [
       "['images_from_video/videos_ok_53b_d70_53bd70c9-a263-459d-8fc6-f2279576b965',\n",
       " 'images_from_video/videos_ok_591_830_59183004-1a31-4b29-9122-74b201574e76',\n",
       " 'images_from_video/videos_ok_47f_713_47f71340-3f3c-48e1-9f8e-461d9270614c',\n",
       " 'images_from_video/videos_ok_e03_8dc_e038dc0a-2e34-4325-89cb-1b616f3e8b62',\n",
       " 'images_from_video/videos_ok_8de_69c_8de69c13-a9b7-467b-a449-c1ee452ccd90',\n",
       " 'images_from_video/videos_ok_87a_f2d_87af2d62-f206-4ab2-8550-23f82f27b8e1']"
      ]
     },
     "execution_count": 698,
     "metadata": {},
     "output_type": "execute_result"
    }
   ],
   "source": [
    "completed_unfinished\n",
    "# 2 докрутили, 4 недокрутили\n",
    "# images_from_video/videos_ok_47f_713_47f71340-3f3c-48e1-9f8e-461d9270614c\n",
    "# images_from_video/videos_ok_e03_8dc_e038dc0a-2e34-4325-89cb-1b616f3e8b62\n",
    "# 'images_from_video/videos_ok_8de_69c_8de69c13-a9b7-467b-a449-c1ee452ccd90'\n",
    "# 'images_from_video/videos_ok_87a_f2d_87af2d62-f206-4ab2-8550-23f82f27b8e1'"
   ]
  },
  {
   "cell_type": "code",
   "execution_count": 710,
   "metadata": {},
   "outputs": [],
   "source": [
    "# debug_folders(df_final[df_final.image_path.isin(completed_unfinished)], rate = 120)"
   ]
  },
  {
   "cell_type": "code",
   "execution_count": 712,
   "metadata": {},
   "outputs": [],
   "source": [
    "df_final.to_csv('bb_racurs_classifier_result.tsv', sep = '\\t', index = False)"
   ]
  },
  {
   "cell_type": "code",
   "execution_count": 713,
   "metadata": {},
   "outputs": [
    {
     "data": {
      "text/plain": [
       "['url',\n",
       " 'panorama_status',\n",
       " 'image_path',\n",
       " 'classifier_result',\n",
       " 'total_analyzed_frames',\n",
       " 'big_vehicle_middle_screen_found',\n",
       " 'no_big_vehicle_middle_screen_found',\n",
       " 'car_found_but_bounding_box_unsafe_margin',\n",
       " 'bounding_boxes_outside_image',\n",
       " 'bad_frames',\n",
       " 'really_bad_frames',\n",
       " 'share_no_big_vehicle_middle_screen_found',\n",
       " 'share_car_found_but_bounding_box_unsafe_margin',\n",
       " 'share_bad_frames',\n",
       " 'share_really_bad_frames',\n",
       " 'racurses_dict',\n",
       " 'list_racurses',\n",
       " 'all_racurses_present',\n",
       " 'classifier_racurses',\n",
       " 'can_follow_racurses',\n",
       " 'is_video_finished']"
      ]
     },
     "execution_count": 713,
     "metadata": {},
     "output_type": "execute_result"
    }
   ],
   "source": [
    "list(df_final)"
   ]
  },
  {
   "cell_type": "code",
   "execution_count": 714,
   "metadata": {},
   "outputs": [
    {
     "data": {
      "text/plain": [
       "True     311\n",
       "False     41\n",
       "Name: all_racurses_present, dtype: int64"
      ]
     },
     "execution_count": 714,
     "metadata": {},
     "output_type": "execute_result"
    }
   ],
   "source": [
    "df_final.all_racurses_present.value_counts()"
   ]
  },
  {
   "cell_type": "code",
   "execution_count": 716,
   "metadata": {},
   "outputs": [
    {
     "data": {
      "text/plain": [
       "UNKNOWN_RACURS        134\n",
       "GOOD_RACURS           117\n",
       "OK_RACURS              93\n",
       "BAD_RACURS              6\n",
       "ZERO_FRAMES_RACURS      2\n",
       "Name: classifier_racurses, dtype: int64"
      ]
     },
     "execution_count": 716,
     "metadata": {},
     "output_type": "execute_result"
    }
   ],
   "source": [
    "df_final.classifier_racurses.value_counts()"
   ]
  },
  {
   "cell_type": "code",
   "execution_count": 718,
   "metadata": {},
   "outputs": [
    {
     "data": {
      "text/plain": [
       "CANNOT_FOLLOW        160\n",
       "CAN_FOLLOW_STRICT    101\n",
       "CAN_FOLLOW_LIGHT      91\n",
       "Name: can_follow_racurses, dtype: int64"
      ]
     },
     "execution_count": 718,
     "metadata": {},
     "output_type": "execute_result"
    }
   ],
   "source": [
    "df_final.can_follow_racurses.value_counts()"
   ]
  },
  {
   "cell_type": "code",
   "execution_count": 719,
   "metadata": {},
   "outputs": [
    {
     "data": {
      "text/plain": [
       "True     80\n",
       "False    21\n",
       "Name: is_video_finished, dtype: int64"
      ]
     },
     "execution_count": 719,
     "metadata": {},
     "output_type": "execute_result"
    }
   ],
   "source": [
    "df_final[df_final.can_follow_racurses == CAN_FOLLOW_STRICT]['is_video_finished'].value_counts()"
   ]
  },
  {
   "cell_type": "markdown",
   "metadata": {},
   "source": [
    "### analysis of unfinished videos"
   ]
  },
  {
   "cell_type": "code",
   "execution_count": 648,
   "metadata": {},
   "outputs": [],
   "source": [
    "unfinished_videos = [\n",
    "    'images_from_video/videos_failed_250_88e_25088e17-e8fd-4f12-9206-00a3853e03f6', # сработал классификатор CAN_FOLLOW_STRICT, False, начали с side 20, закончили с front 1 (>2 кадров у 3_4 back)\n",
    "#                      'images_from_video/videos_failed_8b2_5cf_8b25cf8c-c03c-4c3b-86bf-b47863f75b32', # CANNOT_FOLLOW начали с front, закончили 3/4 front\n",
    "#                      'images_from_video/videos_failed_9fc_caa_9fccaad4-d893-4e51-ab31-0b13af9c6256', # сработал классфикатор, CAN_FOLLOW_STRICT, False, начали с 3_4 front (7 > 2) а зкончили с front - очень хорошая последовательность чуть не докрутили\n",
    "#                      'images_from_video/videos_failed_786_168_786168b6-6d12-4f1d-a299-b53bdab2faa8',   #  is finished false, can follow light начали с front, закончили с 3/4 front\n",
    "#                      'images_from_video/videos_failed_af9_ee7_af9ee745-2571-414e-ae9f-5cde82e9dfda', # cannot follow (false) begin with 3_4 front 13, finished with side 10\n",
    "#                      'images_from_video/videos_failed_ebb_b2f_ebbb2f60-3561-4fb8-a279-cb22550d743d', # cannot follow (false) начали с front, закончили с front (car with box on the roof - a lot of problems)\n",
    "#                      'images_from_video/videos_failed_14d_1cd_14d1cded-1861-44c3-831c-5edcc753c20b', # cannot follow (true) начали с 3_4 back, закончили с 3_4. fron\n",
    "                    ]\n",
    "\n",
    "\n"
   ]
  },
  {
   "cell_type": "code",
   "execution_count": null,
   "metadata": {},
   "outputs": [],
   "source": []
  },
  {
   "cell_type": "code",
   "execution_count": 649,
   "metadata": {},
   "outputs": [],
   "source": [
    "l_racurses = list(df_final[df_final.image_path.isin(unfinished_videos)].list_racurses)[0]"
   ]
  },
  {
   "cell_type": "code",
   "execution_count": 650,
   "metadata": {},
   "outputs": [
    {
     "name": "stdout",
     "output_type": "stream",
     "text": [
      "['auto_view_side_18', 'auto_view_3_4_front_1', 'auto_view_front_7', 'auto_view_3_4_front_1', 'auto_view_side_18', 'auto_view_3_4_back_0']\n",
      "{'auto_view_side_18': 2, 'auto_view_3_4_front_1': 2, 'auto_view_front_7': 1, 'auto_view_3_4_back_0': 1}\n",
      "CAN_FOLLOW_STRICT\n",
      "False\n"
     ]
    }
   ],
   "source": [
    "classify_video_finished(l_racurses)"
   ]
  },
  {
   "cell_type": "code",
   "execution_count": 711,
   "metadata": {},
   "outputs": [],
   "source": [
    "# debug_folders(df_final[df_final.image_path.isin(unfinished_videos)])"
   ]
  },
  {
   "cell_type": "code",
   "execution_count": null,
   "metadata": {},
   "outputs": [],
   "source": []
  },
  {
   "cell_type": "markdown",
   "metadata": {},
   "source": [
    "### Analyze pictures from Anton"
   ]
  },
  {
   "cell_type": "code",
   "execution_count": 68,
   "metadata": {},
   "outputs": [],
   "source": [
    "all_files = glob.glob('racurses_images/*/*.png')"
   ]
  },
  {
   "cell_type": "code",
   "execution_count": 121,
   "metadata": {},
   "outputs": [],
   "source": [
    "def process_all_racurses(path_mask = 'racurses_images/*/*.png'):\n",
    "    all_files = glob.glob(path_mask)\n",
    "    all_results = []\n",
    "    i = 0\n",
    "    for file in all_files:\n",
    "        racurs, score = get_racurs_tf_lite_result(file)\n",
    "        res = {\n",
    "            'path': file,\n",
    "            'racurs': racurs,\n",
    "            'score': score\n",
    "        }\n",
    "        all_results.append(res)\n",
    "        i+=1\n",
    "#         if i > 10:\n",
    "#             break\n",
    "    return all_results\n",
    "    \n",
    "        \n",
    "    "
   ]
  },
  {
   "cell_type": "code",
   "execution_count": 88,
   "metadata": {},
   "outputs": [],
   "source": [
    "all_results = process_all_racurses()"
   ]
  },
  {
   "cell_type": "code",
   "execution_count": 93,
   "metadata": {},
   "outputs": [],
   "source": [
    "df = pd.DataFrame(all_results)"
   ]
  },
  {
   "cell_type": "code",
   "execution_count": 90,
   "metadata": {},
   "outputs": [
    {
     "data": {
      "text/html": [
       "<div>\n",
       "<style scoped>\n",
       "    .dataframe tbody tr th:only-of-type {\n",
       "        vertical-align: middle;\n",
       "    }\n",
       "\n",
       "    .dataframe tbody tr th {\n",
       "        vertical-align: top;\n",
       "    }\n",
       "\n",
       "    .dataframe thead th {\n",
       "        text-align: right;\n",
       "    }\n",
       "</style>\n",
       "<table border=\"1\" class=\"dataframe\">\n",
       "  <thead>\n",
       "    <tr style=\"text-align: right;\">\n",
       "      <th></th>\n",
       "      <th>path</th>\n",
       "      <th>racurs</th>\n",
       "      <th>score</th>\n",
       "    </tr>\n",
       "  </thead>\n",
       "  <tbody>\n",
       "    <tr>\n",
       "      <th>168</th>\n",
       "      <td>racurses_images/lada/00093.png</td>\n",
       "      <td>auto_view_3_4_back_0</td>\n",
       "      <td>131</td>\n",
       "    </tr>\n",
       "    <tr>\n",
       "      <th>205</th>\n",
       "      <td>racurses_images/iveco/00087.png</td>\n",
       "      <td>auto_view_front_7</td>\n",
       "      <td>169</td>\n",
       "    </tr>\n",
       "    <tr>\n",
       "      <th>258</th>\n",
       "      <td>racurses_images/iveco/00017.png</td>\n",
       "      <td>auto_view_side_18</td>\n",
       "      <td>94</td>\n",
       "    </tr>\n",
       "    <tr>\n",
       "      <th>0</th>\n",
       "      <td>racurses_images/RangeRoverWhiteNoPlates/00025.png</td>\n",
       "      <td>auto_view_side_18</td>\n",
       "      <td>133</td>\n",
       "    </tr>\n",
       "    <tr>\n",
       "      <th>125</th>\n",
       "      <td>racurses_images/lada/00047.png</td>\n",
       "      <td>auto_view_back_2</td>\n",
       "      <td>152</td>\n",
       "    </tr>\n",
       "    <tr>\n",
       "      <th>248</th>\n",
       "      <td>racurses_images/iveco/00091.png</td>\n",
       "      <td>auto_view_front_7</td>\n",
       "      <td>167</td>\n",
       "    </tr>\n",
       "    <tr>\n",
       "      <th>127</th>\n",
       "      <td>racurses_images/lada/00053.png</td>\n",
       "      <td>auto_view_back_2</td>\n",
       "      <td>192</td>\n",
       "    </tr>\n",
       "    <tr>\n",
       "      <th>110</th>\n",
       "      <td>racurses_images/lada/00082.png</td>\n",
       "      <td>auto_view_side_18</td>\n",
       "      <td>157</td>\n",
       "    </tr>\n",
       "    <tr>\n",
       "      <th>46</th>\n",
       "      <td>racurses_images/RangeRoverWhiteNoPlates/00000.png</td>\n",
       "      <td>auto_view_front_7</td>\n",
       "      <td>183</td>\n",
       "    </tr>\n",
       "    <tr>\n",
       "      <th>285</th>\n",
       "      <td>racurses_images/iveco/00057.png</td>\n",
       "      <td>auto_view_back_2</td>\n",
       "      <td>144</td>\n",
       "    </tr>\n",
       "  </tbody>\n",
       "</table>\n",
       "</div>"
      ],
      "text/plain": [
       "                                                  path                racurs  score\n",
       "168                     racurses_images/lada/00093.png  auto_view_3_4_back_0    131\n",
       "205                    racurses_images/iveco/00087.png     auto_view_front_7    169\n",
       "258                    racurses_images/iveco/00017.png     auto_view_side_18     94\n",
       "0    racurses_images/RangeRoverWhiteNoPlates/00025.png     auto_view_side_18    133\n",
       "125                     racurses_images/lada/00047.png      auto_view_back_2    152\n",
       "248                    racurses_images/iveco/00091.png     auto_view_front_7    167\n",
       "127                     racurses_images/lada/00053.png      auto_view_back_2    192\n",
       "110                     racurses_images/lada/00082.png     auto_view_side_18    157\n",
       "46   racurses_images/RangeRoverWhiteNoPlates/00000.png     auto_view_front_7    183\n",
       "285                    racurses_images/iveco/00057.png      auto_view_back_2    144"
      ]
     },
     "execution_count": 90,
     "metadata": {},
     "output_type": "execute_result"
    }
   ],
   "source": [
    "df.sample(10)"
   ]
  },
  {
   "cell_type": "code",
   "execution_count": 110,
   "metadata": {},
   "outputs": [],
   "source": [
    "path = 'racurses_images/RangeRoverWhiteNoPlates/00025.png'\n",
    "path = 'racurses_images/RangeRoverWhiteNoPlates/00050.png'\n",
    "path = 'racurses_images/RangeRoverWhiteNoPlates/00090.png'\n",
    "# iimage(path)"
   ]
  },
  {
   "cell_type": "markdown",
   "metadata": {},
   "source": [
    "### Show in html"
   ]
  },
  {
   "cell_type": "code",
   "execution_count": 94,
   "metadata": {},
   "outputs": [],
   "source": [
    "from IPython.display import HTML\n",
    "\n",
    "# df = pd.DataFrame(['<img src=\"racurses_images/RangeRoverWhiteNoPlates/00025.png\"/>', 'racurses_images/RangeRoverWhiteNoPlates/00050.png'], columns = ['Image'])\n",
    "\n",
    "# HTML(df.to_html(escape=False))\n",
    "df['Image'] = df['path'].map(lambda x: '<img src=\"' + x + '\"/>')"
   ]
  },
  {
   "cell_type": "code",
   "execution_count": 104,
   "metadata": {},
   "outputs": [],
   "source": [
    "# html_df = df.sample(30).to_html(escape=False)\n",
    "html_full_df = df.to_html(escape=False)"
   ]
  },
  {
   "cell_type": "code",
   "execution_count": 106,
   "metadata": {},
   "outputs": [
    {
     "data": {
      "text/plain": [
       "['path', 'racurs', 'score', 'Image']"
      ]
     },
     "execution_count": 106,
     "metadata": {},
     "output_type": "execute_result"
    }
   ],
   "source": [
    "list(df)"
   ]
  },
  {
   "cell_type": "code",
   "execution_count": 107,
   "metadata": {},
   "outputs": [],
   "source": [
    "cols = ['path', 'racurs', 'score']\n",
    "df[cols].to_csv('racurs_classifier_results.tsv', sep = '\\t', index = False)"
   ]
  },
  {
   "cell_type": "code",
   "execution_count": 108,
   "metadata": {},
   "outputs": [],
   "source": [
    "# HTML(html_df)"
   ]
  },
  {
   "cell_type": "code",
   "execution_count": 105,
   "metadata": {},
   "outputs": [],
   "source": [
    "# with open('html_result.html', 'w') as file:\n",
    "#     file.write(html_df)\n",
    "with open('html_full_result.html', 'w') as file:\n",
    "    file.write(html_full_df)"
   ]
  },
  {
   "cell_type": "markdown",
   "metadata": {},
   "source": [
    "### Analyze video from Anton"
   ]
  },
  {
   "cell_type": "code",
   "execution_count": 133,
   "metadata": {},
   "outputs": [],
   "source": [
    "# !ls racurses_images/"
   ]
  },
  {
   "cell_type": "code",
   "execution_count": 134,
   "metadata": {},
   "outputs": [],
   "source": [
    "# !mkdir racurses_images/merc_video"
   ]
  },
  {
   "cell_type": "code",
   "execution_count": 135,
   "metadata": {},
   "outputs": [],
   "source": [
    "# !ffmpeg -i racurses_images/fcebf650-c827-4090-9283-ddee79bffdfe.mp4 -r 3 racurses_images/merc_video/image_%05d.jpg"
   ]
  },
  {
   "cell_type": "code",
   "execution_count": 122,
   "metadata": {},
   "outputs": [],
   "source": [
    "all_results = process_all_racurses(path_mask='racurses_images/merc_video/*.jpg')"
   ]
  },
  {
   "cell_type": "code",
   "execution_count": 123,
   "metadata": {},
   "outputs": [],
   "source": [
    "df = pd.DataFrame(all_results)\n",
    "df[cols].to_csv('merc_video_classifier_results.tsv', sep = '\\t', index = False)"
   ]
  },
  {
   "cell_type": "code",
   "execution_count": 124,
   "metadata": {},
   "outputs": [
    {
     "data": {
      "text/html": [
       "<div>\n",
       "<style scoped>\n",
       "    .dataframe tbody tr th:only-of-type {\n",
       "        vertical-align: middle;\n",
       "    }\n",
       "\n",
       "    .dataframe tbody tr th {\n",
       "        vertical-align: top;\n",
       "    }\n",
       "\n",
       "    .dataframe thead th {\n",
       "        text-align: right;\n",
       "    }\n",
       "</style>\n",
       "<table border=\"1\" class=\"dataframe\">\n",
       "  <thead>\n",
       "    <tr style=\"text-align: right;\">\n",
       "      <th></th>\n",
       "      <th>path</th>\n",
       "      <th>racurs</th>\n",
       "      <th>score</th>\n",
       "    </tr>\n",
       "  </thead>\n",
       "  <tbody>\n",
       "    <tr>\n",
       "      <th>40</th>\n",
       "      <td>racurses_images/merc_video/image_00191.jpg</td>\n",
       "      <td>auto_view_side_18</td>\n",
       "      <td>160</td>\n",
       "    </tr>\n",
       "    <tr>\n",
       "      <th>20</th>\n",
       "      <td>racurses_images/merc_video/image_00062.jpg</td>\n",
       "      <td>auto_view_back_2</td>\n",
       "      <td>139</td>\n",
       "    </tr>\n",
       "    <tr>\n",
       "      <th>210</th>\n",
       "      <td>racurses_images/merc_video/image_00057.jpg</td>\n",
       "      <td>auto_view_back_2</td>\n",
       "      <td>117</td>\n",
       "    </tr>\n",
       "    <tr>\n",
       "      <th>157</th>\n",
       "      <td>racurses_images/merc_video/image_00208.jpg</td>\n",
       "      <td>auto_view_side_18</td>\n",
       "      <td>125</td>\n",
       "    </tr>\n",
       "    <tr>\n",
       "      <th>261</th>\n",
       "      <td>racurses_images/merc_video/image_00111.jpg</td>\n",
       "      <td>auto_view_side_18</td>\n",
       "      <td>125</td>\n",
       "    </tr>\n",
       "    <tr>\n",
       "      <th>10</th>\n",
       "      <td>racurses_images/merc_video/image_00107.jpg</td>\n",
       "      <td>auto_view_side_18</td>\n",
       "      <td>120</td>\n",
       "    </tr>\n",
       "    <tr>\n",
       "      <th>38</th>\n",
       "      <td>racurses_images/merc_video/image_00217.jpg</td>\n",
       "      <td>auto_view_back_2</td>\n",
       "      <td>167</td>\n",
       "    </tr>\n",
       "    <tr>\n",
       "      <th>256</th>\n",
       "      <td>racurses_images/merc_video/image_00196.jpg</td>\n",
       "      <td>auto_view_side_18</td>\n",
       "      <td>162</td>\n",
       "    </tr>\n",
       "    <tr>\n",
       "      <th>183</th>\n",
       "      <td>racurses_images/merc_video/image_00024.jpg</td>\n",
       "      <td>auto_view_3_4_front_1</td>\n",
       "      <td>167</td>\n",
       "    </tr>\n",
       "    <tr>\n",
       "      <th>53</th>\n",
       "      <td>racurses_images/merc_video/image_00085.jpg</td>\n",
       "      <td>auto_view_3_4_front_1</td>\n",
       "      <td>107</td>\n",
       "    </tr>\n",
       "  </tbody>\n",
       "</table>\n",
       "</div>"
      ],
      "text/plain": [
       "                                           path                 racurs  score\n",
       "40   racurses_images/merc_video/image_00191.jpg      auto_view_side_18    160\n",
       "20   racurses_images/merc_video/image_00062.jpg       auto_view_back_2    139\n",
       "210  racurses_images/merc_video/image_00057.jpg       auto_view_back_2    117\n",
       "157  racurses_images/merc_video/image_00208.jpg      auto_view_side_18    125\n",
       "261  racurses_images/merc_video/image_00111.jpg      auto_view_side_18    125\n",
       "10   racurses_images/merc_video/image_00107.jpg      auto_view_side_18    120\n",
       "38   racurses_images/merc_video/image_00217.jpg       auto_view_back_2    167\n",
       "256  racurses_images/merc_video/image_00196.jpg      auto_view_side_18    162\n",
       "183  racurses_images/merc_video/image_00024.jpg  auto_view_3_4_front_1    167\n",
       "53   racurses_images/merc_video/image_00085.jpg  auto_view_3_4_front_1    107"
      ]
     },
     "execution_count": 124,
     "metadata": {},
     "output_type": "execute_result"
    }
   ],
   "source": [
    "df[cols].sample(10)"
   ]
  },
  {
   "cell_type": "code",
   "execution_count": 130,
   "metadata": {},
   "outputs": [
    {
     "data": {
      "text/plain": [
       "auto_view_side_18        101\n",
       "auto_view_3_4_front_1     83\n",
       "auto_view_front_7         44\n",
       "auto_view_back_2          41\n",
       "auto_view_3_4_back_0       3\n",
       "Name: racurs, dtype: int64"
      ]
     },
     "execution_count": 130,
     "metadata": {},
     "output_type": "execute_result"
    }
   ],
   "source": [
    "df.racurs.value_counts()"
   ]
  },
  {
   "cell_type": "code",
   "execution_count": 125,
   "metadata": {},
   "outputs": [],
   "source": [
    "df['Image'] = df['path'].map(lambda x: '<img src=\"' + x + '\"/>')"
   ]
  },
  {
   "cell_type": "code",
   "execution_count": 126,
   "metadata": {},
   "outputs": [],
   "source": [
    "s_html_df = df.sample(30).to_html(escape=False)"
   ]
  },
  {
   "cell_type": "code",
   "execution_count": 132,
   "metadata": {},
   "outputs": [],
   "source": [
    "# HTML(s_html_df)"
   ]
  },
  {
   "cell_type": "code",
   "execution_count": 128,
   "metadata": {},
   "outputs": [],
   "source": [
    "html_full_df = df.to_html(escape=False)"
   ]
  },
  {
   "cell_type": "code",
   "execution_count": 129,
   "metadata": {},
   "outputs": [],
   "source": [
    "with open('html_full_result_merc_video.html', 'w') as file:\n",
    "    file.write(html_full_df)"
   ]
  },
  {
   "cell_type": "code",
   "execution_count": null,
   "metadata": {},
   "outputs": [],
   "source": []
  }
 ],
 "metadata": {
  "kernelspec": {
   "display_name": "Python 3",
   "language": "python",
   "name": "python3"
  },
  "language_info": {
   "codemirror_mode": {
    "name": "ipython",
    "version": 3
   },
   "file_extension": ".py",
   "mimetype": "text/x-python",
   "name": "python",
   "nbconvert_exporter": "python",
   "pygments_lexer": "ipython3",
   "version": "3.6.10"
  }
 },
 "nbformat": 4,
 "nbformat_minor": 4
}
