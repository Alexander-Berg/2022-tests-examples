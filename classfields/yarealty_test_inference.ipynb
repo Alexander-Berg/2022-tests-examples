{
 "cells": [
  {
   "cell_type": "markdown",
   "id": "406746bf",
   "metadata": {},
   "source": [
    "## DATA"
   ]
  },
  {
   "cell_type": "code",
   "execution_count": 1,
   "id": "1b74d403",
   "metadata": {},
   "outputs": [],
   "source": [
    "# https://nirvana.yandex-team.ru/flow/73004777-a701-43c5-8707-6f1adfb8402b/c36b1394-d342-46c8-925c-595d66a359d4/graph/FlowchartEndpoint/f95c783d-bd0e-447f-82b6-56fb87fe0618\n",
    "yt_path = \"//home/verticals/.tmp/realty/price_estimator/price_estimator_pool/catboost_yt_table__LosFeau8R1KFOrnjhgNGQQ\""
   ]
  },
  {
   "cell_type": "code",
   "execution_count": 2,
   "id": "aa76c6fc",
   "metadata": {
    "scrolled": true
   },
   "outputs": [
    {
     "name": "stdout",
     "output_type": "stream",
     "text": [
      "                                                                                \r"
     ]
    }
   ],
   "source": [
    "!yt --proxy hahn read $yt_path --format='<columns=[key;value]; enable_column_names_header=%true; missing_value_mode=print_sentinel; missing_value_sentinel=\"\">schemaful_dsv' > ya_realty_test_pool2.tsv\n",
    " "
   ]
  },
  {
   "cell_type": "code",
   "execution_count": 3,
   "id": "67e79430",
   "metadata": {},
   "outputs": [],
   "source": [
    "# https://nirvana.yandex-team.ru/flow/73004777-a701-43c5-8707-6f1adfb8402b/c36b1394-d342-46c8-925c-595d66a359d4/graph/FlowchartEndpoint/a6dee0dd-189a-46fa-bc0c-7bcb46f1e779\n",
    "yt_path = \" //home/verticals/.tmp/realty/price_estimator/output1__qednqyThSWO1L7efJQUpDg\""
   ]
  },
  {
   "cell_type": "code",
   "execution_count": 4,
   "id": "cadef46f",
   "metadata": {
    "scrolled": true
   },
   "outputs": [
    {
     "name": "stdout",
     "output_type": "stream",
     "text": [
      "                                                                       \r"
     ]
    }
   ],
   "source": [
    "!yt --proxy hahn read $yt_path --format='<columns=[offer_id;unified_address]; enable_column_names_header=%true; missing_value_mode=print_sentinel; missing_value_sentinel=\"\">schemaful_dsv' > ya_realty_test_address2.tsv\n",
    " "
   ]
  },
  {
   "cell_type": "markdown",
   "id": "bdd9cd70",
   "metadata": {},
   "source": [
    "## IMPORT"
   ]
  },
  {
   "cell_type": "code",
   "execution_count": 1,
   "id": "5d30d2e3",
   "metadata": {},
   "outputs": [],
   "source": [
    "import pandas as pd\n",
    "import numpy as np"
   ]
  },
  {
   "cell_type": "code",
   "execution_count": 2,
   "id": "0c5aa369",
   "metadata": {},
   "outputs": [],
   "source": [
    "import json"
   ]
  },
  {
   "cell_type": "code",
   "execution_count": 3,
   "id": "2bd2d21e",
   "metadata": {},
   "outputs": [],
   "source": [
    "from catboost import CatBoostRegressor"
   ]
  },
  {
   "cell_type": "code",
   "execution_count": 4,
   "id": "a2fea339",
   "metadata": {},
   "outputs": [],
   "source": [
    "import sys\n",
    "import subprocess"
   ]
  },
  {
   "cell_type": "code",
   "execution_count": 8,
   "id": "d4eb29f6",
   "metadata": {},
   "outputs": [],
   "source": [
    "sys.path.insert(0, \"../../vertis-ml/realty/price_estimator/price-estimator-rest-api\")\n",
    "sys.path.insert(0, \"../../vertis-ml/realty/price_estimator/price-estimator-rest-api/proto\")"
   ]
  },
  {
   "cell_type": "code",
   "execution_count": 9,
   "id": "98419744",
   "metadata": {},
   "outputs": [],
   "source": [
    "from proto.realty.offer import RealtySchema_pb2\n",
    "from realty.prediction.price_prediction_pb2 import PricePredictionResponse, PricePredictionLandingRequest"
   ]
  },
  {
   "cell_type": "markdown",
   "id": "960dd085",
   "metadata": {},
   "source": [
    "## FUNC"
   ]
  },
  {
   "cell_type": "code",
   "execution_count": 23,
   "id": "46993dd1",
   "metadata": {},
   "outputs": [],
   "source": [
    "def get_service_prediction(row, offer_id, unified_address):\n",
    "    message = RealtySchema_pb2.OfferMessage(\n",
    "        offer_id=offer_id,\n",
    "        apartmentInfo=RealtySchema_pb2.ApartmentInfoMessage(\n",
    "            apartment=\"apartment\" if row[\"is_apartment\"] == \"True\" else \"\",\n",
    "            studio=row[\"studio\"] == \"True\",\n",
    "            floors=[int(row[\"floor\"])],\n",
    "            ceilingHeight=row[\"ceiling_height\"],\n",
    "            roomsOffered=int(row[\"rooms_offered\"]),\n",
    "            rooms=int(row[\"rooms\"]),\n",
    "            balconyInt=int(row[\"balcony\"]),\n",
    "            renovationInt=int(row[\"renovation\"]),\n",
    "            flatTypeInt=int(row[\"flat_type\"])\n",
    "        ),\n",
    "        offerTypeInt=2,\n",
    "        categoryTypeInt=2,\n",
    "        buildingInfo=RealtySchema_pb2.BuildingInfoMessage(\n",
    "            floorsTotal=int(row[\"floors_total\"]),\n",
    "            buildingId=int(row[\"building_id\"]),\n",
    "            buildYear=int(row[\"build_year\"]),\n",
    "            buildingSeriesId=int(row[\"building_series_id\"]),\n",
    "            expectDemolition=row[\"expect_demolition\"] == \"True\",\n",
    "            parkingTypeInt=int(row[\"parking\"]),\n",
    "            buildingTypeInt=int(row[\"building_type\"]),\n",
    "            flatsCount=int(row[\"flats_count\"]),\n",
    "            site_id=int(row[\"site_id\"]),\n",
    "    #         has_elevator=??\n",
    "        ),\n",
    "        location=RealtySchema_pb2.LocationMessage(\n",
    "            localityName=row[\"locality_name\"],\n",
    "            subjectFederationId=int(row[\"subject_federation_id\"]),\n",
    "    #         regionGraphId=message.location.regionGraphId,\n",
    "            geocoderAddress=unified_address,\n",
    "            geocoderPoint=RealtySchema_pb2.GeoPointMessage(\n",
    "                latitude=row[\"lat\"],\n",
    "                longitude=row[\"lon\"]\n",
    "            )\n",
    "        ),\n",
    "    #     lotInfo=RealtySchema_pb2.LotInfoMessage(\n",
    "    #         lotArea=RealtySchema_pb2.AreaInfoMessage(\n",
    "    #             unitInt=message.lotInfo.lotArea.unitInt,\n",
    "    #             value=message.lotInfo.lotArea.value\n",
    "    #         ),\n",
    "    #         lotTypeInt=message.lotInfo.lotTypeInt\n",
    "    #     ),\n",
    "        houseInfo=RealtySchema_pb2.HouseInfoMessage(\n",
    "    #         pmg=message.houseInfo.pmg,\n",
    "    #         houseTypeInt=message.houseInfo.houseTypeInt,\n",
    "            livingSpace=row[\"living_area\"],\n",
    "            kitchenSpace=row[\"kitchen_area\"]\n",
    "        ),\n",
    "        area=RealtySchema_pb2.AreaInfoMessage(value=row[\"total_area\"]),\n",
    "        transaction=RealtySchema_pb2.TransactionMessage(\n",
    "            area=RealtySchema_pb2.AreaInfoMessage(value=row[\"area\"])\n",
    "        )\n",
    "    )\n",
    "\n",
    "    result = message.SerializeToString()\n",
    "\n",
    "    request_filepath='proto.request.example.binary'\n",
    "    with open(request_filepath, 'w+b') as file:\n",
    "        file.write(result)\n",
    "\n",
    "    response_filepath='proto.response.rent.example.binary'\n",
    "\n",
    "    curl_call_string = f\"\"\"\n",
    "    curl -s --header \"Content-Type: application/protobuf\" --request POST \\\n",
    "        --data-binary @{request_filepath} \\\n",
    "        http://localhost:8895/api/v2/get_price_offer > {response_filepath}\n",
    "    \"\"\"\n",
    "\n",
    "    subprocess.check_call(curl_call_string, shell=True)\n",
    "\n",
    "\n",
    "    price_resp = PricePredictionResponse()\n",
    "    with open(response_filepath, 'r+b') as read_file:\n",
    "        binary_string = read_file.read()\n",
    "    price_resp.ParseFromString(binary_string)\n",
    "    return price_resp.predicted_price.value"
   ]
  },
  {
   "cell_type": "markdown",
   "id": "cff824ab",
   "metadata": {},
   "source": [
    "## CODE"
   ]
  },
  {
   "cell_type": "markdown",
   "id": "720fef62",
   "metadata": {},
   "source": [
    "данные"
   ]
  },
  {
   "cell_type": "code",
   "execution_count": 10,
   "id": "01a6cc7e",
   "metadata": {},
   "outputs": [],
   "source": [
    "df_raw = pd.read_csv(\"ya_realty_test_pool2.tsv\", sep=\"\\t\")"
   ]
  },
  {
   "cell_type": "code",
   "execution_count": 11,
   "id": "b15cb967",
   "metadata": {},
   "outputs": [],
   "source": [
    "df_address = pd.read_csv(\"ya_realty_test_address2.tsv\", sep=\"\\t\")"
   ]
  },
  {
   "cell_type": "code",
   "execution_count": 12,
   "id": "cb672236",
   "metadata": {},
   "outputs": [],
   "source": [
    "unified_address_dict = df_address.set_index(\"offer_id\")[\"unified_address\"].to_dict()"
   ]
  },
  {
   "cell_type": "markdown",
   "id": "2bc4df7a",
   "metadata": {},
   "source": [
    "моделька"
   ]
  },
  {
   "cell_type": "code",
   "execution_count": 13,
   "id": "7c631755",
   "metadata": {},
   "outputs": [],
   "source": [
    "model_path = \"rent_apartment.cbm\""
   ]
  },
  {
   "cell_type": "code",
   "execution_count": 14,
   "id": "647af4d8",
   "metadata": {},
   "outputs": [],
   "source": [
    "cat = CatBoostRegressor().load_model(model_path, format='cbm')"
   ]
  },
  {
   "cell_type": "code",
   "execution_count": 15,
   "id": "3dba9c66",
   "metadata": {},
   "outputs": [],
   "source": [
    "model_factors = cat.feature_names_\n",
    "num_features = model_factors[:cat.get_cat_feature_indices()[0]]\n",
    "cat_features = [model_factors[ind] for ind in cat.get_cat_feature_indices()]"
   ]
  },
  {
   "cell_type": "markdown",
   "id": "e27e2695",
   "metadata": {},
   "source": [
    "форматирование"
   ]
  },
  {
   "cell_type": "code",
   "execution_count": 16,
   "id": "bb8dd823",
   "metadata": {},
   "outputs": [],
   "source": [
    "df_vals = df_raw[\"value\"].str.split(r\"\\\\t\").apply(pd.Series)"
   ]
  },
  {
   "cell_type": "code",
   "execution_count": 17,
   "id": "677ef5c9",
   "metadata": {},
   "outputs": [],
   "source": [
    "df_vals.columns = [\"target\", \"id\"] + model_factors + [\"offer_id\"]"
   ]
  },
  {
   "cell_type": "code",
   "execution_count": 22,
   "id": "d14a3bc9",
   "metadata": {},
   "outputs": [],
   "source": [
    "for col in num_features:\n",
    "    df_vals[col] = df_vals[col].astype(\"float\")"
   ]
  },
  {
   "cell_type": "code",
   "execution_count": 18,
   "id": "f12be58b",
   "metadata": {},
   "outputs": [
    {
     "data": {
      "text/html": [
       "<div>\n",
       "<style scoped>\n",
       "    .dataframe tbody tr th:only-of-type {\n",
       "        vertical-align: middle;\n",
       "    }\n",
       "\n",
       "    .dataframe tbody tr th {\n",
       "        vertical-align: top;\n",
       "    }\n",
       "\n",
       "    .dataframe thead th {\n",
       "        text-align: right;\n",
       "    }\n",
       "</style>\n",
       "<table border=\"1\" class=\"dataframe\">\n",
       "  <thead>\n",
       "    <tr style=\"text-align: right;\">\n",
       "      <th></th>\n",
       "      <th>target</th>\n",
       "      <th>id</th>\n",
       "      <th>area</th>\n",
       "      <th>balcony</th>\n",
       "      <th>build_year</th>\n",
       "      <th>ceiling_height</th>\n",
       "      <th>flats_count</th>\n",
       "      <th>floors_total</th>\n",
       "      <th>total_area</th>\n",
       "      <th>living_area</th>\n",
       "      <th>...</th>\n",
       "      <th>city_quadkey</th>\n",
       "      <th>region_quadkey</th>\n",
       "      <th>building_id</th>\n",
       "      <th>building_series_id</th>\n",
       "      <th>building_type</th>\n",
       "      <th>parking</th>\n",
       "      <th>site_id</th>\n",
       "      <th>renovation</th>\n",
       "      <th>studio</th>\n",
       "      <th>offer_id</th>\n",
       "    </tr>\n",
       "  </thead>\n",
       "  <tbody>\n",
       "    <tr>\n",
       "      <th>0</th>\n",
       "      <td>10.9681982895</td>\n",
       "      <td>2857917760913822208</td>\n",
       "      <td>64.0999984741</td>\n",
       "      <td>2</td>\n",
       "      <td>2009</td>\n",
       "      <td>3.0</td>\n",
       "      <td>0</td>\n",
       "      <td>23</td>\n",
       "      <td>64.0999984741</td>\n",
       "      <td>0.0</td>\n",
       "      <td>...</td>\n",
       "      <td>120310101020331</td>\n",
       "      <td>12031010102</td>\n",
       "      <td>3353672915864373485</td>\n",
       "      <td>1564812</td>\n",
       "      <td>2</td>\n",
       "      <td>8</td>\n",
       "      <td>0</td>\n",
       "      <td>7</td>\n",
       "      <td>False</td>\n",
       "      <td>2857917760913822208</td>\n",
       "    </tr>\n",
       "    <tr>\n",
       "      <th>1</th>\n",
       "      <td>10.0732303271</td>\n",
       "      <td>5883724591748225536</td>\n",
       "      <td>36.0</td>\n",
       "      <td>0</td>\n",
       "      <td>1984</td>\n",
       "      <td>2.59999990463</td>\n",
       "      <td>357</td>\n",
       "      <td>12</td>\n",
       "      <td>36.0</td>\n",
       "      <td>0.0</td>\n",
       "      <td>...</td>\n",
       "      <td>120121213030311</td>\n",
       "      <td>12012121303</td>\n",
       "      <td>2264734232811879417</td>\n",
       "      <td>1564801</td>\n",
       "      <td>4</td>\n",
       "      <td>8</td>\n",
       "      <td>0</td>\n",
       "      <td>7</td>\n",
       "      <td>False</td>\n",
       "      <td>5883724591748225536</td>\n",
       "    </tr>\n",
       "    <tr>\n",
       "      <th>2</th>\n",
       "      <td>10.8473934514</td>\n",
       "      <td>5265555201340415488</td>\n",
       "      <td>89.0</td>\n",
       "      <td>1</td>\n",
       "      <td>2004</td>\n",
       "      <td>0.0</td>\n",
       "      <td>0</td>\n",
       "      <td>7</td>\n",
       "      <td>89.0</td>\n",
       "      <td>0.0</td>\n",
       "      <td>...</td>\n",
       "      <td>120121213002021</td>\n",
       "      <td>12012121300</td>\n",
       "      <td>7912817987187760803</td>\n",
       "      <td>1564796</td>\n",
       "      <td>4</td>\n",
       "      <td>8</td>\n",
       "      <td>0</td>\n",
       "      <td>10</td>\n",
       "      <td>False</td>\n",
       "      <td>5265555201340415488</td>\n",
       "    </tr>\n",
       "    <tr>\n",
       "      <th>3</th>\n",
       "      <td>11.2897819137</td>\n",
       "      <td>5249989827891051264</td>\n",
       "      <td>67.6999969482</td>\n",
       "      <td>0</td>\n",
       "      <td>1955</td>\n",
       "      <td>3.0</td>\n",
       "      <td>331</td>\n",
       "      <td>16</td>\n",
       "      <td>67.6999969482</td>\n",
       "      <td>0.0</td>\n",
       "      <td>...</td>\n",
       "      <td>120310101120232</td>\n",
       "      <td>12031010112</td>\n",
       "      <td>1511878177171436665</td>\n",
       "      <td>1564812</td>\n",
       "      <td>1</td>\n",
       "      <td>8</td>\n",
       "      <td>0</td>\n",
       "      <td>7</td>\n",
       "      <td>False</td>\n",
       "      <td>5249989827891051264</td>\n",
       "    </tr>\n",
       "    <tr>\n",
       "      <th>4</th>\n",
       "      <td>11.1633679888</td>\n",
       "      <td>3160350346613730304</td>\n",
       "      <td>67.0</td>\n",
       "      <td>1</td>\n",
       "      <td>1958</td>\n",
       "      <td>3.0</td>\n",
       "      <td>112</td>\n",
       "      <td>8</td>\n",
       "      <td>67.0</td>\n",
       "      <td>0.0</td>\n",
       "      <td>...</td>\n",
       "      <td>120310101120213</td>\n",
       "      <td>12031010112</td>\n",
       "      <td>7986709337320943660</td>\n",
       "      <td>1564812</td>\n",
       "      <td>1</td>\n",
       "      <td>8</td>\n",
       "      <td>0</td>\n",
       "      <td>7</td>\n",
       "      <td>False</td>\n",
       "      <td>3160350346613730304</td>\n",
       "    </tr>\n",
       "  </tbody>\n",
       "</table>\n",
       "<p>5 rows × 89 columns</p>\n",
       "</div>"
      ],
      "text/plain": [
       "          target                   id           area balcony build_year  \\\n",
       "0  10.9681982895  2857917760913822208  64.0999984741       2       2009   \n",
       "1  10.0732303271  5883724591748225536           36.0       0       1984   \n",
       "2  10.8473934514  5265555201340415488           89.0       1       2004   \n",
       "3  11.2897819137  5249989827891051264  67.6999969482       0       1955   \n",
       "4  11.1633679888  3160350346613730304           67.0       1       1958   \n",
       "\n",
       "  ceiling_height flats_count floors_total     total_area living_area  ...  \\\n",
       "0            3.0           0           23  64.0999984741         0.0  ...   \n",
       "1  2.59999990463         357           12           36.0         0.0  ...   \n",
       "2            0.0           0            7           89.0         0.0  ...   \n",
       "3            3.0         331           16  67.6999969482         0.0  ...   \n",
       "4            3.0         112            8           67.0         0.0  ...   \n",
       "\n",
       "      city_quadkey region_quadkey          building_id building_series_id  \\\n",
       "0  120310101020331    12031010102  3353672915864373485            1564812   \n",
       "1  120121213030311    12012121303  2264734232811879417            1564801   \n",
       "2  120121213002021    12012121300  7912817987187760803            1564796   \n",
       "3  120310101120232    12031010112  1511878177171436665            1564812   \n",
       "4  120310101120213    12031010112  7986709337320943660            1564812   \n",
       "\n",
       "  building_type parking site_id renovation studio             offer_id  \n",
       "0             2       8       0          7  False  2857917760913822208  \n",
       "1             4       8       0          7  False  5883724591748225536  \n",
       "2             4       8       0         10  False  5265555201340415488  \n",
       "3             1       8       0          7  False  5249989827891051264  \n",
       "4             1       8       0          7  False  3160350346613730304  \n",
       "\n",
       "[5 rows x 89 columns]"
      ]
     },
     "execution_count": 18,
     "metadata": {},
     "output_type": "execute_result"
    }
   ],
   "source": [
    "df_vals.head()"
   ]
  },
  {
   "cell_type": "markdown",
   "id": "d017ebc4",
   "metadata": {},
   "source": [
    "### 1 check service"
   ]
  },
  {
   "cell_type": "code",
   "execution_count": 24,
   "id": "b53a4df1",
   "metadata": {},
   "outputs": [],
   "source": [
    "results = []\n",
    "for i,row in df_vals.iterrows():\n",
    "    offer_id = row[\"offer_id\"]\n",
    "    unified_address = unified_address_dict[int(offer_id)]\n",
    "    prediction = get_service_prediction(row, offer_id, unified_address)\n",
    "    results.append(prediction)"
   ]
  },
  {
   "cell_type": "code",
   "execution_count": 46,
   "id": "e8ee8586",
   "metadata": {},
   "outputs": [],
   "source": [
    "preds = np.array(results)"
   ]
  },
  {
   "cell_type": "code",
   "execution_count": 84,
   "id": "a2f5a2ee",
   "metadata": {},
   "outputs": [],
   "source": [
    "y_true = np.exp(df_vals[\"target\"].values.astype(\"float\"))"
   ]
  },
  {
   "cell_type": "code",
   "execution_count": 85,
   "id": "9bbfff9b",
   "metadata": {
    "scrolled": true
   },
   "outputs": [
    {
     "data": {
      "text/plain": [
       "0.171077255987295"
      ]
     },
     "execution_count": 85,
     "metadata": {},
     "output_type": "execute_result"
    }
   ],
   "source": [
    "np.mean(np.abs(y_true - preds) / y_true)"
   ]
  },
  {
   "cell_type": "markdown",
   "id": "ca976858",
   "metadata": {},
   "source": [
    "### 2 check local model"
   ]
  },
  {
   "cell_type": "code",
   "execution_count": 77,
   "id": "2c508bf5",
   "metadata": {},
   "outputs": [],
   "source": [
    "preds = np.exp(cat.predict(df_vals[model_factors]))"
   ]
  },
  {
   "cell_type": "code",
   "execution_count": 78,
   "id": "49c29c84",
   "metadata": {},
   "outputs": [],
   "source": [
    "y_true = np.exp(df_vals[\"target\"].values.astype(\"float\"))"
   ]
  },
  {
   "cell_type": "code",
   "execution_count": 79,
   "id": "a792a2c7",
   "metadata": {},
   "outputs": [
    {
     "data": {
      "text/plain": [
       "0.17322823479871527"
      ]
     },
     "execution_count": 79,
     "metadata": {},
     "output_type": "execute_result"
    }
   ],
   "source": [
    "np.mean(np.abs(y_true - preds) / y_true)"
   ]
  },
  {
   "cell_type": "markdown",
   "id": "f206464a",
   "metadata": {},
   "source": [
    "in [nirvana graph](https://nirvana.yandex-team.ru/flow/73004777-a701-43c5-8707-6f1adfb8402b/c36b1394-d342-46c8-925c-595d66a359d4/graph/FlowchartEndpoint/3a657c8b-3068-401e-be60-79b6f99e547f):\n",
    "```json\n",
    "{ \"MAPE\": 0.1732282343612464 }\n",
    "```"
   ]
  },
  {
   "cell_type": "markdown",
   "id": "26252ceb",
   "metadata": {},
   "source": [
    "разница засчет округления ответа модели до 1000 и квантизации параметров в протобафе"
   ]
  },
  {
   "cell_type": "markdown",
   "id": "5f76d56e",
   "metadata": {},
   "source": [
    "### 3 service price -7%"
   ]
  },
  {
   "cell_type": "code",
   "execution_count": 80,
   "id": "6bf3dfc2",
   "metadata": {},
   "outputs": [],
   "source": [
    "preds = np.array(results)"
   ]
  },
  {
   "cell_type": "code",
   "execution_count": 81,
   "id": "69894954",
   "metadata": {},
   "outputs": [],
   "source": [
    "y_true = np.exp(df_vals[\"target\"].values.astype(\"float\")) * 0.93"
   ]
  },
  {
   "cell_type": "code",
   "execution_count": 82,
   "id": "7d963107",
   "metadata": {},
   "outputs": [
    {
     "data": {
      "text/plain": [
       "0.12397075013890277"
      ]
     },
     "execution_count": 82,
     "metadata": {},
     "output_type": "execute_result"
    }
   ],
   "source": [
    "np.mean(np.abs(y_true - preds) / y_true)"
   ]
  },
  {
   "cell_type": "markdown",
   "id": "5d2d397b",
   "metadata": {},
   "source": [
    "### 4 local model - 7%"
   ]
  },
  {
   "cell_type": "code",
   "execution_count": 51,
   "id": "c333eaa8",
   "metadata": {},
   "outputs": [],
   "source": [
    "preds = np.exp(cat.predict(df_vals[model_factors]))"
   ]
  },
  {
   "cell_type": "code",
   "execution_count": 49,
   "id": "fd507b3f",
   "metadata": {},
   "outputs": [],
   "source": [
    "y_true = np.exp(df_vals[\"target\"].values.astype(\"float\")) * 0.93"
   ]
  },
  {
   "cell_type": "code",
   "execution_count": 52,
   "id": "4b5ba1cd",
   "metadata": {},
   "outputs": [
    {
     "data": {
      "text/plain": [
       "0.12587567008841727"
      ]
     },
     "execution_count": 52,
     "metadata": {},
     "output_type": "execute_result"
    }
   ],
   "source": [
    "np.mean(np.abs(y_true - preds) / y_true)"
   ]
  },
  {
   "cell_type": "markdown",
   "id": "7d6f87f7",
   "metadata": {},
   "source": [
    "### 5 not rounded (only float -> int)"
   ]
  },
  {
   "cell_type": "code",
   "execution_count": 30,
   "id": "d954dcf1",
   "metadata": {},
   "outputs": [],
   "source": [
    "# @staticmethod\n",
    "# def round_to_1000(val: float) -> int:\n",
    "#     return int(val)"
   ]
  },
  {
   "cell_type": "code",
   "execution_count": 31,
   "id": "863ecb4d",
   "metadata": {},
   "outputs": [],
   "source": [
    "results = []\n",
    "for i,row in df_vals.iterrows():\n",
    "    offer_id = row[\"offer_id\"]\n",
    "    unified_address = unified_address_dict[int(offer_id)]\n",
    "    prediction = get_service_prediction(row, offer_id, unified_address)\n",
    "    results.append(prediction)"
   ]
  },
  {
   "cell_type": "code",
   "execution_count": 32,
   "id": "bfa9e898",
   "metadata": {},
   "outputs": [],
   "source": [
    "preds = np.array(results)"
   ]
  },
  {
   "cell_type": "code",
   "execution_count": 33,
   "id": "a34594e3",
   "metadata": {
    "scrolled": true
   },
   "outputs": [
    {
     "data": {
      "text/plain": [
       "0.17247710268846855"
      ]
     },
     "execution_count": 33,
     "metadata": {},
     "output_type": "execute_result"
    }
   ],
   "source": [
    "np.mean(np.abs(y_true - preds) / y_true)"
   ]
  },
  {
   "cell_type": "markdown",
   "id": "cf45dce9",
   "metadata": {},
   "source": [
    "### 6  add 10% to not rounded (only float -> int)"
   ]
  },
  {
   "cell_type": "code",
   "execution_count": 34,
   "id": "f6ce2253",
   "metadata": {},
   "outputs": [],
   "source": [
    "preds = preds * 1.1"
   ]
  },
  {
   "cell_type": "code",
   "execution_count": 35,
   "id": "94736419",
   "metadata": {
    "scrolled": false
   },
   "outputs": [
    {
     "data": {
      "text/plain": [
       "0.1138863500674254"
      ]
     },
     "execution_count": 35,
     "metadata": {},
     "output_type": "execute_result"
    }
   ],
   "source": [
    "np.mean(np.abs(y_true - preds) / y_true)"
   ]
  },
  {
   "cell_type": "markdown",
   "id": "3d019364",
   "metadata": {},
   "source": [
    "### 7 add 10% to service predictions"
   ]
  },
  {
   "cell_type": "code",
   "execution_count": 37,
   "id": "69af07ea",
   "metadata": {},
   "outputs": [],
   "source": [
    "# @staticmethod\n",
    "# def round_to_1000(val: float) -> int:\n",
    "#     return max(1000, int((val * 1.1 + 500) / 1000) * 1000)"
   ]
  },
  {
   "cell_type": "code",
   "execution_count": 38,
   "id": "e53d127d",
   "metadata": {},
   "outputs": [],
   "source": [
    "results = []\n",
    "for i,row in df_vals.iterrows():\n",
    "    offer_id = row[\"offer_id\"]\n",
    "    unified_address = unified_address_dict[int(offer_id)]\n",
    "    prediction = get_service_prediction(row, offer_id, unified_address)\n",
    "    results.append(prediction)"
   ]
  },
  {
   "cell_type": "code",
   "execution_count": 39,
   "id": "0ad5e98a",
   "metadata": {},
   "outputs": [],
   "source": [
    "preds = np.array(results) # * 1.1 (on service side)"
   ]
  },
  {
   "cell_type": "code",
   "execution_count": 40,
   "id": "d67e1863",
   "metadata": {
    "scrolled": false
   },
   "outputs": [
    {
     "data": {
      "text/plain": [
       "0.11370035603837014"
      ]
     },
     "execution_count": 40,
     "metadata": {},
     "output_type": "execute_result"
    }
   ],
   "source": [
    "np.mean(np.abs(y_true - preds) / y_true)"
   ]
  },
  {
   "cell_type": "markdown",
   "id": "dad5fde9",
   "metadata": {},
   "source": [
    "## check target drift"
   ]
  },
  {
   "cell_type": "code",
   "execution_count": 53,
   "id": "1861eead",
   "metadata": {},
   "outputs": [],
   "source": [
    "# https://nirvana.yandex-team.ru/flow/0dcedc37-d394-459a-8af1-2fd25e6b8fbb/35a665fe-7d39-40d8-94f3-39786189917f/graph/FlowchartEndpoint/73bc9ba4-d0ae-4d62-be14-cc9ea7b88da0"
   ]
  },
  {
   "cell_type": "code",
   "execution_count": 54,
   "id": "c7c28c04",
   "metadata": {},
   "outputs": [],
   "source": [
    "test_pool = pd.read_csv(\"test_pool.tsv\", sep=\"\\t\")"
   ]
  },
  {
   "cell_type": "code",
   "execution_count": 55,
   "id": "cc585a84",
   "metadata": {},
   "outputs": [],
   "source": [
    "y_test = np.exp(test_pool[\"RawFormulaVal\"])\n",
    "y_true = np.exp(test_pool[\"Label\"])"
   ]
  },
  {
   "cell_type": "code",
   "execution_count": 56,
   "id": "37b1dff0",
   "metadata": {},
   "outputs": [
    {
     "data": {
      "text/plain": [
       "0.14875877916027738"
      ]
     },
     "execution_count": 56,
     "metadata": {},
     "output_type": "execute_result"
    }
   ],
   "source": [
    "np.mean(np.abs(y_true - y_test) / y_true)"
   ]
  },
  {
   "cell_type": "code",
   "execution_count": 57,
   "id": "368e9711",
   "metadata": {},
   "outputs": [
    {
     "data": {
      "text/plain": [
       "4993.715890251546"
      ]
     },
     "execution_count": 57,
     "metadata": {},
     "output_type": "execute_result"
    }
   ],
   "source": [
    "np.mean(y_true - y_test)"
   ]
  },
  {
   "cell_type": "code",
   "execution_count": 58,
   "id": "bfcfc656",
   "metadata": {
    "scrolled": true
   },
   "outputs": [
    {
     "data": {
      "text/plain": [
       "1.1086739417087692"
      ]
     },
     "execution_count": 58,
     "metadata": {},
     "output_type": "execute_result"
    }
   ],
   "source": [
    "np.mean(y_true / y_test)"
   ]
  },
  {
   "cell_type": "markdown",
   "id": "ab9e8587",
   "metadata": {},
   "source": [
    "try to use drift"
   ]
  },
  {
   "cell_type": "code",
   "execution_count": 59,
   "id": "d25cc8ff",
   "metadata": {},
   "outputs": [
    {
     "data": {
      "text/plain": [
       "0.15411277262058506"
      ]
     },
     "execution_count": 59,
     "metadata": {},
     "output_type": "execute_result"
    }
   ],
   "source": [
    "np.mean(np.abs(y_true - y_test * 1.1) / y_true)"
   ]
  },
  {
   "cell_type": "code",
   "execution_count": 60,
   "id": "34e84eff",
   "metadata": {},
   "outputs": [
    {
     "data": {
      "text/plain": [
       "0.2520855445643462"
      ]
     },
     "execution_count": 60,
     "metadata": {},
     "output_type": "execute_result"
    }
   ],
   "source": [
    "np.mean(np.abs(y_true - (y_test + 5000)) / y_true)"
   ]
  },
  {
   "cell_type": "code",
   "execution_count": 61,
   "id": "98dd8d7e",
   "metadata": {},
   "outputs": [
    {
     "data": {
      "text/plain": [
       "0.145888365566656"
      ]
     },
     "execution_count": 61,
     "metadata": {},
     "output_type": "execute_result"
    }
   ],
   "source": [
    "np.mean(np.abs(y_true - y_test * 1.05) / y_true)"
   ]
  }
 ],
 "metadata": {
  "kernelspec": {
   "display_name": "Python 3",
   "language": "python",
   "name": "python3"
  },
  "language_info": {
   "codemirror_mode": {
    "name": "ipython",
    "version": 3
   },
   "file_extension": ".py",
   "mimetype": "text/x-python",
   "name": "python",
   "nbconvert_exporter": "python",
   "pygments_lexer": "ipython3",
   "version": "3.6.10"
  }
 },
 "nbformat": 4,
 "nbformat_minor": 5
}
