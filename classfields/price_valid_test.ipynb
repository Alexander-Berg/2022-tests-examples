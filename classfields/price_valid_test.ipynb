{
 "cells": [
  {
   "cell_type": "markdown",
   "id": "arctic-hollow",
   "metadata": {},
   "source": [
    "Проверяем выделение признаков из модели `PricePredictionLandingRequest`"
   ]
  },
  {
   "cell_type": "code",
   "execution_count": 1,
   "id": "oriental-trout",
   "metadata": {},
   "outputs": [],
   "source": [
    "import pandas as pd\n",
    "import numpy as np"
   ]
  },
  {
   "cell_type": "code",
   "execution_count": 3,
   "id": "removable-ancient",
   "metadata": {},
   "outputs": [],
   "source": [
    "from tqdm import tqdm\n",
    "tqdm.pandas()"
   ]
  },
  {
   "cell_type": "code",
   "execution_count": 4,
   "id": "lonely-given",
   "metadata": {},
   "outputs": [],
   "source": [
    "from google.protobuf.json_format import MessageToDict"
   ]
  },
  {
   "cell_type": "code",
   "execution_count": 5,
   "id": "circular-hacker",
   "metadata": {},
   "outputs": [],
   "source": [
    "import sys\n",
    "sys.path.append('../../price_estimator/price-estimator-rest-api/')\n",
    "sys.path.append('../../price_estimator/price-estimator-rest-api/proto')\n",
    "sys.path.append('../../price_estimator/price-estimator-rest-api/api')"
   ]
  },
  {
   "cell_type": "code",
   "execution_count": 6,
   "id": "tamil-tutorial",
   "metadata": {},
   "outputs": [],
   "source": [
    "from proto.realty.offer import common_pb2\n",
    "from proto.realty import model_pb2\n",
    "from proto.realty.prediction import price_prediction_pb2\n",
    "from proto.realty.offer.unified_offer_parts import address_part_pb2, offer_category_part_pb2, object_infos_part_pb2"
   ]
  },
  {
   "cell_type": "code",
   "execution_count": 7,
   "id": "nuclear-leeds",
   "metadata": {},
   "outputs": [],
   "source": [
    "from common import snake_dict\n",
    "from data_processing import _get_quadkeys, StatContainer\n",
    "from models import ModelContainer, PricePredictor"
   ]
  },
  {
   "cell_type": "code",
   "execution_count": 51,
   "id": "specialized-senior",
   "metadata": {},
   "outputs": [],
   "source": [
    "import seaborn as sns\n",
    "import matplotlib.pyplot as plt"
   ]
  },
  {
   "cell_type": "code",
   "execution_count": 8,
   "id": "demonstrated-thumb",
   "metadata": {},
   "outputs": [],
   "source": [
    "round_to_1000 = PricePredictor.round_to_1000"
   ]
  },
  {
   "cell_type": "markdown",
   "id": "chinese-wesley",
   "metadata": {},
   "source": [
    "# CONTAINERS"
   ]
  },
  {
   "cell_type": "markdown",
   "id": "exclusive-disclaimer",
   "metadata": {},
   "source": [
    "## Stats"
   ]
  },
  {
   "cell_type": "code",
   "execution_count": 9,
   "id": "cubic-february",
   "metadata": {},
   "outputs": [
    {
     "name": "stderr",
     "output_type": "stream",
     "text": [
      "[# INFO     [2021-03-26 15:26:36,534]  load_stat (building_id | plain)\n",
      "[# INFO     [2021-03-26 15:26:42,048]  load_stat (city_quadkey | plain)\n",
      "[# INFO     [2021-03-26 15:26:42,720]  load_stat (region_quadkey | plain)\n",
      "[# INFO     [2021-03-26 15:26:42,820]  load_stat (unified_address | custom)\n",
      "[# INFO     [2021-03-26 15:26:43,754]  load_stat (city_quadkey | custom)\n",
      "[# INFO     [2021-03-26 15:26:45,236]  load_stat (region_quadkey | custom)\n"
     ]
    }
   ],
   "source": [
    "stat_container = StatContainer()"
   ]
  },
  {
   "cell_type": "markdown",
   "id": "verified-dakota",
   "metadata": {},
   "source": [
    "## Model"
   ]
  },
  {
   "cell_type": "code",
   "execution_count": 10,
   "id": "binary-harvey",
   "metadata": {},
   "outputs": [],
   "source": [
    "model_path = (\"/Users/naidenov-alex/Documents/GitHub/vertis-ml/\"\n",
    "\"realty/price_estimator/price-estimator-rest-api/\"\n",
    "\"model/regular/sell_apartment_landing_2021_03_26.cbm\")"
   ]
  },
  {
   "cell_type": "code",
   "execution_count": 11,
   "id": "precise-property",
   "metadata": {},
   "outputs": [
    {
     "name": "stderr",
     "output_type": "stream",
     "text": [
      "[# INFO     [2021-03-26 15:26:45,340]  load_model (/Users/naidenov-alex/Documents/GitHub/vertis-ml/realty/price_estimator/price-estimator-rest-api/model/regular/sell_apartment_landing_2021_03_26.cbm)\n"
     ]
    }
   ],
   "source": [
    "model = ModelContainer(model_path)"
   ]
  },
  {
   "cell_type": "markdown",
   "id": "greater-creator",
   "metadata": {},
   "source": [
    "# DATA"
   ]
  },
  {
   "cell_type": "markdown",
   "id": "assigned-funeral",
   "metadata": {},
   "source": [
    "## Target"
   ]
  },
  {
   "cell_type": "code",
   "execution_count": 12,
   "id": "inside-modern",
   "metadata": {},
   "outputs": [],
   "source": [
    "# результаты модели без floor_total на валидационной выборке с 2021-01-01 \n",
    "# https://nirvana.yandex-team.ru/flow/575ec9d9-f77b-4966-a68a-5c4dbb854404/615855d2-5e99-4997-a1a4-9ed6672a2b7c/graph/FlowchartEndpoint/53c4d482-d598-4b8c-9dc4-54b86942756d\n",
    "    \n",
    "val_set = pd.read_csv(\"/Users/naidenov-alex/work/data/val_set_landing_2020_03_26.tsv\", sep=\"\\t\", names=[\"target\", \"prediction\", \"offer_id\"], skiprows=1)\n",
    "\n",
    "val_set[\"target\"] = np.exp(val_set[\"target\"]).round().astype(int)\n",
    "val_set[\"prediction\"] = np.exp(val_set[\"prediction\"])#.round().astype(int)"
   ]
  },
  {
   "cell_type": "markdown",
   "id": "sunset-lotus",
   "metadata": {},
   "source": [
    "## Features"
   ]
  },
  {
   "cell_type": "code",
   "execution_count": 13,
   "id": "fourth-ladder",
   "metadata": {},
   "outputs": [],
   "source": [
    "# данные для обучения с floor_total из базы домов с 2021-01-01 \n",
    "# https://nirvana.yandex-team.ru/flow/575ec9d9-f77b-4966-a68a-5c4dbb854404/5484800b-9354-4a7a-98f1-7d9c0ccfa220/graph/FlowchartEndpoint/0d914950-c8c1-4f49-a86f-b1ad51945788\n",
    "\n",
    "raw_data = pd.read_csv(\"/Users/naidenov-alex/work/data/sell_apartment_landing_sampling.tsv\", sep=\"\\t\")"
   ]
  },
  {
   "cell_type": "code",
   "execution_count": 21,
   "id": "funny-elevation",
   "metadata": {},
   "outputs": [],
   "source": [
    "all_data = pd.merge(val_set, raw_data, how=\"inner\", on=\"offer_id\")"
   ]
  },
  {
   "cell_type": "code",
   "execution_count": 22,
   "id": "presidential-check",
   "metadata": {},
   "outputs": [],
   "source": [
    "def make_message(row):\n",
    "    row = row.to_dict()\n",
    "    message = price_prediction_pb2.PricePredictionLandingRequest()\n",
    "\n",
    "    message.apartment.apartment_area = row[\"area\"]\n",
    "    message.apartment.rooms_total = row[\"rooms_offered\"]\n",
    "    # message.apartment.highrise_apartment_info.floors.append(data_nirvana[\"floor\"])\n",
    "    message.apartment.general_apartment_info.ceiling_height.value = row['ceiling_height']\n",
    "    message.apartment.building_info.built_year.value = row['build_year']\n",
    "    message.apartment.building_info.flats_count.value = row['flats_count']\n",
    "    message.apartment.building_info.expect_demolition.value = bool(row['expect_demolition'])\n",
    "    message.apartment.building_info.has_lift.value = bool(row['has_elevator'])\n",
    "    message.apartment.building_info.building_id.value = int(row['building_id'])\n",
    "    message.apartment.building_info.building_series.id = row['building_series_id']\n",
    "    message.apartment.building_info.building_type = row['building_type']\n",
    "    message.apartment.building_info.floors_total.value = row['floors_total']\n",
    "\n",
    "    message.location.unified_coordinates.latitude = row['lat']\n",
    "    message.location.unified_coordinates.longitude = row['lon']\n",
    "\n",
    "\n",
    "    c = address_part_pb2.Address.Component()\n",
    "    c.region_type = model_pb2.RegionType.Value('CITY')\n",
    "    c.value = row['locality_name']\n",
    "    message.location.unified_address.component.append(c)\n",
    "    message.location.unified_address.unified_oneline = row[\"unified_address\"]\n",
    "\n",
    "    message.location.subject_federation_geoid = row[\"subject_federation_id\"]\n",
    "    return message"
   ]
  },
  {
   "cell_type": "code",
   "execution_count": 23,
   "id": "specified-basement",
   "metadata": {},
   "outputs": [],
   "source": [
    "def _add_default_factors(price_prediction_request: dict) -> dict:\n",
    "    if 'apartment' not in price_prediction_request:\n",
    "        price_prediction_request['apartment'] = MessageToDict(\n",
    "            offer_category_part_pb2.ApartmentCategory(),\n",
    "            including_default_value_fields=True\n",
    "        )\n",
    "    if 'highrise_apartment_info' not in price_prediction_request['apartment']:\n",
    "        price_prediction_request['apartment']['highrise_apartment_info'] = MessageToDict(\n",
    "            object_infos_part_pb2.HighRiseApartmentInfo(),\n",
    "            including_default_value_fields=True\n",
    "        )\n",
    "    if 'general_apartment_info' not in price_prediction_request['apartment']:\n",
    "        price_prediction_request['apartment']['general_apartment_info'] = MessageToDict(\n",
    "            object_infos_part_pb2.GeneralApartmentInfo(),\n",
    "            including_default_value_fields=True\n",
    "        )\n",
    "    if 'building_info' not in price_prediction_request['apartment']:\n",
    "        price_prediction_request['apartment']['building_info'] = MessageToDict(\n",
    "            object_infos_part_pb2.BuildingInfo(),\n",
    "            including_default_value_fields=True\n",
    "        )\n",
    "    if 'building_series' not in price_prediction_request['apartment']['building_info']:\n",
    "        price_prediction_request['apartment']['building_info']['building_series'] = MessageToDict(\n",
    "            object_infos_part_pb2.BuildingSeries(),\n",
    "            including_default_value_fields=True\n",
    "        )\n",
    "    if 'location' not in price_prediction_request:\n",
    "        price_prediction_request['location'] = MessageToDict(\n",
    "            address_part_pb2.LocationUnified(),\n",
    "            including_default_value_fields=True\n",
    "        )\n",
    "    if 'unified_coordinates' not in price_prediction_request['location']:\n",
    "        price_prediction_request['location']['unified_coordinates'] = MessageToDict(\n",
    "            model_pb2.GeoPoint(),\n",
    "            including_default_value_fields=True\n",
    "        )\n",
    "    if 'geocoder_address' not in price_prediction_request['location']:\n",
    "        price_prediction_request['location']['geocoder_address'] = MessageToDict(\n",
    "            address_part_pb2.Address(),\n",
    "            including_default_value_fields=True\n",
    "        )\n",
    "    \n",
    "    return price_prediction_request\n",
    "\n",
    "def parse_message(message):\n",
    "    \n",
    "    price_prediction_request = snake_dict(\n",
    "        MessageToDict(message)\n",
    "    )\n",
    "    factors = dict()\n",
    "\n",
    "    price_prediction_request = _add_default_factors(price_prediction_request)\n",
    "\n",
    "    apartment = price_prediction_request['apartment']\n",
    "\n",
    "    factors['area'] = apartment.get(\"apartment_area\", 0)\n",
    "    factors['rooms_offered'] = apartment.get(\"rooms_total\", 0)\n",
    "    # factors['floor'] = (apartment[\"highrise_apartment_info\"].get(\"floors\", []) + [0])[0]\n",
    "    factors['ceiling_height'] = apartment[\"general_apartment_info\"].get(\"ceiling_height\", 0)\n",
    "\n",
    "    building_info = apartment[\"building_info\"]\n",
    "    factors['build_year'] = building_info.get(\"built_year\", 0)\n",
    "    factors['flats_count'] = building_info.get(\"flats_count\", 0)\n",
    "    # factors['floors_total'] = building_info.get(\"floors_total\", 0)\n",
    "    factors['expect_demolition'] = building_info.get(\"expect_demolition\", False)\n",
    "    factors['has_elevator'] = building_info.get('has_lift', False)\n",
    "    factors['building_id'] = building_info.get('building_id', 0)\n",
    "    factors['building_series_id'] = building_info[\"building_series\"].get('id', 0)\n",
    "    if 'building_type' in building_info:\n",
    "        factors['building_type'] = common_pb2.BuildingType.Value(building_info['building_type'])\n",
    "    else:\n",
    "        factors['building_type'] = 0\n",
    "\n",
    "    location = price_prediction_request['location']\n",
    "    factors['lat'] = location['unified_coordinates'].get('latitude', 0)\n",
    "    factors['lon'] = location['unified_coordinates'].get('longitude', 0)\n",
    "    # city_quadkey, region_quadkey\n",
    "    (factors['city_quadkey'], factors['region_quadkey']) = _get_quadkeys(factors['lat'], factors['lon'])\n",
    "\n",
    "    address = location['unified_address']\n",
    "    factors['locality_name'] = ([\"Город\"] + [\n",
    "        c[\"value\"] for c in address['component']\n",
    "    #     if c[\"region_type\"] == model_pb2.RegionType.Value('CITY')\n",
    "        if c[\"regionType\"] == 'CITY'\n",
    "    ])[-1]\n",
    "    factors['unified_address'] = address.get(\"unified_oneline\", \"\")\n",
    "\n",
    "    factors[\"subject_federation_id\"] = location.get('subject_federation_geoid', 225)\n",
    "    \n",
    "    return factors"
   ]
  },
  {
   "cell_type": "code",
   "execution_count": 24,
   "id": "affiliated-columbia",
   "metadata": {},
   "outputs": [],
   "source": [
    "def get_prediction(row):\n",
    "    return model.predict(\n",
    "        stat_container.enrich_factors(\n",
    "            parse_message(\n",
    "                make_message(row)\n",
    "            ), model_type=\"landing\"\n",
    "        )\n",
    "    )"
   ]
  },
  {
   "cell_type": "code",
   "execution_count": 47,
   "id": "formal-affair",
   "metadata": {},
   "outputs": [],
   "source": [
    "data = all_data#[:1000].copy()"
   ]
  },
  {
   "cell_type": "code",
   "execution_count": 48,
   "id": "electronic-amendment",
   "metadata": {},
   "outputs": [
    {
     "name": "stderr",
     "output_type": "stream",
     "text": [
      "100%|██████████| 180777/180777 [06:00<00:00, 501.56it/s]\n"
     ]
    }
   ],
   "source": [
    "data[\"proto_prediction_raw\"] = data.progress_apply(get_prediction, axis=1)"
   ]
  },
  {
   "cell_type": "code",
   "execution_count": 49,
   "id": "pending-discharge",
   "metadata": {},
   "outputs": [
    {
     "name": "stderr",
     "output_type": "stream",
     "text": [
      "100%|██████████| 180777/180777 [00:00<00:00, 824212.75it/s]\n"
     ]
    }
   ],
   "source": [
    "data[\"proto_prediction\"] = data[\"proto_prediction_raw\"].progress_apply(round_to_1000)"
   ]
  },
  {
   "cell_type": "code",
   "execution_count": null,
   "id": "proved-geneva",
   "metadata": {},
   "outputs": [],
   "source": []
  },
  {
   "cell_type": "code",
   "execution_count": 50,
   "id": "distinguished-place",
   "metadata": {},
   "outputs": [
    {
     "data": {
      "text/plain": [
       "target                                             365597504\n",
       "prediction                                   63409072.592653\n",
       "offer_id                                 7568656758537956250\n",
       "first_day_exposition                        1614546000000000\n",
       "area                                                   316.0\n",
       "                                        ...                 \n",
       "sport_cnt_region                                        1702\n",
       "subject_federation_id                                      1\n",
       "unified_address          Россия, Москва, Романов переулок, 5\n",
       "proto_prediction_raw                        207637225.062599\n",
       "proto_prediction                                   207637000\n",
       "Name: 88316, Length: 85, dtype: object"
      ]
     },
     "execution_count": 50,
     "metadata": {},
     "output_type": "execute_result"
    }
   ],
   "source": [
    "data.iloc[\n",
    "    ((data[\"prediction\"] - data[\"proto_prediction_raw\"]) / data[\"prediction\"]).abs().idxmax()\n",
    "]"
   ]
  },
  {
   "cell_type": "code",
   "execution_count": null,
   "id": "bottom-empire",
   "metadata": {},
   "outputs": [],
   "source": []
  },
  {
   "cell_type": "code",
   "execution_count": 52,
   "id": "sunset-massachusetts",
   "metadata": {},
   "outputs": [
    {
     "name": "stderr",
     "output_type": "stream",
     "text": [
      "/usr/local/lib/python3.9/site-packages/seaborn/distributions.py:2557: FutureWarning: `distplot` is a deprecated function and will be removed in a future version. Please adapt your code to use either `displot` (a figure-level function with similar flexibility) or `histplot` (an axes-level function for histograms).\n",
      "  warnings.warn(msg, FutureWarning)\n"
     ]
    },
    {
     "data": {
      "text/plain": [
       "<AxesSubplot:ylabel='Density'>"
      ]
     },
     "execution_count": 52,
     "metadata": {},
     "output_type": "execute_result"
    },
    {
     "data": {
      "image/png": "[encoded data removed]",
      "text/plain": [
       "<Figure size 432x288 with 1 Axes>"
      ]
     },
     "metadata": {
      "needs_background": "light"
     },
     "output_type": "display_data"
    }
   ],
   "source": [
    "sns.distplot(data[\"prediction\"] - data[\"proto_prediction_raw\"])"
   ]
  },
  {
   "cell_type": "code",
   "execution_count": 53,
   "id": "pediatric-senate",
   "metadata": {},
   "outputs": [
    {
     "data": {
      "text/plain": [
       "0.020450498046570113"
      ]
     },
     "execution_count": 53,
     "metadata": {},
     "output_type": "execute_result"
    }
   ],
   "source": [
    "(np.abs(data[\"prediction\"] - data[\"proto_prediction_raw\"]) / data[\"prediction\"]).mean()"
   ]
  },
  {
   "cell_type": "code",
   "execution_count": 54,
   "id": "stone-medicare",
   "metadata": {},
   "outputs": [
    {
     "data": {
      "text/plain": [
       "0.4197449141066495"
      ]
     },
     "execution_count": 54,
     "metadata": {},
     "output_type": "execute_result"
    }
   ],
   "source": [
    "(np.abs(data[\"prediction\"] - data[\"target\"]) / data[\"target\"]).mean()"
   ]
  },
  {
   "cell_type": "code",
   "execution_count": 55,
   "id": "expanded-miracle",
   "metadata": {},
   "outputs": [
    {
     "data": {
      "text/plain": [
       "0.4144104233060329"
      ]
     },
     "execution_count": 55,
     "metadata": {},
     "output_type": "execute_result"
    }
   ],
   "source": [
    "(np.abs(data[\"proto_prediction_raw\"] - data[\"target\"]) / data[\"target\"]).mean()"
   ]
  },
  {
   "cell_type": "code",
   "execution_count": 56,
   "id": "parental-winter",
   "metadata": {},
   "outputs": [
    {
     "name": "stderr",
     "output_type": "stream",
     "text": [
      "/usr/local/lib/python3.9/site-packages/seaborn/distributions.py:2557: FutureWarning: `distplot` is a deprecated function and will be removed in a future version. Please adapt your code to use either `displot` (a figure-level function with similar flexibility) or `histplot` (an axes-level function for histograms).\n",
      "  warnings.warn(msg, FutureWarning)\n",
      "/usr/local/lib/python3.9/site-packages/seaborn/distributions.py:2557: FutureWarning: `distplot` is a deprecated function and will be removed in a future version. Please adapt your code to use either `displot` (a figure-level function with similar flexibility) or `histplot` (an axes-level function for histograms).\n",
      "  warnings.warn(msg, FutureWarning)\n"
     ]
    },
    {
     "data": {
      "text/plain": [
       "<AxesSubplot:ylabel='Density'>"
      ]
     },
     "execution_count": 56,
     "metadata": {},
     "output_type": "execute_result"
    },
    {
     "data": {
      "image/png": "[encoded data removed]",
      "text/plain": [
       "<Figure size 432x288 with 1 Axes>"
      ]
     },
     "metadata": {
      "needs_background": "light"
     },
     "output_type": "display_data"
    }
   ],
   "source": [
    "sns.distplot(data[\"prediction\"] - data[\"target\"])\n",
    "sns.distplot(data[\"proto_prediction_raw\"] - data[\"target\"])"
   ]
  },
  {
   "cell_type": "code",
   "execution_count": 57,
   "id": "martial-arbor",
   "metadata": {},
   "outputs": [
    {
     "name": "stderr",
     "output_type": "stream",
     "text": [
      "/usr/local/lib/python3.9/site-packages/seaborn/distributions.py:2557: FutureWarning: `distplot` is a deprecated function and will be removed in a future version. Please adapt your code to use either `displot` (a figure-level function with similar flexibility) or `histplot` (an axes-level function for histograms).\n",
      "  warnings.warn(msg, FutureWarning)\n"
     ]
    },
    {
     "data": {
      "text/plain": [
       "<AxesSubplot:ylabel='Density'>"
      ]
     },
     "execution_count": 57,
     "metadata": {},
     "output_type": "execute_result"
    },
    {
     "data": {
      "image/png": "[encoded data removed]",
      "text/plain": [
       "<Figure size 432x288 with 1 Axes>"
      ]
     },
     "metadata": {
      "needs_background": "light"
     },
     "output_type": "display_data"
    }
   ],
   "source": [
    "sns.distplot(data[\"proto_prediction_raw\"] - data[\"target\"])"
   ]
  }
 ],
 "metadata": {
  "kernelspec": {
   "display_name": "Python 3",
   "language": "python",
   "name": "python3"
  },
  "language_info": {
   "codemirror_mode": {
    "name": "ipython",
    "version": 3
   },
   "file_extension": ".py",
   "mimetype": "text/x-python",
   "name": "python",
   "nbconvert_exporter": "python",
   "pygments_lexer": "ipython3",
   "version": "3.9.2"
  }
 },
 "nbformat": 4,
 "nbformat_minor": 5
}
