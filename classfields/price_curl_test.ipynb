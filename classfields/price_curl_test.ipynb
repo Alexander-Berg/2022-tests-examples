{
 "cells": [
  {
   "cell_type": "code",
   "execution_count": 1,
   "id": "awful-element",
   "metadata": {},
   "outputs": [
    {
     "name": "stdout",
     "output_type": "stream",
     "text": [
      "\"{'min': 313000, 'value': 348000, 'max': 383000}\""
     ]
    }
   ],
   "source": [
    "!curl \\\n",
    "--header \"Content-Type: application/json\" \\\n",
    "--request POST \\\n",
    "--data '{\\\n",
    "\"offerId\": \"3459844219290333697\",\\\n",
    "\"offerType\":\"SELL\",\\\n",
    "\"offerTypeInt\":1,\\\n",
    "\"categoryTypeInt\":2,\\\n",
    "\"offerCategory\":\"APARTMENT\",\\\n",
    "\"roomsTotal\": 1,\\\n",
    "\"area\": {\"value\": 34.0},\\\n",
    "\"kitchenSpace\": 8.0,\"price\": 2590000,\\\n",
    "\"buildingId\": \"1291633642366727281\",\\\n",
    "\"description\": \"temp description\",\\\n",
    "\"renovation\": \"UNKNOWN\",\\\n",
    "\"subjectFederationId\": 11119,\\\n",
    "\"geocoderAddress\": \"Россия, Республика Татарстан, Казань, улица Юлиуса Фучика, 117\"\\\n",
    "}' \\\n",
    "http://localhost:8895/api/v2/get_price_json"
   ]
  },
  {
   "cell_type": "code",
   "execution_count": 2,
   "id": "close-abuse",
   "metadata": {},
   "outputs": [
    {
     "name": "stdout",
     "output_type": "stream",
     "text": [
      "<!DOCTYPE HTML PUBLIC \"-//W3C//DTD HTML 3.2 Final//EN\">\n",
      "<title>500 Internal Server Error</title>\n",
      "<h1>Internal Server Error</h1>\n",
      "<p>The server encountered an internal error and was unable to complete your request. Either the server is overloaded or there is an error in the application.</p>\n"
     ]
    }
   ],
   "source": [
    "!curl \\\n",
    "--header \"Content-Type: application/json\" \\\n",
    "--request POST \\\n",
    "--data '{\\\n",
    "    \"area\": 34,\\\n",
    "    \"rooms_offered\": 1,\\\n",
    "    \"floor\": 5,\\\n",
    "    \"ceiling_height\": 250,\\\n",
    "    \"floor\": 1,\\\n",
    "    \"building_info\": {\\\n",
    "        \"buildingId\": 1291633642366727281\\\n",
    "    },\\\n",
    "    \"location\": {\\\n",
    "        \"geocoder_point\": {},\\\n",
    "        \"geocoder_address\": \"Россия, Республика Татарстан, Казань, улица Юлиуса Фучика, 117\",\\\n",
    "        \"locality_name\": \"Казань\",\\\n",
    "        \"subjectFederationId\": 11119\\\n",
    "    }\\\n",
    "}' \\\n",
    "http://localhost:8895/api/v2/get_price_landing"
   ]
  },
  {
   "cell_type": "code",
   "execution_count": 4,
   "id": "negative-fantasy",
   "metadata": {},
   "outputs": [
    {
     "name": "stdout",
     "output_type": "stream",
     "text": [
      "\"{'min': 7001000, 'value': 7779000, 'max': 8557000, 'q05': 3890000, 'q95': 15558000, 'q25': 5134000, 'q75': 11669000}\""
     ]
    }
   ],
   "source": [
    "!curl \\\n",
    "--header \"Content-Type: application/json\" \\\n",
    "--request POST \\\n",
    "--data '{\\\n",
    "    \"offerId\": \"6066490924906983915\",\\\n",
    "    \"area\": 80,\\\n",
    "    \"rooms_offered\": 3,\\\n",
    "    \"floor\": 5,\\\n",
    "    \"ceiling_height\": 250,\\\n",
    "    \"floor\": 1,\\\n",
    "    \"building_info\": {\\\n",
    "    },\\\n",
    "    \"location\": {\\\n",
    "        \"geocoder_point\": {},\\\n",
    "        \"geocoder_address\": \"Россия, Краснодарский край, Сочи, микрорайон Дагомыс, Батумское шоссе, 14А\"\\\n",
    "    }\\\n",
    "}' \\\n",
    "http://localhost:8895/api/v2/get_price_landing"
   ]
  },
  {
   "cell_type": "code",
   "execution_count": 5,
   "id": "instructional-swimming",
   "metadata": {},
   "outputs": [
    {
     "name": "stdout",
     "output_type": "stream",
     "text": [
      "\"{'min': 3787000, 'value': 4208000, 'max': 4629000, 'q05': 2104000, 'q95': 8416000, 'q25': 2777000, 'q75': 6312000}\""
     ]
    }
   ],
   "source": [
    "!curl \\\n",
    "--header \"Content-Type: application/json\" \\\n",
    "--request POST \\\n",
    "--data '{\\\n",
    "    \"offerId\": \"6066490924906983915\",\\\n",
    "    \"area\": 80,\\\n",
    "    \"rooms_offered\": 3,\\\n",
    "    \"floor\": 5,\\\n",
    "    \"ceiling_height\": 250,\\\n",
    "    \"floor\": 1,\\\n",
    "    \"building_info\": {\\\n",
    "        \"build_year\": 1938,\\\n",
    "        \"flats_count\": 100\\\n",
    "    },\\\n",
    "    \"location\": {\\\n",
    "        \"geocoder_point\": {\"lat\": 55.753132, \"lon\": 37.583834},\\\n",
    "        \"geocoder_address\": \"Россия, Москва, Новинский бульвар, 12\",\\\n",
    "        \"locality_name\": \"Москва\",\\\n",
    "        \"subject_federation_id\": 1\\\n",
    "    }\\\n",
    "}' \\\n",
    "http://localhost:8895/api/v2/get_price_landing"
   ]
  },
  {
   "cell_type": "code",
   "execution_count": 6,
   "id": "contrary-depression",
   "metadata": {},
   "outputs": [
    {
     "name": "stdout",
     "output_type": "stream",
     "text": [
      "\"{'min': 874000, 'value': 972000, 'max': 1069000, 'q05': 486000, 'q95': 1944000, 'q25': 642000, 'q75': 1458000}\""
     ]
    }
   ],
   "source": [
    "!curl \\\n",
    "--header \"Content-Type: application/json\" \\\n",
    "--request POST \\\n",
    "--data '{\\\n",
    "    \"offerId\": \"3459844219290333697\",\\\n",
    "    \"area\": 34.0,\\\n",
    "    \"rooms_offered\": 1,\\\n",
    "    \"floor\": 1,\\\n",
    "    \"ceiling_height\": 250,\\\n",
    "    \"floor\": 1,\\\n",
    "    \"building_info\": {\\\n",
    "    },\\\n",
    "    \"location\": {\\\n",
    "        \"geocoder_point\": {},\\\n",
    "        \"geocoder_address\": \"asdas\"\\\n",
    "    }\\\n",
    "}' \\\n",
    "http://localhost:8895/api/v2/get_price_landing"
   ]
  }
 ],
 "metadata": {
  "kernelspec": {
   "display_name": "Python 3",
   "language": "python",
   "name": "python3"
  },
  "language_info": {
   "codemirror_mode": {
    "name": "ipython",
    "version": 3
   },
   "file_extension": ".py",
   "mimetype": "text/x-python",
   "name": "python",
   "nbconvert_exporter": "python",
   "pygments_lexer": "ipython3",
   "version": "3.9.2"
  }
 },
 "nbformat": 4,
 "nbformat_minor": 5
}
