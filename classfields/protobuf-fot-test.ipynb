{
 "cells": [
  {
   "cell_type": "code",
   "execution_count": 1,
   "id": "apart-newark",
   "metadata": {},
   "outputs": [],
   "source": [
    "import sys\n",
    "sys.path.insert(0, \"../../price_estimator/price-estimator-rest-api/api\")\n",
    "sys.path.insert(0, \"../../price_estimator/price-estimator-rest-api/\")\n",
    "sys.path.insert(0, \"../../price_estimator/price-estimator-rest-api/proto\")"
   ]
  },
  {
   "cell_type": "code",
   "execution_count": 2,
   "id": "civic-kennedy",
   "metadata": {},
   "outputs": [],
   "source": [
    "from proto.realty.offer import common_pb2, RealtySchema_pb2"
   ]
  },
  {
   "cell_type": "code",
   "execution_count": 3,
   "id": "beneficial-turning",
   "metadata": {},
   "outputs": [],
   "source": [
    "from proto.realty.prediction import price_prediction_pb2\n",
    "from proto.realty import model_pb2\n",
    "from proto.realty.offer.unified_offer_parts import address_part_pb2, offer_category_part_pb2, object_infos_part_pb2"
   ]
  },
  {
   "cell_type": "code",
   "execution_count": 4,
   "id": "interested-andrews",
   "metadata": {},
   "outputs": [],
   "source": [
    "from proto.vertis.vsml.features.realty_price_prediction_pb2 import RealtyPricePredictionFeatures, PriceStatistics"
   ]
  },
  {
   "cell_type": "code",
   "execution_count": 5,
   "id": "invisible-brass",
   "metadata": {},
   "outputs": [],
   "source": [
    "from base64 import b64encode, b64decode"
   ]
  },
  {
   "cell_type": "code",
   "execution_count": 6,
   "id": "alone-validation",
   "metadata": {},
   "outputs": [],
   "source": [
    "from api.io_helper import protobuf_to_dict"
   ]
  },
  {
   "cell_type": "markdown",
   "id": "collected-departure",
   "metadata": {},
   "source": [
    "## Создание протобафов для тестов\n",
    "\n",
    "см `realty/price_estimator/price-estimator-rest-api/test/test_protobuf.py`"
   ]
  },
  {
   "cell_type": "markdown",
   "id": "helpful-resource",
   "metadata": {},
   "source": [
    "### 1. RealtySchema_pb2\n",
    "\n",
    "делаем по подобию готового протобафа, который предварительно скачали [из снепшота](https://yt.yandex-team.ru/hahn/navigation?path=//home/verticals/realty/production/export/offers/snapshot)"
   ]
  },
  {
   "cell_type": "code",
   "execution_count": 8,
   "id": "theoretical-helena",
   "metadata": {},
   "outputs": [],
   "source": [
    "request_path = \"../../price_estimator/price-estimator-rest-api/proto.request.sell.msc.example.binary\""
   ]
  },
  {
   "cell_type": "code",
   "execution_count": 9,
   "id": "exempt-negative",
   "metadata": {},
   "outputs": [],
   "source": [
    "message = RealtySchema_pb2.OfferMessage()"
   ]
  },
  {
   "cell_type": "code",
   "execution_count": 10,
   "id": "governing-explanation",
   "metadata": {},
   "outputs": [],
   "source": [
    "with open(request_path, \"rb\") as f:\n",
    "    data = f.read()"
   ]
  },
  {
   "cell_type": "code",
   "execution_count": 11,
   "id": "collectible-special",
   "metadata": {},
   "outputs": [
    {
     "data": {
      "text/plain": [
       "4254"
      ]
     },
     "execution_count": 11,
     "metadata": {},
     "output_type": "execute_result"
    }
   ],
   "source": [
    "message.ParseFromString(data)"
   ]
  },
  {
   "cell_type": "code",
   "execution_count": 13,
   "id": "three-providence",
   "metadata": {},
   "outputs": [],
   "source": [
    "new_message = RealtySchema_pb2.OfferMessage(\n",
    "    apartmentInfo=RealtySchema_pb2.ApartmentInfoMessage(\n",
    "        apartment=message.apartmentInfo.apartment,\n",
    "        studio=message.apartmentInfo.studio,\n",
    "        floors=message.apartmentInfo.floors,\n",
    "        ceilingHeight=message.apartmentInfo.ceilingHeight,\n",
    "        roomsOffered=message.apartmentInfo.roomsOffered,\n",
    "        rooms=message.apartmentInfo.rooms,\n",
    "        balconyInt=message.apartmentInfo.balconyInt,\n",
    "        renovationInt=message.apartmentInfo.renovationInt,\n",
    "        flatTypeInt=message.apartmentInfo.flatTypeInt\n",
    "    ),\n",
    "    offerTypeInt=message.offerTypeInt,\n",
    "    categoryTypeInt=message.categoryTypeInt,\n",
    "    buildingInfo=RealtySchema_pb2.BuildingInfoMessage(\n",
    "        floorsTotal=message.buildingInfo.floorsTotal,\n",
    "        buildingId=message.buildingInfo.buildingId,\n",
    "        buildYear=message.buildingInfo.buildYear,\n",
    "        buildingSeriesId=message.buildingInfo.buildingSeriesId,\n",
    "        expectDemolition=message.buildingInfo.expectDemolition,\n",
    "        parkingTypeInt=message.buildingInfo.parkingTypeInt,\n",
    "        flatsCount=message.buildingInfo.flatsCount,\n",
    "        site_id=500000, #message.buildingInfo.site_id,\n",
    "#         has_elevator=??\n",
    "    ),\n",
    "    location=RealtySchema_pb2.LocationMessage(\n",
    "        localityName=\"test_locality_name\", #message.location.localityName,\n",
    "        subjectFederationId=1, #message.location.subjectFederationId,\n",
    "        regionGraphId=123456, #message.location.regionGraphId,\n",
    "        geocoderAddress=\"test_geocoder_address\", #message.location.geocoderAddress,\n",
    "        geocoderPoint=RealtySchema_pb2.GeoPointMessage(\n",
    "            latitude=99.000000,\n",
    "            longitude=66.000000\n",
    "        )\n",
    "    ),\n",
    "    lotInfo=RealtySchema_pb2.LotInfoMessage(\n",
    "        lotArea=RealtySchema_pb2.AreaInfoMessage(\n",
    "            unitInt=message.lotInfo.lotArea.unitInt,\n",
    "            value=message.lotInfo.lotArea.value\n",
    "        ),\n",
    "        lotTypeInt=message.lotInfo.lotTypeInt\n",
    "    ),\n",
    "    houseInfo=RealtySchema_pb2.HouseInfoMessage(\n",
    "        pmg=message.houseInfo.pmg,\n",
    "        houseTypeInt=message.houseInfo.houseTypeInt,\n",
    "        livingSpace=message.houseInfo.livingSpace,\n",
    "        kitchenSpace=message.houseInfo.kitchenSpace\n",
    "    ),\n",
    "    area=message.area,\n",
    "    transaction=RealtySchema_pb2.TransactionMessage(\n",
    "        area=message.transaction.area\n",
    "    )\n",
    ")"
   ]
  },
  {
   "cell_type": "code",
   "execution_count": 14,
   "id": "tough-homework",
   "metadata": {},
   "outputs": [],
   "source": [
    "new_data = new_message.SerializeToString()"
   ]
  },
  {
   "cell_type": "code",
   "execution_count": 16,
   "id": "champion-brick",
   "metadata": {},
   "outputs": [
    {
     "data": {
      "text/plain": [
       "b'IAEwAlJAOhJ0ZXN0X2xvY2FsaXR5X25hbWVaChUAAMZCHQAAhEKCARV0ZXN0X2dlb2NvZGVyX2FkZHJlc3OwAcDEB+ABAVoMigEJCAEVAABgQhgB2gEJCAEVAABgQhgB4gENMgEESAJQApABAMgBAeoBEXCgwh6gAQj4AQCgAhjAAuEP8gECQAD6AQISAA=='"
      ]
     },
     "execution_count": 16,
     "metadata": {},
     "output_type": "execute_result"
    }
   ],
   "source": [
    "b64encode(new_data)"
   ]
  },
  {
   "cell_type": "code",
   "execution_count": 18,
   "id": "metropolitan-filter",
   "metadata": {},
   "outputs": [],
   "source": [
    "# protobuf_to_dict(new_message.SerializeToString())"
   ]
  },
  {
   "cell_type": "markdown",
   "id": "dress-findings",
   "metadata": {},
   "source": [
    "### 2. PricePredictionLandingRequest\n",
    "\n",
    "делаем по подобию готового протобафа из п.1"
   ]
  },
  {
   "cell_type": "code",
   "execution_count": 19,
   "id": "knowing-store",
   "metadata": {},
   "outputs": [],
   "source": [
    "message = price_prediction_pb2.PricePredictionLandingRequest()\n",
    "\n",
    "message.apartment.apartment_area = 38.2\n",
    "message.apartment.rooms_total = 1\n",
    "message.apartment.general_apartment_info.ceiling_height.value = 0\n",
    "\n",
    "message.apartment.building_info.built_year.value = 2011\n",
    "message.apartment.building_info.flats_count.value = 0\n",
    "message.apartment.building_info.expect_demolition.value = False\n",
    "message.apartment.building_info.has_lift.value = True\n",
    "message.apartment.building_info.building_id.value = 0\n",
    "message.apartment.building_info.building_series.id = 0\n",
    "message.apartment.building_info.building_type = 0\n",
    "message.apartment.building_info.floors_total.value = 9\n",
    "\n",
    "message.location.geocoder_coordinates.latitude = 99.0\n",
    "message.location.geocoder_coordinates.longitude = 66.0\n",
    "\n",
    "\n",
    "c = address_part_pb2.Address.Component()\n",
    "c.region_type = model_pb2.RegionType.Value('CITY')\n",
    "c.value = 'test_locality_name'\n",
    "message.location.geocoder_address.component.append(c)\n",
    "message.location.geocoder_address.unified_oneline = \"test_geocoder_address\"\n",
    "\n",
    "message.location.subject_federation_geoid = 1"
   ]
  },
  {
   "cell_type": "code",
   "execution_count": 20,
   "id": "iraqi-worry",
   "metadata": {},
   "outputs": [
    {
     "data": {
      "text/plain": [
       "b'CiQNzcwYQjABOhcKACoAOgIICWIDCNsPcgIIAbIBALoBAEoCEgASQDIvChV0ZXN0X2dlb2NvZGVyX2FkZHJlc3MSFgoSdGVzdF9sb2NhbGl0eV9uYW1lGAc6Cg0AAMZCFQAAhEKgAQE='"
      ]
     },
     "execution_count": 20,
     "metadata": {},
     "output_type": "execute_result"
    }
   ],
   "source": [
    "b64encode(message.SerializeToString())"
   ]
  },
  {
   "cell_type": "code",
   "execution_count": 21,
   "id": "confirmed-arrest",
   "metadata": {},
   "outputs": [],
   "source": [
    "# protobuf_to_dict(message.SerializeToString(), protobuf_model=\"PriceLandingPredictionRequest\")"
   ]
  },
  {
   "cell_type": "markdown",
   "id": "distant-controversy",
   "metadata": {},
   "source": [
    "### 3. RealtyPricePredictionFeatures"
   ]
  },
  {
   "cell_type": "markdown",
   "id": "federal-equipment",
   "metadata": {},
   "source": [
    "#### Полная версия"
   ]
  },
  {
   "cell_type": "code",
   "execution_count": 22,
   "id": "bearing-saver",
   "metadata": {},
   "outputs": [],
   "source": [
    "message = RealtyPricePredictionFeatures(\n",
    "    rent_apartment=PriceStatistics(\n",
    "        min=1,\n",
    "        q25=2,\n",
    "        median=3,\n",
    "        q75=4,\n",
    "        max=5,\n",
    "        count=6\n",
    "    ),\n",
    "    rent_room=PriceStatistics(\n",
    "        min=1,\n",
    "        q25=2,\n",
    "        median=3,\n",
    "        q75=4,\n",
    "        max=5,\n",
    "        count=6\n",
    "    ),\n",
    "    sell_apartment=PriceStatistics(\n",
    "        min=1,\n",
    "        q25=2,\n",
    "        median=3,\n",
    "        q75=4,\n",
    "        max=5,\n",
    "        count=6\n",
    "    ),\n",
    "    sell_room=PriceStatistics(\n",
    "        min=1,\n",
    "        q25=2,\n",
    "        median=3,\n",
    "        q75=4,\n",
    "        max=5,\n",
    "        count=6\n",
    "    ),\n",
    "    object_type=2\n",
    ")"
   ]
  },
  {
   "cell_type": "code",
   "execution_count": 24,
   "id": "enormous-mozambique",
   "metadata": {},
   "outputs": [],
   "source": [
    "new_data = message.SerializeToString()"
   ]
  },
  {
   "cell_type": "code",
   "execution_count": 25,
   "id": "alien-management",
   "metadata": {},
   "outputs": [
    {
     "data": {
      "text/plain": [
       "b'ChsNAACAPxUAAABAHQAAQEAlAACAQC0AAKBAMAYSGw0AAIA/FQAAAEAdAABAQCUAAIBALQAAoEAwBhobDQAAgD8VAAAAQB0AAEBAJQAAgEAtAACgQDAGIhsNAACAPxUAAABAHQAAQEAlAACAQC0AAKBAMAYwAg=='"
      ]
     },
     "execution_count": 25,
     "metadata": {},
     "output_type": "execute_result"
    }
   ],
   "source": [
    "b64encode(new_data)"
   ]
  },
  {
   "cell_type": "code",
   "execution_count": 27,
   "id": "thick-reward",
   "metadata": {},
   "outputs": [],
   "source": [
    "# protobuf_to_dict(message.SerializeToString(), protobuf_model=\"RealtyPricePredictionFeatures\")"
   ]
  },
  {
   "cell_type": "markdown",
   "id": "objective-banking",
   "metadata": {},
   "source": [
    "#### Сокращенная версия"
   ]
  },
  {
   "cell_type": "code",
   "execution_count": 29,
   "id": "empty-experience",
   "metadata": {},
   "outputs": [],
   "source": [
    "message = RealtyPricePredictionFeatures(\n",
    "    sell_apartment=PriceStatistics(\n",
    "        min=9,\n",
    "        q25=10,\n",
    "        median=11,\n",
    "        q75=12,\n",
    "        max=13,\n",
    "        count=14\n",
    "    )\n",
    ")"
   ]
  },
  {
   "cell_type": "code",
   "execution_count": 30,
   "id": "successful-column",
   "metadata": {},
   "outputs": [],
   "source": [
    "new_data = message.SerializeToString()"
   ]
  },
  {
   "cell_type": "code",
   "execution_count": 31,
   "id": "female-convergence",
   "metadata": {},
   "outputs": [
    {
     "data": {
      "text/plain": [
       "b'GhsNAAAQQRUAACBBHQAAMEElAABAQS0AAFBBMA4='"
      ]
     },
     "execution_count": 31,
     "metadata": {},
     "output_type": "execute_result"
    }
   ],
   "source": [
    "b64encode(new_data)"
   ]
  },
  {
   "cell_type": "code",
   "execution_count": 33,
   "id": "remarkable-coach",
   "metadata": {},
   "outputs": [],
   "source": [
    "# protobuf_to_dict(message.SerializeToString(), protobuf_model=\"RealtyPricePredictionFeatures\")"
   ]
  }
 ],
 "metadata": {
  "kernelspec": {
   "display_name": "Python 3",
   "language": "python",
   "name": "python3"
  },
  "language_info": {
   "codemirror_mode": {
    "name": "ipython",
    "version": 3
   },
   "file_extension": ".py",
   "mimetype": "text/x-python",
   "name": "python",
   "nbconvert_exporter": "python",
   "pygments_lexer": "ipython3",
   "version": "3.9.2"
  }
 },
 "nbformat": 4,
 "nbformat_minor": 5
}
