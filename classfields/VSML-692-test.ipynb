{
 "cells": [
  {
   "cell_type": "markdown",
   "id": "greenhouse-radio",
   "metadata": {},
   "source": [
    "Проверяем создание `OfferMessage` из `UnifiedOffer`"
   ]
  },
  {
   "cell_type": "code",
   "execution_count": 1,
   "id": "nasty-astronomy",
   "metadata": {},
   "outputs": [],
   "source": [
    "import sys\n",
    "sys.path.append('../../price_estimator/price-estimator-rest-api/')\n",
    "sys.path.append('../../price_estimator/price-estimator-rest-api/proto')\n",
    "sys.path.append('../../price_estimator/price-estimator-rest-api/api')\n",
    "sys.path.append('../../price_estimator/price-estimator-rest-api/test')"
   ]
  },
  {
   "cell_type": "code",
   "execution_count": 2,
   "id": "humanitarian-activation",
   "metadata": {},
   "outputs": [],
   "source": [
    "from realty.offer import common_pb2, RealtySchema_pb2\n",
    "from realty.offer import unified_offer_pb2\n",
    "from proto.realty import model_pb2"
   ]
  },
  {
   "cell_type": "code",
   "execution_count": 3,
   "id": "industrial-hybrid",
   "metadata": {},
   "outputs": [],
   "source": [
    "from create_request_offer import test_one_request_api"
   ]
  },
  {
   "cell_type": "code",
   "execution_count": 4,
   "id": "romantic-cleaning",
   "metadata": {},
   "outputs": [],
   "source": [
    "import pandas as pd"
   ]
  },
  {
   "cell_type": "code",
   "execution_count": 5,
   "id": "sought-connecticut",
   "metadata": {},
   "outputs": [],
   "source": [
    "import yt.wrapper as yt"
   ]
  },
  {
   "cell_type": "code",
   "execution_count": 6,
   "id": "military-parallel",
   "metadata": {},
   "outputs": [],
   "source": [
    "yt.config[\"proxy\"][\"url\"] = \"hahn\""
   ]
  },
  {
   "cell_type": "markdown",
   "id": "racial-locator",
   "metadata": {},
   "source": [
    "# Part 1. snapshot"
   ]
  },
  {
   "cell_type": "code",
   "execution_count": 52,
   "id": "wooden-priest",
   "metadata": {},
   "outputs": [],
   "source": [
    "# выбираем активные объявления из сломанного снэпшота\n",
    "# см https://yql.yandex-team.ru/Operations/YFhnRL94hiHQKaX7ZZJbW3F-C68pVXmP3XUCM6PKQpY="
   ]
  },
  {
   "cell_type": "code",
   "execution_count": 8,
   "id": "unlikely-corps",
   "metadata": {},
   "outputs": [],
   "source": [
    "table_path = \"//home/verticals/realty/price_estimator/VSQUALITY-3920/active_snapshot\"\n",
    "sampling_rate = 0.001"
   ]
  },
  {
   "cell_type": "code",
   "execution_count": 9,
   "id": "intensive-enclosure",
   "metadata": {},
   "outputs": [],
   "source": [
    "iter_table = yt.read_table(table_path,\n",
    "                           format=yt.YsonFormat(encoding=None),\n",
    "                           table_reader={\n",
    "                               \"sampling_seed\": 0,\n",
    "                               \"sampling_rate\": sampling_rate\n",
    "                           })"
   ]
  },
  {
   "cell_type": "markdown",
   "id": "prescribed-messenger",
   "metadata": {},
   "source": [
    "**OfferMessage**\n",
    "\n",
    "**offer_id** = 2707628339876167681\n",
    "\n",
    "**predicted_price** = 25000"
   ]
  },
  {
   "cell_type": "code",
   "execution_count": 15,
   "id": "recognized-anime",
   "metadata": {},
   "outputs": [],
   "source": [
    "# for i,row_old in enumerate(iter_table):\n",
    "#     break\n",
    "\n",
    "# request_old = RealtySchema_pb2.OfferMessage()\n",
    "# request_old.ParseFromString(row_old[b'offer'])\n",
    "# request_old.offer_id, request_old.offerTypeInt, request_old.categoryTypeInt\n",
    "# >>> ('2707628339876167681', 2, 2)\n",
    "\n",
    "# test_one_request_api(\n",
    "#     request_old,\n",
    "#     hostname='realty-price-estimator.vrts-slb.test.vertis.yandex.net',\n",
    "#     path='get_price_offer'\n",
    "# )\n",
    "# >>> predicted_price {\n",
    "#   min: 22000\n",
    "#   max: 27000\n",
    "#   value: 25000\n",
    "#   q05: 13000\n",
    "#   q25: 17000\n",
    "#   q75: 38000\n",
    "#   q95: 50000\n",
    "# }"
   ]
  },
  {
   "cell_type": "markdown",
   "id": "solved-pendant",
   "metadata": {},
   "source": [
    "# Part 2. holocron: broker"
   ]
  },
  {
   "cell_type": "markdown",
   "id": "normal-handy",
   "metadata": {},
   "source": [
    "### auxiliary data"
   ]
  },
  {
   "cell_type": "code",
   "execution_count": 13,
   "id": "fundamental-closing",
   "metadata": {},
   "outputs": [],
   "source": [
    "# получаем из базы домов число квартир по каждому адресу\n",
    "# см https://yql.yandex-team.ru/Operations/YGGmc9K3DKODX-MM_qsaplst7hD3Mg4ycbfTJO4WeUQ=\n",
    "\n",
    "df_buildings_flat_count = pd.read_csv(\"./buildings_flat_count.tsv\", sep=\"\\t\", skiprows=1, names=[\"building_id\", \"unified_address\", \"flats_count\"])\n",
    "\n",
    "buildings_flat_count = df_buildings_flat_count.set_index(\"unified_address\")[\"flats_count\"].to_dict()"
   ]
  },
  {
   "cell_type": "markdown",
   "id": "human-irrigation",
   "metadata": {},
   "source": [
    "### func"
   ]
  },
  {
   "cell_type": "code",
   "execution_count": 28,
   "id": "diagnostic-skiing",
   "metadata": {},
   "outputs": [],
   "source": [
    "# Пишем функцию которая из полей в холокроне брокера создает OfferMessage для передачи в price-estimator\n",
    "def create_offer_message(offer_id, unified_offer, area, rooms_offered, buildings_flat_count):\n",
    "    \"\"\"На основе UnifiedOffer и доп.полей создает OfferMessage\"\"\"\n",
    "    request = RealtySchema_pb2.OfferMessage()\n",
    "\n",
    "    request.offer_id = offer_id\n",
    "    request.apartmentInfo.apartment = \"\"\n",
    "    request.apartmentInfo.studio = unified_offer.apartment.studio\n",
    "    try:\n",
    "        request.apartmentInfo.floors.append(unified_offer.apartment.highrise_apartment_info.floors[0])\n",
    "    except:\n",
    "        pass\n",
    "    request.apartmentInfo.ceilingHeight = unified_offer.apartment.general_apartment_info.ceiling_height.value\n",
    "    # request.apartmentInfo.roomsOffered = unified_offer.room.rooms_offered\n",
    "    request.apartmentInfo.roomsOffered = rooms_offered\n",
    "    request.apartmentInfo.rooms = unified_offer.apartment.rooms_total\n",
    "    request.apartmentInfo.balconyInt = unified_offer.apartment.living_info.balcony\n",
    "    request.apartmentInfo.renovationInt = unified_offer.apartment.general_apartment_info.renovation\n",
    "    request.apartmentInfo.flatTypeInt = unified_offer.apartment.flat_type\n",
    "    # request.transaction.area.value = unified_offer.transaction_info.sq_m_price_area\n",
    "    request.transaction.area.value = area\n",
    "    request.area.value = unified_offer.apartment.apartment_area\n",
    "    request.offerTypeInt = 2 if unified_offer.WhichOneof(\"type\") == \"rent\" else 1\n",
    "    request.categoryTypeInt = 2 if unified_offer.WhichOneof(\"category\") == \"apartment\" else 1\n",
    "\n",
    "    request.buildingInfo.floorsTotal = unified_offer.apartment.building_info.floors_total.value\n",
    "    request.buildingInfo.buildingId = unified_offer.apartment.building_info.building_id.value\n",
    "    request.buildingInfo.buildYear = unified_offer.apartment.building_info.built_year.value\n",
    "    request.buildingInfo.buildingSeriesId = unified_offer.apartment.building_info.building_series.id\n",
    "    request.buildingInfo.expectDemolition = unified_offer.apartment.building_info.expect_demolition.value\n",
    "    request.buildingInfo.parkingTypeInt = unified_offer.apartment.building_info.parking_info.type\n",
    "    try:\n",
    "        request.buildingInfo.flatsCount = int(buildings_flat_count[unified_offer.location.unified_address.unified_oneline])\n",
    "    except:\n",
    "        pass\n",
    "    request.buildingInfo.site_id = unified_offer.apartment.building_info.site_id\n",
    "    # request.buildingInfo.has_elevator = \n",
    "\n",
    "    # request.lotInfo.lotArea.unitInt = \n",
    "    # request.lotInfo.lotArea.value = \n",
    "    # request.lotInfo.lotTypeInt = \n",
    "\n",
    "    # request.houseInfo.pmg = \n",
    "    # request.houseInfo.houseTypeInt = \n",
    "    request.houseInfo.livingSpace = unified_offer.apartment.living_space\n",
    "    request.houseInfo.kitchenSpace = unified_offer.apartment.kitchen_space\n",
    "\n",
    "    try:\n",
    "        request.location.localityName = [\n",
    "            c.value for c in unified_offer.location.unified_address.component\n",
    "            if c.region_type ==  model_pb2.RegionType.Value('CITY')\n",
    "        ][0]\n",
    "    except:\n",
    "        pass\n",
    "    request.location.subjectFederationId = unified_offer.location.subject_federation_geoid\n",
    "    # request.location.regionGraphId = \n",
    "    request.location.geocoderAddress = unified_offer.location.unified_address.unified_oneline\n",
    "    request.location.geocoderPoint.latitude = unified_offer.location.unified_coordinates.latitude\n",
    "    request.location.geocoderPoint.longitude = unified_offer.location.unified_coordinates.longitude\n",
    "    \n",
    "    return request"
   ]
  },
  {
   "cell_type": "markdown",
   "id": "popular-kazakhstan",
   "metadata": {},
   "source": [
    "### one offer"
   ]
  },
  {
   "cell_type": "code",
   "execution_count": 17,
   "id": "drawn-exemption",
   "metadata": {},
   "outputs": [],
   "source": [
    "# записываем в //home/verticals/realty/price_estimator/VSQUALITY-3920/holocron_2021_03_16\n",
    "# только один оффер 2707628339876167681\n",
    "# INSERT INTO\n",
    "#     hahn.`//home/verticals/realty/price_estimator/VSQUALITY-3920/holocron_2021_03_16`\n",
    "# SELECT\n",
    "#     *\n",
    "# FROM hahn.`home/verticals/broker/prod/warehouse/holocron/realty/full/eod/1d/2021-03-16` VIEW raw\n",
    "# WHERE id == '2707628339876167681'\n",
    "table_path = \"//home/verticals/realty/price_estimator/VSQUALITY-3920/holocron_2021_03_16\""
   ]
  },
  {
   "cell_type": "code",
   "execution_count": 18,
   "id": "compliant-bryan",
   "metadata": {},
   "outputs": [],
   "source": [
    "iter_table = yt.read_table(table_path,\n",
    "                           format=yt.YsonFormat(encoding=None))"
   ]
  },
  {
   "cell_type": "code",
   "execution_count": null,
   "id": "buried-grove",
   "metadata": {},
   "outputs": [],
   "source": [
    "for row2 in iter_table:\n",
    "    break"
   ]
  },
  {
   "cell_type": "code",
   "execution_count": null,
   "id": "greenhouse-nutrition",
   "metadata": {},
   "outputs": [],
   "source": [
    "request = create_offer_message(\n",
    "    offer_id=row2[b'offer_id'].decode(),\n",
    "    raw_unified_offer=row2[b'raw_offer'],\n",
    "    area=row2[b'area'],\n",
    "    rooms_offered=row2[b'rooms_offered'],\n",
    "    buildings_flat_count=buildings_flat_count\n",
    ")"
   ]
  },
  {
   "cell_type": "markdown",
   "id": "seventh-distance",
   "metadata": {},
   "source": [
    "**OfferMessage via UnifiedOffer**\n",
    "\n",
    "**offer_id** = 2707628339876167681\n",
    "\n",
    "**predicted_price** = 25000"
   ]
  },
  {
   "cell_type": "code",
   "execution_count": 312,
   "id": "vertical-broadcast",
   "metadata": {},
   "outputs": [
    {
     "data": {
      "text/plain": [
       "predicted_price {\n",
       "  min: 22000\n",
       "  max: 27000\n",
       "  value: 25000\n",
       "  q05: 13000\n",
       "  q25: 17000\n",
       "  q75: 38000\n",
       "  q95: 50000\n",
       "}"
      ]
     },
     "execution_count": 312,
     "metadata": {},
     "output_type": "execute_result"
    }
   ],
   "source": [
    "test_one_request_api(\n",
    "    request,\n",
    "    hostname='realty-price-estimator.vrts-slb.test.vertis.yandex.net',\n",
    "    path='get_price_offer'\n",
    ")"
   ]
  },
  {
   "cell_type": "code",
   "execution_count": 306,
   "id": "advance-failure",
   "metadata": {},
   "outputs": [],
   "source": [
    "# >>> predicted_price {\n",
    "#   min: 22000\n",
    "#   max: 27000\n",
    "#   value: 25000\n",
    "#   q05: 13000\n",
    "#   q25: 17000\n",
    "#   q75: 38000\n",
    "#   q95: 50000\n",
    "# }"
   ]
  },
  {
   "cell_type": "markdown",
   "id": "another-berry",
   "metadata": {},
   "source": [
    "для уникального объявления совпадает. посчитаем разницу на выборке"
   ]
  },
  {
   "cell_type": "code",
   "execution_count": null,
   "id": "alternative-wallet",
   "metadata": {},
   "outputs": [],
   "source": []
  },
  {
   "cell_type": "markdown",
   "id": "appropriate-butterfly",
   "metadata": {},
   "source": [
    "## sample N=100"
   ]
  },
  {
   "cell_type": "code",
   "execution_count": 10,
   "id": "loaded-climb",
   "metadata": {},
   "outputs": [],
   "source": [
    "table_path = \"//home/verticals/realty/price_estimator/VSQUALITY-3920/active_snapshot\"\n",
    "sampling_rate = 0.001\n",
    "\n",
    "iter_table = yt.read_table(table_path,\n",
    "                           format=yt.YsonFormat(encoding=None),\n",
    "                           table_reader={\n",
    "                               \"sampling_seed\": 0,\n",
    "                               \"sampling_rate\": sampling_rate\n",
    "                           })\n",
    "\n",
    "result = {}\n",
    "N = 100\n",
    "for i,row_old in enumerate(iter_table):\n",
    "    request_old = RealtySchema_pb2.OfferMessage()\n",
    "    request_old.ParseFromString(row_old[b'offer'])\n",
    "    request_old.offer_id, request_old.offerTypeInt, request_old.categoryTypeInt\n",
    "    response = test_one_request_api(\n",
    "        request_old,\n",
    "        hostname='realty-price-estimator.vrts-slb.test.vertis.yandex.net',\n",
    "        path='get_price_offer'\n",
    "    )\n",
    "    result[request_old.offer_id] = response\n",
    "    if i >= N:\n",
    "        break"
   ]
  },
  {
   "cell_type": "markdown",
   "id": "random-staff",
   "metadata": {},
   "source": [
    "### prepare data"
   ]
  },
  {
   "cell_type": "code",
   "execution_count": 14,
   "id": "olympic-return",
   "metadata": {},
   "outputs": [
    {
     "name": "stdout",
     "output_type": "stream",
     "text": [
      "\n",
      "INSERT INTO\n",
      "    hahn.`//home/verticals/realty/price_estimator/VSQUALITY-3920/holocron_2021_03_16`\n",
      "SELECT\n",
      "    *\n",
      "FROM hahn.`home/verticals/broker/prod/warehouse/holocron/realty/full/eod/1d/2021-03-16` VIEW raw\n",
      "WHERE id IN('4772780070845500422', '8037529677593313793', '6302897158521575542', '4772780070841005050', '3160692721945911552', '4759594191718980865', '5461318868036607214', '2265367850308131749', '5361108677139925804', '5361109690554612902', '8028692506058197799', '5361108782780569473', '4130104605715456513', '5361110432511384302', '4609934776453502977', '2670175299082632167', '7568607406433874983', '1533960538893573888', '5361113045288974410', '6302897158524344183', '4772780070840890760', '4384727186725414395', '4772780070838887881', '377153652876651264', '2078877692386170881', '219353371354203206', '2265367795365876266', '6836428642663473729', '2789325247447193088', '4772780070840885893', '5205645657346572344', '8606660881716015360', '5206250133453018584', '1564264441921874944', '6302897158523368490', '8028692508746750793', '784634875377120512', '6302897158522532449', '7567993236852134085', '6682282589032019329', '4772780070845476428', '5361112942572198227', '2265367850363573760', '4674809989307552273', '1608630376234427392', '6302897158524174051', '2707628339876167681', '3944464222648311040', '6803552844873196288', '3814868857196988540', '4772780070843534405', '7622773490490159817', '2918255638153051393', '6302897158522411511', '5205620753106675643', '5361108784466918819', '1862529429328601089', '5361109552164067531', '8028692506972663196')\n",
      "\n"
     ]
    }
   ],
   "source": [
    "yql_query = f\"\"\"\n",
    "INSERT INTO\n",
    "    hahn.`//home/verticals/realty/price_estimator/VSQUALITY-3920/holocron_2021_03_16`\n",
    "SELECT\n",
    "    *\n",
    "FROM hahn.`home/verticals/broker/prod/warehouse/holocron/realty/full/eod/1d/2021-03-16` VIEW raw\n",
    "WHERE id IN({str(set(result))[1:-1]})\n",
    "\"\"\"\n",
    "print(yql_query)"
   ]
  },
  {
   "cell_type": "code",
   "execution_count": 29,
   "id": "rotary-polls",
   "metadata": {},
   "outputs": [],
   "source": [
    "table_path = \"//home/verticals/realty/price_estimator/VSQUALITY-3920/holocron_2021_03_16\"\n",
    "\n",
    "iter_table = yt.read_table(table_path,\n",
    "                           format=yt.YsonFormat(encoding=None))\n",
    "\n",
    "result2 = {}\n",
    "for row2 in iter_table:\n",
    "    offer_id=row2[b\"id\"].decode()\n",
    "    request = create_offer_message(\n",
    "        offer_id=offer_id,\n",
    "        raw_unified_offer=row2[b'raw_offer'],\n",
    "        area=row2[b'area'],\n",
    "        rooms_offered=row2[b'rooms_offered'],\n",
    "        buildings_flat_count=buildings_flat_count\n",
    "    )\n",
    "    response = test_one_request_api(\n",
    "        request,\n",
    "        hostname='realty-price-estimator.vrts-slb.test.vertis.yandex.net',\n",
    "        path='get_price_offer'\n",
    "    )\n",
    "    result2[offer_id] = response"
   ]
  },
  {
   "cell_type": "code",
   "execution_count": 32,
   "id": "hired-elimination",
   "metadata": {},
   "outputs": [
    {
     "data": {
      "text/plain": [
       "(59, 11)"
      ]
     },
     "execution_count": 32,
     "metadata": {},
     "output_type": "execute_result"
    }
   ],
   "source": [
    "len(result), len(result2)"
   ]
  },
  {
   "cell_type": "code",
   "execution_count": 35,
   "id": "applicable-gabriel",
   "metadata": {},
   "outputs": [
    {
     "name": "stdout",
     "output_type": "stream",
     "text": [
      "784634875377120512 50000 49000\n",
      "4772780070843534405 6077000 6821000\n",
      "4772780070840885893 4001000 4681000\n",
      "5361109552164067531 11200000 11774000\n",
      "1608630376234427392 7066000 8064000\n",
      "1533960538893573888 36000 29000\n",
      "219353371354203206 3285000 3265000\n",
      "4772780070838887881 5156000 6003000\n",
      "6302897158522532449 6105000 6238000\n",
      "8606660881716015360 1557000 1543000\n",
      "1862529429328601089 59000 59000\n"
     ]
    }
   ],
   "source": [
    "for key in result2:\n",
    "    print(key, result[key].predicted_price.value, result2[key].predicted_price.value)"
   ]
  },
  {
   "cell_type": "markdown",
   "id": "relevant-labor",
   "metadata": {},
   "source": [
    "### Вывод\n",
    "разница есть, в 6 из 11 случаев оценка через UnifiedOffer больше, чем через OfferMessage\n",
    "\n",
    "- Для выгрузки модерации это не критично, тк прогнозы на проде в среднем лучше чем в выгрузке\n",
    "- Однако при переходе на UnifiedOffer полностью нужно проверить соответствие полей в моделях"
   ]
  },
  {
   "cell_type": "code",
   "execution_count": null,
   "id": "consecutive-times",
   "metadata": {},
   "outputs": [],
   "source": []
  }
 ],
 "metadata": {
  "kernelspec": {
   "display_name": "Python 3",
   "language": "python",
   "name": "python3"
  },
  "language_info": {
   "codemirror_mode": {
    "name": "ipython",
    "version": 3
   },
   "file_extension": ".py",
   "mimetype": "text/x-python",
   "name": "python",
   "nbconvert_exporter": "python",
   "pygments_lexer": "ipython3",
   "version": "3.9.2"
  }
 },
 "nbformat": 4,
 "nbformat_minor": 5
}
