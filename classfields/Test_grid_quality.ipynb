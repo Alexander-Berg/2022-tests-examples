{
 "cells": [
  {
   "cell_type": "code",
   "execution_count": 13,
   "metadata": {},
   "outputs": [
    {
     "name": "stderr",
     "output_type": "stream",
     "text": [
      "/Users/vkokhtev/programs/anaconda3/lib/python3.6/site-packages/IPython/core/interactiveshell.py:2785: DtypeWarning: Columns (1,3,4) have mixed types. Specify dtype option on import or set low_memory=False.\n",
      "  interactivity=interactivity, compiler=compiler, result=result)\n"
     ]
    },
    {
     "data": {
      "application/vnd.jupyter.widget-view+json": {
       "model_id": "85a601db44df49218bc0eeb4d47f7303",
       "version_major": 2,
       "version_minor": 0
      },
      "text/plain": [
       "HBox(children=(IntProgress(value=1, bar_style='info', max=1), HTML(value='')))"
      ]
     },
     "metadata": {},
     "output_type": "display_data"
    },
    {
     "ename": "KeyboardInterrupt",
     "evalue": "",
     "output_type": "error",
     "traceback": [
      "\u001b[0;31m---------------------------------------------------------------------------\u001b[0m",
      "\u001b[0;31mKeyboardInterrupt\u001b[0m                         Traceback (most recent call last)",
      "\u001b[0;32m<ipython-input-13-6a7ac773d0a2>\u001b[0m in \u001b[0;36m<module>\u001b[0;34m()\u001b[0m\n\u001b[1;32m     96\u001b[0m     test_one_request_api(price_prediction_request, \n\u001b[1;32m     97\u001b[0m                         \u001b[0mrequest_filepath\u001b[0m \u001b[0;34m=\u001b[0m\u001b[0;34m'./proto/proto.request_corrupred{}.example.corrupted.binary'\u001b[0m\u001b[0;34m.\u001b[0m\u001b[0mformat\u001b[0m\u001b[0;34m(\u001b[0m\u001b[0mi\u001b[0m\u001b[0;34m)\u001b[0m\u001b[0;34m,\u001b[0m\u001b[0;34m\u001b[0m\u001b[0m\n\u001b[0;32m---> 98\u001b[0;31m                         response_filepath = './proto/proto.response_corrupred{}.example.corrupted.binary'.format(i))\n\u001b[0m\u001b[1;32m     99\u001b[0m     \u001b[0mi\u001b[0m \u001b[0;34m+=\u001b[0m \u001b[0;36m1\u001b[0m\u001b[0;34m\u001b[0m\u001b[0m\n\u001b[1;32m    100\u001b[0m     \u001b[0;32mif\u001b[0m \u001b[0mi\u001b[0m \u001b[0;34m>\u001b[0m \u001b[0;36m2000\u001b[0m\u001b[0;34m:\u001b[0m\u001b[0;34m\u001b[0m\u001b[0m\n",
      "\u001b[0;32m<ipython-input-13-6a7ac773d0a2>\u001b[0m in \u001b[0;36mtest_one_request_api\u001b[0;34m(price_pred_request, request_filepath, response_filepath, hostname)\u001b[0m\n\u001b[1;32m     62\u001b[0m     \u001b[0;31m#print(curl_call_string)\u001b[0m\u001b[0;34m\u001b[0m\u001b[0;34m\u001b[0m\u001b[0m\n\u001b[1;32m     63\u001b[0m     subprocess.check_call(\n\u001b[0;32m---> 64\u001b[0;31m         curl_call_string, shell='True')\n\u001b[0m\u001b[1;32m     65\u001b[0m     \u001b[0mprice_resp\u001b[0m \u001b[0;34m=\u001b[0m \u001b[0mprice_prediction_pb2\u001b[0m\u001b[0;34m.\u001b[0m\u001b[0mPricePredictionResponse\u001b[0m\u001b[0;34m(\u001b[0m\u001b[0;34m)\u001b[0m\u001b[0;34m\u001b[0m\u001b[0m\n\u001b[1;32m     66\u001b[0m     \u001b[0mread_file\u001b[0m \u001b[0;34m=\u001b[0m \u001b[0mopen\u001b[0m\u001b[0;34m(\u001b[0m\u001b[0mresponse_filepath\u001b[0m\u001b[0;34m,\u001b[0m \u001b[0;34m'r+b'\u001b[0m\u001b[0;34m)\u001b[0m\u001b[0;34m\u001b[0m\u001b[0m\n",
      "\u001b[0;32m~/programs/anaconda3/lib/python3.6/subprocess.py\u001b[0m in \u001b[0;36mcheck_call\u001b[0;34m(*popenargs, **kwargs)\u001b[0m\n\u001b[1;32m    284\u001b[0m     \u001b[0mcheck_call\u001b[0m\u001b[0;34m(\u001b[0m\u001b[0;34m[\u001b[0m\u001b[0;34m\"ls\"\u001b[0m\u001b[0;34m,\u001b[0m \u001b[0;34m\"-l\"\u001b[0m\u001b[0;34m]\u001b[0m\u001b[0;34m)\u001b[0m\u001b[0;34m\u001b[0m\u001b[0m\n\u001b[1;32m    285\u001b[0m     \"\"\"\n\u001b[0;32m--> 286\u001b[0;31m     \u001b[0mretcode\u001b[0m \u001b[0;34m=\u001b[0m \u001b[0mcall\u001b[0m\u001b[0;34m(\u001b[0m\u001b[0;34m*\u001b[0m\u001b[0mpopenargs\u001b[0m\u001b[0;34m,\u001b[0m \u001b[0;34m**\u001b[0m\u001b[0mkwargs\u001b[0m\u001b[0;34m)\u001b[0m\u001b[0;34m\u001b[0m\u001b[0m\n\u001b[0m\u001b[1;32m    287\u001b[0m     \u001b[0;32mif\u001b[0m \u001b[0mretcode\u001b[0m\u001b[0;34m:\u001b[0m\u001b[0;34m\u001b[0m\u001b[0m\n\u001b[1;32m    288\u001b[0m         \u001b[0mcmd\u001b[0m \u001b[0;34m=\u001b[0m \u001b[0mkwargs\u001b[0m\u001b[0;34m.\u001b[0m\u001b[0mget\u001b[0m\u001b[0;34m(\u001b[0m\u001b[0;34m\"args\"\u001b[0m\u001b[0;34m)\u001b[0m\u001b[0;34m\u001b[0m\u001b[0m\n",
      "\u001b[0;32m~/programs/anaconda3/lib/python3.6/subprocess.py\u001b[0m in \u001b[0;36mcall\u001b[0;34m(timeout, *popenargs, **kwargs)\u001b[0m\n\u001b[1;32m    267\u001b[0m     \u001b[0;32mwith\u001b[0m \u001b[0mPopen\u001b[0m\u001b[0;34m(\u001b[0m\u001b[0;34m*\u001b[0m\u001b[0mpopenargs\u001b[0m\u001b[0;34m,\u001b[0m \u001b[0;34m**\u001b[0m\u001b[0mkwargs\u001b[0m\u001b[0;34m)\u001b[0m \u001b[0;32mas\u001b[0m \u001b[0mp\u001b[0m\u001b[0;34m:\u001b[0m\u001b[0;34m\u001b[0m\u001b[0m\n\u001b[1;32m    268\u001b[0m         \u001b[0;32mtry\u001b[0m\u001b[0;34m:\u001b[0m\u001b[0;34m\u001b[0m\u001b[0m\n\u001b[0;32m--> 269\u001b[0;31m             \u001b[0;32mreturn\u001b[0m \u001b[0mp\u001b[0m\u001b[0;34m.\u001b[0m\u001b[0mwait\u001b[0m\u001b[0;34m(\u001b[0m\u001b[0mtimeout\u001b[0m\u001b[0;34m=\u001b[0m\u001b[0mtimeout\u001b[0m\u001b[0;34m)\u001b[0m\u001b[0;34m\u001b[0m\u001b[0m\n\u001b[0m\u001b[1;32m    270\u001b[0m         \u001b[0;32mexcept\u001b[0m\u001b[0;34m:\u001b[0m\u001b[0;34m\u001b[0m\u001b[0m\n\u001b[1;32m    271\u001b[0m             \u001b[0mp\u001b[0m\u001b[0;34m.\u001b[0m\u001b[0mkill\u001b[0m\u001b[0;34m(\u001b[0m\u001b[0;34m)\u001b[0m\u001b[0;34m\u001b[0m\u001b[0m\n",
      "\u001b[0;32m~/programs/anaconda3/lib/python3.6/subprocess.py\u001b[0m in \u001b[0;36mwait\u001b[0;34m(self, timeout, endtime)\u001b[0m\n\u001b[1;32m   1455\u001b[0m                         \u001b[0;32mif\u001b[0m \u001b[0mself\u001b[0m\u001b[0;34m.\u001b[0m\u001b[0mreturncode\u001b[0m \u001b[0;32mis\u001b[0m \u001b[0;32mnot\u001b[0m \u001b[0;32mNone\u001b[0m\u001b[0;34m:\u001b[0m\u001b[0;34m\u001b[0m\u001b[0m\n\u001b[1;32m   1456\u001b[0m                             \u001b[0;32mbreak\u001b[0m  \u001b[0;31m# Another thread waited.\u001b[0m\u001b[0;34m\u001b[0m\u001b[0m\n\u001b[0;32m-> 1457\u001b[0;31m                         \u001b[0;34m(\u001b[0m\u001b[0mpid\u001b[0m\u001b[0;34m,\u001b[0m \u001b[0msts\u001b[0m\u001b[0;34m)\u001b[0m \u001b[0;34m=\u001b[0m \u001b[0mself\u001b[0m\u001b[0;34m.\u001b[0m\u001b[0m_try_wait\u001b[0m\u001b[0;34m(\u001b[0m\u001b[0;36m0\u001b[0m\u001b[0;34m)\u001b[0m\u001b[0;34m\u001b[0m\u001b[0m\n\u001b[0m\u001b[1;32m   1458\u001b[0m                         \u001b[0;31m# Check the pid and loop as waitpid has been known to\u001b[0m\u001b[0;34m\u001b[0m\u001b[0;34m\u001b[0m\u001b[0m\n\u001b[1;32m   1459\u001b[0m                         \u001b[0;31m# return 0 even without WNOHANG in odd situations.\u001b[0m\u001b[0;34m\u001b[0m\u001b[0;34m\u001b[0m\u001b[0m\n",
      "\u001b[0;32m~/programs/anaconda3/lib/python3.6/subprocess.py\u001b[0m in \u001b[0;36m_try_wait\u001b[0;34m(self, wait_flags)\u001b[0m\n\u001b[1;32m   1402\u001b[0m             \u001b[0;34m\"\"\"All callers to this function MUST hold self._waitpid_lock.\"\"\"\u001b[0m\u001b[0;34m\u001b[0m\u001b[0m\n\u001b[1;32m   1403\u001b[0m             \u001b[0;32mtry\u001b[0m\u001b[0;34m:\u001b[0m\u001b[0;34m\u001b[0m\u001b[0m\n\u001b[0;32m-> 1404\u001b[0;31m                 \u001b[0;34m(\u001b[0m\u001b[0mpid\u001b[0m\u001b[0;34m,\u001b[0m \u001b[0msts\u001b[0m\u001b[0;34m)\u001b[0m \u001b[0;34m=\u001b[0m \u001b[0mos\u001b[0m\u001b[0;34m.\u001b[0m\u001b[0mwaitpid\u001b[0m\u001b[0;34m(\u001b[0m\u001b[0mself\u001b[0m\u001b[0;34m.\u001b[0m\u001b[0mpid\u001b[0m\u001b[0;34m,\u001b[0m \u001b[0mwait_flags\u001b[0m\u001b[0;34m)\u001b[0m\u001b[0;34m\u001b[0m\u001b[0m\n\u001b[0m\u001b[1;32m   1405\u001b[0m             \u001b[0;32mexcept\u001b[0m \u001b[0mChildProcessError\u001b[0m\u001b[0;34m:\u001b[0m\u001b[0;34m\u001b[0m\u001b[0m\n\u001b[1;32m   1406\u001b[0m                 \u001b[0;31m# This happens if SIGCLD is set to be ignored or waiting\u001b[0m\u001b[0;34m\u001b[0m\u001b[0;34m\u001b[0m\u001b[0m\n",
      "\u001b[0;31mKeyboardInterrupt\u001b[0m: "
     ]
    }
   ],
   "source": [
    "import sys\n",
    "import pandas as pd\n",
    "from tqdm import tqdm_notebook\n",
    "import time\n",
    "import numpy as np\n",
    "\n",
    "sys.path.append('proto.out')\n",
    "import price_prediction_pb2\n",
    "import common_pb2\n",
    "import subprocess\n",
    "\n",
    "TESTING_HOST = 'realty-price-estimator.vrts-slb.test.vertis.yandex.net'\n",
    "LOCALHOST = 'localhost:8895'\n",
    "\n",
    "def get_price_request(row, is_corrupted):\n",
    "    GeoInfo = price_prediction_pb2.GeoInfo()\n",
    "    price_prediction_request = price_prediction_pb2.PricePredictionRequest()\n",
    "    price_prediction_request.offer_id = str(row.offer_id)\n",
    "    # print(common_pb2.OfferType)\n",
    "    price_prediction_request.offer_type = row.offer_type\n",
    "    # print(price_prediction_request.offer_type)\n",
    "    price_prediction_request.offer_category = common_pb2.APARTMENT\n",
    "    price_prediction_request.rooms_total = row.rooms\n",
    "    price_prediction_request.area = row.area\n",
    "    price_prediction_request.kitchen_space = row.kitchen_area\n",
    "    price_prediction_request.price = int(row.first_price)\n",
    "    price_prediction_request.building_id = \"\"\n",
    "    price_prediction_request.description = '''temp description'''\n",
    "    price_prediction_request.renovation = int(row.renovation)\n",
    "    price_prediction_request.subject_federation_id = int(row.subject_federation_id)\n",
    "    price_prediction_request.geocoder_address = row.unified_address + ('temp' * is_corrupted)\n",
    "    \n",
    "    price_prediction_request.geo_info.latitude = row.lat\n",
    "    price_prediction_request.geo_info.longitude = row.lon\n",
    "    price_prediction_request.geo_info.geocoder_id = 0\n",
    "    price_prediction_request.geo_info.locality_name = row.locality_name\n",
    "    price_prediction_request.geo_info.subject_federation_id = int(row.subject_federation_id)\n",
    "    price_prediction_request.geo_info.geocoder_address = row.unified_address + ('temp' * is_corrupted)\n",
    "    return price_prediction_request\n",
    "\n",
    "\n",
    "def write_request_proto_to_file(pred_request, output_file='proto.request.example.binary'):\n",
    "    global result\n",
    "    result = pred_request.SerializeToString()\n",
    "    # print(str(pred_request))\n",
    "    # print(result)\n",
    "    file = open(output_file, 'w+b')\n",
    "    file.write(result)\n",
    "    file.close()\n",
    "\n",
    "# print(common_pb2.RENOVATION_TURNKEY)\n",
    "# print(common_pb2.OfferType.Name(common_pb2.SELL))\n",
    "\n",
    "\n",
    "def test_one_request_api(price_pred_request,\n",
    "                         request_filepath = 'proto.request.rent.example.binary',\n",
    "                         response_filepath = 'proto.response.rent.example.binary',\n",
    "                         hostname = LOCALHOST):\n",
    "    write_request_proto_to_file(price_pred_request, output_file=request_filepath)\n",
    "    #print(\"calling REST API protobuf:\")\n",
    "    curl_call_string = 'curl -s --header \"Content-Type: application/protobuf\" --request POST --data-binary @' + request_filepath + ' http://' + hostname + '/api/v2/get_price > ' + response_filepath\n",
    "    #print(curl_call_string)\n",
    "    subprocess.check_call(\n",
    "        curl_call_string, shell='True')\n",
    "    price_resp = price_prediction_pb2.PricePredictionResponse()\n",
    "    read_file = open(response_filepath, 'r+b')\n",
    "    binary_string = read_file.read()\n",
    "    price_resp.ParseFromString(binary_string)\n",
    "    # print(str(price_resp))\n",
    "    \n",
    "RENT = 2\n",
    "SELL = 1\n",
    "\n",
    "MSK_MO_SUBJECT_FEDERATION_ID = 1\n",
    "PITER_LO_SUBJECT_FEDERATION_ID = 10174\n",
    "\n",
    "df = pd.read_csv('../price-estimator-rest-api/data/eval_df.csv',sep='\\t')\n",
    "df = df[df['locality_name'].notnull()]\n",
    "df = df.sample(frac=1)\n",
    "\n",
    "i = 0\n",
    "for row in tqdm_notebook(df.itertuples()):\n",
    "    if row.subject_federation_id == MSK_MO_SUBJECT_FEDERATION_ID:\n",
    "        a = 0 \n",
    "    elif row.subject_federation_id == PITER_LO_SUBJECT_FEDERATION_ID:\n",
    "        a = 0\n",
    "    elif row.subject_federation_id != MSK_MO_SUBJECT_FEDERATION_ID \\\n",
    "        and row.subject_federation_id != PITER_LO_SUBJECT_FEDERATION_ID \\\n",
    "        and row.offer_type == SELL:\n",
    "        a = 0\n",
    "    else:\n",
    "        continue\n",
    "    price_prediction_request = get_price_request(row, False)\n",
    "    test_one_request_api(price_prediction_request, request_filepath ='./proto/proto.request{}.example.binary'.format(i),\n",
    "                        response_filepath = './proto/proto.response{}.example.binary'.format(i))\n",
    "    \n",
    "    price_prediction_request = get_price_request(row, True)\n",
    "    test_one_request_api(price_prediction_request, \n",
    "                        request_filepath ='./proto/proto.request_corrupred{}.example.corrupted.binary'.format(i),\n",
    "                        response_filepath = './proto/proto.response_corrupred{}.example.corrupted.binary'.format(i))\n",
    "    i += 1\n",
    "    if i > 2000:\n",
    "        break"
   ]
  },
  {
   "cell_type": "code",
   "execution_count": 51,
   "metadata": {},
   "outputs": [],
   "source": [
    "with open('b.out') as f:\n",
    "    logs = f.readlines()[7:-2]\n",
    "result_id = []\n",
    "result_pred = []\n",
    "for row in logs:\n",
    "    if 'processing offer: ' in row:\n",
    "        result_id.append(int(row.split(': ')[1][:-1]))\n",
    "    if 'Predict exec time: ' in row:\n",
    "        result_pred.append(int(row.split(' ')[-2]))\n",
    "        "
   ]
  },
  {
   "cell_type": "code",
   "execution_count": 57,
   "metadata": {},
   "outputs": [],
   "source": [
    "predicted = pd.DataFrame(data=result_pred[1::2],index=result_id[1::2], columns=['grid'])\n",
    "predicted['model'] = result_pred[::2]\n",
    "df.index = df['offer_id']\n",
    "predicted['true'] = df.loc[predicted.index,'first_price']"
   ]
  },
  {
   "cell_type": "code",
   "execution_count": 62,
   "metadata": {},
   "outputs": [],
   "source": [
    "def error_percentage(y_test, y_pred):\n",
    "    return sum((np.divide(y_pred,y_test) - 1).apply(abs) < 0.15) / y_pred.shape[0]\n",
    "\n",
    "def mean_absolute_percentage_error(y_true, y_pred): \n",
    "    y_true, y_pred = np.array(y_true), np.array(y_pred)\n",
    "    return np.mean(np.abs((y_true - y_pred) / y_true)) * 100"
   ]
  },
  {
   "cell_type": "code",
   "execution_count": 64,
   "metadata": {},
   "outputs": [
    {
     "data": {
      "text/plain": [
       "20.191464978166415"
      ]
     },
     "execution_count": 64,
     "metadata": {},
     "output_type": "execute_result"
    }
   ],
   "source": [
    "mean_absolute_percentage_error(predicted['true'], predicted['grid'])"
   ]
  },
  {
   "cell_type": "code",
   "execution_count": 65,
   "metadata": {},
   "outputs": [
    {
     "data": {
      "text/plain": [
       "15.983706091517833"
      ]
     },
     "execution_count": 65,
     "metadata": {},
     "output_type": "execute_result"
    }
   ],
   "source": [
    "mean_absolute_percentage_error(predicted['true'], predicted['model'])"
   ]
  }
 ],
 "metadata": {
  "kernelspec": {
   "display_name": "Python 3",
   "language": "python",
   "name": "python3"
  },
  "language_info": {
   "codemirror_mode": {
    "name": "ipython",
    "version": 3
   },
   "file_extension": ".py",
   "mimetype": "text/x-python",
   "name": "python",
   "nbconvert_exporter": "python",
   "pygments_lexer": "ipython3",
   "version": "3.6.5"
  }
 },
 "nbformat": 4,
 "nbformat_minor": 2
}
