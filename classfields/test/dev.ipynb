{
 "cells": [
  {
   "cell_type": "code",
   "execution_count": 3,
   "metadata": {},
   "outputs": [
    {
     "name": "stdout",
     "output_type": "stream",
     "text": [
      "None\n"
     ]
    }
   ],
   "source": [
    "import yt.wrapper as yt\n",
    "from tqdm import tqdm\n",
    "\n",
    "import os\n",
    "import sys\n",
    "\n",
    "\n",
    "sys.path.append('../')\n",
    "sys.path.append('./')\n",
    "sys.path.append('../proto/')\n",
    "\n",
    "import torch\n",
    "import torch.nn as nn\n",
    "import torch.optim as optim\n",
    "from torch.utils.data import DataLoader\n",
    "\n",
    "from embedder_api.config import S3_ENDPOINT, S3_BUCKET\n",
    "\n",
    "from models.dssm import DSSM\n",
    "from models.dataset_yt import DSSMDataset, collate_batch\n",
    "from models.model_helper import train, get_default_device, get_optimizer\n",
    "\n",
    "NUM_WORKERS = 16\n",
    "torch.set_num_threads(NUM_WORKERS)\n",
    "\n",
    "\n",
    "print(os.getenv('INPUT_PATH'))\n",
    "\n",
    "os.environ['LOGS_PATH'] = \"./logs\"\n",
    "\n",
    "\n",
    "# Параметры обучения\n",
    "config = {\n",
    "    'epochs': 3,\n",
    "    'learning_rate': 0.01,\n",
    "    'weight_decay': 0.01,\n",
    "    'lr_step_size': 10,\n",
    "    'lr_gamma': 0.9,\n",
    "    'batch_size': 64,\n",
    "    'offer_num_factors': ['CTR_HISTORY', 'EXPOSITION_TIME', 'FLOOR', 'FLOOR_RATIO', 'PREDICTED_PRICE', 'PREDICTED_PRICE_RATIO', 'PREVIOUS_PRICE', 'PREVIOUS_PRICE_RATIO', 'PRICE', 'PRICE_SQM', 'ROOMS_OFFERED', 'ROOMS_TOTAL', 'TOTAL_AREA', 'TOTAL_IMAGES', 'YEAR', 'BUILDING_FLOORS', 'COMISSION_PERCENTAGE', 'COMISSION_VALUE', 'DESCRIPTION_CAPS_WORDS_RATIO', 'DESCRIPTION_LENGTH', 'DESCRIPTION_POSSIBLE_LENGTH_RATIO', 'DESCRIPTION_PUNKTUATION_COUNT', 'DESCRIPTION_UNIQUE_CHARS', 'DESCRIPTION_UNIQUE_TOKENS', 'PREPAYMENT_PERCENTAGE', 'PREPAYMENT_VALUE', 'TIME_TO_CITY_CENTRE', 'TIME_TO_METRO_CAR', 'TIME_TO_METRO_FOOT', 'IMAGE_META_2_OF_6_0_MAIN', 'IMAGE_META_500PX_0_MAIN', 'IMAGE_META_AADB_AESTHETIC_0_MAIN', 'IMAGE_META_BAD_QUALITY_V2_MAIN', 'IMAGE_META_BAD_QUALITY_V3_MAIN', 'IMAGE_META_DOCS_WITH_PLANS_MAIN', 'IMAGE_META_DOCS_WO_PLANS_MAIN', 'IMAGE_META_ENTRANCE_STAIRS_MAIN', 'IMAGE_META_GOOD_QUALITY_V2_MAIN', 'IMAGE_META_GOOD_QUALITY_V3_MAIN', 'IMAGE_META_INTERIOR_MAIN', 'IMAGE_META_KITCHEN_MAIN', 'IMAGE_META_MAPS_MAIN', 'IMAGE_META_OK_QUALITY_V2_MAIN', 'IMAGE_META_OK_QUALITY_V3_MAIN', 'IMAGE_META_OTHER_MAIN', 'IMAGE_META_OUTSIDE_MAIN', 'IMAGE_META_PAIRWISE_ATTR_0_MAIN', 'IMAGE_META_QUALITY_IMAGE_COSMETIC_MAIN', 'IMAGE_META_QUALITY_IMAGE_EURO_MAIN', 'IMAGE_META_QUALITY_IMAGE_NEED_REPAIR_MAIN', 'IMAGE_META_QUALITY_IMAGE_OTHER_MAIN', 'IMAGE_META_SIMILAR_AWFUL_MAIN', 'IMAGE_META_SIMILAR_EURO_MAIN', 'IMAGE_META_SIMILAR_FRESH_MAIN', 'IMAGE_META_SIMILAR_NEED_REPAIR_MAIN', 'IMAGE_META_SPAM_MAIN', 'IMAGE_META_WC_MAIN', 'IMAGE_SIZE_X', 'IMAGE_SIZE_Y'],\n",
    "    'query_num_factors': ['USER_CTR', 'USER_CTR_SELL', 'USER_CTR_RENT', 'SELL_RATIO', 'SELL_CLICKED_RATIO', 'RENT_RATIO', 'RENT_CLICKED_RATIO', 'VIEWED_SECONDARY_RATIO', 'VIEWED_NEW_RATIO', 'VIEWED_NEW_SECONDARY_RATIO', 'VIEWED_ROOM_RATIO_1', 'VIEWED_ROOM_RATIO_2', 'VIEWED_ROOM_RATIO_3', 'VIEWED_ROOM_4_RATIO_MORE', 'CLICKED_SECONDARY_RATIO', 'CLICKED_NEW_RATIO', 'CLICKED_NEW_SECONDARY_RATIO', 'CLICKED_ROOM_RATIO_1', 'CLICKED_ROOM_RATIO_2', 'CLICKED_ROOM_RATIO_3', 'CLICKED_ROOM_4_RATIO_MORE', 'CLICKED_RENT_RATIO', 'PHONE_SHOW_ROOM_RATIO_1', 'PHONE_SHOW_ROOM_RATIO_2', 'PHONE_SHOW_ROOM_RATIO_3', 'PHONE_SHOW_ROOM_4_RATIO_MORE', 'PHONE_SHOW_RATIO_SELL', 'PHONE_SHOW_CARD_RATIO_SELL', 'PHONE_SHOW_LISTING_RATIO_SELL', 'PHONE_SHOW_RATIO_RENT', 'PHONE_SHOW_CARD_RATIO_RENT', 'PHONE_SHOW_LISTING_RATIO_RENT', 'AVG_BUILDING_FLOORS_CLICKED', 'MAX_BUILDING_FLOORS_CLICKED', 'MIN_BUILDING_FLOORS_CLICKED', 'AVG_BUILDING_FLOORS_VIEWED', 'MAX_BUILDING_FLOORS_VIEWED', 'MIN_BUILDING_FLOORS_VIEWED', 'AVG_CTR_HISTORY_SELL', 'AVG_CTR_HISTORY_RENT', 'AVG_FLOOR_CLICKED', 'MAX_FLOOR_CLICKED', 'MIN_FLOOR_CLICKED', 'AVG_FLOOR_VIEWED', 'MAX_FLOOR_VIEWED', 'MIN_FLOOR_VIEWED', 'MIN_PRICE_SELL_VIEWED', 'MAX_PRICE_SELL_VIEWED', 'AVG_PRICE_SELL_VIEWED', 'MAX_PRICE_SELL_CLICKED', 'AVG_PRICE_SELL_CLICKED', 'MIN_PRICE_RENT_VIEWED', 'MAX_PRICE_RENT_VIEWED', 'AVG_PRICE_RENT_VIEWED', 'MAX_PRICE_RENT_CLICKED', 'AVG_PRICE_RENT_CLICKED', 'MIN_PRICE_SQM_SELL_VIEWED', 'MAX_PRICE_SQM_SELL_VIEWED', 'AVG_PRICE_SQM_SELL_VIEWED', 'AVG_PRICE_SQM_SELL_CLICKED', 'MIN_PRICE_SQM_RENT_VIEWED', 'MAX_PRICE_SQM_RENT_VIEWED', 'AVG_PRICE_SQM_RENT_VIEWED', 'AVG_PRICE_SQM_RENT_CLICKED', 'AVG_TOTAL_AREA_SELL_VIEWED', 'MAX_TOTAL_AREA_SELL_VIEWED', 'MIN_TOTAL_AREA_SELL_VIEWED', 'AVG_TOTAL_AREA_SELL_CLICKED', 'MAX_TOTAL_AREA_SELL_CLICKED', 'MIN_TOTAL_AREA_SELL_CLICKED', 'AVG_TOTAL_AREA_RENT_VIEWED', 'MAX_TOTAL_AREA_RENT_VIEWED', 'MIN_TOTAL_AREA_RENT_VIEWED', 'AVG_TOTAL_AREA_RENT_CLICKED', 'MAX_TOTAL_AREA_RENT_CLICKED', 'MIN_TOTAL_AREA_RENT_CLICKED', 'AVG_YEAR_SELL_VIEWED', 'MAX_YEAR_SELL_VIEWED', 'MIN_YEAR_SELL_VIEWED', 'AVG_YEAR_SELL_CLICKED', 'MAX_YEAR_SELL_CLICKED', 'MIN_YEAR_SELL_CLICKED', 'AVG_YEAR_RENT_VIEWED', 'MAX_YEAR_RENT_VIEWED', 'MIN_YEAR_RENT_VIEWED', 'AVG_YEAR_RENT_CLICKED', 'MAX_YEAR_RENT_CLICKED', 'MIN_YEAR_RENT_CLICKED'],\n",
    "    \"hidden_dim\": 96,\n",
    "    \"embedding_dim\": 32,\n",
    "    \"dropout_first\": 0.2,\n",
    "    \"dropout_second\": 0.1,\n",
    "    'device': get_default_device(),\n",
    "    'logging_folder': os.getenv('LOGS_PATH')\n",
    "}\n",
    "\n",
    "\n",
    "# YT\n",
    "POOL_PATH_TRAIN = '//home/verticals/realty/ranking/dev_dssm_1000'\n",
    "POOL_PATH_TEST = '//home/verticals/realty/ranking/dev_dssm_1000'\n",
    "\n",
    "\n",
    "\n",
    "train_dataset = DSSMDataset(POOL_PATH_TRAIN)\n",
    "test_dataset = DSSMDataset(POOL_PATH_TEST)\n",
    "\n",
    "train_loader = DataLoader(train_dataset,\n",
    "                          batch_size=config['batch_size'],\n",
    "                          shuffle=False,\n",
    "                          collate_fn=collate_batch)\n",
    "test_loader = DataLoader(test_dataset,\n",
    "                         batch_size=config['batch_size'],\n",
    "                         shuffle=False,\n",
    "                         collate_fn=collate_batch)\n",
    "\n",
    "# print(1)\n",
    "# model = DSSM(config).to(config['device'])\n",
    "# opt = get_optimizer(model, lr=config['learning_rate'], wd=config['weight_decay'])\n",
    "# scheduler = optim.lr_scheduler.StepLR(opt, step_size=config['lr_step_size'], gamma=config['lr_gamma'])\n",
    "\n",
    "# criterion = nn.BCEWithLogitsLoss()\n",
    "\n",
    "# train(model, opt, scheduler, criterion, train_loader, test_loader, config)\n"
   ]
  },
  {
   "cell_type": "code",
   "execution_count": null,
   "metadata": {},
   "outputs": [],
   "source": [
    "row = next(train_dataset.iterator)"
   ]
  },
  {
   "cell_type": "code",
   "execution_count": null,
   "metadata": {},
   "outputs": [],
   "source": []
  },
  {
   "cell_type": "code",
   "execution_count": null,
   "metadata": {},
   "outputs": [],
   "source": []
  },
  {
   "cell_type": "code",
   "execution_count": null,
   "metadata": {},
   "outputs": [],
   "source": []
  },
  {
   "cell_type": "code",
   "execution_count": null,
   "metadata": {},
   "outputs": [],
   "source": []
  },
  {
   "cell_type": "code",
   "execution_count": null,
   "metadata": {},
   "outputs": [],
   "source": []
  },
  {
   "cell_type": "code",
   "execution_count": null,
   "metadata": {},
   "outputs": [],
   "source": []
  },
  {
   "cell_type": "code",
   "execution_count": null,
   "metadata": {},
   "outputs": [],
   "source": []
  },
  {
   "cell_type": "code",
   "execution_count": null,
   "metadata": {},
   "outputs": [],
   "source": []
  },
  {
   "cell_type": "code",
   "execution_count": null,
   "metadata": {},
   "outputs": [],
   "source": []
  },
  {
   "cell_type": "code",
   "execution_count": 1,
   "metadata": {},
   "outputs": [
    {
     "name": "stdout",
     "output_type": "stream",
     "text": [
      "None\n"
     ]
    }
   ],
   "source": [
    "import yt.wrapper as yt\n",
    "from tqdm import tqdm\n",
    "\n",
    "import os\n",
    "import sys\n",
    "\n",
    "\n",
    "sys.path.append('../')\n",
    "sys.path.append('./')\n",
    "sys.path.append('../proto/')\n",
    "\n",
    "import torch\n",
    "import torch.nn as nn\n",
    "import torch.optim as optim\n",
    "from torch.utils.data import DataLoader\n",
    "\n",
    "from embedder_api.config import S3_ENDPOINT, S3_BUCKET\n",
    "\n",
    "from models.dssm import DSSM\n",
    "from models.dataset_yt import DSSMDataset, collate_batch, collate_batch_query\n",
    "from models.model_helper import train, get_default_device, get_optimizer, inference_query\n",
    "\n",
    "NUM_WORKERS = 16\n",
    "torch.set_num_threads(NUM_WORKERS)\n",
    "\n",
    "\n",
    "print(os.getenv('INPUT_PATH'))\n",
    "\n",
    "os.environ['LOGS_PATH'] = \"./logs\"\n",
    "\n",
    "\n",
    "# Параметры обучения\n",
    "config = {\n",
    "    'epochs': 3,\n",
    "    'learning_rate': 0.01,\n",
    "    'weight_decay': 0.01,\n",
    "    'lr_step_size': 10,\n",
    "    'lr_gamma': 0.9,\n",
    "    'batch_size': 64,\n",
    "    'offer_num_factors': ['CTR_HISTORY', 'EXPOSITION_TIME', 'FLOOR', 'FLOOR_RATIO', 'PREDICTED_PRICE', 'PREDICTED_PRICE_RATIO', 'PREVIOUS_PRICE', 'PREVIOUS_PRICE_RATIO', 'PRICE', 'PRICE_SQM', 'ROOMS_OFFERED', 'ROOMS_TOTAL', 'TOTAL_AREA', 'TOTAL_IMAGES', 'YEAR', 'BUILDING_FLOORS', 'COMISSION_PERCENTAGE', 'COMISSION_VALUE', 'DESCRIPTION_CAPS_WORDS_RATIO', 'DESCRIPTION_LENGTH', 'DESCRIPTION_POSSIBLE_LENGTH_RATIO', 'DESCRIPTION_PUNKTUATION_COUNT', 'DESCRIPTION_UNIQUE_CHARS', 'DESCRIPTION_UNIQUE_TOKENS', 'PREPAYMENT_PERCENTAGE', 'PREPAYMENT_VALUE', 'TIME_TO_CITY_CENTRE', 'TIME_TO_METRO_CAR', 'TIME_TO_METRO_FOOT', 'IMAGE_META_2_OF_6_0_MAIN', 'IMAGE_META_500PX_0_MAIN', 'IMAGE_META_AADB_AESTHETIC_0_MAIN', 'IMAGE_META_BAD_QUALITY_V2_MAIN', 'IMAGE_META_BAD_QUALITY_V3_MAIN', 'IMAGE_META_DOCS_WITH_PLANS_MAIN', 'IMAGE_META_DOCS_WO_PLANS_MAIN', 'IMAGE_META_ENTRANCE_STAIRS_MAIN', 'IMAGE_META_GOOD_QUALITY_V2_MAIN', 'IMAGE_META_GOOD_QUALITY_V3_MAIN', 'IMAGE_META_INTERIOR_MAIN', 'IMAGE_META_KITCHEN_MAIN', 'IMAGE_META_MAPS_MAIN', 'IMAGE_META_OK_QUALITY_V2_MAIN', 'IMAGE_META_OK_QUALITY_V3_MAIN', 'IMAGE_META_OTHER_MAIN', 'IMAGE_META_OUTSIDE_MAIN', 'IMAGE_META_PAIRWISE_ATTR_0_MAIN', 'IMAGE_META_QUALITY_IMAGE_COSMETIC_MAIN', 'IMAGE_META_QUALITY_IMAGE_EURO_MAIN', 'IMAGE_META_QUALITY_IMAGE_NEED_REPAIR_MAIN', 'IMAGE_META_QUALITY_IMAGE_OTHER_MAIN', 'IMAGE_META_SIMILAR_AWFUL_MAIN', 'IMAGE_META_SIMILAR_EURO_MAIN', 'IMAGE_META_SIMILAR_FRESH_MAIN', 'IMAGE_META_SIMILAR_NEED_REPAIR_MAIN', 'IMAGE_META_SPAM_MAIN', 'IMAGE_META_WC_MAIN', 'IMAGE_SIZE_X', 'IMAGE_SIZE_Y'],\n",
    "    'query_num_factors': ['USER_CTR', 'USER_CTR_SELL', 'USER_CTR_RENT', 'SELL_RATIO', 'SELL_CLICKED_RATIO', 'RENT_RATIO', 'RENT_CLICKED_RATIO', 'VIEWED_SECONDARY_RATIO', 'VIEWED_NEW_RATIO', 'VIEWED_NEW_SECONDARY_RATIO', 'VIEWED_ROOM_RATIO_1', 'VIEWED_ROOM_RATIO_2', 'VIEWED_ROOM_RATIO_3', 'VIEWED_ROOM_4_RATIO_MORE', 'CLICKED_SECONDARY_RATIO', 'CLICKED_NEW_RATIO', 'CLICKED_NEW_SECONDARY_RATIO', 'CLICKED_ROOM_RATIO_1', 'CLICKED_ROOM_RATIO_2', 'CLICKED_ROOM_RATIO_3', 'CLICKED_ROOM_4_RATIO_MORE', 'CLICKED_RENT_RATIO', 'PHONE_SHOW_ROOM_RATIO_1', 'PHONE_SHOW_ROOM_RATIO_2', 'PHONE_SHOW_ROOM_RATIO_3', 'PHONE_SHOW_ROOM_4_RATIO_MORE', 'PHONE_SHOW_RATIO_SELL', 'PHONE_SHOW_CARD_RATIO_SELL', 'PHONE_SHOW_LISTING_RATIO_SELL', 'PHONE_SHOW_RATIO_RENT', 'PHONE_SHOW_CARD_RATIO_RENT', 'PHONE_SHOW_LISTING_RATIO_RENT', 'AVG_BUILDING_FLOORS_CLICKED', 'MAX_BUILDING_FLOORS_CLICKED', 'MIN_BUILDING_FLOORS_CLICKED', 'AVG_BUILDING_FLOORS_VIEWED', 'MAX_BUILDING_FLOORS_VIEWED', 'MIN_BUILDING_FLOORS_VIEWED', 'AVG_CTR_HISTORY_SELL', 'AVG_CTR_HISTORY_RENT', 'AVG_FLOOR_CLICKED', 'MAX_FLOOR_CLICKED', 'MIN_FLOOR_CLICKED', 'AVG_FLOOR_VIEWED', 'MAX_FLOOR_VIEWED', 'MIN_FLOOR_VIEWED', 'MIN_PRICE_SELL_VIEWED', 'MAX_PRICE_SELL_VIEWED', 'AVG_PRICE_SELL_VIEWED', 'MAX_PRICE_SELL_CLICKED', 'AVG_PRICE_SELL_CLICKED', 'MIN_PRICE_RENT_VIEWED', 'MAX_PRICE_RENT_VIEWED', 'AVG_PRICE_RENT_VIEWED', 'MAX_PRICE_RENT_CLICKED', 'AVG_PRICE_RENT_CLICKED', 'MIN_PRICE_SQM_SELL_VIEWED', 'MAX_PRICE_SQM_SELL_VIEWED', 'AVG_PRICE_SQM_SELL_VIEWED', 'AVG_PRICE_SQM_SELL_CLICKED', 'MIN_PRICE_SQM_RENT_VIEWED', 'MAX_PRICE_SQM_RENT_VIEWED', 'AVG_PRICE_SQM_RENT_VIEWED', 'AVG_PRICE_SQM_RENT_CLICKED', 'AVG_TOTAL_AREA_SELL_VIEWED', 'MAX_TOTAL_AREA_SELL_VIEWED', 'MIN_TOTAL_AREA_SELL_VIEWED', 'AVG_TOTAL_AREA_SELL_CLICKED', 'MAX_TOTAL_AREA_SELL_CLICKED', 'MIN_TOTAL_AREA_SELL_CLICKED', 'AVG_TOTAL_AREA_RENT_VIEWED', 'MAX_TOTAL_AREA_RENT_VIEWED', 'MIN_TOTAL_AREA_RENT_VIEWED', 'AVG_TOTAL_AREA_RENT_CLICKED', 'MAX_TOTAL_AREA_RENT_CLICKED', 'MIN_TOTAL_AREA_RENT_CLICKED', 'AVG_YEAR_SELL_VIEWED', 'MAX_YEAR_SELL_VIEWED', 'MIN_YEAR_SELL_VIEWED', 'AVG_YEAR_SELL_CLICKED', 'MAX_YEAR_SELL_CLICKED', 'MIN_YEAR_SELL_CLICKED', 'AVG_YEAR_RENT_VIEWED', 'MAX_YEAR_RENT_VIEWED', 'MIN_YEAR_RENT_VIEWED', 'AVG_YEAR_RENT_CLICKED', 'MAX_YEAR_RENT_CLICKED', 'MIN_YEAR_RENT_CLICKED'],\n",
    "    \"hidden_dim\": 96,\n",
    "    \"embedding_dim\": 32,\n",
    "    \"dropout_first\": 0.2,\n",
    "    \"dropout_second\": 0.1,\n",
    "    'device': get_default_device(),\n",
    "    'logging_folder': os.getenv('LOGS_PATH')\n",
    "}\n",
    "\n",
    "\n",
    "# YT\n",
    "POOL_PATH = '//home/verticals/realty/ranking/tmp/output1__iNan-UQPQCOkWibfLWiszA'\n",
    "\n",
    "\n",
    "\n",
    "val_dataset = DSSMDataset(POOL_PATH)\n",
    "\n",
    "val_loader = DataLoader(val_dataset,\n",
    "                          batch_size=config['batch_size'],\n",
    "                          shuffle=False,\n",
    "                          collate_fn=collate_batch_query)\n",
    "# print(1)\n",
    "model = DSSM(config).to(config['device'])\n",
    "# opt = get_optimizer(model, lr=config['learning_rate'], wd=config['weight_decay'])\n",
    "# scheduler = optim.lr_scheduler.StepLR(opt, step_size=config['lr_step_size'], gamma=config['lr_gamma'])\n",
    "\n",
    "# criterion = nn.BCEWithLogitsLoss()\n",
    "\n",
    "# train(model, opt, scheduler, criterion, train_loader, test_loader, config)\n",
    "\n"
   ]
  },
  {
   "cell_type": "code",
   "execution_count": 2,
   "metadata": {},
   "outputs": [
    {
     "name": "stderr",
     "output_type": "stream",
     "text": [
      " inference : 1452it [00:04, 303.82it/s]\n"
     ]
    }
   ],
   "source": [
    "res = inference_query(model, val_loader, config['device'])"
   ]
  },
  {
   "cell_type": "code",
   "execution_count": 5,
   "metadata": {},
   "outputs": [
    {
     "data": {
      "text/plain": [
       "92924"
      ]
     },
     "execution_count": 5,
     "metadata": {},
     "output_type": "execute_result"
    }
   ],
   "source": [
    "len(res)"
   ]
  },
  {
   "cell_type": "code",
   "execution_count": 19,
   "metadata": {},
   "outputs": [],
   "source": [
    "res = {}\n",
    "\n",
    "for c_id, vec in zip(crypta_ids, query_vec):\n",
    "    res[c_id] = vec.tolist()"
   ]
  },
  {
   "cell_type": "code",
   "execution_count": 2,
   "metadata": {},
   "outputs": [],
   "source": [
    "for row in val_loader:\n",
    "    break"
   ]
  },
  {
   "cell_type": "code",
   "execution_count": 2,
   "metadata": {},
   "outputs": [
    {
     "name": "stdout",
     "output_type": "stream",
     "text": [
      "1601275873.87575\n"
     ]
    }
   ],
   "source": [
    "import sys\n",
    "sys.path.append('../proto/')\n",
    "from ads.bsyeti.libs.log_protos.universal_update_pb2 import TProfileUpdate\n",
    "from yabs.proto.user_profile_pb2 import Profile\n",
    "# from yabs.proto.keywords_pb2 import KI_REALTY_SITEID_VIEWED\n",
    "KI_REALTY_VECTOR = 995\n",
    "\n",
    "import datetime;\n",
    "ts = \n",
    "print(ts)\n",
    "# 1601158602.5595"
   ]
  },
  {
   "cell_type": "code",
   "execution_count": 13,
   "metadata": {},
   "outputs": [
    {
     "data": {
      "text/plain": [
       "1601276129.0"
      ]
     },
     "execution_count": 13,
     "metadata": {},
     "output_type": "execute_result"
    }
   ],
   "source": [
    "ts = datetime.datetime.now().replace(microsecond=0).timestamp()\n",
    "ts"
   ]
  },
  {
   "cell_type": "code",
   "execution_count": 11,
   "metadata": {},
   "outputs": [],
   "source": [
    "ts = int(datetime.datetime.now().timestamp())\n",
    "\n",
    "item = Profile.ProfileItem()\n",
    "item.keyword_id = KI_REALTY_VECTOR\n",
    "item.string_value = b\"lolkekcheburek\"\n",
    "item.update_time = ts\n",
    "\n",
    "profile = Profile()\n",
    "profile.items.append(item)\n",
    "\n",
    "command = TProfileUpdate.TCommand()\n",
    "command.add.CopyFrom(profile)\n",
    "\n",
    "msg = TProfileUpdate()\n",
    "msg.crypta_id = 123\n",
    "msg.commands.append(command)\n",
    "msg.timestamp = ts"
   ]
  },
  {
   "cell_type": "code",
   "execution_count": 12,
   "metadata": {},
   "outputs": [
    {
     "data": {
      "text/plain": [
       "commands {\n",
       "  add {\n",
       "    items {\n",
       "      keyword_id: 995\n",
       "      update_time: 1601276063\n",
       "      string_value: \"lolkekcheburek\"\n",
       "    }\n",
       "  }\n",
       "}\n",
       "timestamp: 1601276063\n",
       "crypta_id: 123"
      ]
     },
     "execution_count": 12,
     "metadata": {},
     "output_type": "execute_result"
    }
   ],
   "source": [
    "msg"
   ]
  },
  {
   "cell_type": "code",
   "execution_count": 22,
   "metadata": {},
   "outputs": [],
   "source": [
    "message = msg.SerializeToString()"
   ]
  },
  {
   "cell_type": "code",
   "execution_count": 19,
   "metadata": {},
   "outputs": [],
   "source": [
    "value = bytes(\";\".join([str(x) for x in [1.00001,-2.13412]]), 'utf8')"
   ]
  },
  {
   "cell_type": "code",
   "execution_count": 44,
   "metadata": {},
   "outputs": [
    {
     "ename": "AttributeError",
     "evalue": "'google.protobuf.pyext._message.MessageDescriptor' object has no attribute 'SerializeToString'",
     "output_type": "error",
     "traceback": [
      "\u001b[0;31m---------------------------------------------------------------------------\u001b[0m",
      "\u001b[0;31mAttributeError\u001b[0m                            Traceback (most recent call last)",
      "\u001b[0;32m<ipython-input-44-54c38f716566>\u001b[0m in \u001b[0;36m<module>\u001b[0;34m\u001b[0m\n\u001b[0;32m----> 1\u001b[0;31m \u001b[0mmsg\u001b[0m\u001b[0;34m.\u001b[0m\u001b[0mDESCRIPTOR\u001b[0m\u001b[0;34m.\u001b[0m\u001b[0mSerializeToString\u001b[0m\u001b[0;34m(\u001b[0m\u001b[0;34m)\u001b[0m\u001b[0;34m\u001b[0m\u001b[0;34m\u001b[0m\u001b[0m\n\u001b[0m",
      "\u001b[0;31mAttributeError\u001b[0m: 'google.protobuf.pyext._message.MessageDescriptor' object has no attribute 'SerializeToString'"
     ]
    }
   ],
   "source": [
    "msg.DESCRIPTOR.SerializeToString()"
   ]
  },
  {
   "cell_type": "code",
   "execution_count": 45,
   "metadata": {},
   "outputs": [],
   "source": [
    "from google.protobuf.pyext._message import MessageDe"
   ]
  },
  {
   "cell_type": "code",
   "execution_count": 61,
   "metadata": {},
   "outputs": [],
   "source": [
    "from ads.bsyeti.libs.log_protos.universal_update_pb2 import DESCRIPTOR as universal_update_pb2_descr\n",
    "\n",
    "\n",
    "from ads.bsyeti.libs.log_protos.universal_update_pb2 import yabs_dot_proto_dot_user__profile__pb2"
   ]
  },
  {
   "cell_type": "code",
   "execution_count": 56,
   "metadata": {},
   "outputs": [
    {
     "data": {
      "text/plain": [
       "b'\\n1ads/bsyeti/libs/log_protos/universal_update.proto\\x12\\rNBSYeti.NLogs\\x1a\\x1dyabs/proto/user_profile.proto\"\\xfb\\x02\\n\\x0eTProfileUpdate\\x128\\n\\x08commands\\x18\\x01 \\x03(\\x0b2&.NBSYeti.NLogs.TProfileUpdate.TCommand\\x12\\x11\\n\\ttimestamp\\x18\\x02 \\x01(\\x04\\x12\\x14\\n\\nyandex_uid\\x18\\x03 \\x01(\\x04H\\x00\\x12\\x16\\n\\x0cpassport_uid\\x18\\x04 \\x01(\\x04H\\x00\\x12\\x0e\\n\\x04idfa\\x18\\x05 \\x01(\\tH\\x00\\x12\\x0e\\n\\x04gaid\\x18\\x06 \\x01(\\tH\\x00\\x12\\x0e\\n\\x04duid\\x18\\x07 \\x01(\\x04H\\x00\\x12\\x13\\n\\tcrypta_id\\x18\\x08 \\x01(\\x04H\\x00\\x12\\x0e\\n\\x04oaid\\x18\\t \\x01(\\tH\\x00\\x1a\\x8d\\x01\\n\\x08TCommand\\x12\"\\n\\x03add\\x18\\x01 \\x01(\\x0b2\\x13.yabs.proto.ProfileH\\x00\\x12%\\n\\x06remove\\x18\\x02 \\x01(\\x0b2\\x13.yabs.proto.ProfileH\\x00\\x12,\\n\\radd_secondary\\x18\\x03 \\x01(\\x0b2\\x13.yabs.proto.ProfileH\\x00B\\x08\\n\\x06actionB\\t\\n\\x07user_id'"
      ]
     },
     "execution_count": 56,
     "metadata": {},
     "output_type": "execute_result"
    }
   ],
   "source": [
    "universal_update_pb2_descr.serialized_pb"
   ]
  },
  {
   "cell_type": "code",
   "execution_count": 75,
   "metadata": {},
   "outputs": [
    {
     "data": {
      "text/plain": [
       "'ads/bsyeti/libs/log_protos/universal_update.proto'"
      ]
     },
     "execution_count": 75,
     "metadata": {},
     "output_type": "execute_result"
    }
   ],
   "source": [
    "import gzip\n",
    "\n",
    "f = gzip.open('./file.txt.gz', 'wb')\n",
    "f.write(content)\n",
    "f.close()"
   ]
  },
  {
   "cell_type": "code",
   "execution_count": 78,
   "metadata": {},
   "outputs": [],
   "source": [
    "content = universal_update_pb2_descr.serialized_pb"
   ]
  },
  {
   "cell_type": "code",
   "execution_count": 9,
   "metadata": {},
   "outputs": [],
   "source": [
    "import torch\n",
    "import torch.optim as optim\n",
    "from torch.utils.data import IterableDataset, DataLoader\n",
    "# from torch.utils.data import DataLoader\n",
    "\n",
    "import datetime\n",
    "import json\n",
    "import os\n",
    "from tqdm import tqdm\n",
    "import sys\n",
    "import math\n",
    "\n",
    "import yt.wrapper as yt\n",
    "\n",
    "yt.config[\"proxy\"][\"url\"] = \"hahn\"\n",
    "yt.config[\"read_parallel\"][\"enable\"] = True\n",
    "yt.config[\"remote_temp_tables_directory\"] = \"//home/verticals/realty/ranking/tmp\""
   ]
  },
  {
   "cell_type": "code",
   "execution_count": 58,
   "metadata": {},
   "outputs": [],
   "source": [
    "class DSSMDataset(IterableDataset):\n",
    "    def __init__(self, mr_table_json):\n",
    "        super(DSSMDataset).__init__()\n",
    "\n",
    "        self.mr_json = json.loads(mr_table_json)\n",
    "        self.mr_table = self.mr_json['table']\n",
    "\n",
    "        self.start = 0\n",
    "        self.end = 1000\n",
    "\n",
    "    def __iter__(self):\n",
    "        worker_info = torch.utils.data.get_worker_info()\n",
    "        print(worker_info)\n",
    "        if worker_info is None:  # single-process data loading, return the full iterator\n",
    "            iter_start = self.start\n",
    "            iter_end = self.end\n",
    "        else:  # in a worker process\n",
    "            # split workload\n",
    "            per_worker = int(math.ceil((self.end - self.start) / float(worker_info.num_workers)))\n",
    "            worker_id = worker_info.id\n",
    "            iter_start = self.start + worker_id * per_worker\n",
    "            iter_end = min(iter_start + per_worker, self.end)\n",
    "\n",
    "        return iter(range(iter_start, iter_end)) #yt.read_table(yt.TablePath(self.pool_path, start_index=iter_start, end_index=iter_end))\n",
    "\n",
    "class MyIterableDataset(IterableDataset):\n",
    "    def __init__(self, start, end):\n",
    "        super(MyIterableDataset).__init__()\n",
    "        assert end > start, \"this example code only works with end >= start\"\n",
    "        self.start = start\n",
    "        self.end = end\n",
    "\n",
    "    def __iter__(self):\n",
    "        worker_info = torch.utils.data.get_worker_info()\n",
    "        if worker_info is None:  # single-process data loading, return the full iterator\n",
    "            iter_start = self.start\n",
    "            iter_end = self.end\n",
    "        else:  # in a worker process\n",
    "            # split workload\n",
    "            per_worker = int(math.ceil((self.end - self.start) / float(worker_info.num_workers)))\n",
    "            worker_id = worker_info.id\n",
    "            iter_start = self.start + worker_id * per_worker\n",
    "            iter_end = min(iter_start + per_worker, self.end)\n",
    "        return iter(range(iter_start, iter_end))"
   ]
  },
  {
   "cell_type": "code",
   "execution_count": 62,
   "metadata": {},
   "outputs": [
    {
     "ename": "RuntimeError",
     "evalue": "DataLoader worker (pid(s) 47472, 47474) exited unexpectedly",
     "output_type": "error",
     "traceback": [
      "\u001b[0;31m---------------------------------------------------------------------------\u001b[0m",
      "\u001b[0;31mRuntimeError\u001b[0m                              Traceback (most recent call last)",
      "\u001b[0;32m~/Work/vertis-ml/realty/ranking/realty-embedder/venv/lib/python3.8/site-packages/torch/utils/data/dataloader.py\u001b[0m in \u001b[0;36m_try_get_data\u001b[0;34m(self, timeout)\u001b[0m\n\u001b[1;32m    760\u001b[0m         \u001b[0;32mtry\u001b[0m\u001b[0;34m:\u001b[0m\u001b[0;34m\u001b[0m\u001b[0;34m\u001b[0m\u001b[0m\n\u001b[0;32m--> 761\u001b[0;31m             \u001b[0mdata\u001b[0m \u001b[0;34m=\u001b[0m \u001b[0mself\u001b[0m\u001b[0;34m.\u001b[0m\u001b[0m_data_queue\u001b[0m\u001b[0;34m.\u001b[0m\u001b[0mget\u001b[0m\u001b[0;34m(\u001b[0m\u001b[0mtimeout\u001b[0m\u001b[0;34m=\u001b[0m\u001b[0mtimeout\u001b[0m\u001b[0;34m)\u001b[0m\u001b[0;34m\u001b[0m\u001b[0;34m\u001b[0m\u001b[0m\n\u001b[0m\u001b[1;32m    762\u001b[0m             \u001b[0;32mreturn\u001b[0m \u001b[0;34m(\u001b[0m\u001b[0;32mTrue\u001b[0m\u001b[0;34m,\u001b[0m \u001b[0mdata\u001b[0m\u001b[0;34m)\u001b[0m\u001b[0;34m\u001b[0m\u001b[0;34m\u001b[0m\u001b[0m\n",
      "\u001b[0;32m/Library/Developer/CommandLineTools/Library/Frameworks/Python3.framework/Versions/3.8/lib/python3.8/multiprocessing/queues.py\u001b[0m in \u001b[0;36mget\u001b[0;34m(self, block, timeout)\u001b[0m\n\u001b[1;32m    106\u001b[0m                     \u001b[0mtimeout\u001b[0m \u001b[0;34m=\u001b[0m \u001b[0mdeadline\u001b[0m \u001b[0;34m-\u001b[0m \u001b[0mtime\u001b[0m\u001b[0;34m.\u001b[0m\u001b[0mmonotonic\u001b[0m\u001b[0;34m(\u001b[0m\u001b[0;34m)\u001b[0m\u001b[0;34m\u001b[0m\u001b[0;34m\u001b[0m\u001b[0m\n\u001b[0;32m--> 107\u001b[0;31m                     \u001b[0;32mif\u001b[0m \u001b[0;32mnot\u001b[0m \u001b[0mself\u001b[0m\u001b[0;34m.\u001b[0m\u001b[0m_poll\u001b[0m\u001b[0;34m(\u001b[0m\u001b[0mtimeout\u001b[0m\u001b[0;34m)\u001b[0m\u001b[0;34m:\u001b[0m\u001b[0;34m\u001b[0m\u001b[0;34m\u001b[0m\u001b[0m\n\u001b[0m\u001b[1;32m    108\u001b[0m                         \u001b[0;32mraise\u001b[0m \u001b[0mEmpty\u001b[0m\u001b[0;34m\u001b[0m\u001b[0;34m\u001b[0m\u001b[0m\n",
      "\u001b[0;32m/Library/Developer/CommandLineTools/Library/Frameworks/Python3.framework/Versions/3.8/lib/python3.8/multiprocessing/connection.py\u001b[0m in \u001b[0;36mpoll\u001b[0;34m(self, timeout)\u001b[0m\n\u001b[1;32m    256\u001b[0m         \u001b[0mself\u001b[0m\u001b[0;34m.\u001b[0m\u001b[0m_check_readable\u001b[0m\u001b[0;34m(\u001b[0m\u001b[0;34m)\u001b[0m\u001b[0;34m\u001b[0m\u001b[0;34m\u001b[0m\u001b[0m\n\u001b[0;32m--> 257\u001b[0;31m         \u001b[0;32mreturn\u001b[0m \u001b[0mself\u001b[0m\u001b[0;34m.\u001b[0m\u001b[0m_poll\u001b[0m\u001b[0;34m(\u001b[0m\u001b[0mtimeout\u001b[0m\u001b[0;34m)\u001b[0m\u001b[0;34m\u001b[0m\u001b[0;34m\u001b[0m\u001b[0m\n\u001b[0m\u001b[1;32m    258\u001b[0m \u001b[0;34m\u001b[0m\u001b[0m\n",
      "\u001b[0;32m/Library/Developer/CommandLineTools/Library/Frameworks/Python3.framework/Versions/3.8/lib/python3.8/multiprocessing/connection.py\u001b[0m in \u001b[0;36m_poll\u001b[0;34m(self, timeout)\u001b[0m\n\u001b[1;32m    423\u001b[0m     \u001b[0;32mdef\u001b[0m \u001b[0m_poll\u001b[0m\u001b[0;34m(\u001b[0m\u001b[0mself\u001b[0m\u001b[0;34m,\u001b[0m \u001b[0mtimeout\u001b[0m\u001b[0;34m)\u001b[0m\u001b[0;34m:\u001b[0m\u001b[0;34m\u001b[0m\u001b[0;34m\u001b[0m\u001b[0m\n\u001b[0;32m--> 424\u001b[0;31m         \u001b[0mr\u001b[0m \u001b[0;34m=\u001b[0m \u001b[0mwait\u001b[0m\u001b[0;34m(\u001b[0m\u001b[0;34m[\u001b[0m\u001b[0mself\u001b[0m\u001b[0;34m]\u001b[0m\u001b[0;34m,\u001b[0m \u001b[0mtimeout\u001b[0m\u001b[0;34m)\u001b[0m\u001b[0;34m\u001b[0m\u001b[0;34m\u001b[0m\u001b[0m\n\u001b[0m\u001b[1;32m    425\u001b[0m         \u001b[0;32mreturn\u001b[0m \u001b[0mbool\u001b[0m\u001b[0;34m(\u001b[0m\u001b[0mr\u001b[0m\u001b[0;34m)\u001b[0m\u001b[0;34m\u001b[0m\u001b[0;34m\u001b[0m\u001b[0m\n",
      "\u001b[0;32m/Library/Developer/CommandLineTools/Library/Frameworks/Python3.framework/Versions/3.8/lib/python3.8/multiprocessing/connection.py\u001b[0m in \u001b[0;36mwait\u001b[0;34m(object_list, timeout)\u001b[0m\n\u001b[1;32m    929\u001b[0m             \u001b[0;32mwhile\u001b[0m \u001b[0;32mTrue\u001b[0m\u001b[0;34m:\u001b[0m\u001b[0;34m\u001b[0m\u001b[0;34m\u001b[0m\u001b[0m\n\u001b[0;32m--> 930\u001b[0;31m                 \u001b[0mready\u001b[0m \u001b[0;34m=\u001b[0m \u001b[0mselector\u001b[0m\u001b[0;34m.\u001b[0m\u001b[0mselect\u001b[0m\u001b[0;34m(\u001b[0m\u001b[0mtimeout\u001b[0m\u001b[0;34m)\u001b[0m\u001b[0;34m\u001b[0m\u001b[0;34m\u001b[0m\u001b[0m\n\u001b[0m\u001b[1;32m    931\u001b[0m                 \u001b[0;32mif\u001b[0m \u001b[0mready\u001b[0m\u001b[0;34m:\u001b[0m\u001b[0;34m\u001b[0m\u001b[0;34m\u001b[0m\u001b[0m\n",
      "\u001b[0;32m/Library/Developer/CommandLineTools/Library/Frameworks/Python3.framework/Versions/3.8/lib/python3.8/selectors.py\u001b[0m in \u001b[0;36mselect\u001b[0;34m(self, timeout)\u001b[0m\n\u001b[1;32m    414\u001b[0m         \u001b[0;32mtry\u001b[0m\u001b[0;34m:\u001b[0m\u001b[0;34m\u001b[0m\u001b[0;34m\u001b[0m\u001b[0m\n\u001b[0;32m--> 415\u001b[0;31m             \u001b[0mfd_event_list\u001b[0m \u001b[0;34m=\u001b[0m \u001b[0mself\u001b[0m\u001b[0;34m.\u001b[0m\u001b[0m_selector\u001b[0m\u001b[0;34m.\u001b[0m\u001b[0mpoll\u001b[0m\u001b[0;34m(\u001b[0m\u001b[0mtimeout\u001b[0m\u001b[0;34m)\u001b[0m\u001b[0;34m\u001b[0m\u001b[0;34m\u001b[0m\u001b[0m\n\u001b[0m\u001b[1;32m    416\u001b[0m         \u001b[0;32mexcept\u001b[0m \u001b[0mInterruptedError\u001b[0m\u001b[0;34m:\u001b[0m\u001b[0;34m\u001b[0m\u001b[0;34m\u001b[0m\u001b[0m\n",
      "\u001b[0;32m~/Work/vertis-ml/realty/ranking/realty-embedder/venv/lib/python3.8/site-packages/torch/utils/data/_utils/signal_handling.py\u001b[0m in \u001b[0;36mhandler\u001b[0;34m(signum, frame)\u001b[0m\n\u001b[1;32m     65\u001b[0m         \u001b[0;31m# Python can still get and update the process status successfully.\u001b[0m\u001b[0;34m\u001b[0m\u001b[0;34m\u001b[0m\u001b[0;34m\u001b[0m\u001b[0m\n\u001b[0;32m---> 66\u001b[0;31m         \u001b[0m_error_if_any_worker_fails\u001b[0m\u001b[0;34m(\u001b[0m\u001b[0;34m)\u001b[0m\u001b[0;34m\u001b[0m\u001b[0;34m\u001b[0m\u001b[0m\n\u001b[0m\u001b[1;32m     67\u001b[0m         \u001b[0;32mif\u001b[0m \u001b[0mprevious_handler\u001b[0m \u001b[0;32mis\u001b[0m \u001b[0;32mnot\u001b[0m \u001b[0;32mNone\u001b[0m\u001b[0;34m:\u001b[0m\u001b[0;34m\u001b[0m\u001b[0;34m\u001b[0m\u001b[0m\n",
      "\u001b[0;31mRuntimeError\u001b[0m: DataLoader worker (pid 47472) exited unexpectedly with exit code 1. Details are lost due to multiprocessing. Rerunning with num_workers=0 may give better error trace.",
      "\nDuring handling of the above exception, another exception occurred:\n",
      "\u001b[0;31mRuntimeError\u001b[0m                              Traceback (most recent call last)",
      "\u001b[0;32m<ipython-input-62-751faa5e84b4>\u001b[0m in \u001b[0;36m<module>\u001b[0;34m\u001b[0m\n\u001b[1;32m      6\u001b[0m \u001b[0;34m\u001b[0m\u001b[0m\n\u001b[1;32m      7\u001b[0m \u001b[0mres\u001b[0m \u001b[0;34m=\u001b[0m \u001b[0;34m[\u001b[0m\u001b[0;34m]\u001b[0m\u001b[0;34m\u001b[0m\u001b[0;34m\u001b[0m\u001b[0m\n\u001b[0;32m----> 8\u001b[0;31m \u001b[0;32mfor\u001b[0m \u001b[0mbatch\u001b[0m \u001b[0;32min\u001b[0m \u001b[0mtrain_loader\u001b[0m\u001b[0;34m:\u001b[0m\u001b[0;34m\u001b[0m\u001b[0;34m\u001b[0m\u001b[0m\n\u001b[0m\u001b[1;32m      9\u001b[0m     \u001b[0mres\u001b[0m\u001b[0;34m.\u001b[0m\u001b[0mappend\u001b[0m\u001b[0;34m(\u001b[0m\u001b[0mbatch\u001b[0m\u001b[0;34m)\u001b[0m\u001b[0;34m\u001b[0m\u001b[0;34m\u001b[0m\u001b[0m\n\u001b[1;32m     10\u001b[0m \u001b[0;34m\u001b[0m\u001b[0m\n",
      "\u001b[0;32m~/Work/vertis-ml/realty/ranking/realty-embedder/venv/lib/python3.8/site-packages/torch/utils/data/dataloader.py\u001b[0m in \u001b[0;36m__next__\u001b[0;34m(self)\u001b[0m\n\u001b[1;32m    343\u001b[0m \u001b[0;34m\u001b[0m\u001b[0m\n\u001b[1;32m    344\u001b[0m     \u001b[0;32mdef\u001b[0m \u001b[0m__next__\u001b[0m\u001b[0;34m(\u001b[0m\u001b[0mself\u001b[0m\u001b[0;34m)\u001b[0m\u001b[0;34m:\u001b[0m\u001b[0;34m\u001b[0m\u001b[0;34m\u001b[0m\u001b[0m\n\u001b[0;32m--> 345\u001b[0;31m         \u001b[0mdata\u001b[0m \u001b[0;34m=\u001b[0m \u001b[0mself\u001b[0m\u001b[0;34m.\u001b[0m\u001b[0m_next_data\u001b[0m\u001b[0;34m(\u001b[0m\u001b[0;34m)\u001b[0m\u001b[0;34m\u001b[0m\u001b[0;34m\u001b[0m\u001b[0m\n\u001b[0m\u001b[1;32m    346\u001b[0m         \u001b[0mself\u001b[0m\u001b[0;34m.\u001b[0m\u001b[0m_num_yielded\u001b[0m \u001b[0;34m+=\u001b[0m \u001b[0;36m1\u001b[0m\u001b[0;34m\u001b[0m\u001b[0;34m\u001b[0m\u001b[0m\n\u001b[1;32m    347\u001b[0m         \u001b[0;32mif\u001b[0m \u001b[0mself\u001b[0m\u001b[0;34m.\u001b[0m\u001b[0m_dataset_kind\u001b[0m \u001b[0;34m==\u001b[0m \u001b[0m_DatasetKind\u001b[0m\u001b[0;34m.\u001b[0m\u001b[0mIterable\u001b[0m \u001b[0;32mand\u001b[0m\u001b[0;31m \u001b[0m\u001b[0;31m\\\u001b[0m\u001b[0;34m\u001b[0m\u001b[0;34m\u001b[0m\u001b[0m\n",
      "\u001b[0;32m~/Work/vertis-ml/realty/ranking/realty-embedder/venv/lib/python3.8/site-packages/torch/utils/data/dataloader.py\u001b[0m in \u001b[0;36m_next_data\u001b[0;34m(self)\u001b[0m\n\u001b[1;32m    839\u001b[0m \u001b[0;34m\u001b[0m\u001b[0m\n\u001b[1;32m    840\u001b[0m             \u001b[0;32massert\u001b[0m \u001b[0;32mnot\u001b[0m \u001b[0mself\u001b[0m\u001b[0;34m.\u001b[0m\u001b[0m_shutdown\u001b[0m \u001b[0;32mand\u001b[0m \u001b[0mself\u001b[0m\u001b[0;34m.\u001b[0m\u001b[0m_tasks_outstanding\u001b[0m \u001b[0;34m>\u001b[0m \u001b[0;36m0\u001b[0m\u001b[0;34m\u001b[0m\u001b[0;34m\u001b[0m\u001b[0m\n\u001b[0;32m--> 841\u001b[0;31m             \u001b[0midx\u001b[0m\u001b[0;34m,\u001b[0m \u001b[0mdata\u001b[0m \u001b[0;34m=\u001b[0m \u001b[0mself\u001b[0m\u001b[0;34m.\u001b[0m\u001b[0m_get_data\u001b[0m\u001b[0;34m(\u001b[0m\u001b[0;34m)\u001b[0m\u001b[0;34m\u001b[0m\u001b[0;34m\u001b[0m\u001b[0m\n\u001b[0m\u001b[1;32m    842\u001b[0m             \u001b[0mself\u001b[0m\u001b[0;34m.\u001b[0m\u001b[0m_tasks_outstanding\u001b[0m \u001b[0;34m-=\u001b[0m \u001b[0;36m1\u001b[0m\u001b[0;34m\u001b[0m\u001b[0;34m\u001b[0m\u001b[0m\n\u001b[1;32m    843\u001b[0m \u001b[0;34m\u001b[0m\u001b[0m\n",
      "\u001b[0;32m~/Work/vertis-ml/realty/ranking/realty-embedder/venv/lib/python3.8/site-packages/torch/utils/data/dataloader.py\u001b[0m in \u001b[0;36m_get_data\u001b[0;34m(self)\u001b[0m\n\u001b[1;32m    806\u001b[0m         \u001b[0;32melse\u001b[0m\u001b[0;34m:\u001b[0m\u001b[0;34m\u001b[0m\u001b[0;34m\u001b[0m\u001b[0m\n\u001b[1;32m    807\u001b[0m             \u001b[0;32mwhile\u001b[0m \u001b[0;32mTrue\u001b[0m\u001b[0;34m:\u001b[0m\u001b[0;34m\u001b[0m\u001b[0;34m\u001b[0m\u001b[0m\n\u001b[0;32m--> 808\u001b[0;31m                 \u001b[0msuccess\u001b[0m\u001b[0;34m,\u001b[0m \u001b[0mdata\u001b[0m \u001b[0;34m=\u001b[0m \u001b[0mself\u001b[0m\u001b[0;34m.\u001b[0m\u001b[0m_try_get_data\u001b[0m\u001b[0;34m(\u001b[0m\u001b[0;34m)\u001b[0m\u001b[0;34m\u001b[0m\u001b[0;34m\u001b[0m\u001b[0m\n\u001b[0m\u001b[1;32m    809\u001b[0m                 \u001b[0;32mif\u001b[0m \u001b[0msuccess\u001b[0m\u001b[0;34m:\u001b[0m\u001b[0;34m\u001b[0m\u001b[0;34m\u001b[0m\u001b[0m\n\u001b[1;32m    810\u001b[0m                     \u001b[0;32mreturn\u001b[0m \u001b[0mdata\u001b[0m\u001b[0;34m\u001b[0m\u001b[0;34m\u001b[0m\u001b[0m\n",
      "\u001b[0;32m~/Work/vertis-ml/realty/ranking/realty-embedder/venv/lib/python3.8/site-packages/torch/utils/data/dataloader.py\u001b[0m in \u001b[0;36m_try_get_data\u001b[0;34m(self, timeout)\u001b[0m\n\u001b[1;32m    772\u001b[0m             \u001b[0;32mif\u001b[0m \u001b[0mlen\u001b[0m\u001b[0;34m(\u001b[0m\u001b[0mfailed_workers\u001b[0m\u001b[0;34m)\u001b[0m \u001b[0;34m>\u001b[0m \u001b[0;36m0\u001b[0m\u001b[0;34m:\u001b[0m\u001b[0;34m\u001b[0m\u001b[0;34m\u001b[0m\u001b[0m\n\u001b[1;32m    773\u001b[0m                 \u001b[0mpids_str\u001b[0m \u001b[0;34m=\u001b[0m \u001b[0;34m', '\u001b[0m\u001b[0;34m.\u001b[0m\u001b[0mjoin\u001b[0m\u001b[0;34m(\u001b[0m\u001b[0mstr\u001b[0m\u001b[0;34m(\u001b[0m\u001b[0mw\u001b[0m\u001b[0;34m.\u001b[0m\u001b[0mpid\u001b[0m\u001b[0;34m)\u001b[0m \u001b[0;32mfor\u001b[0m \u001b[0mw\u001b[0m \u001b[0;32min\u001b[0m \u001b[0mfailed_workers\u001b[0m\u001b[0;34m)\u001b[0m\u001b[0;34m\u001b[0m\u001b[0;34m\u001b[0m\u001b[0m\n\u001b[0;32m--> 774\u001b[0;31m                 \u001b[0;32mraise\u001b[0m \u001b[0mRuntimeError\u001b[0m\u001b[0;34m(\u001b[0m\u001b[0;34m'DataLoader worker (pid(s) {}) exited unexpectedly'\u001b[0m\u001b[0;34m.\u001b[0m\u001b[0mformat\u001b[0m\u001b[0;34m(\u001b[0m\u001b[0mpids_str\u001b[0m\u001b[0;34m)\u001b[0m\u001b[0;34m)\u001b[0m\u001b[0;34m\u001b[0m\u001b[0;34m\u001b[0m\u001b[0m\n\u001b[0m\u001b[1;32m    775\u001b[0m             \u001b[0;32mif\u001b[0m \u001b[0misinstance\u001b[0m\u001b[0;34m(\u001b[0m\u001b[0me\u001b[0m\u001b[0;34m,\u001b[0m \u001b[0mqueue\u001b[0m\u001b[0;34m.\u001b[0m\u001b[0mEmpty\u001b[0m\u001b[0;34m)\u001b[0m\u001b[0;34m:\u001b[0m\u001b[0;34m\u001b[0m\u001b[0;34m\u001b[0m\u001b[0m\n\u001b[1;32m    776\u001b[0m                 \u001b[0;32mreturn\u001b[0m \u001b[0;34m(\u001b[0m\u001b[0;32mFalse\u001b[0m\u001b[0;34m,\u001b[0m \u001b[0;32mNone\u001b[0m\u001b[0;34m)\u001b[0m\u001b[0;34m\u001b[0m\u001b[0;34m\u001b[0m\u001b[0m\n",
      "\u001b[0;31mRuntimeError\u001b[0m: DataLoader worker (pid(s) 47472, 47474) exited unexpectedly"
     ]
    }
   ],
   "source": [
    "ds = MyIterableDataset(start=0, end=7)\n",
    "\n",
    "# >>> # Single-process loading\n",
    "train_loader = DataLoader(ds, num_workers=10, batch_size=4)\n",
    "# [3, 4, 5, 6]\n",
    "\n",
    "res = []\n",
    "for batch in train_loader:\n",
    "    res.append(batch)\n",
    "\n",
    "res"
   ]
  },
  {
   "cell_type": "code",
   "execution_count": null,
   "metadata": {},
   "outputs": [],
   "source": []
  },
  {
   "cell_type": "code",
   "execution_count": 48,
   "metadata": {},
   "outputs": [],
   "source": [
    "torch.set_num_threads(16)\n",
    "\n",
    "train_dataset = DSSMDataset('{\"table\": \"//home/verticals/realty/ranking/dev_dssm_1000\",\"cluster\": \"hahn\"}')\n",
    "test_dataset = DSSMDataset('{\"table\": \"//home/verticals/realty/ranking/dev_dssm_1000\",\"cluster\": \"hahn\"}')\n",
    "\n",
    "train_loader = DataLoader(train_dataset,\n",
    "                          batch_size=3,\n",
    "                          shuffle=False,\n",
    "                          num_workers=1\n",
    "#                           collate_fn=collate_batch,\n",
    "#                           nu\n",
    "                         )\n",
    "test_loader = DataLoader(test_dataset,\n",
    "                         batch_size=16,\n",
    "                         shuffle=False,)\n",
    "#                          collate_fn=collate_batch)"
   ]
  },
  {
   "cell_type": "code",
   "execution_count": 49,
   "metadata": {
    "scrolled": true
   },
   "outputs": [
    {
     "ename": "RuntimeError",
     "evalue": "DataLoader worker (pid(s) 47248) exited unexpectedly",
     "output_type": "error",
     "traceback": [
      "\u001b[0;31m---------------------------------------------------------------------------\u001b[0m",
      "\u001b[0;31mRuntimeError\u001b[0m                              Traceback (most recent call last)",
      "\u001b[0;32m~/Work/vertis-ml/realty/ranking/realty-embedder/venv/lib/python3.8/site-packages/torch/utils/data/dataloader.py\u001b[0m in \u001b[0;36m_try_get_data\u001b[0;34m(self, timeout)\u001b[0m\n\u001b[1;32m    760\u001b[0m         \u001b[0;32mtry\u001b[0m\u001b[0;34m:\u001b[0m\u001b[0;34m\u001b[0m\u001b[0;34m\u001b[0m\u001b[0m\n\u001b[0;32m--> 761\u001b[0;31m             \u001b[0mdata\u001b[0m \u001b[0;34m=\u001b[0m \u001b[0mself\u001b[0m\u001b[0;34m.\u001b[0m\u001b[0m_data_queue\u001b[0m\u001b[0;34m.\u001b[0m\u001b[0mget\u001b[0m\u001b[0;34m(\u001b[0m\u001b[0mtimeout\u001b[0m\u001b[0;34m=\u001b[0m\u001b[0mtimeout\u001b[0m\u001b[0;34m)\u001b[0m\u001b[0;34m\u001b[0m\u001b[0;34m\u001b[0m\u001b[0m\n\u001b[0m\u001b[1;32m    762\u001b[0m             \u001b[0;32mreturn\u001b[0m \u001b[0;34m(\u001b[0m\u001b[0;32mTrue\u001b[0m\u001b[0;34m,\u001b[0m \u001b[0mdata\u001b[0m\u001b[0;34m)\u001b[0m\u001b[0;34m\u001b[0m\u001b[0;34m\u001b[0m\u001b[0m\n",
      "\u001b[0;32m/Library/Developer/CommandLineTools/Library/Frameworks/Python3.framework/Versions/3.8/lib/python3.8/multiprocessing/queues.py\u001b[0m in \u001b[0;36mget\u001b[0;34m(self, block, timeout)\u001b[0m\n\u001b[1;32m    106\u001b[0m                     \u001b[0mtimeout\u001b[0m \u001b[0;34m=\u001b[0m \u001b[0mdeadline\u001b[0m \u001b[0;34m-\u001b[0m \u001b[0mtime\u001b[0m\u001b[0;34m.\u001b[0m\u001b[0mmonotonic\u001b[0m\u001b[0;34m(\u001b[0m\u001b[0;34m)\u001b[0m\u001b[0;34m\u001b[0m\u001b[0;34m\u001b[0m\u001b[0m\n\u001b[0;32m--> 107\u001b[0;31m                     \u001b[0;32mif\u001b[0m \u001b[0;32mnot\u001b[0m \u001b[0mself\u001b[0m\u001b[0;34m.\u001b[0m\u001b[0m_poll\u001b[0m\u001b[0;34m(\u001b[0m\u001b[0mtimeout\u001b[0m\u001b[0;34m)\u001b[0m\u001b[0;34m:\u001b[0m\u001b[0;34m\u001b[0m\u001b[0;34m\u001b[0m\u001b[0m\n\u001b[0m\u001b[1;32m    108\u001b[0m                         \u001b[0;32mraise\u001b[0m \u001b[0mEmpty\u001b[0m\u001b[0;34m\u001b[0m\u001b[0;34m\u001b[0m\u001b[0m\n",
      "\u001b[0;32m/Library/Developer/CommandLineTools/Library/Frameworks/Python3.framework/Versions/3.8/lib/python3.8/multiprocessing/connection.py\u001b[0m in \u001b[0;36mpoll\u001b[0;34m(self, timeout)\u001b[0m\n\u001b[1;32m    256\u001b[0m         \u001b[0mself\u001b[0m\u001b[0;34m.\u001b[0m\u001b[0m_check_readable\u001b[0m\u001b[0;34m(\u001b[0m\u001b[0;34m)\u001b[0m\u001b[0;34m\u001b[0m\u001b[0;34m\u001b[0m\u001b[0m\n\u001b[0;32m--> 257\u001b[0;31m         \u001b[0;32mreturn\u001b[0m \u001b[0mself\u001b[0m\u001b[0;34m.\u001b[0m\u001b[0m_poll\u001b[0m\u001b[0;34m(\u001b[0m\u001b[0mtimeout\u001b[0m\u001b[0;34m)\u001b[0m\u001b[0;34m\u001b[0m\u001b[0;34m\u001b[0m\u001b[0m\n\u001b[0m\u001b[1;32m    258\u001b[0m \u001b[0;34m\u001b[0m\u001b[0m\n",
      "\u001b[0;32m/Library/Developer/CommandLineTools/Library/Frameworks/Python3.framework/Versions/3.8/lib/python3.8/multiprocessing/connection.py\u001b[0m in \u001b[0;36m_poll\u001b[0;34m(self, timeout)\u001b[0m\n\u001b[1;32m    423\u001b[0m     \u001b[0;32mdef\u001b[0m \u001b[0m_poll\u001b[0m\u001b[0;34m(\u001b[0m\u001b[0mself\u001b[0m\u001b[0;34m,\u001b[0m \u001b[0mtimeout\u001b[0m\u001b[0;34m)\u001b[0m\u001b[0;34m:\u001b[0m\u001b[0;34m\u001b[0m\u001b[0;34m\u001b[0m\u001b[0m\n\u001b[0;32m--> 424\u001b[0;31m         \u001b[0mr\u001b[0m \u001b[0;34m=\u001b[0m \u001b[0mwait\u001b[0m\u001b[0;34m(\u001b[0m\u001b[0;34m[\u001b[0m\u001b[0mself\u001b[0m\u001b[0;34m]\u001b[0m\u001b[0;34m,\u001b[0m \u001b[0mtimeout\u001b[0m\u001b[0;34m)\u001b[0m\u001b[0;34m\u001b[0m\u001b[0;34m\u001b[0m\u001b[0m\n\u001b[0m\u001b[1;32m    425\u001b[0m         \u001b[0;32mreturn\u001b[0m \u001b[0mbool\u001b[0m\u001b[0;34m(\u001b[0m\u001b[0mr\u001b[0m\u001b[0;34m)\u001b[0m\u001b[0;34m\u001b[0m\u001b[0;34m\u001b[0m\u001b[0m\n",
      "\u001b[0;32m/Library/Developer/CommandLineTools/Library/Frameworks/Python3.framework/Versions/3.8/lib/python3.8/multiprocessing/connection.py\u001b[0m in \u001b[0;36mwait\u001b[0;34m(object_list, timeout)\u001b[0m\n\u001b[1;32m    929\u001b[0m             \u001b[0;32mwhile\u001b[0m \u001b[0;32mTrue\u001b[0m\u001b[0;34m:\u001b[0m\u001b[0;34m\u001b[0m\u001b[0;34m\u001b[0m\u001b[0m\n\u001b[0;32m--> 930\u001b[0;31m                 \u001b[0mready\u001b[0m \u001b[0;34m=\u001b[0m \u001b[0mselector\u001b[0m\u001b[0;34m.\u001b[0m\u001b[0mselect\u001b[0m\u001b[0;34m(\u001b[0m\u001b[0mtimeout\u001b[0m\u001b[0;34m)\u001b[0m\u001b[0;34m\u001b[0m\u001b[0;34m\u001b[0m\u001b[0m\n\u001b[0m\u001b[1;32m    931\u001b[0m                 \u001b[0;32mif\u001b[0m \u001b[0mready\u001b[0m\u001b[0;34m:\u001b[0m\u001b[0;34m\u001b[0m\u001b[0;34m\u001b[0m\u001b[0m\n",
      "\u001b[0;32m/Library/Developer/CommandLineTools/Library/Frameworks/Python3.framework/Versions/3.8/lib/python3.8/selectors.py\u001b[0m in \u001b[0;36mselect\u001b[0;34m(self, timeout)\u001b[0m\n\u001b[1;32m    414\u001b[0m         \u001b[0;32mtry\u001b[0m\u001b[0;34m:\u001b[0m\u001b[0;34m\u001b[0m\u001b[0;34m\u001b[0m\u001b[0m\n\u001b[0;32m--> 415\u001b[0;31m             \u001b[0mfd_event_list\u001b[0m \u001b[0;34m=\u001b[0m \u001b[0mself\u001b[0m\u001b[0;34m.\u001b[0m\u001b[0m_selector\u001b[0m\u001b[0;34m.\u001b[0m\u001b[0mpoll\u001b[0m\u001b[0;34m(\u001b[0m\u001b[0mtimeout\u001b[0m\u001b[0;34m)\u001b[0m\u001b[0;34m\u001b[0m\u001b[0;34m\u001b[0m\u001b[0m\n\u001b[0m\u001b[1;32m    416\u001b[0m         \u001b[0;32mexcept\u001b[0m \u001b[0mInterruptedError\u001b[0m\u001b[0;34m:\u001b[0m\u001b[0;34m\u001b[0m\u001b[0;34m\u001b[0m\u001b[0m\n",
      "\u001b[0;32m~/Work/vertis-ml/realty/ranking/realty-embedder/venv/lib/python3.8/site-packages/torch/utils/data/_utils/signal_handling.py\u001b[0m in \u001b[0;36mhandler\u001b[0;34m(signum, frame)\u001b[0m\n\u001b[1;32m     65\u001b[0m         \u001b[0;31m# Python can still get and update the process status successfully.\u001b[0m\u001b[0;34m\u001b[0m\u001b[0;34m\u001b[0m\u001b[0;34m\u001b[0m\u001b[0m\n\u001b[0;32m---> 66\u001b[0;31m         \u001b[0m_error_if_any_worker_fails\u001b[0m\u001b[0;34m(\u001b[0m\u001b[0;34m)\u001b[0m\u001b[0;34m\u001b[0m\u001b[0;34m\u001b[0m\u001b[0m\n\u001b[0m\u001b[1;32m     67\u001b[0m         \u001b[0;32mif\u001b[0m \u001b[0mprevious_handler\u001b[0m \u001b[0;32mis\u001b[0m \u001b[0;32mnot\u001b[0m \u001b[0;32mNone\u001b[0m\u001b[0;34m:\u001b[0m\u001b[0;34m\u001b[0m\u001b[0;34m\u001b[0m\u001b[0m\n",
      "\u001b[0;31mRuntimeError\u001b[0m: DataLoader worker (pid 47248) exited unexpectedly with exit code 1. Details are lost due to multiprocessing. Rerunning with num_workers=0 may give better error trace.",
      "\nDuring handling of the above exception, another exception occurred:\n",
      "\u001b[0;31mRuntimeError\u001b[0m                              Traceback (most recent call last)",
      "\u001b[0;32m<ipython-input-49-adc115581b09>\u001b[0m in \u001b[0;36m<module>\u001b[0;34m\u001b[0m\n\u001b[1;32m      1\u001b[0m \u001b[0mres\u001b[0m \u001b[0;34m=\u001b[0m \u001b[0;34m[\u001b[0m\u001b[0;34m]\u001b[0m\u001b[0;34m\u001b[0m\u001b[0;34m\u001b[0m\u001b[0m\n\u001b[0;32m----> 2\u001b[0;31m \u001b[0;32mfor\u001b[0m \u001b[0mbatch\u001b[0m \u001b[0;32min\u001b[0m \u001b[0mtrain_loader\u001b[0m\u001b[0;34m:\u001b[0m\u001b[0;34m\u001b[0m\u001b[0;34m\u001b[0m\u001b[0m\n\u001b[0m\u001b[1;32m      3\u001b[0m     \u001b[0mres\u001b[0m\u001b[0;34m.\u001b[0m\u001b[0mappend\u001b[0m\u001b[0;34m(\u001b[0m\u001b[0mbatch\u001b[0m\u001b[0;34m)\u001b[0m\u001b[0;34m\u001b[0m\u001b[0;34m\u001b[0m\u001b[0m\n",
      "\u001b[0;32m~/Work/vertis-ml/realty/ranking/realty-embedder/venv/lib/python3.8/site-packages/torch/utils/data/dataloader.py\u001b[0m in \u001b[0;36m__next__\u001b[0;34m(self)\u001b[0m\n\u001b[1;32m    343\u001b[0m \u001b[0;34m\u001b[0m\u001b[0m\n\u001b[1;32m    344\u001b[0m     \u001b[0;32mdef\u001b[0m \u001b[0m__next__\u001b[0m\u001b[0;34m(\u001b[0m\u001b[0mself\u001b[0m\u001b[0;34m)\u001b[0m\u001b[0;34m:\u001b[0m\u001b[0;34m\u001b[0m\u001b[0;34m\u001b[0m\u001b[0m\n\u001b[0;32m--> 345\u001b[0;31m         \u001b[0mdata\u001b[0m \u001b[0;34m=\u001b[0m \u001b[0mself\u001b[0m\u001b[0;34m.\u001b[0m\u001b[0m_next_data\u001b[0m\u001b[0;34m(\u001b[0m\u001b[0;34m)\u001b[0m\u001b[0;34m\u001b[0m\u001b[0;34m\u001b[0m\u001b[0m\n\u001b[0m\u001b[1;32m    346\u001b[0m         \u001b[0mself\u001b[0m\u001b[0;34m.\u001b[0m\u001b[0m_num_yielded\u001b[0m \u001b[0;34m+=\u001b[0m \u001b[0;36m1\u001b[0m\u001b[0;34m\u001b[0m\u001b[0;34m\u001b[0m\u001b[0m\n\u001b[1;32m    347\u001b[0m         \u001b[0;32mif\u001b[0m \u001b[0mself\u001b[0m\u001b[0;34m.\u001b[0m\u001b[0m_dataset_kind\u001b[0m \u001b[0;34m==\u001b[0m \u001b[0m_DatasetKind\u001b[0m\u001b[0;34m.\u001b[0m\u001b[0mIterable\u001b[0m \u001b[0;32mand\u001b[0m\u001b[0;31m \u001b[0m\u001b[0;31m\\\u001b[0m\u001b[0;34m\u001b[0m\u001b[0;34m\u001b[0m\u001b[0m\n",
      "\u001b[0;32m~/Work/vertis-ml/realty/ranking/realty-embedder/venv/lib/python3.8/site-packages/torch/utils/data/dataloader.py\u001b[0m in \u001b[0;36m_next_data\u001b[0;34m(self)\u001b[0m\n\u001b[1;32m    839\u001b[0m \u001b[0;34m\u001b[0m\u001b[0m\n\u001b[1;32m    840\u001b[0m             \u001b[0;32massert\u001b[0m \u001b[0;32mnot\u001b[0m \u001b[0mself\u001b[0m\u001b[0;34m.\u001b[0m\u001b[0m_shutdown\u001b[0m \u001b[0;32mand\u001b[0m \u001b[0mself\u001b[0m\u001b[0;34m.\u001b[0m\u001b[0m_tasks_outstanding\u001b[0m \u001b[0;34m>\u001b[0m \u001b[0;36m0\u001b[0m\u001b[0;34m\u001b[0m\u001b[0;34m\u001b[0m\u001b[0m\n\u001b[0;32m--> 841\u001b[0;31m             \u001b[0midx\u001b[0m\u001b[0;34m,\u001b[0m \u001b[0mdata\u001b[0m \u001b[0;34m=\u001b[0m \u001b[0mself\u001b[0m\u001b[0;34m.\u001b[0m\u001b[0m_get_data\u001b[0m\u001b[0;34m(\u001b[0m\u001b[0;34m)\u001b[0m\u001b[0;34m\u001b[0m\u001b[0;34m\u001b[0m\u001b[0m\n\u001b[0m\u001b[1;32m    842\u001b[0m             \u001b[0mself\u001b[0m\u001b[0;34m.\u001b[0m\u001b[0m_tasks_outstanding\u001b[0m \u001b[0;34m-=\u001b[0m \u001b[0;36m1\u001b[0m\u001b[0;34m\u001b[0m\u001b[0;34m\u001b[0m\u001b[0m\n\u001b[1;32m    843\u001b[0m \u001b[0;34m\u001b[0m\u001b[0m\n",
      "\u001b[0;32m~/Work/vertis-ml/realty/ranking/realty-embedder/venv/lib/python3.8/site-packages/torch/utils/data/dataloader.py\u001b[0m in \u001b[0;36m_get_data\u001b[0;34m(self)\u001b[0m\n\u001b[1;32m    806\u001b[0m         \u001b[0;32melse\u001b[0m\u001b[0;34m:\u001b[0m\u001b[0;34m\u001b[0m\u001b[0;34m\u001b[0m\u001b[0m\n\u001b[1;32m    807\u001b[0m             \u001b[0;32mwhile\u001b[0m \u001b[0;32mTrue\u001b[0m\u001b[0;34m:\u001b[0m\u001b[0;34m\u001b[0m\u001b[0;34m\u001b[0m\u001b[0m\n\u001b[0;32m--> 808\u001b[0;31m                 \u001b[0msuccess\u001b[0m\u001b[0;34m,\u001b[0m \u001b[0mdata\u001b[0m \u001b[0;34m=\u001b[0m \u001b[0mself\u001b[0m\u001b[0;34m.\u001b[0m\u001b[0m_try_get_data\u001b[0m\u001b[0;34m(\u001b[0m\u001b[0;34m)\u001b[0m\u001b[0;34m\u001b[0m\u001b[0;34m\u001b[0m\u001b[0m\n\u001b[0m\u001b[1;32m    809\u001b[0m                 \u001b[0;32mif\u001b[0m \u001b[0msuccess\u001b[0m\u001b[0;34m:\u001b[0m\u001b[0;34m\u001b[0m\u001b[0;34m\u001b[0m\u001b[0m\n\u001b[1;32m    810\u001b[0m                     \u001b[0;32mreturn\u001b[0m \u001b[0mdata\u001b[0m\u001b[0;34m\u001b[0m\u001b[0;34m\u001b[0m\u001b[0m\n",
      "\u001b[0;32m~/Work/vertis-ml/realty/ranking/realty-embedder/venv/lib/python3.8/site-packages/torch/utils/data/dataloader.py\u001b[0m in \u001b[0;36m_try_get_data\u001b[0;34m(self, timeout)\u001b[0m\n\u001b[1;32m    772\u001b[0m             \u001b[0;32mif\u001b[0m \u001b[0mlen\u001b[0m\u001b[0;34m(\u001b[0m\u001b[0mfailed_workers\u001b[0m\u001b[0;34m)\u001b[0m \u001b[0;34m>\u001b[0m \u001b[0;36m0\u001b[0m\u001b[0;34m:\u001b[0m\u001b[0;34m\u001b[0m\u001b[0;34m\u001b[0m\u001b[0m\n\u001b[1;32m    773\u001b[0m                 \u001b[0mpids_str\u001b[0m \u001b[0;34m=\u001b[0m \u001b[0;34m', '\u001b[0m\u001b[0;34m.\u001b[0m\u001b[0mjoin\u001b[0m\u001b[0;34m(\u001b[0m\u001b[0mstr\u001b[0m\u001b[0;34m(\u001b[0m\u001b[0mw\u001b[0m\u001b[0;34m.\u001b[0m\u001b[0mpid\u001b[0m\u001b[0;34m)\u001b[0m \u001b[0;32mfor\u001b[0m \u001b[0mw\u001b[0m \u001b[0;32min\u001b[0m \u001b[0mfailed_workers\u001b[0m\u001b[0;34m)\u001b[0m\u001b[0;34m\u001b[0m\u001b[0;34m\u001b[0m\u001b[0m\n\u001b[0;32m--> 774\u001b[0;31m                 \u001b[0;32mraise\u001b[0m \u001b[0mRuntimeError\u001b[0m\u001b[0;34m(\u001b[0m\u001b[0;34m'DataLoader worker (pid(s) {}) exited unexpectedly'\u001b[0m\u001b[0;34m.\u001b[0m\u001b[0mformat\u001b[0m\u001b[0;34m(\u001b[0m\u001b[0mpids_str\u001b[0m\u001b[0;34m)\u001b[0m\u001b[0;34m)\u001b[0m\u001b[0;34m\u001b[0m\u001b[0;34m\u001b[0m\u001b[0m\n\u001b[0m\u001b[1;32m    775\u001b[0m             \u001b[0;32mif\u001b[0m \u001b[0misinstance\u001b[0m\u001b[0;34m(\u001b[0m\u001b[0me\u001b[0m\u001b[0;34m,\u001b[0m \u001b[0mqueue\u001b[0m\u001b[0;34m.\u001b[0m\u001b[0mEmpty\u001b[0m\u001b[0;34m)\u001b[0m\u001b[0;34m:\u001b[0m\u001b[0;34m\u001b[0m\u001b[0;34m\u001b[0m\u001b[0m\n\u001b[1;32m    776\u001b[0m                 \u001b[0;32mreturn\u001b[0m \u001b[0;34m(\u001b[0m\u001b[0;32mFalse\u001b[0m\u001b[0;34m,\u001b[0m \u001b[0;32mNone\u001b[0m\u001b[0;34m)\u001b[0m\u001b[0;34m\u001b[0m\u001b[0;34m\u001b[0m\u001b[0m\n",
      "\u001b[0;31mRuntimeError\u001b[0m: DataLoader worker (pid(s) 47248) exited unexpectedly"
     ]
    }
   ],
   "source": [
    "res = []\n",
    "for batch in train_loader:\n",
    "    res.append(batch)"
   ]
  },
  {
   "cell_type": "code",
   "execution_count": 31,
   "metadata": {},
   "outputs": [
    {
     "data": {
      "text/plain": [
       "[tensor([0, 1, 2]),\n",
       " tensor([3, 4, 5]),\n",
       " tensor([6, 7, 8]),\n",
       " tensor([ 9, 10, 11]),\n",
       " tensor([12, 13, 14]),\n",
       " tensor([15, 16, 17]),\n",
       " tensor([18, 19, 20]),\n",
       " tensor([21, 22, 23]),\n",
       " tensor([24, 25, 26]),\n",
       " tensor([27, 28, 29]),\n",
       " tensor([30, 31, 32]),\n",
       " tensor([33, 34, 35]),\n",
       " tensor([36, 37, 38]),\n",
       " tensor([39, 40, 41]),\n",
       " tensor([42, 43, 44]),\n",
       " tensor([45, 46, 47]),\n",
       " tensor([48, 49, 50]),\n",
       " tensor([51, 52, 53]),\n",
       " tensor([54, 55, 56]),\n",
       " tensor([57, 58, 59]),\n",
       " tensor([60, 61, 62]),\n",
       " tensor([63, 64, 65]),\n",
       " tensor([66, 67, 68]),\n",
       " tensor([69, 70, 71]),\n",
       " tensor([72, 73, 74]),\n",
       " tensor([75, 76, 77]),\n",
       " tensor([78, 79, 80]),\n",
       " tensor([81, 82, 83]),\n",
       " tensor([84, 85, 86]),\n",
       " tensor([87, 88, 89]),\n",
       " tensor([90, 91, 92]),\n",
       " tensor([93, 94, 95]),\n",
       " tensor([96, 97, 98]),\n",
       " tensor([ 99, 100, 101]),\n",
       " tensor([102, 103, 104]),\n",
       " tensor([105, 106, 107]),\n",
       " tensor([108, 109, 110]),\n",
       " tensor([111, 112, 113]),\n",
       " tensor([114, 115, 116]),\n",
       " tensor([117, 118, 119]),\n",
       " tensor([120, 121, 122]),\n",
       " tensor([123, 124, 125]),\n",
       " tensor([126, 127, 128]),\n",
       " tensor([129, 130, 131]),\n",
       " tensor([132, 133, 134]),\n",
       " tensor([135, 136, 137]),\n",
       " tensor([138, 139, 140]),\n",
       " tensor([141, 142, 143]),\n",
       " tensor([144, 145, 146]),\n",
       " tensor([147, 148, 149]),\n",
       " tensor([150, 151, 152]),\n",
       " tensor([153, 154, 155]),\n",
       " tensor([156, 157, 158]),\n",
       " tensor([159, 160, 161]),\n",
       " tensor([162, 163, 164]),\n",
       " tensor([165, 166, 167]),\n",
       " tensor([168, 169, 170]),\n",
       " tensor([171, 172, 173]),\n",
       " tensor([174, 175, 176]),\n",
       " tensor([177, 178, 179]),\n",
       " tensor([180, 181, 182]),\n",
       " tensor([183, 184, 185]),\n",
       " tensor([186, 187, 188]),\n",
       " tensor([189, 190, 191]),\n",
       " tensor([192, 193, 194]),\n",
       " tensor([195, 196, 197]),\n",
       " tensor([198, 199, 200]),\n",
       " tensor([201, 202, 203]),\n",
       " tensor([204, 205, 206]),\n",
       " tensor([207, 208, 209]),\n",
       " tensor([210, 211, 212]),\n",
       " tensor([213, 214, 215]),\n",
       " tensor([216, 217, 218]),\n",
       " tensor([219, 220, 221]),\n",
       " tensor([222, 223, 224]),\n",
       " tensor([225, 226, 227]),\n",
       " tensor([228, 229, 230]),\n",
       " tensor([231, 232, 233]),\n",
       " tensor([234, 235, 236]),\n",
       " tensor([237, 238, 239]),\n",
       " tensor([240, 241, 242]),\n",
       " tensor([243, 244, 245]),\n",
       " tensor([246, 247, 248]),\n",
       " tensor([249, 250, 251]),\n",
       " tensor([252, 253, 254]),\n",
       " tensor([255, 256, 257]),\n",
       " tensor([258, 259, 260]),\n",
       " tensor([261, 262, 263]),\n",
       " tensor([264, 265, 266]),\n",
       " tensor([267, 268, 269]),\n",
       " tensor([270, 271, 272]),\n",
       " tensor([273, 274, 275]),\n",
       " tensor([276, 277, 278]),\n",
       " tensor([279, 280, 281]),\n",
       " tensor([282, 283, 284]),\n",
       " tensor([285, 286, 287]),\n",
       " tensor([288, 289, 290]),\n",
       " tensor([291, 292, 293]),\n",
       " tensor([294, 295, 296]),\n",
       " tensor([297, 298, 299]),\n",
       " tensor([300, 301, 302]),\n",
       " tensor([303, 304, 305]),\n",
       " tensor([306, 307, 308]),\n",
       " tensor([309, 310, 311]),\n",
       " tensor([312, 313, 314]),\n",
       " tensor([315, 316, 317]),\n",
       " tensor([318, 319, 320]),\n",
       " tensor([321, 322, 323]),\n",
       " tensor([324, 325, 326]),\n",
       " tensor([327, 328, 329]),\n",
       " tensor([330, 331, 332]),\n",
       " tensor([333, 334, 335]),\n",
       " tensor([336, 337, 338]),\n",
       " tensor([339, 340, 341]),\n",
       " tensor([342, 343, 344]),\n",
       " tensor([345, 346, 347]),\n",
       " tensor([348, 349, 350]),\n",
       " tensor([351, 352, 353]),\n",
       " tensor([354, 355, 356]),\n",
       " tensor([357, 358, 359]),\n",
       " tensor([360, 361, 362]),\n",
       " tensor([363, 364, 365]),\n",
       " tensor([366, 367, 368]),\n",
       " tensor([369, 370, 371]),\n",
       " tensor([372, 373, 374]),\n",
       " tensor([375, 376, 377]),\n",
       " tensor([378, 379, 380]),\n",
       " tensor([381, 382, 383]),\n",
       " tensor([384, 385, 386]),\n",
       " tensor([387, 388, 389]),\n",
       " tensor([390, 391, 392]),\n",
       " tensor([393, 394, 395]),\n",
       " tensor([396, 397, 398]),\n",
       " tensor([399, 400, 401]),\n",
       " tensor([402, 403, 404]),\n",
       " tensor([405, 406, 407]),\n",
       " tensor([408, 409, 410]),\n",
       " tensor([411, 412, 413]),\n",
       " tensor([414, 415, 416]),\n",
       " tensor([417, 418, 419]),\n",
       " tensor([420, 421, 422]),\n",
       " tensor([423, 424, 425]),\n",
       " tensor([426, 427, 428]),\n",
       " tensor([429, 430, 431]),\n",
       " tensor([432, 433, 434]),\n",
       " tensor([435, 436, 437]),\n",
       " tensor([438, 439, 440]),\n",
       " tensor([441, 442, 443]),\n",
       " tensor([444, 445, 446]),\n",
       " tensor([447, 448, 449]),\n",
       " tensor([450, 451, 452]),\n",
       " tensor([453, 454, 455]),\n",
       " tensor([456, 457, 458]),\n",
       " tensor([459, 460, 461]),\n",
       " tensor([462, 463, 464]),\n",
       " tensor([465, 466, 467]),\n",
       " tensor([468, 469, 470]),\n",
       " tensor([471, 472, 473]),\n",
       " tensor([474, 475, 476]),\n",
       " tensor([477, 478, 479]),\n",
       " tensor([480, 481, 482]),\n",
       " tensor([483, 484, 485]),\n",
       " tensor([486, 487, 488]),\n",
       " tensor([489, 490, 491]),\n",
       " tensor([492, 493, 494]),\n",
       " tensor([495, 496, 497]),\n",
       " tensor([498, 499, 500]),\n",
       " tensor([501, 502, 503]),\n",
       " tensor([504, 505, 506]),\n",
       " tensor([507, 508, 509]),\n",
       " tensor([510, 511, 512]),\n",
       " tensor([513, 514, 515]),\n",
       " tensor([516, 517, 518]),\n",
       " tensor([519, 520, 521]),\n",
       " tensor([522, 523, 524]),\n",
       " tensor([525, 526, 527]),\n",
       " tensor([528, 529, 530]),\n",
       " tensor([531, 532, 533]),\n",
       " tensor([534, 535, 536]),\n",
       " tensor([537, 538, 539]),\n",
       " tensor([540, 541, 542]),\n",
       " tensor([543, 544, 545]),\n",
       " tensor([546, 547, 548]),\n",
       " tensor([549, 550, 551]),\n",
       " tensor([552, 553, 554]),\n",
       " tensor([555, 556, 557]),\n",
       " tensor([558, 559, 560]),\n",
       " tensor([561, 562, 563]),\n",
       " tensor([564, 565, 566]),\n",
       " tensor([567, 568, 569]),\n",
       " tensor([570, 571, 572]),\n",
       " tensor([573, 574, 575]),\n",
       " tensor([576, 577, 578]),\n",
       " tensor([579, 580, 581]),\n",
       " tensor([582, 583, 584]),\n",
       " tensor([585, 586, 587]),\n",
       " tensor([588, 589, 590]),\n",
       " tensor([591, 592, 593]),\n",
       " tensor([594, 595, 596]),\n",
       " tensor([597, 598, 599]),\n",
       " tensor([600, 601, 602]),\n",
       " tensor([603, 604, 605]),\n",
       " tensor([606, 607, 608]),\n",
       " tensor([609, 610, 611]),\n",
       " tensor([612, 613, 614]),\n",
       " tensor([615, 616, 617]),\n",
       " tensor([618, 619, 620]),\n",
       " tensor([621, 622, 623]),\n",
       " tensor([624, 625, 626]),\n",
       " tensor([627, 628, 629]),\n",
       " tensor([630, 631, 632]),\n",
       " tensor([633, 634, 635]),\n",
       " tensor([636, 637, 638]),\n",
       " tensor([639, 640, 641]),\n",
       " tensor([642, 643, 644]),\n",
       " tensor([645, 646, 647]),\n",
       " tensor([648, 649, 650]),\n",
       " tensor([651, 652, 653]),\n",
       " tensor([654, 655, 656]),\n",
       " tensor([657, 658, 659]),\n",
       " tensor([660, 661, 662]),\n",
       " tensor([663, 664, 665]),\n",
       " tensor([666, 667, 668]),\n",
       " tensor([669, 670, 671]),\n",
       " tensor([672, 673, 674]),\n",
       " tensor([675, 676, 677]),\n",
       " tensor([678, 679, 680]),\n",
       " tensor([681, 682, 683]),\n",
       " tensor([684, 685, 686]),\n",
       " tensor([687, 688, 689]),\n",
       " tensor([690, 691, 692]),\n",
       " tensor([693, 694, 695]),\n",
       " tensor([696, 697, 698]),\n",
       " tensor([699, 700, 701]),\n",
       " tensor([702, 703, 704]),\n",
       " tensor([705, 706, 707]),\n",
       " tensor([708, 709, 710]),\n",
       " tensor([711, 712, 713]),\n",
       " tensor([714, 715, 716]),\n",
       " tensor([717, 718, 719]),\n",
       " tensor([720, 721, 722]),\n",
       " tensor([723, 724, 725]),\n",
       " tensor([726, 727, 728]),\n",
       " tensor([729, 730, 731]),\n",
       " tensor([732, 733, 734]),\n",
       " tensor([735, 736, 737]),\n",
       " tensor([738, 739, 740]),\n",
       " tensor([741, 742, 743]),\n",
       " tensor([744, 745, 746]),\n",
       " tensor([747, 748, 749]),\n",
       " tensor([750, 751, 752]),\n",
       " tensor([753, 754, 755]),\n",
       " tensor([756, 757, 758]),\n",
       " tensor([759, 760, 761]),\n",
       " tensor([762, 763, 764]),\n",
       " tensor([765, 766, 767]),\n",
       " tensor([768, 769, 770]),\n",
       " tensor([771, 772, 773]),\n",
       " tensor([774, 775, 776]),\n",
       " tensor([777, 778, 779]),\n",
       " tensor([780, 781, 782]),\n",
       " tensor([783, 784, 785]),\n",
       " tensor([786, 787, 788]),\n",
       " tensor([789, 790, 791]),\n",
       " tensor([792, 793, 794]),\n",
       " tensor([795, 796, 797]),\n",
       " tensor([798, 799, 800]),\n",
       " tensor([801, 802, 803]),\n",
       " tensor([804, 805, 806]),\n",
       " tensor([807, 808, 809]),\n",
       " tensor([810, 811, 812]),\n",
       " tensor([813, 814, 815]),\n",
       " tensor([816, 817, 818]),\n",
       " tensor([819, 820, 821]),\n",
       " tensor([822, 823, 824]),\n",
       " tensor([825, 826, 827]),\n",
       " tensor([828, 829, 830]),\n",
       " tensor([831, 832, 833]),\n",
       " tensor([834, 835, 836]),\n",
       " tensor([837, 838, 839]),\n",
       " tensor([840, 841, 842]),\n",
       " tensor([843, 844, 845]),\n",
       " tensor([846, 847, 848]),\n",
       " tensor([849, 850, 851]),\n",
       " tensor([852, 853, 854]),\n",
       " tensor([855, 856, 857]),\n",
       " tensor([858, 859, 860]),\n",
       " tensor([861, 862, 863]),\n",
       " tensor([864, 865, 866]),\n",
       " tensor([867, 868, 869]),\n",
       " tensor([870, 871, 872]),\n",
       " tensor([873, 874, 875]),\n",
       " tensor([876, 877, 878]),\n",
       " tensor([879, 880, 881]),\n",
       " tensor([882, 883, 884]),\n",
       " tensor([885, 886, 887]),\n",
       " tensor([888, 889, 890]),\n",
       " tensor([891, 892, 893]),\n",
       " tensor([894, 895, 896]),\n",
       " tensor([897, 898, 899]),\n",
       " tensor([900, 901, 902]),\n",
       " tensor([903, 904, 905]),\n",
       " tensor([906, 907, 908]),\n",
       " tensor([909, 910, 911]),\n",
       " tensor([912, 913, 914]),\n",
       " tensor([915, 916, 917]),\n",
       " tensor([918, 919, 920]),\n",
       " tensor([921, 922, 923]),\n",
       " tensor([924, 925, 926]),\n",
       " tensor([927, 928, 929]),\n",
       " tensor([930, 931, 932]),\n",
       " tensor([933, 934, 935]),\n",
       " tensor([936, 937, 938]),\n",
       " tensor([939, 940, 941]),\n",
       " tensor([942, 943, 944]),\n",
       " tensor([945, 946, 947]),\n",
       " tensor([948, 949, 950]),\n",
       " tensor([951, 952, 953]),\n",
       " tensor([954, 955, 956]),\n",
       " tensor([957, 958, 959]),\n",
       " tensor([960, 961, 962]),\n",
       " tensor([963, 964, 965]),\n",
       " tensor([966, 967, 968]),\n",
       " tensor([969, 970, 971]),\n",
       " tensor([972, 973, 974]),\n",
       " tensor([975, 976, 977]),\n",
       " tensor([978, 979, 980]),\n",
       " tensor([981, 982, 983]),\n",
       " tensor([984, 985, 986]),\n",
       " tensor([987, 988, 989]),\n",
       " tensor([990, 991, 992]),\n",
       " tensor([993, 994, 995]),\n",
       " tensor([996, 997, 998]),\n",
       " tensor([999])]"
      ]
     },
     "execution_count": 31,
     "metadata": {},
     "output_type": "execute_result"
    }
   ],
   "source": [
    "res"
   ]
  },
  {
   "cell_type": "code",
   "execution_count": null,
   "metadata": {},
   "outputs": [],
   "source": []
  },
  {
   "cell_type": "code",
   "execution_count": null,
   "metadata": {},
   "outputs": [],
   "source": []
  },
  {
   "cell_type": "code",
   "execution_count": 23,
   "metadata": {},
   "outputs": [
    {
     "data": {
      "text/plain": [
       "'//home/verticals/realty/ranking/tmp/SdjWhKmQa9'"
      ]
     },
     "execution_count": 23,
     "metadata": {},
     "output_type": "execute_result"
    }
   ],
   "source": [
    "yt.create_temp_table(path=None, prefix=None, expiration_timeout=12*60*60*1000)"
   ]
  },
  {
   "cell_type": "code",
   "execution_count": 27,
   "metadata": {},
   "outputs": [],
   "source": [
    "string = '{\"table\": \"//home/verticals/realty/ranking/dev_dssm_1000\", \"cluster\": \"hahn\"}'"
   ]
  },
  {
   "cell_type": "code",
   "execution_count": 29,
   "metadata": {},
   "outputs": [
    {
     "data": {
      "text/plain": [
       "'//home/verticals/realty/ranking/dev_dssm_1000'"
      ]
     },
     "execution_count": 29,
     "metadata": {},
     "output_type": "execute_result"
    }
   ],
   "source": [
    "json.loads(string)['table']"
   ]
  },
  {
   "cell_type": "code",
   "execution_count": 34,
   "metadata": {},
   "outputs": [],
   "source": [
    "# schema = [\n",
    "#         {\"name\": \"universal_update\", \"type\": \"uint64\"},\n",
    "#     ]\n",
    "\n",
    "# yt.create(\"table\", '//home/verticals/realty/ranking/tmp/uint64test', attributes={\"schema\": schema})\n",
    "\n",
    "\n",
    "\n",
    "yt.write_table('//home/verticals/realty/ranking/tmp/uint64test', \n",
    "               ({\"universal_update\": _} for _ in range(100)))\n",
    "\n",
    "#     table_path = f\"//home/verticals/__private_export/bigb-realty-embedding/{current_time}\"\n",
    "#     yt.copy(temp_table, table_path, recursive=True)"
   ]
  },
  {
   "cell_type": "code",
   "execution_count": null,
   "metadata": {},
   "outputs": [],
   "source": []
  }
 ],
 "metadata": {
  "kernelspec": {
   "display_name": "Python 3",
   "language": "python",
   "name": "python3"
  },
  "language_info": {
   "codemirror_mode": {
    "name": "ipython",
    "version": 3
   },
   "file_extension": ".py",
   "mimetype": "text/x-python",
   "name": "python",
   "nbconvert_exporter": "python",
   "pygments_lexer": "ipython3",
   "version": "3.8.2"
  }
 },
 "nbformat": 4,
 "nbformat_minor": 2
}
