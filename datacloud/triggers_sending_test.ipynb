{
 "cells": [
  {
   "cell_type": "code",
   "execution_count": 1,
   "metadata": {
    "collapsed": true
   },
   "outputs": [],
   "source": [
    "import requests\n",
    "import json\n",
    "from datetime import datetime, timedelta"
   ]
  },
  {
   "cell_type": "code",
   "execution_count": 2,
   "metadata": {
    "collapsed": true
   },
   "outputs": [],
   "source": [
    "service_url = 'https://vote2.telecontact.ru/sbrf/sc120821_0000_sbrf_outbound_test/internal/yandexImpulse/loader.php'\n",
    "token = 'YandexSberbank_lAAAELe8_mvBgik91qJGKTy5cU1I'\n",
    "\n",
    "headers={'Content-Type': 'application/json', 'Authorization': token}"
   ]
  },
  {
   "cell_type": "code",
   "execution_count": 3,
   "metadata": {
    "collapsed": true
   },
   "outputs": [],
   "source": [
    "partner_id = 'sberbank'\n",
    "impulses = ['CASH_LOAN', 'CREDIT_CARD']\n",
    "\n",
    "phones = [\n",
    "    {\n",
    "        \"tmp_external_id\": \"tmp_id_79859225699\",\n",
    "        \"tmp_phone\": \"79152176741\",\n",
    "        \"partner_id\": \"sberbank\",\n",
    "        \"external_id\": \"1\",\n",
    "        \"phone\": \"79037330023\",\n",
    "    },\n",
    "    {\n",
    "        \"tmp_external_id\": \"tmp_id_79268738833\",\n",
    "        \"tmp_phone\": \"79152176934\",\n",
    "        \"partner_id\": \"sberbank\",\n",
    "        \"external_id\": \"2\",\n",
    "        \"phone\": \"79268738833\",\n",
    "    },\n",
    "    {\n",
    "        \"tmp_external_id\": \"tmp_id_79057087089\",\n",
    "        \"tmp_phone\": \"79857275398\",\n",
    "        \"partner_id\": \"sberbank\",\n",
    "        \"external_id\": \"3\",\n",
    "        \"phone\": \"79057087089\",\n",
    "    },\n",
    "    {\n",
    "        \"tmp_external_id\": \"tmp_id_79030140680\",\n",
    "        \"tmp_phone\": \"79857626371\",\n",
    "        \"partner_id\": \"sberbank\",\n",
    "        \"external_id\": \"4\",\n",
    "        \"phone\": \"79030140680\",\n",
    "    },\n",
    "    {\n",
    "        \"tmp_external_id\": \"tmp_id_79038050533\",\n",
    "        \"tmp_phone\": \"79859225699\",\n",
    "        \"partner_id\": \"sberbank\",\n",
    "        \"external_id\": \"5\",\n",
    "        \"phone\": \"79038050533\",\n",
    "    }\n",
    "]"
   ]
  },
  {
   "cell_type": "code",
   "execution_count": 4,
   "metadata": {
    "collapsed": false
   },
   "outputs": [],
   "source": [
    "def str_dt_after(hours):\n",
    "    return (datetime.now() + timedelta(hours=hours)).strftime(\"%Y-%m-%dT%H:%M:%S+03\")\n",
    "\n",
    "def build_trigger(phone, impulse):\n",
    "    return {\n",
    "        'tmp_external_id': phone['tmp_external_id'],\n",
    "        'tmp_phone': phone['tmp_phone'],\n",
    "        'impulse_id': impulse,\n",
    "        'partner_id': partner_id,\n",
    "        'live_until': str_dt_after(24),\n",
    "        'external_id': phone['external_id'],\n",
    "        'phone': phone['phone'],\n",
    "    }\n",
    "def build_request(triggers):\n",
    "    return {\n",
    "        'triggers': list(triggers)\n",
    "    }\n",
    "def test_request(data, headers=None):\n",
    "    if headers is None:\n",
    "        headers = {'Content-Type': 'application/json', 'Authorization': token}\n",
    "    print headers\n",
    "    print data\n",
    "    resp = requests.put(service_url, headers=headers, data=data)\n",
    "    print resp.status_code\n",
    "    print resp.content"
   ]
  },
  {
   "cell_type": "code",
   "execution_count": 5,
   "metadata": {
    "collapsed": false
   },
   "outputs": [
    {
     "data": {
      "text/plain": [
       "{'external_id': '1',\n",
       " 'impulse_id': 'CASH_LOAN',\n",
       " 'live_until': '2017-09-15T12:09:10+03',\n",
       " 'partner_id': 'sberbank',\n",
       " 'phone': '79037330023',\n",
       " 'tmp_external_id': 'tmp_id_79859225699',\n",
       " 'tmp_phone': '79152176741'}"
      ]
     },
     "execution_count": 5,
     "metadata": {},
     "output_type": "execute_result"
    }
   ],
   "source": [
    "build_trigger(phones[0], impulses[0])"
   ]
  },
  {
   "cell_type": "code",
   "execution_count": 6,
   "metadata": {
    "collapsed": false
   },
   "outputs": [
    {
     "name": "stdout",
     "output_type": "stream",
     "text": [
      "{'Content-Type': 'application/json', 'Authorization': 'YandexSberbank_lAAAELe8_mvBgik91qJGKTy5cU1I'}\n",
      "{\"triggers\": [{\"impulse_id\": \"CASH_LOAN\", \"tmp_external_id\": \"tmp_id_79859225699\", \"live_until\": \"2017-09-12T18:08:16+03\", \"partner_id\": \"sberbank\", \"tmp_phone\": \"79152176741\"}]}\n",
      "200\n",
      "\n"
     ]
    }
   ],
   "source": [
    "# test_request(json.dumps(build_request([build_trigger(phones[0], impulses[0])])))"
   ]
  },
  {
   "cell_type": "code",
   "execution_count": 6,
   "metadata": {
    "collapsed": false
   },
   "outputs": [
    {
     "name": "stdout",
     "output_type": "stream",
     "text": [
      "{'Content-Type': 'application/json', 'Authorization': 'YandexSberbank_lAAAELe8_mvBgik91qJGKTy5cU1I'}\n",
      "{\"triggers\": [{\"live_until\": \"2017-09-15T12:09:26+03\", \"external_id\": \"1\", \"impulse_id\": \"CASH_LOAN\", \"phone\": \"79037330023\", \"tmp_external_id\": \"tmp_id_79859225699\", \"partner_id\": \"sberbank\", \"tmp_phone\": \"79152176741\"}, {\"live_until\": \"2017-09-15T12:09:26+03\", \"external_id\": \"1\", \"impulse_id\": \"CREDIT_CARD\", \"phone\": \"79037330023\", \"tmp_external_id\": \"tmp_id_79859225699\", \"partner_id\": \"sberbank\", \"tmp_phone\": \"79152176741\"}, {\"live_until\": \"2017-09-15T12:09:26+03\", \"external_id\": \"2\", \"impulse_id\": \"CASH_LOAN\", \"phone\": \"79268738833\", \"tmp_external_id\": \"tmp_id_79268738833\", \"partner_id\": \"sberbank\", \"tmp_phone\": \"79152176934\"}, {\"live_until\": \"2017-09-15T12:09:26+03\", \"external_id\": \"3\", \"impulse_id\": \"CASH_LOAN\", \"phone\": \"79057087089\", \"tmp_external_id\": \"tmp_id_79057087089\", \"partner_id\": \"sberbank\", \"tmp_phone\": \"79857275398\"}, {\"live_until\": \"2017-09-15T12:09:26+03\", \"external_id\": \"4\", \"impulse_id\": \"CREDIT_CARD\", \"phone\": \"79030140680\", \"tmp_external_id\": \"tmp_id_79030140680\", \"partner_id\": \"sberbank\", \"tmp_phone\": \"79857626371\"}, {\"live_until\": \"2017-09-15T12:09:26+03\", \"external_id\": \"5\", \"impulse_id\": \"CREDIT_CARD\", \"phone\": \"79038050533\", \"tmp_external_id\": \"tmp_id_79038050533\", \"partner_id\": \"sberbank\", \"tmp_phone\": \"79859225699\"}]}\n",
      "200\n",
      "\n"
     ]
    }
   ],
   "source": [
    "test_request(json.dumps(build_request(\n",
    "            [\n",
    "                build_trigger(phones[0], impulses[0]),\n",
    "                build_trigger(phones[0], impulses[1]),\n",
    "                build_trigger(phones[1], impulses[0]),\n",
    "                build_trigger(phones[2], impulses[0]),\n",
    "                build_trigger(phones[3], impulses[1]),\n",
    "                build_trigger(phones[4], impulses[1]),\n",
    "            ]\n",
    ")))"
   ]
  },
  {
   "cell_type": "code",
   "execution_count": 8,
   "metadata": {
    "collapsed": false
   },
   "outputs": [
    {
     "name": "stdout",
     "output_type": "stream",
     "text": [
      "{'Content-Type': 'application/json', 'Authorization': 'YandexSberbank_lAAAELe8_mvBgik91qJGKTy5cU1I'}\n",
      "{\"triggers\": []}\n",
      "500\n",
      "\n"
     ]
    }
   ],
   "source": [
    "# test_request(json.dumps(build_request(\n",
    "#             []\n",
    "# )))"
   ]
  },
  {
   "cell_type": "code",
   "execution_count": 9,
   "metadata": {
    "collapsed": false
   },
   "outputs": [
    {
     "name": "stdout",
     "output_type": "stream",
     "text": [
      "{'Authorization': 'YandexSberbank_lAAAELe8_mvBgik91qJGKTy5cU1I'}\n",
      "{\"triggers\": [{\"impulse_id\": \"CASH_LOAN\", \"tmp_external_id\": \"tmp_id_79859225699\", \"live_until\": \"2017-09-12T18:08:16+03\", \"partner_id\": \"sberbank\", \"tmp_phone\": \"79152176741\"}]}\n",
      "200\n",
      "\n"
     ]
    }
   ],
   "source": [
    "# test_request(\n",
    "#     json.dumps(build_request([build_trigger(phones[0], impulses[0])])),\n",
    "#     {'Authorization': token}\n",
    "# )"
   ]
  },
  {
   "cell_type": "code",
   "execution_count": 10,
   "metadata": {
    "collapsed": false
   },
   "outputs": [
    {
     "name": "stdout",
     "output_type": "stream",
     "text": [
      "{'Content-Type': 'application/json', 'Authorization': 'YandexSberbank_lAAAELe8_mvBgik91qJGKTy5cU1I1'}\n",
      "{\"triggers\": [{\"impulse_id\": \"CASH_LOAN\", \"tmp_external_id\": \"tmp_id_79859225699\", \"live_until\": \"2017-09-12T18:08:17+03\", \"partner_id\": \"sberbank\", \"tmp_phone\": \"79152176741\"}]}\n",
      "401\n",
      "\n"
     ]
    }
   ],
   "source": [
    "# test_request(\n",
    "#     json.dumps(build_request([build_trigger(phones[0], impulses[0])])),\n",
    "#     {'Content-Type': 'application/json', 'Authorization': token + '1'}\n",
    "# )"
   ]
  },
  {
   "cell_type": "code",
   "execution_count": null,
   "metadata": {
    "collapsed": true
   },
   "outputs": [],
   "source": []
  }
 ],
 "metadata": {
  "kernelspec": {
   "display_name": "Python 2",
   "language": "python",
   "name": "python2"
  },
  "language_info": {
   "codemirror_mode": {
    "name": "ipython",
    "version": 2
   },
   "file_extension": ".py",
   "mimetype": "text/x-python",
   "name": "python",
   "nbconvert_exporter": "python",
   "pygments_lexer": "ipython2",
   "version": "2.7.12"
  }
 },
 "nbformat": 4,
 "nbformat_minor": 0
}
